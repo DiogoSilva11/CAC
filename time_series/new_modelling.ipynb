{
 "cells": [
  {
   "cell_type": "markdown",
   "metadata": {},
   "source": [
    "# Modelling"
   ]
  },
  {
   "cell_type": "markdown",
   "metadata": {},
   "source": [
    "### Libraries"
   ]
  },
  {
   "cell_type": "code",
   "execution_count": 46,
   "metadata": {},
   "outputs": [],
   "source": [
    "# import libraries\n",
    "\n",
    "import pandas as pd\n",
    "import numpy as np\n",
    "\n",
    "from statsmodels.tsa.holtwinters import SimpleExpSmoothing\n",
    "from statsmodels.tsa.holtwinters import ExponentialSmoothing\n",
    "from statsmodels.tsa.arima.model import ARIMA\n",
    "from statsmodels.tsa.arima.model import ARMA\n",
    "from sklearn.metrics import mean_absolute_error\n",
    "from sklearn.metrics import mean_squared_error"
   ]
  },
  {
   "cell_type": "markdown",
   "metadata": {},
   "source": [
    "### Data"
   ]
  },
  {
   "cell_type": "code",
   "execution_count": 7,
   "metadata": {},
   "outputs": [],
   "source": [
    "# load negative, neutral and positive time series\n",
    "\n",
    "negative_reviews_per_month = pd.read_csv('features/negative_reviews_per_month.csv', index_col=0, parse_dates=True)\n",
    "neutral_reviews_per_month = pd.read_csv('features/neutral_reviews_per_month.csv', index_col=0, parse_dates=True)\n",
    "positive_reviews_per_month = pd.read_csv('features/positive_reviews_per_month.csv', index_col=0, parse_dates=True)"
   ]
  },
  {
   "cell_type": "code",
   "execution_count": 8,
   "metadata": {},
   "outputs": [],
   "source": [
    "# load sentiment time series\n",
    "\n",
    "sentiment_per_month = pd.read_csv('features/sentiment_per_month.csv', index_col=0, parse_dates=True)"
   ]
  },
  {
   "cell_type": "code",
   "execution_count": 9,
   "metadata": {},
   "outputs": [],
   "source": [
    "# load categories time series\n",
    "\n",
    "sentiment_restaurants_per_month = pd.read_csv('features/sentiment_restaurants_per_month.csv', index_col=0, parse_dates=True)\n",
    "sentiment_nightlife_per_month = pd.read_csv('features/sentiment_nightlife_per_month.csv', index_col=0, parse_dates=True)\n",
    "sentiment_breakfast_brunch_per_month = pd.read_csv('features/sentiment_breakfast_brunch_per_month.csv', index_col=0, parse_dates=True)"
   ]
  },
  {
   "cell_type": "markdown",
   "metadata": {},
   "source": [
    "### Models"
   ]
  },
  {
   "cell_type": "code",
   "execution_count": 28,
   "metadata": {},
   "outputs": [],
   "source": [
    "def baseline_model(data, method='mean'):\n",
    "    '''\n",
    "    Baseline model to predict the next value in a time series\n",
    "    '''\n",
    "    if method == 'mean':\n",
    "        return data.mean()\n",
    "    elif method == 'median':\n",
    "        return data.median()\n",
    "    elif method == 'naive':\n",
    "        return data.iloc[-1]\n",
    "    else:\n",
    "        raise ValueError('Method not supported')"
   ]
  },
  {
   "cell_type": "code",
   "execution_count": 38,
   "metadata": {},
   "outputs": [],
   "source": [
    "def ses_model(data):\n",
    "    '''\n",
    "    Simple Exponential Smoothing model\n",
    "    '''\n",
    "    model = SimpleExpSmoothing(data)\n",
    "    fitted_model = model.fit()\n",
    "    prediction = fitted_model.forecast(1)\n",
    "    return prediction.iloc[0]"
   ]
  },
  {
   "cell_type": "code",
   "execution_count": null,
   "metadata": {},
   "outputs": [],
   "source": [
    "def holt_linear_damped_model(data):\n",
    "    '''\n",
    "    Holt Linear Trend model with damping\n",
    "    '''\n",
    "    model = ExponentialSmoothing(data, trend='add', damped_trend=True)\n",
    "    fitted_model = model.fit()\n",
    "    prediction = fitted_model.forecast(1)\n",
    "    return prediction.iloc[0]"
   ]
  },
  {
   "cell_type": "code",
   "execution_count": null,
   "metadata": {},
   "outputs": [],
   "source": [
    "def arima_model(data, order):\n",
    "    '''\n",
    "    ARIMA model\n",
    "    '''\n",
    "    model = ARIMA(data, order=order)\n",
    "    fitted_model = model.fit()\n",
    "    prediction = fitted_model.forecast(steps=1)\n",
    "    return prediction[0]"
   ]
  },
  {
   "cell_type": "code",
   "execution_count": null,
   "metadata": {},
   "outputs": [],
   "source": [
    "def arma_model(data, order):\n",
    "    '''\n",
    "    ARMA model\n",
    "    '''\n",
    "    model = ARMA(data, order=order)\n",
    "    fitted_model = model.fit()\n",
    "    prediction = fitted_model.forecast(steps=1)\n",
    "    return prediction[0]"
   ]
  },
  {
   "cell_type": "code",
   "execution_count": null,
   "metadata": {},
   "outputs": [],
   "source": [
    "models = {\n",
    "    'baseline_mean': lambda x: baseline_model(x, method='mean'),\n",
    "    'baseline_median': lambda x: baseline_model(x, method='median'),\n",
    "    'baseline_naive': lambda x: baseline_model(x, method='naive'),\n",
    "    'ses': lambda x: ses_model(x),\n",
    "    'arima': lambda x: arima_model(x, order=(1, 1, 1)),\n",
    "}"
   ]
  },
  {
   "cell_type": "markdown",
   "metadata": {},
   "source": [
    "### Predictions"
   ]
  },
  {
   "cell_type": "code",
   "execution_count": null,
   "metadata": {},
   "outputs": [],
   "source": [
    "# lambda values\n",
    "\n",
    "lambda_negative = 0.2\n",
    "lambda_neutral = 0.2\n",
    "lambda_positive = 0.2\n",
    "lambda_sentiment = 2\n",
    "lambda_restaurants = 0.5\n",
    "lambda_nightlife = 0.5\n",
    "lambda_breakfast_brunch = 0.5"
   ]
  },
  {
   "cell_type": "code",
   "execution_count": null,
   "metadata": {},
   "outputs": [],
   "source": [
    "def inverse_boxcox(transformed_y, lambda_value):\n",
    "    '''\n",
    "    Function to inverse Box-Cox transformation (to obtain forecast in original scale)\n",
    "    '''\n",
    "    if lambda_value == 0:\n",
    "        return np.exp(transformed_y)\n",
    "    else:\n",
    "        return np.exp(np.log(transformed_y * lambda_value + 1) / lambda_value)"
   ]
  },
  {
   "cell_type": "code",
   "execution_count": 26,
   "metadata": {},
   "outputs": [],
   "source": [
    "def cross_validation_predictions(data, model, min_train_size=12):\n",
    "    '''\n",
    "    Function to perform cross-validation and obtain predictions\n",
    "    '''\n",
    "    results = []\n",
    "    for i in range(min_train_size, len(data)):\n",
    "        train = data.iloc[:i]\n",
    "        test = data.iloc[i:i+1]\n",
    "        prediction = model(train)\n",
    "        if not test.empty:\n",
    "            result_entry = {'date': test.index[0], 'actual': test.iloc[0], 'prediction': prediction}\n",
    "            results.append(result_entry)\n",
    "    return pd.DataFrame(results)"
   ]
  },
  {
   "cell_type": "markdown",
   "metadata": {},
   "source": [
    "### Evaluation"
   ]
  },
  {
   "cell_type": "code",
   "execution_count": 41,
   "metadata": {},
   "outputs": [],
   "source": [
    "def mean_absolute_percentage_error(y_true, y_pred):\n",
    "    '''\n",
    "    Mean Absolute Percentage Error (MAPE) metric\n",
    "    '''\n",
    "    y_true, y_pred = np.array(y_true), np.array(y_pred)\n",
    "    return np.mean(np.abs((y_true - y_pred) / y_true)) * 100"
   ]
  },
  {
   "cell_type": "code",
   "execution_count": 42,
   "metadata": {},
   "outputs": [],
   "source": [
    "def mean_absolute_scaled_error(y_true, y_pred, y_train):\n",
    "    '''\n",
    "    Mean Absolute Scaled Error (MASE) metric\n",
    "    '''\n",
    "    y_true, y_pred, y_train = np.array(y_true), np.array(y_pred), np.array(y_train)\n",
    "    naive_forecast = y_train[1:] - y_train[:-1]\n",
    "    mae_naive = np.mean(np.abs(naive_forecast))\n",
    "    mae_forecast = np.mean(np.abs(y_true - y_pred))\n",
    "    mase = mae_forecast / mae_naive\n",
    "    return mase"
   ]
  },
  {
   "cell_type": "code",
   "execution_count": 43,
   "metadata": {},
   "outputs": [],
   "source": [
    "def evaluate(y_true, y_pred):\n",
    "    '''\n",
    "    Evaluate the model using different metrics\n",
    "    '''\n",
    "    mae = mean_absolute_error(y_true, y_pred)\n",
    "    mse = mean_squared_error(y_true, y_pred)\n",
    "    rmse = np.sqrt(mse)\n",
    "    mape = mean_absolute_percentage_error(y_true, y_pred)\n",
    "    return mae, mse, rmse, mape"
   ]
  },
  {
   "cell_type": "markdown",
   "metadata": {},
   "source": [
    "#### Negative reviews"
   ]
  },
  {
   "cell_type": "code",
   "execution_count": null,
   "metadata": {},
   "outputs": [],
   "source": [
    "# TODO"
   ]
  },
  {
   "cell_type": "markdown",
   "metadata": {},
   "source": [
    "#### Positive reviews"
   ]
  },
  {
   "cell_type": "code",
   "execution_count": null,
   "metadata": {},
   "outputs": [],
   "source": [
    "# TODO"
   ]
  },
  {
   "cell_type": "markdown",
   "metadata": {},
   "source": [
    "#### Neutral reviews"
   ]
  },
  {
   "cell_type": "code",
   "execution_count": null,
   "metadata": {},
   "outputs": [],
   "source": [
    "# TODO"
   ]
  },
  {
   "cell_type": "markdown",
   "metadata": {},
   "source": [
    "#### Sentiment"
   ]
  },
  {
   "cell_type": "code",
   "execution_count": null,
   "metadata": {},
   "outputs": [],
   "source": [
    "# TODO"
   ]
  },
  {
   "cell_type": "markdown",
   "metadata": {},
   "source": [
    "#### Restaurant sentiment"
   ]
  },
  {
   "cell_type": "code",
   "execution_count": null,
   "metadata": {},
   "outputs": [],
   "source": [
    "# TODO"
   ]
  },
  {
   "cell_type": "markdown",
   "metadata": {},
   "source": [
    "#### Nightlife sentiment"
   ]
  },
  {
   "cell_type": "code",
   "execution_count": null,
   "metadata": {},
   "outputs": [],
   "source": [
    "# TODO"
   ]
  },
  {
   "cell_type": "markdown",
   "metadata": {},
   "source": [
    "#### Breakfast & brunch sentiment"
   ]
  },
  {
   "cell_type": "code",
   "execution_count": null,
   "metadata": {},
   "outputs": [],
   "source": [
    "# TODO"
   ]
  }
 ],
 "metadata": {
  "kernelspec": {
   "display_name": "Python 3",
   "language": "python",
   "name": "python3"
  },
  "language_info": {
   "codemirror_mode": {
    "name": "ipython",
    "version": 3
   },
   "file_extension": ".py",
   "mimetype": "text/x-python",
   "name": "python",
   "nbconvert_exporter": "python",
   "pygments_lexer": "ipython3",
   "version": "3.10.10"
  }
 },
 "nbformat": 4,
 "nbformat_minor": 2
}
