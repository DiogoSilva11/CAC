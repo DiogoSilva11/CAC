{
 "cells": [
  {
   "cell_type": "markdown",
   "metadata": {},
   "source": [
    "# Feature Engineering"
   ]
  },
  {
   "cell_type": "markdown",
   "metadata": {},
   "source": [
    "### Libraries"
   ]
  },
  {
   "cell_type": "code",
   "execution_count": null,
   "metadata": {
    "ExecuteTime": {
     "end_time": "2024-05-18T11:00:54.738321Z",
     "start_time": "2024-05-18T11:00:54.373601Z"
    }
   },
   "outputs": [],
   "source": [
    "# import libraries\n",
    "\n",
    "import pandas as pd\n",
    "import numpy as np\n",
    "import matplotlib.pyplot as plt\n",
    "\n",
    "from scipy.stats import boxcox\n",
    "from statsmodels.tsa.seasonal import seasonal_decompose"
   ]
  },
  {
   "cell_type": "markdown",
   "metadata": {},
   "source": [
    "### Data"
   ]
  },
  {
   "cell_type": "code",
   "execution_count": null,
   "metadata": {
    "ExecuteTime": {
     "end_time": "2024-05-18T11:00:54.819155Z",
     "start_time": "2024-05-18T11:00:54.740166Z"
    }
   },
   "outputs": [],
   "source": [
    "# load negative, neutral and positive time series\n",
    "\n",
    "negative_reviews_per_month = pd.read_csv('data/negative_reviews_per_month.csv', index_col=0, parse_dates=True)\n",
    "neutral_reviews_per_month = pd.read_csv('data/neutral_reviews_per_month.csv', index_col=0, parse_dates=True)\n",
    "positive_reviews_per_month = pd.read_csv('data/positive_reviews_per_month.csv', index_col=0, parse_dates=True)"
   ]
  },
  {
   "cell_type": "code",
   "execution_count": null,
   "metadata": {
    "ExecuteTime": {
     "end_time": "2024-05-18T11:00:54.836448Z",
     "start_time": "2024-05-18T11:00:54.820415Z"
    }
   },
   "outputs": [],
   "source": [
    "# load sentiment time series\n",
    "\n",
    "sentiment_per_month = pd.read_csv('data/sentiment_per_month.csv', index_col=0, parse_dates=True)\n",
    "\n",
    "sentiment_per_month"
   ]
  },
  {
   "cell_type": "code",
   "execution_count": null,
   "metadata": {},
   "outputs": [],
   "source": [
    "# load categories time series\n",
    "\n",
    "sentiment_restaurants_per_month = pd.read_csv('data/sentiment_restaurants_per_month.csv', index_col=0, parse_dates=True)\n",
    "sentiment_nightlife_per_month = pd.read_csv('data/sentiment_nightlife_per_month.csv', index_col=0, parse_dates=True)\n",
    "sentiment_breakfast_brunch_per_month = pd.read_csv('data/sentiment_breakfast_brunch_per_month.csv', index_col=0, parse_dates=True)"
   ]
  },
  {
   "cell_type": "markdown",
   "metadata": {},
   "source": [
    "### Adjustments"
   ]
  },
  {
   "cell_type": "code",
   "execution_count": null,
   "metadata": {},
   "outputs": [],
   "source": [
    "# box-cox transformation for negative, neutral and positive reviews\n",
    "\n",
    "boxcox_negative_reviews_per_month = negative_reviews_per_month.copy()\n",
    "shifted_negative_reviews = negative_reviews_per_month['count'] + 1\n",
    "boxcox_negative_reviews_per_month['count'], _ = boxcox(shifted_negative_reviews)\n",
    "\n",
    "boxcox_neutral_reviews_per_month = neutral_reviews_per_month.copy()\n",
    "shifted_neutral_reviews = neutral_reviews_per_month['count'] + 1\n",
    "boxcox_neutral_reviews_per_month['count'], _ = boxcox(shifted_neutral_reviews)\n",
    "\n",
    "boxcox_positive_reviews_per_month = positive_reviews_per_month.copy()\n",
    "shifted_positive_reviews = positive_reviews_per_month['count'] + 1\n",
    "boxcox_positive_reviews_per_month['count'], _ = boxcox(shifted_positive_reviews)\n",
    "\n",
    "plt.figure(figsize=(16, 4))\n",
    "plt.plot(boxcox_negative_reviews_per_month, label='Negative Reviews per Month (Box-Cox Transformed)')\n",
    "plt.plot(boxcox_neutral_reviews_per_month, label='Neutral Reviews per Month (Box-Cox Transformed)')\n",
    "plt.plot(boxcox_positive_reviews_per_month, label='Positive Reviews per Month (Box-Cox Transformed)')\n",
    "plt.title('Box-Cox Transformed Time Series')\n",
    "plt.legend()\n",
    "plt.show()"
   ]
  },
  {
   "cell_type": "code",
   "execution_count": null,
   "metadata": {},
   "outputs": [],
   "source": [
    "# box-cox transformation for sentiment\n",
    "\n",
    "boxcox_sentiment_per_month = sentiment_per_month.copy()\n",
    "boxcox_sentiment_per_month['sentiment'], _ = boxcox(sentiment_per_month['sentiment'])\n",
    "\n",
    "plt.figure(figsize=(16, 4))\n",
    "plt.plot(sentiment_per_month, label='Sentiment per Month')\n",
    "plt.plot(boxcox_sentiment_per_month, label='Sentiment per Month (Box-Cox Transformed)')\n",
    "plt.title('Box-Cox Transformed Time Series')\n",
    "plt.legend()\n",
    "plt.show()   "
   ]
  },
  {
   "cell_type": "markdown",
   "metadata": {},
   "source": [
    "### Decomposition"
   ]
  },
  {
   "cell_type": "code",
   "execution_count": null,
   "metadata": {},
   "outputs": [],
   "source": [
    "def decomposition(time_series, label='sentiment', model='additive', freq=12):\n",
    "    '''\n",
    "    Decompose a time series into trend, seasonal and residual components.\n",
    "    '''\n",
    "    decomposition_ts = time_series.copy()\n",
    "    decomposition = seasonal_decompose(decomposition_ts[label], model=model, period=freq)\n",
    "    decomposition_ts['trend'] = decomposition.trend\n",
    "    decomposition_ts['seasonal'] = decomposition.seasonal\n",
    "    decomposition_ts['residual'] = decomposition.resid\n",
    "    return decomposition_ts"
   ]
  },
  {
   "cell_type": "code",
   "execution_count": null,
   "metadata": {},
   "outputs": [],
   "source": [
    "def plot_decomposition(data, label='sentiment', title=None):\n",
    "    '''\n",
    "    Plot the decomposition of a time series.\n",
    "    '''\n",
    "    plt.figure(figsize=(12, 8))\n",
    "    plt.subplot(411)\n",
    "    plt.plot(data[label], label='Original', color='blue')\n",
    "    plt.legend(loc='best')\n",
    "    plt.subplot(412)\n",
    "    plt.plot(data['trend'], label='Trend', color='blue')\n",
    "    plt.legend(loc='best')\n",
    "    plt.subplot(413)\n",
    "    plt.plot(data['seasonal'], label='Seasonal', color='blue')\n",
    "    plt.legend(loc='best')\n",
    "    plt.subplot(414)\n",
    "    plt.plot(data['residual'], label='Residual', color='blue')\n",
    "    plt.legend(loc='best')\n",
    "    plt.tight_layout()\n",
    "    if title:\n",
    "        plt.suptitle(title)\n",
    "    plt.show()"
   ]
  },
  {
   "cell_type": "code",
   "execution_count": null,
   "metadata": {},
   "outputs": [],
   "source": [
    "# box-cox additive decomposition for negative, neutral and positive reviews\n",
    "\n",
    "negative_reviews_per_month_additive = decomposition(boxcox_negative_reviews_per_month, label='count', model='additive')\n",
    "neutral_reviews_per_month_additive = decomposition(boxcox_neutral_reviews_per_month, label='count', model='additive')\n",
    "positive_reviews_per_month_additive = decomposition(boxcox_positive_reviews_per_month, label='count', model='additive')"
   ]
  },
  {
   "cell_type": "code",
   "execution_count": null,
   "metadata": {},
   "outputs": [],
   "source": [
    "# visualize decomposition of negative, neutral and positive reviews\n",
    "\n",
    "plot_decomposition(negative_reviews_per_month_additive, label='count', title='Negative Reviews')\n",
    "print('\\n\\n')\n",
    "plot_decomposition(neutral_reviews_per_month_additive, label='count', title='Neutral Reviews')\n",
    "print('\\n\\n')\n",
    "plot_decomposition(positive_reviews_per_month_additive, label='count', title='Positive Reviews')"
   ]
  },
  {
   "cell_type": "code",
   "execution_count": null,
   "metadata": {
    "ExecuteTime": {
     "end_time": "2024-05-18T11:00:55.935893Z",
     "start_time": "2024-05-18T11:00:55.877922Z"
    }
   },
   "outputs": [],
   "source": [
    "# additive decomposition (using 7 months because of PACF plot analysis)\n",
    "\n",
    "sentiment_per_month_additive = decomposition(sentiment_per_month, model='additive', freq=7)"
   ]
  },
  {
   "cell_type": "code",
   "execution_count": null,
   "metadata": {
    "ExecuteTime": {
     "end_time": "2024-05-18T11:00:56.683831Z",
     "start_time": "2024-05-18T11:00:55.937093Z"
    },
    "collapsed": false
   },
   "outputs": [],
   "source": [
    "# visualize decomposition of sentiment per month\n",
    "\n",
    "plot_decomposition(sentiment_per_month_additive)"
   ]
  },
  {
   "cell_type": "code",
   "execution_count": null,
   "metadata": {},
   "outputs": [],
   "source": [
    "# multiplicative decomposition (using 7 months because of PACF plot analysis)\n",
    "\n",
    "sentiment_per_month_multiplicative = decomposition(sentiment_per_month, model='multiplicative', freq=7)"
   ]
  },
  {
   "cell_type": "code",
   "execution_count": null,
   "metadata": {},
   "outputs": [],
   "source": [
    "# visualize decomposition of sentiment per month\n",
    "\n",
    "plot_decomposition(sentiment_per_month_multiplicative)"
   ]
  },
  {
   "cell_type": "code",
   "execution_count": null,
   "metadata": {
    "ExecuteTime": {
     "end_time": "2024-05-18T11:00:56.692544Z",
     "start_time": "2024-05-18T11:00:56.684990Z"
    },
    "collapsed": false
   },
   "outputs": [],
   "source": [
    "# save sentiment per month decomposed\n",
    "\n",
    "negative_reviews_per_month_additive.to_csv('features/negative_reviews_per_month_additive.csv')\n",
    "neutral_reviews_per_month_additive.to_csv('features/neutral_reviews_per_month_additive.csv')\n",
    "positive_reviews_per_month_additive.to_csv('features/positive_reviews_per_month_additive.csv')\n",
    "sentiment_per_month_additive.to_csv('features/sentiment_per_month_additive.csv')"
   ]
  },
  {
   "cell_type": "markdown",
   "metadata": {},
   "source": [
    "#### Category sentiment"
   ]
  },
  {
   "cell_type": "code",
   "execution_count": null,
   "metadata": {
    "ExecuteTime": {
     "end_time": "2024-05-18T11:03:01.927733Z",
     "start_time": "2024-05-18T11:03:01.910133Z"
    },
    "collapsed": false
   },
   "outputs": [],
   "source": [
    "# additive decomposition for categories\n",
    "\n",
    "sentiment_restaurants_per_month_additive = decomposition(sentiment_restaurants_per_month, model='additive', freq=7)\n",
    "sentiment_nightlife_per_month_additive = decomposition(sentiment_nightlife_per_month, model='additive', freq=7)\n",
    "sentiment_breakfast_brunch_per_month_additive = decomposition(sentiment_breakfast_brunch_per_month, model='additive', freq=7)"
   ]
  },
  {
   "cell_type": "code",
   "execution_count": null,
   "metadata": {
    "ExecuteTime": {
     "end_time": "2024-05-18T11:05:22.869339Z",
     "start_time": "2024-05-18T11:05:20.889409Z"
    },
    "collapsed": false
   },
   "outputs": [],
   "source": [
    "# visualize decomposition of sentiment per month\n",
    "\n",
    "plot_decomposition(sentiment_restaurants_per_month_additive, 'Restaurants')\n",
    "print('\\n\\n')\n",
    "plot_decomposition(sentiment_nightlife_per_month_additive, 'Nightlife')\n",
    "print('\\n\\n')\n",
    "plot_decomposition(sentiment_breakfast_brunch_per_month_additive, 'Breakfast & Brunch')"
   ]
  },
  {
   "cell_type": "code",
   "execution_count": null,
   "metadata": {},
   "outputs": [],
   "source": [
    "# save sentiment per month decomposed\n",
    "\n",
    "sentiment_restaurants_per_month_additive.to_csv('features/sentiment_restaurants_per_month_additive.csv')\n",
    "sentiment_nightlife_per_month_additive.to_csv('features/sentiment_nightlife_per_month_additive.csv')\n",
    "sentiment_breakfast_brunch_per_month_additive.to_csv('features/sentiment_breakfast_brunch_per_month_additive.csv')"
   ]
  }
 ],
 "metadata": {
  "kernelspec": {
   "display_name": "Python 3",
   "language": "python",
   "name": "python3"
  },
  "language_info": {
   "codemirror_mode": {
    "name": "ipython",
    "version": 3
   },
   "file_extension": ".py",
   "mimetype": "text/x-python",
   "name": "python",
   "nbconvert_exporter": "python",
   "pygments_lexer": "ipython3",
   "version": "3.10.10"
  }
 },
 "nbformat": 4,
 "nbformat_minor": 2
}
