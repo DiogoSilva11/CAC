{
 "cells": [
  {
   "cell_type": "code",
   "execution_count": 178,
   "metadata": {},
   "outputs": [],
   "source": [
    "import pandas as pd\n",
    "from tqdm.notebook import tqdm\n",
    "import matplotlib.pyplot as plt\n",
    "import seaborn as sns"
   ]
  },
  {
   "cell_type": "code",
   "execution_count": 179,
   "metadata": {},
   "outputs": [],
   "source": [
    "city = \"Springfield\"\n",
    "content = \"business\"\n",
    "\n",
    "df = pd.read_csv(f'../filtered_cities/{city}_{content}.csv')"
   ]
  },
  {
   "cell_type": "code",
   "execution_count": 180,
   "metadata": {},
   "outputs": [
    {
     "name": "stdout",
     "output_type": "stream",
     "text": [
      "<class 'pandas.core.frame.DataFrame'>\n",
      "RangeIndex: 384 entries, 0 to 383\n",
      "Data columns (total 14 columns):\n",
      " #   Column        Non-Null Count  Dtype  \n",
      "---  ------        --------------  -----  \n",
      " 0   business_id   384 non-null    object \n",
      " 1   name          384 non-null    object \n",
      " 2   address       376 non-null    object \n",
      " 3   city          384 non-null    object \n",
      " 4   state         384 non-null    object \n",
      " 5   postal_code   384 non-null    int64  \n",
      " 6   latitude      384 non-null    float64\n",
      " 7   longitude     384 non-null    float64\n",
      " 8   stars         384 non-null    float64\n",
      " 9   review_count  384 non-null    int64  \n",
      " 10  is_open       384 non-null    int64  \n",
      " 11  attributes    358 non-null    object \n",
      " 12  categories    384 non-null    object \n",
      " 13  hours         314 non-null    object \n",
      "dtypes: float64(3), int64(3), object(8)\n",
      "memory usage: 42.1+ KB\n"
     ]
    }
   ],
   "source": [
    "df.info()"
   ]
  },
  {
   "cell_type": "code",
   "execution_count": 181,
   "metadata": {},
   "outputs": [
    {
     "data": {
      "text/html": [
       "<div>\n",
       "<style scoped>\n",
       "    .dataframe tbody tr th:only-of-type {\n",
       "        vertical-align: middle;\n",
       "    }\n",
       "\n",
       "    .dataframe tbody tr th {\n",
       "        vertical-align: top;\n",
       "    }\n",
       "\n",
       "    .dataframe thead th {\n",
       "        text-align: right;\n",
       "    }\n",
       "</style>\n",
       "<table border=\"1\" class=\"dataframe\">\n",
       "  <thead>\n",
       "    <tr style=\"text-align: right;\">\n",
       "      <th></th>\n",
       "      <th>business_id</th>\n",
       "      <th>name</th>\n",
       "      <th>address</th>\n",
       "      <th>city</th>\n",
       "      <th>state</th>\n",
       "      <th>postal_code</th>\n",
       "      <th>latitude</th>\n",
       "      <th>longitude</th>\n",
       "      <th>stars</th>\n",
       "      <th>review_count</th>\n",
       "      <th>is_open</th>\n",
       "      <th>attributes</th>\n",
       "      <th>categories</th>\n",
       "      <th>hours</th>\n",
       "    </tr>\n",
       "  </thead>\n",
       "  <tbody>\n",
       "    <tr>\n",
       "      <th>0</th>\n",
       "      <td>mglME3E7esPSpIF5bias8w</td>\n",
       "      <td>Pier 1</td>\n",
       "      <td>1014 Baltimore Pike</td>\n",
       "      <td>Springfield</td>\n",
       "      <td>PA</td>\n",
       "      <td>19064</td>\n",
       "      <td>39.915270</td>\n",
       "      <td>-75.342681</td>\n",
       "      <td>2.5</td>\n",
       "      <td>8</td>\n",
       "      <td>0</td>\n",
       "      <td>{'RestaurantsPriceRange2': '3', 'BikeParking':...</td>\n",
       "      <td>Fashion, Shopping, Department Stores, Furnitur...</td>\n",
       "      <td>{'Monday': '10:0-20:0', 'Tuesday': '10:0-20:0'...</td>\n",
       "    </tr>\n",
       "    <tr>\n",
       "      <th>1</th>\n",
       "      <td>p79UR4tdHoJzmhwKmiXa2A</td>\n",
       "      <td>Sport Clips Haircuts of Springfield</td>\n",
       "      <td>400 S State Rd</td>\n",
       "      <td>Springfield</td>\n",
       "      <td>PA</td>\n",
       "      <td>19064</td>\n",
       "      <td>39.938634</td>\n",
       "      <td>-75.355632</td>\n",
       "      <td>2.0</td>\n",
       "      <td>5</td>\n",
       "      <td>1</td>\n",
       "      <td>{'BusinessAcceptsCreditCards': 'True', 'ByAppo...</td>\n",
       "      <td>Hair Salons, Barbers, Beauty &amp; Spas, Men's Hai...</td>\n",
       "      <td>{'Monday': '0:0-0:0', 'Tuesday': '10:0-19:0', ...</td>\n",
       "    </tr>\n",
       "    <tr>\n",
       "      <th>2</th>\n",
       "      <td>1o_M5JdOkJJFNj1rIDIlng</td>\n",
       "      <td>The Juice Pod</td>\n",
       "      <td>11 W Woodland Ave</td>\n",
       "      <td>Springfield</td>\n",
       "      <td>PA</td>\n",
       "      <td>19064</td>\n",
       "      <td>39.924933</td>\n",
       "      <td>-75.340216</td>\n",
       "      <td>4.0</td>\n",
       "      <td>19</td>\n",
       "      <td>1</td>\n",
       "      <td>{'WiFi': \"u'free'\", 'BusinessAcceptsCreditCard...</td>\n",
       "      <td>Food, Juice Bars &amp; Smoothies</td>\n",
       "      <td>{'Monday': '8:0-17:0', 'Tuesday': '8:0-17:0', ...</td>\n",
       "    </tr>\n",
       "    <tr>\n",
       "      <th>3</th>\n",
       "      <td>nVI9wI9ujmrutJRMgHKSIg</td>\n",
       "      <td>Fiesta Maya Mexican Grill</td>\n",
       "      <td>1178 Baltimore Pike</td>\n",
       "      <td>Springfield</td>\n",
       "      <td>PA</td>\n",
       "      <td>19064</td>\n",
       "      <td>39.914238</td>\n",
       "      <td>-75.347857</td>\n",
       "      <td>4.5</td>\n",
       "      <td>130</td>\n",
       "      <td>0</td>\n",
       "      <td>{'BusinessParking': \"{'garage': False, 'street...</td>\n",
       "      <td>Mexican, Restaurants</td>\n",
       "      <td>{'Monday': '10:30-20:0', 'Tuesday': '10:30-20:...</td>\n",
       "    </tr>\n",
       "    <tr>\n",
       "      <th>4</th>\n",
       "      <td>opiv3hcNNsRDiLXsUbNw-A</td>\n",
       "      <td>Old Country Buffet</td>\n",
       "      <td>910 E Woodland Ave</td>\n",
       "      <td>Springfield</td>\n",
       "      <td>PA</td>\n",
       "      <td>19064</td>\n",
       "      <td>39.914661</td>\n",
       "      <td>-75.333685</td>\n",
       "      <td>3.0</td>\n",
       "      <td>5</td>\n",
       "      <td>0</td>\n",
       "      <td>{'RestaurantsTakeOut': 'True', 'RestaurantsGoo...</td>\n",
       "      <td>Restaurants, Buffets</td>\n",
       "      <td>NaN</td>\n",
       "    </tr>\n",
       "  </tbody>\n",
       "</table>\n",
       "</div>"
      ],
      "text/plain": [
       "              business_id                                 name  \\\n",
       "0  mglME3E7esPSpIF5bias8w                               Pier 1   \n",
       "1  p79UR4tdHoJzmhwKmiXa2A  Sport Clips Haircuts of Springfield   \n",
       "2  1o_M5JdOkJJFNj1rIDIlng                        The Juice Pod   \n",
       "3  nVI9wI9ujmrutJRMgHKSIg            Fiesta Maya Mexican Grill   \n",
       "4  opiv3hcNNsRDiLXsUbNw-A                   Old Country Buffet   \n",
       "\n",
       "               address         city state  postal_code   latitude  longitude  \\\n",
       "0  1014 Baltimore Pike  Springfield    PA        19064  39.915270 -75.342681   \n",
       "1       400 S State Rd  Springfield    PA        19064  39.938634 -75.355632   \n",
       "2    11 W Woodland Ave  Springfield    PA        19064  39.924933 -75.340216   \n",
       "3  1178 Baltimore Pike  Springfield    PA        19064  39.914238 -75.347857   \n",
       "4   910 E Woodland Ave  Springfield    PA        19064  39.914661 -75.333685   \n",
       "\n",
       "   stars  review_count  is_open  \\\n",
       "0    2.5             8        0   \n",
       "1    2.0             5        1   \n",
       "2    4.0            19        1   \n",
       "3    4.5           130        0   \n",
       "4    3.0             5        0   \n",
       "\n",
       "                                          attributes  \\\n",
       "0  {'RestaurantsPriceRange2': '3', 'BikeParking':...   \n",
       "1  {'BusinessAcceptsCreditCards': 'True', 'ByAppo...   \n",
       "2  {'WiFi': \"u'free'\", 'BusinessAcceptsCreditCard...   \n",
       "3  {'BusinessParking': \"{'garage': False, 'street...   \n",
       "4  {'RestaurantsTakeOut': 'True', 'RestaurantsGoo...   \n",
       "\n",
       "                                          categories  \\\n",
       "0  Fashion, Shopping, Department Stores, Furnitur...   \n",
       "1  Hair Salons, Barbers, Beauty & Spas, Men's Hai...   \n",
       "2                       Food, Juice Bars & Smoothies   \n",
       "3                               Mexican, Restaurants   \n",
       "4                               Restaurants, Buffets   \n",
       "\n",
       "                                               hours  \n",
       "0  {'Monday': '10:0-20:0', 'Tuesday': '10:0-20:0'...  \n",
       "1  {'Monday': '0:0-0:0', 'Tuesday': '10:0-19:0', ...  \n",
       "2  {'Monday': '8:0-17:0', 'Tuesday': '8:0-17:0', ...  \n",
       "3  {'Monday': '10:30-20:0', 'Tuesday': '10:30-20:...  \n",
       "4                                                NaN  "
      ]
     },
     "execution_count": 181,
     "metadata": {},
     "output_type": "execute_result"
    }
   ],
   "source": [
    "df.head()"
   ]
  },
  {
   "cell_type": "code",
   "execution_count": 182,
   "metadata": {},
   "outputs": [],
   "source": [
    "df = df.drop(['city', 'state'], axis=1)"
   ]
  },
  {
   "cell_type": "code",
   "execution_count": 183,
   "metadata": {},
   "outputs": [],
   "source": [
    "df['categories'] = df['categories'].fillna('Other')"
   ]
  },
  {
   "cell_type": "code",
   "execution_count": 184,
   "metadata": {},
   "outputs": [
    {
     "data": {
      "text/plain": [
       "0"
      ]
     },
     "execution_count": 184,
     "metadata": {},
     "output_type": "execute_result"
    }
   ],
   "source": [
    "subset_columns = df.columns.difference(['attributes', 'hours'])\n",
    "df.duplicated(subset=subset_columns).sum()"
   ]
  },
  {
   "cell_type": "code",
   "execution_count": 185,
   "metadata": {},
   "outputs": [
    {
     "data": {
      "image/png": "[encoded data removed]",
      "text/plain": [
       "<Figure size 640x480 with 1 Axes>"
      ]
     },
     "metadata": {},
     "output_type": "display_data"
    }
   ],
   "source": [
    "sns.countplot(data=df, x='is_open')\n",
    "plt.title('Business Status (Open/Closed)')\n",
    "plt.xlabel('is_open')\n",
    "plt.ylabel('Count')\n",
    "plt.show()"
   ]
  },
  {
   "cell_type": "code",
   "execution_count": 186,
   "metadata": {},
   "outputs": [
    {
     "data": {
      "image/png": "[encoded data removed]",
      "text/plain": [
       "<Figure size 640x480 with 1 Axes>"
      ]
     },
     "metadata": {},
     "output_type": "display_data"
    }
   ],
   "source": [
    "plt.hist(df['stars'])\n",
    "plt.title('Distribution of Star Ratings')\n",
    "plt.xlabel('Stars')\n",
    "plt.ylabel('Frequency')\n",
    "plt.show()"
   ]
  },
  {
   "cell_type": "code",
   "execution_count": 187,
   "metadata": {},
   "outputs": [
    {
     "data": {
      "image/png": "[encoded data removed]",
      "text/plain": [
       "<Figure size 640x480 with 1 Axes>"
      ]
     },
     "metadata": {},
     "output_type": "display_data"
    }
   ],
   "source": [
    "plt.scatter(df['longitude'], df['latitude'], s=5)\n",
    "plt.title('Business Locations')\n",
    "plt.xlabel('Longitude')\n",
    "plt.ylabel('Latitude')\n",
    "plt.show()"
   ]
  },
  {
   "cell_type": "code",
   "execution_count": 188,
   "metadata": {},
   "outputs": [
    {
     "name": "stdout",
     "output_type": "stream",
     "text": [
      "Number of unique categories: 354\n"
     ]
    }
   ],
   "source": [
    "print(f'Number of unique categories: {df[\"categories\"].nunique()}')"
   ]
  },
  {
   "cell_type": "code",
   "execution_count": 189,
   "metadata": {},
   "outputs": [
    {
     "name": "stdout",
     "output_type": "stream",
     "text": [
      "Top 10 most common categories:\n",
      "Restaurants               126\n",
      "Shopping                   84\n",
      "Food                       56\n",
      "Beauty & Spas              44\n",
      "Health & Medical           40\n",
      "Automotive                 32\n",
      "Local Services             29\n",
      "Home Services              26\n",
      "American (Traditional)     26\n",
      "Fast Food                  22\n",
      "dtype: int64\n"
     ]
    }
   ],
   "source": [
    "\n",
    "all_categories = set()\n",
    "\n",
    "for categories_list in df['categories']:\n",
    "    x = categories_list.split(',')\n",
    "    for i in x:\n",
    "        all_categories.add(i.strip())\n",
    "\n",
    "category_columns = list(all_categories)\n",
    "\n",
    "category_df = pd.DataFrame(0, index=df.index, columns=category_columns)\n",
    "\n",
    "\n",
    "for i, row in df.iterrows():\n",
    "    for category in row['categories'].split(','):\n",
    "        category_df.at[i, category.strip()] = 1\n",
    "\n",
    "category_counts = category_df.sum()\n",
    "\n",
    "# Sorting the categories by their counts in descending order\n",
    "top_categories = category_counts.nlargest(10)\n",
    "\n",
    "print(\"Top 10 most common categories:\")\n",
    "print(top_categories)\n",
    "\n"
   ]
  },
  {
   "cell_type": "code",
   "execution_count": 194,
   "metadata": {},
   "outputs": [
    {
     "name": "stdout",
     "output_type": "stream",
     "text": [
      "Top 10 less common categories:\n",
      "Cosmetic Surgeons               1\n",
      "Beer Bar                        1\n",
      "Gift Shops                      1\n",
      "Dog Walkers                     1\n",
      "Traditional Chinese Medicine    1\n",
      "Head Shops                      1\n",
      "Self Storage                    1\n",
      "Career Counseling               1\n",
      "Kitchen & Bath                  1\n",
      "Pediatric Dentists              1\n",
      "Baby Gear & Furniture           1\n",
      "Acupuncture                     1\n",
      "Framing                         1\n",
      "Blow Dry/Out Services           1\n",
      "Waffles                         1\n",
      "Martial Arts                    1\n",
      "Child Care & Day Care           1\n",
      "Keys & Locksmiths               1\n",
      "Mags                            1\n",
      "Travel Services                 1\n",
      "Outlet Stores                   1\n",
      "Financial Advising              1\n",
      "Commercial Truck Repair         1\n",
      "Auto Loan Providers             1\n",
      "Butcher                         1\n",
      "Estate Planning Law             1\n",
      "Pediatricians                   1\n",
      "Post Offices                    1\n",
      "Commercial Truck Dealers        1\n",
      "Used Car Dealers                1\n",
      "Arcades                         1\n",
      "Home Cleaning                   1\n",
      "Food Court                      1\n",
      "Insurance                       1\n",
      "Cheese Shops                    1\n",
      "Vietnamese                      1\n",
      "Home Theatre Installation       1\n",
      "Cosmetics & Beauty Supply       1\n",
      "Fish & Chips                    1\n",
      "Roadside Assistance             1\n",
      "Gas Stations                    1\n",
      "Wholesale Stores                1\n",
      "Hookah Bars                     1\n",
      "Sports Medicine                 1\n",
      "Personal Shopping               1\n",
      "Comfort Food                    1\n",
      "Masonry/Concrete                1\n",
      "Gluten-Free                     1\n",
      "Videos & Video Game Rental      1\n",
      "Gelato                          1\n",
      "dtype: int64\n"
     ]
    }
   ],
   "source": [
    "top_categories = category_counts.nsmallest(50)\n",
    "\n",
    "print(\"Top 10 less common categories:\")\n",
    "print(top_categories)\n"
   ]
  }
 ],
 "metadata": {
  "kernelspec": {
   "display_name": "Python 3",
   "language": "python",
   "name": "python3"
  },
  "language_info": {
   "codemirror_mode": {
    "name": "ipython",
    "version": 3
   },
   "file_extension": ".py",
   "mimetype": "text/x-python",
   "name": "python",
   "nbconvert_exporter": "python",
   "pygments_lexer": "ipython3",
   "version": "3.10.12"
  }
 },
 "nbformat": 4,
 "nbformat_minor": 2
}
