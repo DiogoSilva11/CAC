{
 "cells": [
  {
   "cell_type": "code",
   "execution_count": 1,
   "metadata": {},
   "outputs": [],
   "source": [
    "import pandas as pd\n",
    "from tqdm.notebook import tqdm"
   ]
  },
  {
   "cell_type": "code",
   "execution_count": 2,
   "metadata": {},
   "outputs": [],
   "source": [
    "def read_chunks(file, cols=None, city=None, chunk_size=500000):\n",
    "    df = pd.read_json(path_or_buf=file, chunksize=chunk_size, lines=True)\n",
    "\n",
    "    chunk_list = []\n",
    "    for chunk in tqdm(df, desc=file):\n",
    "        if city:\n",
    "            chunk = chunk[chunk['city'] == city]\n",
    "        if cols is None:\n",
    "            chunk_list.append(chunk)\n",
    "        else:\n",
    "            chunk_list.append(chunk[cols])\n",
    "    \n",
    "    return pd.concat(chunk_list, ignore_index=True, join='outer', axis=0)"
   ]
  },
  {
   "cell_type": "code",
   "execution_count": 3,
   "metadata": {},
   "outputs": [
    {
     "data": {
      "application/vnd.jupyter.widget-view+json": {
       "model_id": "265ee653fbf34e5693a64d5244d0f916",
       "version_major": 2,
       "version_minor": 0
      },
      "text/plain": [
       "../yelp_dataset/yelp_academic_dataset_business.json: 0it [00:00, ?it/s]"
      ]
     },
     "metadata": {},
     "output_type": "display_data"
    },
    {
     "data": {
      "application/vnd.jupyter.widget-view+json": {
       "model_id": "f31c81dd607848a4930b0619430b70cf",
       "version_major": 2,
       "version_minor": 0
      },
      "text/plain": [
       "../yelp_dataset/yelp_academic_dataset_checkin.json: 0it [00:00, ?it/s]"
      ]
     },
     "metadata": {},
     "output_type": "display_data"
    }
   ],
   "source": [
    "city_of_interest = 'Indianapolis'\n",
    "\n",
    "business_data = read_chunks('../yelp_dataset/yelp_academic_dataset_business.json', city=city_of_interest)\n",
    "business_ids = business_data['business_id'].unique()\n",
    "\n",
    "df = read_chunks('../yelp_dataset/yelp_academic_dataset_checkin.json')\n",
    "df = df[df['business_id'].isin(business_ids)]"
   ]
  },
  {
   "cell_type": "code",
   "execution_count": 4,
   "metadata": {},
   "outputs": [
    {
     "name": "stdout",
     "output_type": "stream",
     "text": [
      "<class 'pandas.core.frame.DataFrame'>\n",
      "Index: 6915 entries, 22 to 131863\n",
      "Data columns (total 2 columns):\n",
      " #   Column       Non-Null Count  Dtype \n",
      "---  ------       --------------  ----- \n",
      " 0   business_id  6915 non-null   object\n",
      " 1   date         6915 non-null   object\n",
      "dtypes: object(2)\n",
      "memory usage: 162.1+ KB\n"
     ]
    }
   ],
   "source": [
    "df.info()"
   ]
  },
  {
   "cell_type": "code",
   "execution_count": 5,
   "metadata": {},
   "outputs": [
    {
     "data": {
      "text/html": [
       "<div>\n",
       "<style scoped>\n",
       "    .dataframe tbody tr th:only-of-type {\n",
       "        vertical-align: middle;\n",
       "    }\n",
       "\n",
       "    .dataframe tbody tr th {\n",
       "        vertical-align: top;\n",
       "    }\n",
       "\n",
       "    .dataframe thead th {\n",
       "        text-align: right;\n",
       "    }\n",
       "</style>\n",
       "<table border=\"1\" class=\"dataframe\">\n",
       "  <thead>\n",
       "    <tr style=\"text-align: right;\">\n",
       "      <th></th>\n",
       "      <th>business_id</th>\n",
       "      <th>date</th>\n",
       "    </tr>\n",
       "  </thead>\n",
       "  <tbody>\n",
       "    <tr>\n",
       "      <th>22</th>\n",
       "      <td>--a_r_w1HTsOY-fagPeNKg</td>\n",
       "      <td>2012-04-07 16:13:35, 2012-04-28 20:40:59, 2012...</td>\n",
       "    </tr>\n",
       "    <tr>\n",
       "      <th>26</th>\n",
       "      <td>--hF_3v1JmU9nlu4zfXJ8Q</td>\n",
       "      <td>2021-09-15 16:08:07, 2021-09-30 17:10:48, 2021...</td>\n",
       "    </tr>\n",
       "    <tr>\n",
       "      <th>27</th>\n",
       "      <td>--lqIzK-ZVTtgwiQM63XgQ</td>\n",
       "      <td>2011-07-29 16:37:02, 2011-10-24 16:00:29, 2012...</td>\n",
       "    </tr>\n",
       "    <tr>\n",
       "      <th>60</th>\n",
       "      <td>-0gWtMKg8_iV6vC5wRFDiA</td>\n",
       "      <td>2011-10-18 20:41:06, 2011-12-10 23:08:40, 2012...</td>\n",
       "    </tr>\n",
       "    <tr>\n",
       "      <th>100</th>\n",
       "      <td>-1q9ktAQXpgFSNrst7tzag</td>\n",
       "      <td>2012-03-02 00:15:00, 2012-03-22 16:19:15, 2012...</td>\n",
       "    </tr>\n",
       "  </tbody>\n",
       "</table>\n",
       "</div>"
      ],
      "text/plain": [
       "                business_id                                               date\n",
       "22   --a_r_w1HTsOY-fagPeNKg  2012-04-07 16:13:35, 2012-04-28 20:40:59, 2012...\n",
       "26   --hF_3v1JmU9nlu4zfXJ8Q  2021-09-15 16:08:07, 2021-09-30 17:10:48, 2021...\n",
       "27   --lqIzK-ZVTtgwiQM63XgQ  2011-07-29 16:37:02, 2011-10-24 16:00:29, 2012...\n",
       "60   -0gWtMKg8_iV6vC5wRFDiA  2011-10-18 20:41:06, 2011-12-10 23:08:40, 2012...\n",
       "100  -1q9ktAQXpgFSNrst7tzag  2012-03-02 00:15:00, 2012-03-22 16:19:15, 2012..."
      ]
     },
     "execution_count": 5,
     "metadata": {},
     "output_type": "execute_result"
    }
   ],
   "source": [
    "df.head()"
   ]
  },
  {
   "cell_type": "code",
   "execution_count": 6,
   "metadata": {},
   "outputs": [
    {
     "data": {
      "text/plain": [
       "0"
      ]
     },
     "execution_count": 6,
     "metadata": {},
     "output_type": "execute_result"
    }
   ],
   "source": [
    "df.duplicated().sum()"
   ]
  },
  {
   "cell_type": "code",
   "execution_count": 7,
   "metadata": {},
   "outputs": [],
   "source": [
    "df['date'] = df['date'].str.split(', ')\n",
    "df = df.explode('date')"
   ]
  }
 ],
 "metadata": {
  "kernelspec": {
   "display_name": "Python 3",
   "language": "python",
   "name": "python3"
  },
  "language_info": {
   "codemirror_mode": {
    "name": "ipython",
    "version": 3
   },
   "file_extension": ".py",
   "mimetype": "text/x-python",
   "name": "python",
   "nbconvert_exporter": "python",
   "pygments_lexer": "ipython3",
   "version": "3.10.10"
  }
 },
 "nbformat": 4,
 "nbformat_minor": 2
}
