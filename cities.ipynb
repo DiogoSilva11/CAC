{
 "cells": [
  {
   "cell_type": "code",
   "execution_count": 2,
   "metadata": {},
   "outputs": [],
   "source": [
    "import pandas as pd\n",
    "from utils import read_chunks\n",
    "\n",
    "# pd.set_option('display.max_rows', None)"
   ]
  },
  {
   "cell_type": "code",
   "execution_count": 3,
   "metadata": {},
   "outputs": [
    {
     "data": {
      "application/vnd.jupyter.widget-view+json": {
       "model_id": "8ce3381a0ca94830ac37fa4fa2c7c6a3",
       "version_major": 2,
       "version_minor": 0
      },
      "text/plain": [
       "yelp_dataset/yelp_academic_dataset_business.json: 0it [00:00, ?it/s]"
      ]
     },
     "metadata": {},
     "output_type": "display_data"
    }
   ],
   "source": [
    "business_data = read_chunks('yelp_dataset/yelp_academic_dataset_business.json')"
   ]
  },
  {
   "cell_type": "code",
   "execution_count": 8,
   "metadata": {},
   "outputs": [
    {
     "name": "stdout",
     "output_type": "stream",
     "text": [
      "               city  business_count\n",
      "1096  St Petersburg             387\n",
      "1081    Springfield             384\n",
      "574        Lansdale             378\n",
      "23          Ardmore             376\n",
      "1279          Wayne             375\n",
      "665           Media             372\n",
      "1044         Smyrna             366\n",
      "875    Phoenixville             365\n",
      "1028       Seminole             359\n",
      "768          Newark             359\n",
      "1089       St Louis             357\n",
      "438          Gretna             352\n",
      "709    Mount Laurel             344\n",
      "573       Langhorne             327\n",
      "985   Saint Charles             326\n",
      "906       Pottstown             323\n",
      "1203        Trenton             323\n",
      "775         Newtown             322\n",
      "371      Florissant             313\n",
      "34             Avon             313\n",
      "1329   Willow Grove             311\n",
      "64       Belleville             302\n",
      "472       Havertown             302\n",
      "222    Conshohocken             301\n"
     ]
    }
   ],
   "source": [
    "business_count_by_city = business_data.groupby('city').size().reset_index(name='business_count')\n",
    "\n",
    "# Sort the DataFrame by 'business_count' in descending order\n",
    "business_count_by_city_sorted = business_count_by_city.sort_values(by='business_count', ascending=False)\n",
    "\n",
    "# get cities with business count less than 1000 and greater than 100\n",
    "business_count_by_city_filtered = business_count_by_city_sorted[(business_count_by_city_sorted['business_count'] < 390) & (business_count_by_city_sorted['business_count'] > 300)]\n",
    "\n",
    "print(business_count_by_city_filtered)"
   ]
  },
  {
   "cell_type": "code",
   "execution_count": 9,
   "metadata": {},
   "outputs": [],
   "source": [
    "# choose city of interest\n",
    "\n",
    "city_of_interest = 'Newtown'"
   ]
  },
  {
   "cell_type": "code",
   "execution_count": 10,
   "metadata": {},
   "outputs": [
    {
     "data": {
      "application/vnd.jupyter.widget-view+json": {
       "model_id": "01410252a35541de80d8515779d1d432",
       "version_major": 2,
       "version_minor": 0
      },
      "text/plain": [
       "yelp_dataset/yelp_academic_dataset_business.json: 0it [00:00, ?it/s]"
      ]
     },
     "metadata": {},
     "output_type": "display_data"
    },
    {
     "data": {
      "application/vnd.jupyter.widget-view+json": {
       "model_id": "0752840206b54eb99a93cdd507ae110e",
       "version_major": 2,
       "version_minor": 0
      },
      "text/plain": [
       "yelp_dataset/yelp_academic_dataset_review.json: 0it [00:00, ?it/s]"
      ]
     },
     "metadata": {},
     "output_type": "display_data"
    },
    {
     "data": {
      "application/vnd.jupyter.widget-view+json": {
       "model_id": "270ea1d0a72940dea358f0339ad63bb2",
       "version_major": 2,
       "version_minor": 0
      },
      "text/plain": [
       "yelp_dataset/yelp_academic_dataset_tip.json: 0it [00:00, ?it/s]"
      ]
     },
     "metadata": {},
     "output_type": "display_data"
    },
    {
     "data": {
      "application/vnd.jupyter.widget-view+json": {
       "model_id": "3ad7eb299978443ea3b460c39595bb25",
       "version_major": 2,
       "version_minor": 0
      },
      "text/plain": [
       "yelp_dataset/yelp_academic_dataset_user.json: 0it [00:00, ?it/s]"
      ]
     },
     "metadata": {},
     "output_type": "display_data"
    }
   ],
   "source": [
    "# read data\n",
    "\n",
    "business_data = read_chunks('yelp_dataset/yelp_academic_dataset_business.json', city=city_of_interest)\n",
    "business_ids = business_data['business_id'].unique()\n",
    "\n",
    "review_data = read_chunks('yelp_dataset/yelp_academic_dataset_review.json')\n",
    "review_data = review_data[review_data['business_id'].isin(business_ids)]\n",
    "\n",
    "tip_data = read_chunks('yelp_dataset/yelp_academic_dataset_tip.json')\n",
    "tip_data = tip_data[tip_data['business_id'].isin(business_ids)]\n",
    "\n",
    "user_data = read_chunks('yelp_dataset/yelp_academic_dataset_user.json')\n",
    "users_of_interest = set(review_data['user_id']).union(set(tip_data['user_id']))\n",
    "user_data = user_data[user_data['user_id'].isin(users_of_interest)]"
   ]
  },
  {
   "cell_type": "code",
   "execution_count": 11,
   "metadata": {},
   "outputs": [
    {
     "data": {
      "text/plain": [
       "322"
      ]
     },
     "execution_count": 11,
     "metadata": {},
     "output_type": "execute_result"
    }
   ],
   "source": [
    "len(business_ids)"
   ]
  },
  {
   "cell_type": "code",
   "execution_count": 12,
   "metadata": {},
   "outputs": [
    {
     "data": {
      "text/plain": [
       "(11303, 9)"
      ]
     },
     "execution_count": 12,
     "metadata": {},
     "output_type": "execute_result"
    }
   ],
   "source": [
    "review_data.shape"
   ]
  },
  {
   "cell_type": "code",
   "execution_count": 8,
   "metadata": {},
   "outputs": [
    {
     "data": {
      "text/plain": [
       "(2890, 5)"
      ]
     },
     "execution_count": 8,
     "metadata": {},
     "output_type": "execute_result"
    }
   ],
   "source": [
    "tip_data.shape"
   ]
  },
  {
   "cell_type": "code",
   "execution_count": 9,
   "metadata": {},
   "outputs": [
    {
     "data": {
      "text/plain": [
       "(13110, 22)"
      ]
     },
     "execution_count": 9,
     "metadata": {},
     "output_type": "execute_result"
    }
   ],
   "source": [
    "user_data.shape"
   ]
  }
 ],
 "metadata": {
  "kernelspec": {
   "display_name": "Python 3",
   "language": "python",
   "name": "python3"
  },
  "language_info": {
   "codemirror_mode": {
    "name": "ipython",
    "version": 3
   },
   "file_extension": ".py",
   "mimetype": "text/x-python",
   "name": "python",
   "nbconvert_exporter": "python",
   "pygments_lexer": "ipython3",
   "version": "3.10.10"
  }
 },
 "nbformat": 4,
 "nbformat_minor": 2
}
