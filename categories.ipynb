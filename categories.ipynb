{
 "cells": [
  {
   "cell_type": "code",
   "execution_count": 1,
   "metadata": {
    "ExecuteTime": {
     "end_time": "2024-03-12T22:28:45.355772Z",
     "start_time": "2024-03-12T22:28:44.965046Z"
    }
   },
   "outputs": [],
   "source": [
    "import pandas as pd\n",
    "from utils import load_filtered_data"
   ]
  },
  {
   "cell_type": "code",
   "execution_count": 2,
   "metadata": {
    "ExecuteTime": {
     "end_time": "2024-03-12T22:28:45.457354Z",
     "start_time": "2024-03-12T22:28:45.357907Z"
    }
   },
   "outputs": [],
   "source": [
    "city = 'Sicklerville'\n",
    "name = 'categories'\n",
    "\n",
    "# load city data\n",
    "data = load_filtered_data(city)"
   ]
  },
  {
   "cell_type": "code",
   "execution_count": 3,
   "metadata": {
    "ExecuteTime": {
     "end_time": "2024-03-12T22:28:45.472976Z",
     "start_time": "2024-03-12T22:28:45.458493Z"
    }
   },
   "outputs": [
    {
     "data": {
      "text/plain": "                          id people_name\n0     RgDVC3ZUBqpEe6Y1kPhIpw      Monica\n1     zkamNMEjihh3zN7lC7_WVw     Matthew\n2     gVFxZMcuG_Tal2_TnpmUPg   Stephanie\n3     g0_x4kVvJAYuk96oCcbOmw     Michael\n4     -NbeVN5tnwdyYAvdNkKMjw     Dominic\n...                      ...         ...\n3073  CUE13op55l9WZp6fBTUWnA      Nicole\n3074  cACn6Qc1owO7hV_ZhcP74Q     Allison\n3075  SpTYEhfInvALG1le1uu21w         Ray\n3076  sGOCaCP7_SMlaRKPNO__CQ      Tahjae\n3077  AUaVo2JAMwLGJmBo3M4VyQ      Nicole\n\n[3078 rows x 2 columns]",
      "text/html": "<div>\n<style scoped>\n    .dataframe tbody tr th:only-of-type {\n        vertical-align: middle;\n    }\n\n    .dataframe tbody tr th {\n        vertical-align: top;\n    }\n\n    .dataframe thead th {\n        text-align: right;\n    }\n</style>\n<table border=\"1\" class=\"dataframe\">\n  <thead>\n    <tr style=\"text-align: right;\">\n      <th></th>\n      <th>id</th>\n      <th>people_name</th>\n    </tr>\n  </thead>\n  <tbody>\n    <tr>\n      <th>0</th>\n      <td>RgDVC3ZUBqpEe6Y1kPhIpw</td>\n      <td>Monica</td>\n    </tr>\n    <tr>\n      <th>1</th>\n      <td>zkamNMEjihh3zN7lC7_WVw</td>\n      <td>Matthew</td>\n    </tr>\n    <tr>\n      <th>2</th>\n      <td>gVFxZMcuG_Tal2_TnpmUPg</td>\n      <td>Stephanie</td>\n    </tr>\n    <tr>\n      <th>3</th>\n      <td>g0_x4kVvJAYuk96oCcbOmw</td>\n      <td>Michael</td>\n    </tr>\n    <tr>\n      <th>4</th>\n      <td>-NbeVN5tnwdyYAvdNkKMjw</td>\n      <td>Dominic</td>\n    </tr>\n    <tr>\n      <th>...</th>\n      <td>...</td>\n      <td>...</td>\n    </tr>\n    <tr>\n      <th>3073</th>\n      <td>CUE13op55l9WZp6fBTUWnA</td>\n      <td>Nicole</td>\n    </tr>\n    <tr>\n      <th>3074</th>\n      <td>cACn6Qc1owO7hV_ZhcP74Q</td>\n      <td>Allison</td>\n    </tr>\n    <tr>\n      <th>3075</th>\n      <td>SpTYEhfInvALG1le1uu21w</td>\n      <td>Ray</td>\n    </tr>\n    <tr>\n      <th>3076</th>\n      <td>sGOCaCP7_SMlaRKPNO__CQ</td>\n      <td>Tahjae</td>\n    </tr>\n    <tr>\n      <th>3077</th>\n      <td>AUaVo2JAMwLGJmBo3M4VyQ</td>\n      <td>Nicole</td>\n    </tr>\n  </tbody>\n</table>\n<p>3078 rows × 2 columns</p>\n</div>"
     },
     "execution_count": 3,
     "metadata": {},
     "output_type": "execute_result"
    }
   ],
   "source": [
    "# creating the nodes\n",
    "\n",
    "nodes = data['user'][['user_id', 'name']]\n",
    "nodes = nodes.rename(columns={'user_id': 'id', 'name': 'people_name'})\n",
    "\n",
    "nodes"
   ]
  },
  {
   "cell_type": "code",
   "execution_count": 4,
   "metadata": {
    "ExecuteTime": {
     "end_time": "2024-03-12T22:28:54.034219Z",
     "start_time": "2024-03-12T22:28:45.474254Z"
    }
   },
   "outputs": [
    {
     "data": {
      "text/plain": "                           from                      to  weight  \\\n0        iJe_4Z_731GUnEFYZ8xREw  8DGc1UEegk6SBGV39OJtQA       1   \n1        8DGc1UEegk6SBGV39OJtQA  iJe_4Z_731GUnEFYZ8xREw       1   \n2        iJe_4Z_731GUnEFYZ8xREw  1-icdXJv2v9MMbytcVLBcQ       1   \n3        1-icdXJv2v9MMbytcVLBcQ  iJe_4Z_731GUnEFYZ8xREw       1   \n4        iJe_4Z_731GUnEFYZ8xREw  FV6QtuA5P52Cm5q7SOeMLQ       1   \n...                         ...                     ...     ...   \n8191423  o8xoVrWWrDiJX7H12cR9Fg  E16JxbBp6MEfbSKIMyA0Hw       1   \n8191426  E16JxbBp6MEfbSKIMyA0Hw  7xWrRJ5kfgcQyQ3UL3fImQ       1   \n8191427  7xWrRJ5kfgcQyQ3UL3fImQ  E16JxbBp6MEfbSKIMyA0Hw       1   \n8191428  E16JxbBp6MEfbSKIMyA0Hw  W_vejv-B63JOZHUN_2Zrtg       1   \n8191429  W_vejv-B63JOZHUN_2Zrtg  E16JxbBp6MEfbSKIMyA0Hw       1   \n\n                           type  \n0        reviewed-same-category  \n1        reviewed-same-category  \n2        reviewed-same-category  \n3        reviewed-same-category  \n4        reviewed-same-category  \n...                         ...  \n8191423  reviewed-same-category  \n8191426  reviewed-same-category  \n8191427  reviewed-same-category  \n8191428  reviewed-same-category  \n8191429  reviewed-same-category  \n\n[5198624 rows x 4 columns]",
      "text/html": "<div>\n<style scoped>\n    .dataframe tbody tr th:only-of-type {\n        vertical-align: middle;\n    }\n\n    .dataframe tbody tr th {\n        vertical-align: top;\n    }\n\n    .dataframe thead th {\n        text-align: right;\n    }\n</style>\n<table border=\"1\" class=\"dataframe\">\n  <thead>\n    <tr style=\"text-align: right;\">\n      <th></th>\n      <th>from</th>\n      <th>to</th>\n      <th>weight</th>\n      <th>type</th>\n    </tr>\n  </thead>\n  <tbody>\n    <tr>\n      <th>0</th>\n      <td>iJe_4Z_731GUnEFYZ8xREw</td>\n      <td>8DGc1UEegk6SBGV39OJtQA</td>\n      <td>1</td>\n      <td>reviewed-same-category</td>\n    </tr>\n    <tr>\n      <th>1</th>\n      <td>8DGc1UEegk6SBGV39OJtQA</td>\n      <td>iJe_4Z_731GUnEFYZ8xREw</td>\n      <td>1</td>\n      <td>reviewed-same-category</td>\n    </tr>\n    <tr>\n      <th>2</th>\n      <td>iJe_4Z_731GUnEFYZ8xREw</td>\n      <td>1-icdXJv2v9MMbytcVLBcQ</td>\n      <td>1</td>\n      <td>reviewed-same-category</td>\n    </tr>\n    <tr>\n      <th>3</th>\n      <td>1-icdXJv2v9MMbytcVLBcQ</td>\n      <td>iJe_4Z_731GUnEFYZ8xREw</td>\n      <td>1</td>\n      <td>reviewed-same-category</td>\n    </tr>\n    <tr>\n      <th>4</th>\n      <td>iJe_4Z_731GUnEFYZ8xREw</td>\n      <td>FV6QtuA5P52Cm5q7SOeMLQ</td>\n      <td>1</td>\n      <td>reviewed-same-category</td>\n    </tr>\n    <tr>\n      <th>...</th>\n      <td>...</td>\n      <td>...</td>\n      <td>...</td>\n      <td>...</td>\n    </tr>\n    <tr>\n      <th>8191423</th>\n      <td>o8xoVrWWrDiJX7H12cR9Fg</td>\n      <td>E16JxbBp6MEfbSKIMyA0Hw</td>\n      <td>1</td>\n      <td>reviewed-same-category</td>\n    </tr>\n    <tr>\n      <th>8191426</th>\n      <td>E16JxbBp6MEfbSKIMyA0Hw</td>\n      <td>7xWrRJ5kfgcQyQ3UL3fImQ</td>\n      <td>1</td>\n      <td>reviewed-same-category</td>\n    </tr>\n    <tr>\n      <th>8191427</th>\n      <td>7xWrRJ5kfgcQyQ3UL3fImQ</td>\n      <td>E16JxbBp6MEfbSKIMyA0Hw</td>\n      <td>1</td>\n      <td>reviewed-same-category</td>\n    </tr>\n    <tr>\n      <th>8191428</th>\n      <td>E16JxbBp6MEfbSKIMyA0Hw</td>\n      <td>W_vejv-B63JOZHUN_2Zrtg</td>\n      <td>1</td>\n      <td>reviewed-same-category</td>\n    </tr>\n    <tr>\n      <th>8191429</th>\n      <td>W_vejv-B63JOZHUN_2Zrtg</td>\n      <td>E16JxbBp6MEfbSKIMyA0Hw</td>\n      <td>1</td>\n      <td>reviewed-same-category</td>\n    </tr>\n  </tbody>\n</table>\n<p>5198624 rows × 4 columns</p>\n</div>"
     },
     "execution_count": 4,
     "metadata": {},
     "output_type": "execute_result"
    }
   ],
   "source": [
    "temp_edges_struct = {'from': [], 'to': [], 'weight': [], 'type': []}\n",
    "\n",
    "# Splitting categories into individual entries\n",
    "categories_expanded = data['business']['categories'].str.split(', ').explode().dropna().unique()\n",
    "\n",
    "for category in categories_expanded:\n",
    "    businesses_in_category = data['business'][data['business']['categories'].apply(lambda x: category in x)]\n",
    "    users_who_reviewed_category = data['review'][data['review']['business_id'].isin(businesses_in_category['business_id'])]['user_id'].unique()\n",
    "    for i in range(len(users_who_reviewed_category)-1):\n",
    "        for j in range(i+1, len(users_who_reviewed_category)):\n",
    "            # from i to j\n",
    "            temp_edges_struct['from'].append(users_who_reviewed_category[i])\n",
    "            temp_edges_struct['to'].append(users_who_reviewed_category[j])\n",
    "            temp_edges_struct['weight'].append(1)\n",
    "            temp_edges_struct['type'].append('reviewed-same-category')\n",
    "            # from j to i\n",
    "            temp_edges_struct['from'].append(users_who_reviewed_category[j])\n",
    "            temp_edges_struct['to'].append(users_who_reviewed_category[i])\n",
    "            temp_edges_struct['weight'].append(1)\n",
    "            temp_edges_struct['type'].append('reviewed-same-category')\n",
    "\n",
    "edges = pd.DataFrame(temp_edges_struct)\n",
    "edges = edges.drop_duplicates()\n",
    "\n",
    "edges"
   ]
  },
  {
   "cell_type": "code",
   "execution_count": 5,
   "metadata": {
    "ExecuteTime": {
     "end_time": "2024-03-12T22:29:09.375201Z",
     "start_time": "2024-03-12T22:28:54.037264Z"
    }
   },
   "outputs": [],
   "source": [
    "# save data\n",
    "nodes.to_csv(f'nodes_and_edges/{city}_{name}_nodes.csv', index=False)\n",
    "edges.to_csv(f'nodes_and_edges/{city}_{name}_edges.csv', index=False)"
   ]
  }
 ],
 "metadata": {
  "kernelspec": {
   "display_name": "Python 3",
   "language": "python",
   "name": "python3"
  },
  "language_info": {
   "codemirror_mode": {
    "name": "ipython",
    "version": 3
   },
   "file_extension": ".py",
   "mimetype": "text/x-python",
   "name": "python",
   "nbconvert_exporter": "python",
   "pygments_lexer": "ipython3",
   "version": "3.10.10"
  }
 },
 "nbformat": 4,
 "nbformat_minor": 2
}
