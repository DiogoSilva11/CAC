{
 "cells": [
  {
   "cell_type": "code",
   "execution_count": 7,
   "metadata": {
    "ExecuteTime": {
     "end_time": "2024-03-08T11:48:52.564143Z",
     "start_time": "2024-03-08T11:48:52.560461Z"
    }
   },
   "outputs": [],
   "source": [
    "import pandas as pd\n",
    "from tqdm.notebook import tqdm\n",
    "from igraph import Graph, plot, RainbowPalette"
   ]
  },
  {
   "cell_type": "code",
   "execution_count": 8,
   "metadata": {
    "ExecuteTime": {
     "end_time": "2024-03-08T11:48:53.723502Z",
     "start_time": "2024-03-08T11:48:53.503265Z"
    }
   },
   "outputs": [],
   "source": [
    "def read_chunks(file, cols=None, city=None, chunk_size=500):\n",
    "    df = pd.read_json(path_or_buf=file, chunksize=chunk_size, lines=True)\n",
    "\n",
    "    chunk_list = []\n",
    "    for chunk in tqdm(df, desc=file):\n",
    "        if city:\n",
    "            chunk = chunk[chunk['city'] == city]\n",
    "        if cols is None:\n",
    "            chunk_list.append(chunk)\n",
    "        else:\n",
    "            chunk_list.append(chunk[cols])\n",
    "    \n",
    "    return pd.concat(chunk_list, ignore_index=True, join='outer', axis=0)"
   ]
  },
  {
   "cell_type": "code",
   "outputs": [
    {
     "data": {
      "text/plain": "yelp_dataset/yelp_academic_dataset_business.json: 0it [00:00, ?it/s]",
      "application/vnd.jupyter.widget-view+json": {
       "version_major": 2,
       "version_minor": 0,
       "model_id": "b4bb177c4c454fa89d1f19e5048d8cef"
      }
     },
     "metadata": {},
     "output_type": "display_data"
    },
    {
     "data": {
      "text/plain": "yelp_dataset/yelp_academic_dataset_checkin.json: 0it [00:00, ?it/s]",
      "application/vnd.jupyter.widget-view+json": {
       "version_major": 2,
       "version_minor": 0,
       "model_id": "8ebcc726a73d49fba0a6a29f7cbf18c7"
      }
     },
     "metadata": {},
     "output_type": "display_data"
    },
    {
     "data": {
      "text/plain": "yelp_dataset/yelp_academic_dataset_review.json: 0it [00:00, ?it/s]",
      "application/vnd.jupyter.widget-view+json": {
       "version_major": 2,
       "version_minor": 0,
       "model_id": "8525a2851e2049119188dc13c23d0ec3"
      }
     },
     "metadata": {},
     "output_type": "display_data"
    },
    {
     "data": {
      "text/plain": "yelp_dataset/yelp_academic_dataset_tip.json: 0it [00:00, ?it/s]",
      "application/vnd.jupyter.widget-view+json": {
       "version_major": 2,
       "version_minor": 0,
       "model_id": "a1686a8cc75a4ec5a378a41e9413ef2f"
      }
     },
     "metadata": {},
     "output_type": "display_data"
    },
    {
     "data": {
      "text/plain": "yelp_dataset/yelp_academic_dataset_user.json: 0it [00:00, ?it/s]",
      "application/vnd.jupyter.widget-view+json": {
       "version_major": 2,
       "version_minor": 0,
       "model_id": "af6f3c9e3f714296b48769c54427d059"
      }
     },
     "metadata": {},
     "output_type": "display_data"
    }
   ],
   "source": [
    "city_of_interest = 'Santa Barbara'\n",
    "\n",
    "business_data = read_chunks('yelp_dataset/yelp_academic_dataset_business.json', city=city_of_interest)\n",
    "business_ids = business_data['business_id'].unique()\n",
    "\n",
    "checkin_data = read_chunks('yelp_dataset/yelp_academic_dataset_checkin.json')\n",
    "checkin_data = checkin_data[checkin_data['business_id'].isin(business_ids)]\n",
    "\n",
    "review_data = read_chunks('yelp_dataset/yelp_academic_dataset_review.json')\n",
    "review_data = review_data[review_data['business_id'].isin(business_ids)]\n",
    "\n",
    "tip_data = read_chunks('yelp_dataset/yelp_academic_dataset_tip.json')\n",
    "tip_data = tip_data[tip_data['business_id'].isin(business_ids)]\n",
    "\n",
    "user_data = read_chunks('yelp_dataset/yelp_academic_dataset_user.json')\n",
    "users_of_interest = set(review_data['user_id']).union(set(tip_data['user_id']))\n",
    "user_data = user_data[user_data['user_id'].isin(users_of_interest)]"
   ],
   "metadata": {
    "collapsed": false
   },
   "execution_count": 3
  },
  {
   "cell_type": "code",
   "execution_count": 4,
   "metadata": {
    "ExecuteTime": {
     "end_time": "2024-03-08T11:09:47.657655Z",
     "start_time": "2024-03-08T11:09:46.697413Z"
    }
   },
   "outputs": [],
   "source": [
    "user_friends = user_data.explode('friends')\n",
    "\n",
    "# Create nodes DataFrame\n",
    "nodes_df = user_friends[['user_id']].copy()\n",
    "nodes_df.rename(columns={'user_id': 'id'}, inplace=True)\n",
    "nodes_df['media'] = 'user'\n",
    "nodes_df['media.type'] = 0\n",
    "nodes_df['type.label'] = 'user'\n",
    "nodes_df['audience.size'] = 1  # Assuming all users have an audience size of 1\n",
    "\n",
    "# Create links DataFrame\n",
    "links_df = user_friends.rename(columns={'user_id': 'from', 'friends': 'to'})\n",
    "links_df['weight'] = 1\n",
    "links_df['type'] = 'friendship'\n",
    "\n",
    "# Optionally, you can drop duplicates from links_df if needed\n",
    "links_df.drop_duplicates(inplace=True)"
   ]
  },
  {
   "cell_type": "code",
   "execution_count": 5,
   "metadata": {
    "ExecuteTime": {
     "end_time": "2024-03-08T11:09:56.974318Z",
     "start_time": "2024-03-08T11:09:47.659525Z"
    }
   },
   "outputs": [],
   "source": [
    "user_data['friends'] = user_data['friends'].str.split(', ')\n",
    "user_friends = user_data.explode('friends')"
   ]
  },
  {
   "cell_type": "code",
   "execution_count": 6,
   "metadata": {
    "ExecuteTime": {
     "end_time": "2024-03-08T11:10:16.397258Z",
     "start_time": "2024-03-08T11:09:56.976256Z"
    }
   },
   "outputs": [
    {
     "name": "stdout",
     "output_type": "stream",
     "text": [
      "                             id type.label  audience.size\n",
      "0        qVc8ODYU5SZjKXVBgXdI7w       user              1\n",
      "5        q_QQ5kBBwlCcbL1s4NVK3g       user              1\n",
      "10       iYzhPPqnrjJkg1JHZyMhzA       user              1\n",
      "18       QF1Kuhs8iwLWANNZxebTow       user              1\n",
      "21       v7DwnrjzuTk7pXmuBPZnsg       user              1\n",
      "...                         ...        ...            ...\n",
      "1987867  Y4QbfsRktpJr2eygVRqe7w       user              1\n",
      "1987869  xzt22UaBjy40CHgCjJ3Fgg       user              1\n",
      "1987874  Pt3u_iZV4Lo--4yfYsBhGg       user              1\n",
      "1987890  XPNsbtTADPdAsYT-C4xjsA       user              1\n",
      "1987896  wL5jPrLRVCK_Pmo4lM1zpA       user              1\n",
      "\n",
      "[132190 rows x 3 columns]\n"
     ]
    },
    {
     "ename": "ValueError",
     "evalue": "Some vertices in the edge DataFrame are missing from vertices DataFrame",
     "output_type": "error",
     "traceback": [
      "\u001B[0;31m---------------------------------------------------------------------------\u001B[0m",
      "\u001B[0;31mValueError\u001B[0m                                Traceback (most recent call last)",
      "Cell \u001B[0;32mIn[6], line 18\u001B[0m\n\u001B[1;32m     15\u001B[0m links_df\u001B[38;5;241m.\u001B[39mdrop_duplicates(inplace\u001B[38;5;241m=\u001B[39m\u001B[38;5;28;01mTrue\u001B[39;00m)\n\u001B[1;32m     17\u001B[0m \u001B[38;5;66;03m# Create graph\u001B[39;00m\n\u001B[0;32m---> 18\u001B[0m g \u001B[38;5;241m=\u001B[39m \u001B[43mGraph\u001B[49m\u001B[38;5;241;43m.\u001B[39;49m\u001B[43mDataFrame\u001B[49m\u001B[43m(\u001B[49m\u001B[43mlinks_df\u001B[49m\u001B[43m,\u001B[49m\u001B[43m \u001B[49m\u001B[43mdirected\u001B[49m\u001B[38;5;241;43m=\u001B[39;49m\u001B[38;5;28;43;01mTrue\u001B[39;49;00m\u001B[43m,\u001B[49m\u001B[43m \u001B[49m\u001B[43muse_vids\u001B[49m\u001B[38;5;241;43m=\u001B[39;49m\u001B[38;5;28;43;01mFalse\u001B[39;49;00m\u001B[43m,\u001B[49m\u001B[43m \u001B[49m\u001B[43mvertices\u001B[49m\u001B[38;5;241;43m=\u001B[39;49m\u001B[43mnodes_df\u001B[49m\u001B[43m)\u001B[49m\n\u001B[1;32m     19\u001B[0m plot(g)\n",
      "File \u001B[0;32m/usr/local/lib/python3.11/site-packages/igraph/io/objects.py:494\u001B[0m, in \u001B[0;36m_construct_graph_from_dataframe\u001B[0;34m(cls, edges, directed, vertices, use_vids)\u001B[0m\n\u001B[1;32m    492\u001B[0m \u001B[38;5;28;01melse\u001B[39;00m:\n\u001B[1;32m    493\u001B[0m     \u001B[38;5;28;01mif\u001B[39;00m \u001B[38;5;129;01mnot\u001B[39;00m edges\u001B[38;5;241m.\u001B[39miloc[:, :\u001B[38;5;241m2\u001B[39m]\u001B[38;5;241m.\u001B[39misin(vertices\u001B[38;5;241m.\u001B[39mindex)\u001B[38;5;241m.\u001B[39mall(axis\u001B[38;5;241m=\u001B[39m\u001B[38;5;28;01mNone\u001B[39;00m):\n\u001B[0;32m--> 494\u001B[0m         \u001B[38;5;28;01mraise\u001B[39;00m \u001B[38;5;167;01mValueError\u001B[39;00m(\n\u001B[1;32m    495\u001B[0m             \u001B[38;5;124m\"\u001B[39m\u001B[38;5;124mSome vertices in the edge DataFrame are missing from vertices DataFrame\u001B[39m\u001B[38;5;124m\"\u001B[39m\n\u001B[1;32m    496\u001B[0m         )\n\u001B[1;32m    497\u001B[0m     nv \u001B[38;5;241m=\u001B[39m vertices\u001B[38;5;241m.\u001B[39mshape[\u001B[38;5;241m0\u001B[39m]\n\u001B[1;32m    498\u001B[0m     g \u001B[38;5;241m=\u001B[39m \u001B[38;5;28mcls\u001B[39m(n\u001B[38;5;241m=\u001B[39mnv, directed\u001B[38;5;241m=\u001B[39mdirected)\n",
      "\u001B[0;31mValueError\u001B[0m: Some vertices in the edge DataFrame are missing from vertices DataFrame"
     ]
    }
   ],
   "source": [
    "# Create nodes DataFrame\n",
    "nodes_df = user_friends[['user_id']].copy()\n",
    "nodes_df.rename(columns={'user_id': 'id'}, inplace=True)\n",
    "nodes_df['type.label'] = 'user'\n",
    "nodes_df['audience.size'] = 1\n",
    "nodes_df.drop_duplicates(inplace=True)\n",
    "print(nodes_df)\n",
    "\n",
    "user_friends = user_friends[['user_id', 'friends']]\n",
    "links_df = user_friends.rename(columns={'user_id': 'from', 'friends': 'to'})\n",
    "links_df['weight'] = 1\n",
    "links_df['type'] = 'friendship'\n",
    "links_df = links_df[links_df['to'] != 'None']\n",
    "\n",
    "links_df.drop_duplicates(inplace=True)\n",
    "\n",
    "# Create graph\n",
    "g = Graph.DataFrame(links_df, directed=True, use_vids=False, vertices=nodes_df)\n",
    "plot(g)\n"
   ]
  },
  {
   "cell_type": "code",
   "outputs": [],
   "source": [],
   "metadata": {
    "collapsed": false
   }
  }
 ],
 "metadata": {
  "kernelspec": {
   "display_name": "Python 3",
   "language": "python",
   "name": "python3"
  },
  "language_info": {
   "codemirror_mode": {
    "name": "ipython",
    "version": 3
   },
   "file_extension": ".py",
   "mimetype": "text/x-python",
   "name": "python",
   "nbconvert_exporter": "python",
   "pygments_lexer": "ipython3",
   "version": "3.10.12"
  }
 },
 "nbformat": 4,
 "nbformat_minor": 2
}
