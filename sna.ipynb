{
 "cells": [
  {
   "cell_type": "code",
   "execution_count": null,
   "metadata": {},
   "outputs": [],
   "source": [
    "import pandas as pd\n",
    "from tqdm.notebook import tqdm\n",
    "from igraph import Graph, plot, RainbowPalette"
   ]
  },
  {
   "cell_type": "code",
   "execution_count": null,
   "metadata": {},
   "outputs": [],
   "source": [
    "def read_chunks(file, cols=None, city=None, chunk_size=500):\n",
    "    df = pd.read_json(path_or_buf=file, chunksize=chunk_size, lines=True)\n",
    "\n",
    "    chunk_list = []\n",
    "    for chunk in tqdm(df, desc=file):\n",
    "        if city:\n",
    "            chunk = chunk[chunk['city'] == city]\n",
    "        if cols is None:\n",
    "            chunk_list.append(chunk)\n",
    "        else:\n",
    "            chunk_list.append(chunk[cols])\n",
    "    \n",
    "    return pd.concat(chunk_list, ignore_index=True, join='outer', axis=0)"
   ]
  },
  {
   "cell_type": "code",
   "execution_count": null,
   "metadata": {},
   "outputs": [],
   "source": [
    "city_of_interest = 'Santa Barbara'\n",
    "\n",
    "business_data = read_chunks('yelp_dataset/yelp_academic_dataset_business.json', city=city_of_interest)\n",
    "business_ids = business_data['business_id'].unique()\n",
    "\n",
    "checkin_data = read_chunks('yelp_dataset/yelp_academic_dataset_checkin.json')\n",
    "checkin_data = checkin_data[checkin_data['business_id'].isin(business_ids)]\n",
    "\n",
    "review_data = read_chunks('yelp_dataset/yelp_academic_dataset_review.json')\n",
    "review_data = review_data[review_data['business_id'].isin(business_ids)]\n",
    "\n",
    "tip_data = read_chunks('yelp_dataset/yelp_academic_dataset_tip.json')\n",
    "tip_data = tip_data[tip_data['business_id'].isin(business_ids)]\n",
    "\n",
    "user_data = read_chunks('yelp_dataset/yelp_academic_dataset_user.json')\n",
    "users_of_interest = set(review_data['user_id']).union(set(tip_data['user_id']))\n",
    "user_data = user_data[user_data['user_id'].isin(users_of_interest)]"
   ]
  },
  {
   "cell_type": "code",
   "execution_count": null,
   "metadata": {},
   "outputs": [],
   "source": [
    "user_friends = user_data.explode('friends')\n",
    "\n",
    "# Create nodes DataFrame\n",
    "nodes_df = user_friends[['user_id']].copy()\n",
    "nodes_df.rename(columns={'user_id': 'id'}, inplace=True)\n",
    "nodes_df['media'] = 'user'\n",
    "nodes_df['media.type'] = 0\n",
    "nodes_df['type.label'] = 'user'\n",
    "nodes_df['audience.size'] = 1  # Assuming all users have an audience size of 1\n",
    "\n",
    "# Create links DataFrame\n",
    "links_df = user_friends.rename(columns={'user_id': 'from', 'friends': 'to'})\n",
    "links_df['weight'] = 1\n",
    "links_df['type'] = 'friendship'\n",
    "\n",
    "# Optionally, you can drop duplicates from links_df if needed\n",
    "links_df.drop_duplicates(inplace=True)"
   ]
  },
  {
   "cell_type": "code",
   "execution_count": null,
   "metadata": {},
   "outputs": [],
   "source": [
    "user_data['friends'] = user_data['friends'].str.split(', ')\n",
    "user_friends = user_data.explode('friends')"
   ]
  },
  {
   "cell_type": "code",
   "execution_count": null,
   "metadata": {},
   "outputs": [],
   "source": [
    "# Create nodes DataFrame\n",
    "nodes_df = user_friends[['user_id']].copy()\n",
    "nodes_df.rename(columns={'user_id': 'id'}, inplace=True)\n",
    "nodes_df['type.label'] = 'user'\n",
    "nodes_df['audience.size'] = 1\n",
    "nodes_df.drop_duplicates(inplace=True)\n",
    "print(nodes_df)\n",
    "\n",
    "user_friends = user_friends[['user_id', 'friends']]\n",
    "links_df = user_friends.rename(columns={'user_id': 'from', 'friends': 'to'})\n",
    "links_df['weight'] = 1\n",
    "links_df['type'] = 'friendship'\n",
    "links_df = links_df[links_df['to'] != 'None']\n",
    "\n",
    "links_df.drop_duplicates(inplace=True)\n",
    "\n",
    "# Create graph\n",
    "g = Graph.DataFrame(links_df, directed=True, use_vids=False, vertices=nodes_df)\n",
    "plot(g)\n"
   ]
  }
 ],
 "metadata": {
  "kernelspec": {
   "display_name": "Python 3",
   "language": "python",
   "name": "python3"
  },
  "language_info": {
   "codemirror_mode": {
    "name": "ipython",
    "version": 3
   },
   "file_extension": ".py",
   "mimetype": "text/x-python",
   "name": "python",
   "nbconvert_exporter": "python",
   "pygments_lexer": "ipython3",
   "version": "3.10.12"
  }
 },
 "nbformat": 4,
 "nbformat_minor": 2
}
