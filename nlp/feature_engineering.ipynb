{
 "cells": [
  {
   "cell_type": "markdown",
   "metadata": {},
   "source": [
    "# Feature engineering"
   ]
  },
  {
   "cell_type": "markdown",
   "metadata": {},
   "source": [
    "### Libraries"
   ]
  },
  {
   "cell_type": "code",
   "execution_count": null,
   "metadata": {},
   "outputs": [],
   "source": [
    "# import libraries\n",
    "\n",
    "import re\n",
    "\n",
    "import pandas as pd\n",
    "import numpy as np\n",
    "\n",
    "from gensim.models import KeyedVectors\n",
    "from scipy import stats\n",
    "from scipy import sparse\n",
    "from sklearn.feature_extraction.text import CountVectorizer\n",
    "from sklearn.feature_extraction.text import TfidfVectorizer\n",
    "from nltk.corpus import opinion_lexicon\n",
    "import nltk\n",
    "from sklearn.decomposition import TruncatedSVD\n",
    "from sklearn.decomposition import LatentDirichletAllocation"
   ]
  },
  {
   "cell_type": "markdown",
   "metadata": {},
   "source": [
    "### Data"
   ]
  },
  {
   "cell_type": "code",
   "execution_count": null,
   "metadata": {},
   "outputs": [],
   "source": [
    "# load review sentiment data\n",
    "\n",
    "review_df = pd.read_csv('data/review_sentiment.csv')\n",
    "\n",
    "review_df"
   ]
  },
  {
   "cell_type": "code",
   "execution_count": null,
   "metadata": {},
   "outputs": [],
   "source": [
    "# load corpus data\n",
    "\n",
    "corpus = open('data/corpus.txt', 'r').read()\n",
    "corpus = corpus.split('\\n')\n",
    "corpus = corpus[:-1]"
   ]
  },
  {
   "cell_type": "code",
   "execution_count": null,
   "metadata": {},
   "outputs": [],
   "source": [
    "# see contents of corpus\n",
    "\n",
    "for review in corpus[:5]:\n",
    "    print('-' * 50)\n",
    "    print(review)"
   ]
  },
  {
   "cell_type": "markdown",
   "metadata": {},
   "source": [
    "### Dense embeddings"
   ]
  },
  {
   "cell_type": "code",
   "execution_count": null,
   "metadata": {},
   "outputs": [],
   "source": [
    "# load word2vec vectors\n",
    "\n",
    "wv = KeyedVectors.load(\"embeddings/reviews_wv\")"
   ]
  },
  {
   "cell_type": "code",
   "execution_count": null,
   "metadata": {},
   "outputs": [],
   "source": [
    "def text_to_vector(embeddings, text, sequence_len, strategy=None):\n",
    "    '''\n",
    "    Function to convert text to word embeddings\n",
    "    '''\n",
    "    tokens = text.split()\n",
    "    vec = []\n",
    "    n = 0\n",
    "    i = 0\n",
    "    while i < len(tokens) and n < sequence_len:\n",
    "        try:\n",
    "            vec.extend(embeddings.get_vector(tokens[i]))\n",
    "            n += 1\n",
    "        except KeyError:\n",
    "            True\n",
    "        finally:\n",
    "            i += 1\n",
    "    for _ in range(sequence_len - n):\n",
    "        vec.extend(np.zeros(embeddings.vector_size,))\n",
    "    if strategy == 'mean':\n",
    "        vec = np.mean(vec, axis=0)\n",
    "    elif strategy == 'max':\n",
    "        vec = np.max(vec, axis=0)\n",
    "    return vec"
   ]
  },
  {
   "cell_type": "code",
   "execution_count": null,
   "metadata": {},
   "outputs": [],
   "source": [
    "# corpus statistics\n",
    "\n",
    "lens = [len(c.split()) for c in corpus]\n",
    "\n",
    "print('Number of reviews:', len(corpus))\n",
    "print('Minimum number of words:', np.min(lens))\n",
    "print('Maximum number of words:', np.max(lens))\n",
    "print('Average number of words:', np.mean(lens))\n",
    "print('Standard deviation of words:', np.std(lens))\n",
    "print('Mode of words:', stats.mode(lens))"
   ]
  },
  {
   "cell_type": "code",
   "execution_count": null,
   "metadata": {},
   "outputs": [],
   "source": [
    "# convert corpus into dataset with appended embeddings representation\n",
    "\n",
    "simple_corpus = []\n",
    "for review in review_df['text']:\n",
    "    review = re.sub('[^a-zA-Z]', ' ', review).lower()\n",
    "    simple_corpus.append(review)\n",
    "\n",
    "embeddings_corpus = []\n",
    "word_limit = 50\n",
    "for review in simple_corpus:\n",
    "    embeddings_corpus.append(text_to_vector(wv, review, word_limit))"
   ]
  },
  {
   "cell_type": "markdown",
   "metadata": {},
   "source": [
    "### Transformations\n"
   ]
  },
  {
   "cell_type": "code",
   "execution_count": null,
   "metadata": {},
   "outputs": [],
   "source": [
    "# BoW\n",
    "\n",
    "bag_of_words = CountVectorizer()\n",
    "bow_features = bag_of_words.fit_transform(corpus)\n",
    "\n",
    "sparse.save_npz('features/bag_of_words.npz', bow_features)\n",
    "\n",
    "bow_features.shape"
   ]
  },
  {
   "cell_type": "code",
   "execution_count": null,
   "metadata": {},
   "outputs": [],
   "source": [
    "lsa_model = TruncatedSVD(n_components=8)\n",
    "lsa_topic_matrix = lsa_model.fit_transform(bow_features)"
   ]
  },
  {
   "cell_type": "code",
   "execution_count": null,
   "metadata": {},
   "outputs": [],
   "source": [
    "# 1-hot encoding\n",
    "\n",
    "one_hot = CountVectorizer(binary=True)\n",
    "features = one_hot.fit_transform(corpus)\n",
    "\n",
    "sparse.save_npz('features/one_hot.npz', features)\n",
    "\n",
    "features.shape"
   ]
  },
  {
   "cell_type": "code",
   "execution_count": null,
   "metadata": {},
   "outputs": [],
   "source": [
    "# N-grams\n",
    "\n",
    "n_grams = CountVectorizer(ngram_range=(1, 2), max_features=15000)\n",
    "features = n_grams.fit_transform(corpus)\n",
    "\n",
    "sparse.save_npz('features/n_grams.npz', features)\n",
    "\n",
    "features.shape"
   ]
  },
  {
   "cell_type": "code",
   "execution_count": null,
   "metadata": {},
   "outputs": [],
   "source": [
    "# TF-IDF\n",
    "\n",
    "tf_idf = TfidfVectorizer()\n",
    "features = tf_idf.fit_transform(corpus)\n",
    "\n",
    "sparse.save_npz('features/tf_idf.npz', features)\n",
    "\n",
    "features.shape"
   ]
  },
  {
   "cell_type": "code",
   "execution_count": null,
   "metadata": {},
   "outputs": [],
   "source": [
    "# Word2Vec\n",
    "\n",
    "features = np.array(embeddings_corpus)\n",
    "\n",
    "np.save('features/word2vec.npy', features)\n",
    "\n",
    "features.shape"
   ]
  },
  {
   "cell_type": "markdown",
   "metadata": {},
   "source": [
    "Handling negation - lexicons"
   ]
  },
  {
   "cell_type": "code",
   "execution_count": null,
   "metadata": {},
   "outputs": [],
   "source": [
    "\n",
    "nltk.download('opinion_lexicon')\n",
    "\n",
    "positive_words = set(opinion_lexicon.positive())\n",
    "negative_words = set(opinion_lexicon.negative())\n",
    "\n",
    "# Extend lexicons with NOT_ prefix\n",
    "extended_positive_words = positive_words.union({'NOT_' + word for word in negative_words})\n",
    "extended_negative_words = negative_words.union({'NOT_' + word for word in positive_words})"
   ]
  },
  {
   "cell_type": "code",
   "execution_count": null,
   "metadata": {},
   "outputs": [],
   "source": [
    "def count_sentiment_words(text, positive_words, negative_words):\n",
    "    words = text.split()\n",
    "    pos_count = sum(1 for word in words if word in positive_words)\n",
    "    neg_count = sum(1 for word in words if word in negative_words)\n",
    "    return pos_count, neg_count\n",
    "\n"
   ]
  },
  {
   "cell_type": "code",
   "execution_count": null,
   "metadata": {},
   "outputs": [],
   "source": [
    "\n",
    "pos_counts = []\n",
    "neg_counts = []\n",
    "for review in corpus:\n",
    "    pos_count, neg_count = count_sentiment_words(review, positive_words, negative_words)\n",
    "    print(f\"Positive words: {pos_count}, Negative words: {neg_count}\")\n",
    "    pos_counts.append(pos_count)\n",
    "    neg_counts.append(neg_count)\n",
    "\n",
    "# Convert to numpy arrays\n",
    "pos_counts = np.array(pos_counts).reshape(-1, 1)\n",
    "neg_counts = np.array(neg_counts).reshape(-1, 1)\n",
    "\n",
    "sentiment_features = np.hstack((pos_counts, neg_counts))\n",
    "sentiment_features_sparse = sparse.csr_matrix(sentiment_features)\n",
    "\n",
    "# Combine the sparse matrices\n",
    "combined_features = sparse.hstack([bow_features, sentiment_features_sparse])\n",
    "sparse.save_npz('features/combined_features', combined_features)\n",
    "\n",
    "print(combined_features.shape)"
   ]
  }
 ],
 "metadata": {
  "kernelspec": {
   "display_name": "Python 3",
   "language": "python",
   "name": "python3"
  },
  "language_info": {
   "codemirror_mode": {
    "name": "ipython",
    "version": 3
   },
   "file_extension": ".py",
   "mimetype": "text/x-python",
   "name": "python",
   "nbconvert_exporter": "python",
   "pygments_lexer": "ipython3",
   "version": "3.11.2"
  }
 },
 "nbformat": 4,
 "nbformat_minor": 2
}
