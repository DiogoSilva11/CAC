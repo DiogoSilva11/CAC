{
 "cells": [
  {
   "cell_type": "markdown",
   "metadata": {},
   "source": [
    "# Data"
   ]
  },
  {
   "cell_type": "markdown",
   "metadata": {},
   "source": [
    "### Libraries"
   ]
  },
  {
   "cell_type": "code",
   "execution_count": null,
   "metadata": {},
   "outputs": [],
   "source": [
    "# import libraries\n",
    "\n",
    "import nltk\n",
    "import re\n",
    "import pandas as pd\n",
    "import matplotlib.pyplot as plt\n",
    "from nltk.corpus import stopwords\n",
    "from nltk.stem.porter import PorterStemmer\n",
    "from nltk.stem import WordNetLemmatizer\n",
    "from wordcloud import WordCloud\n",
    "\n",
    "nltk.download('stopwords')\n",
    "nltk.download('punkt')\n",
    "nltk.download('wordnet')"
   ]
  },
  {
   "cell_type": "markdown",
   "metadata": {},
   "source": [
    "### Data preparation"
   ]
  },
  {
   "cell_type": "code",
   "execution_count": null,
   "metadata": {},
   "outputs": [],
   "source": [
    "def load_filtered_data(city):\n",
    "    '''\n",
    "    Load filtered data from a city\n",
    "    '''\n",
    "    file = ['business', 'checkin', 'review', 'tip', 'user']\n",
    "    data = {}\n",
    "    for f in file:\n",
    "        data[f] = pd.read_csv(f'../filtered_cities/{city}_{f}.csv')\n",
    "    return data"
   ]
  },
  {
   "cell_type": "code",
   "execution_count": null,
   "metadata": {},
   "outputs": [],
   "source": [
    "# load data\n",
    "\n",
    "city = 'St. Louis'\n",
    "data = load_filtered_data(city)"
   ]
  },
  {
   "cell_type": "code",
   "execution_count": null,
   "metadata": {},
   "outputs": [],
   "source": [
    "# review data\n",
    "\n",
    "data['review'].info()"
   ]
  },
  {
   "cell_type": "code",
   "execution_count": null,
   "metadata": {},
   "outputs": [],
   "source": [
    "# distribution of review ratings\n",
    "\n",
    "data['review']['stars'].value_counts().sort_index().plot(kind='bar')\n",
    "plt.title('Distribution of Review Ratings')\n",
    "plt.show()"
   ]
  },
  {
   "cell_type": "code",
   "execution_count": null,
   "metadata": {},
   "outputs": [],
   "source": [
    "def sentiment(rating):\n",
    "    '''\n",
    "    Return sentiment value based on rating (-1 for negative, 0 for neutral, 1 for positive)\n",
    "    '''\n",
    "    if rating == 1 or rating == 2:\n",
    "        return -1\n",
    "    elif rating == 3:\n",
    "        return 0\n",
    "    elif rating == 4 or rating == 5:\n",
    "        return 1"
   ]
  },
  {
   "cell_type": "code",
   "execution_count": null,
   "metadata": {},
   "outputs": [],
   "source": [
    "# dataframe with reviews and sentiment values (based on stars)\n",
    "\n",
    "reviews = data['review'].copy()\n",
    "reviews['sentiment'] = reviews['stars'].apply(sentiment)\n",
    "review_df = reviews[['review_id', 'text', 'sentiment']]\n",
    "\n",
    "review_df"
   ]
  },
  {
   "cell_type": "code",
   "execution_count": null,
   "metadata": {},
   "outputs": [],
   "source": [
    "# distribution of sentiment values\n",
    "\n",
    "review_df['sentiment'].value_counts().sort_index().plot(kind='bar')\n",
    "plt.title('Distribution of Review Sentiments')\n",
    "plt.xticks(ticks=[0, 1, 2], labels=['negative', 'neutral', 'positive'])\n",
    "plt.show()"
   ]
  },
  {
   "cell_type": "code",
   "execution_count": null,
   "metadata": {},
   "outputs": [],
   "source": [
    "# save review data\n",
    "\n",
    "review_df.to_csv(f'data/review_sentiment.csv', index=False)"
   ]
  },
  {
   "cell_type": "markdown",
   "metadata": {},
   "source": [
    "### Text processing"
   ]
  },
  {
   "cell_type": "code",
   "execution_count": null,
   "metadata": {},
   "outputs": [],
   "source": [
    "# see content of reviews\n",
    "\n",
    "for review in review_df['text'].head(5).values:\n",
    "    print('-' * 50)\n",
    "    print(review)"
   ]
  },
  {
   "cell_type": "code",
   "execution_count": null,
   "metadata": {},
   "outputs": [],
   "source": [
    "# common negation words\n",
    "\n",
    "negation_words = [\"don't\", \"no\", \"none\", \"never\", \"nowhere\", \"neither\", \"nor\", \"not\", \"cannot\",\"didn't\", \"couldn't\", \"wouldn't\", \"won't\", \"can't\", \"aren't\", \"isn't\", \"wasn't\", \"haven't\", \"hasn't\", \"hadn't\"]"
   ]
  },
  {
   "cell_type": "code",
   "execution_count": null,
   "metadata": {},
   "outputs": [],
   "source": [
    "def process_review(text, lemmatizer, sw, negation_handling=True):\n",
    "    '''\n",
    "    Process a review text by removing non-alphabetic characters, converting to lowercase, removing stopwords, and stemming\n",
    "    '''\n",
    "    text = re.sub('[^a-zA-Z!\\']', ' ', text)\n",
    "    text = re.sub('!', ' ! ', text)\n",
    "    text = text.lower()\n",
    "    words = text.split()\n",
    "    words = [word for word in words if word not in sw]\n",
    "    words = [lemmatizer.lemmatize(word) for word in words]\n",
    "\n",
    "    if negation_handling:\n",
    "        for i in range(len(words)):\n",
    "            if words[i] in negation_words and i < len(words) - 1:\n",
    "                words[i+1] = 'NOT_' + words[i+1]\n",
    "    print(\"NOT_like\" in negation_words) \n",
    "    words = [word for word in words if word not in negation_words]\n",
    "\n",
    "    text = ' '.join(words)\n",
    "    return text\n",
    "# TODO: investigate if there is are better ways to process reviews (e.g. maintain exclamation marks?) and handle with negation"
   ]
  },
  {
   "cell_type": "code",
   "execution_count": null,
   "metadata": {},
   "outputs": [],
   "source": [
    "# stemmer and stopwords\n",
    "\n",
    "ps = PorterStemmer()\n",
    "lemmatizer = WordNetLemmatizer()\n",
    "sw = set(stopwords.words('english'))"
   ]
  },
  {
   "cell_type": "code",
   "execution_count": null,
   "metadata": {},
   "outputs": [],
   "source": [
    "# text processing\n",
    "\n",
    "corpus = []\n",
    "corpus_negative = []\n",
    "corpus_neutral = []\n",
    "corpus_positive = []\n",
    "\n",
    "for i in range(0, review_df['text'].size):\n",
    "    review = process_review(review_df['text'][i], lemmatizer, sw)\n",
    "    corpus.append(review)\n",
    "    sentiment = review_df['sentiment'][i]\n",
    "    if sentiment == -1:\n",
    "        corpus_negative.append(review)\n",
    "    elif sentiment == 0:\n",
    "        corpus_neutral.append(review)\n",
    "    elif sentiment == 1:\n",
    "        corpus_positive.append(review)"
   ]
  },
  {
   "cell_type": "code",
   "execution_count": null,
   "metadata": {},
   "outputs": [],
   "source": [
    "# see content of processed reviews\n",
    "\n",
    "for review in corpus[:5]:\n",
    "    print('-' * 50)\n",
    "    print(review)"
   ]
  },
  {
   "cell_type": "code",
   "execution_count": null,
   "metadata": {},
   "outputs": [],
   "source": [
    "# save corpus data\n",
    "\n",
    "with open('data/corpus.txt', 'w') as f:\n",
    "    for review in corpus:\n",
    "        f.write(review + '\\n')"
   ]
  },
  {
   "cell_type": "markdown",
   "metadata": {},
   "source": [
    "### Wordclouds"
   ]
  },
  {
   "cell_type": "code",
   "execution_count": null,
   "metadata": {},
   "outputs": [],
   "source": [
    "# global word cloud\n",
    "\n",
    "wordcloud = WordCloud().generate(\" \".join(corpus))\n",
    "\n",
    "plt.figure()\n",
    "plt.imshow(wordcloud)\n",
    "plt.axis('off')\n",
    "plt.show()"
   ]
  },
  {
   "cell_type": "code",
   "execution_count": null,
   "metadata": {},
   "outputs": [],
   "source": [
    "# word cloud for negative reviews\n",
    "\n",
    "wordcloud = WordCloud().generate(\" \".join(corpus_negative))\n",
    "\n",
    "plt.figure()\n",
    "plt.imshow(wordcloud)\n",
    "plt.axis('off')\n",
    "plt.show()"
   ]
  },
  {
   "cell_type": "code",
   "execution_count": null,
   "metadata": {},
   "outputs": [],
   "source": [
    "# word cloud for neutral reviews\n",
    "\n",
    "wordcloud = WordCloud().generate(\" \".join(corpus_neutral))\n",
    "\n",
    "plt.figure()\n",
    "plt.imshow(wordcloud)\n",
    "plt.axis('off')\n",
    "plt.show()"
   ]
  },
  {
   "cell_type": "code",
   "execution_count": null,
   "metadata": {},
   "outputs": [],
   "source": [
    "# word cloud for positive reviews\n",
    "\n",
    "wordcloud = WordCloud().generate(\" \".join(corpus_positive))\n",
    "\n",
    "plt.figure()\n",
    "plt.imshow(wordcloud)\n",
    "plt.axis('off')\n",
    "plt.show()"
   ]
  },
  {
   "cell_type": "markdown",
   "metadata": {},
   "source": [
    "### Frequency distributions"
   ]
  },
  {
   "cell_type": "code",
   "execution_count": null,
   "metadata": {},
   "outputs": [],
   "source": [
    "# frequency distribution of words\n",
    "\n",
    "all_words = ' '.join(corpus).split()\n",
    "fd = nltk.FreqDist(all_words)\n",
    "\n",
    "negative_words = ' '.join(corpus_negative).split()\n",
    "fd_negative = nltk.FreqDist(negative_words)\n",
    "\n",
    "neutral_words = ' '.join(corpus_neutral).split()\n",
    "fd_neutral = nltk.FreqDist(neutral_words)\n",
    "\n",
    "positive_words = ' '.join(corpus_positive).split()\n",
    "fd_positive = nltk.FreqDist(positive_words)"
   ]
  },
  {
   "cell_type": "code",
   "execution_count": null,
   "metadata": {},
   "outputs": [],
   "source": [
    "# most common words in reviews\n",
    "\n",
    "fd.most_common(10)"
   ]
  },
  {
   "cell_type": "code",
   "execution_count": null,
   "metadata": {},
   "outputs": [],
   "source": [
    "# most common words in negative reviews\n",
    "\n",
    "fd_negative.most_common(10)"
   ]
  },
  {
   "cell_type": "code",
   "execution_count": null,
   "metadata": {},
   "outputs": [],
   "source": [
    "# most common words in neutral reviews\n",
    "\n",
    "fd_neutral.most_common(10)"
   ]
  },
  {
   "cell_type": "code",
   "execution_count": null,
   "metadata": {},
   "outputs": [],
   "source": [
    "# most common words in positive reviews\n",
    "\n",
    "fd_positive.most_common(10)"
   ]
  }
 ],
 "metadata": {
  "kernelspec": {
   "display_name": "Python 3",
   "language": "python",
   "name": "python3"
  },
  "language_info": {
   "codemirror_mode": {
    "name": "ipython",
    "version": 3
   },
   "file_extension": ".py",
   "mimetype": "text/x-python",
   "name": "python",
   "nbconvert_exporter": "python",
   "pygments_lexer": "ipython3",
   "version": "3.11.2"
  }
 },
 "nbformat": 4,
 "nbformat_minor": 2
}
