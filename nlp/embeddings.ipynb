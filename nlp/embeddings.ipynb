{
 "cells": [
  {
   "cell_type": "markdown",
   "metadata": {},
   "source": [
    "# Word Embeddings"
   ]
  },
  {
   "cell_type": "markdown",
   "metadata": {},
   "source": [
    "### Libraries"
   ]
  },
  {
   "cell_type": "code",
   "execution_count": 46,
   "metadata": {},
   "outputs": [],
   "source": [
    "# import libraries\n",
    "\n",
    "import nltk\n",
    "import random\n",
    "\n",
    "import pandas as pd\n",
    "import numpy as np\n",
    "import matplotlib.pyplot as plt\n",
    "\n",
    "from gensim.models import Word2Vec\n",
    "from sklearn.manifold import TSNE"
   ]
  },
  {
   "cell_type": "markdown",
   "metadata": {},
   "source": [
    "### Datasets"
   ]
  },
  {
   "cell_type": "code",
   "execution_count": 2,
   "metadata": {},
   "outputs": [
    {
     "data": {
      "text/html": [
       "<div>\n",
       "<style scoped>\n",
       "    .dataframe tbody tr th:only-of-type {\n",
       "        vertical-align: middle;\n",
       "    }\n",
       "\n",
       "    .dataframe tbody tr th {\n",
       "        vertical-align: top;\n",
       "    }\n",
       "\n",
       "    .dataframe thead th {\n",
       "        text-align: right;\n",
       "    }\n",
       "</style>\n",
       "<table border=\"1\" class=\"dataframe\">\n",
       "  <thead>\n",
       "    <tr style=\"text-align: right;\">\n",
       "      <th></th>\n",
       "      <th>review_id</th>\n",
       "      <th>text</th>\n",
       "      <th>positive</th>\n",
       "      <th>neutral</th>\n",
       "      <th>negative</th>\n",
       "    </tr>\n",
       "  </thead>\n",
       "  <tbody>\n",
       "    <tr>\n",
       "      <th>0</th>\n",
       "      <td>NvusujU9_5pIUbn9SZ6hMA</td>\n",
       "      <td>Stopped by to munch a burger during today's Se...</td>\n",
       "      <td>1</td>\n",
       "      <td>0</td>\n",
       "      <td>0</td>\n",
       "    </tr>\n",
       "    <tr>\n",
       "      <th>1</th>\n",
       "      <td>vHOeBa7aMA_na4rfS2Db5A</td>\n",
       "      <td>Yelp doesn't allow to leave 0 star review, so ...</td>\n",
       "      <td>0</td>\n",
       "      <td>0</td>\n",
       "      <td>1</td>\n",
       "    </tr>\n",
       "    <tr>\n",
       "      <th>2</th>\n",
       "      <td>hG9RTxxivb0ZXzEk4JXTXA</td>\n",
       "      <td>I find it hard to believe there are so many pe...</td>\n",
       "      <td>0</td>\n",
       "      <td>0</td>\n",
       "      <td>1</td>\n",
       "    </tr>\n",
       "    <tr>\n",
       "      <th>3</th>\n",
       "      <td>zIVkwgahZjOneChZFUYY4g</td>\n",
       "      <td>Love this place! Almost all of their menu item...</td>\n",
       "      <td>1</td>\n",
       "      <td>0</td>\n",
       "      <td>0</td>\n",
       "    </tr>\n",
       "    <tr>\n",
       "      <th>4</th>\n",
       "      <td>DLczAuvMAlAnY5EeDGhTVg</td>\n",
       "      <td>Excellent customer service. I wish I could ren...</td>\n",
       "      <td>1</td>\n",
       "      <td>0</td>\n",
       "      <td>0</td>\n",
       "    </tr>\n",
       "    <tr>\n",
       "      <th>...</th>\n",
       "      <td>...</td>\n",
       "      <td>...</td>\n",
       "      <td>...</td>\n",
       "      <td>...</td>\n",
       "      <td>...</td>\n",
       "    </tr>\n",
       "    <tr>\n",
       "      <th>63446</th>\n",
       "      <td>OgoBp7fbXnLSKvsQb4O_tw</td>\n",
       "      <td>I really loved the food and service. I mean, t...</td>\n",
       "      <td>1</td>\n",
       "      <td>0</td>\n",
       "      <td>0</td>\n",
       "    </tr>\n",
       "    <tr>\n",
       "      <th>63447</th>\n",
       "      <td>Q7e8EtZMmdknDrQE7huMoQ</td>\n",
       "      <td>Their Grove location was the bomb. Delicious f...</td>\n",
       "      <td>1</td>\n",
       "      <td>0</td>\n",
       "      <td>0</td>\n",
       "    </tr>\n",
       "    <tr>\n",
       "      <th>63448</th>\n",
       "      <td>zzMW6zbsFaQMjoGu2bGVdA</td>\n",
       "      <td>A nice ean BBQ joint right across from some ne...</td>\n",
       "      <td>1</td>\n",
       "      <td>0</td>\n",
       "      <td>0</td>\n",
       "    </tr>\n",
       "    <tr>\n",
       "      <th>63449</th>\n",
       "      <td>scgoa60EvhW2Mz7JMqLYGw</td>\n",
       "      <td>The perfect Hookah bar. I'm not sure what they...</td>\n",
       "      <td>1</td>\n",
       "      <td>0</td>\n",
       "      <td>0</td>\n",
       "    </tr>\n",
       "    <tr>\n",
       "      <th>63450</th>\n",
       "      <td>M7NAWZ9P99ucR66LrxrUOQ</td>\n",
       "      <td>Besides it being super busy often, usually, I ...</td>\n",
       "      <td>0</td>\n",
       "      <td>1</td>\n",
       "      <td>0</td>\n",
       "    </tr>\n",
       "  </tbody>\n",
       "</table>\n",
       "<p>63451 rows × 5 columns</p>\n",
       "</div>"
      ],
      "text/plain": [
       "                    review_id  \\\n",
       "0      NvusujU9_5pIUbn9SZ6hMA   \n",
       "1      vHOeBa7aMA_na4rfS2Db5A   \n",
       "2      hG9RTxxivb0ZXzEk4JXTXA   \n",
       "3      zIVkwgahZjOneChZFUYY4g   \n",
       "4      DLczAuvMAlAnY5EeDGhTVg   \n",
       "...                       ...   \n",
       "63446  OgoBp7fbXnLSKvsQb4O_tw   \n",
       "63447  Q7e8EtZMmdknDrQE7huMoQ   \n",
       "63448  zzMW6zbsFaQMjoGu2bGVdA   \n",
       "63449  scgoa60EvhW2Mz7JMqLYGw   \n",
       "63450  M7NAWZ9P99ucR66LrxrUOQ   \n",
       "\n",
       "                                                    text  positive  neutral  \\\n",
       "0      Stopped by to munch a burger during today's Se...         1        0   \n",
       "1      Yelp doesn't allow to leave 0 star review, so ...         0        0   \n",
       "2      I find it hard to believe there are so many pe...         0        0   \n",
       "3      Love this place! Almost all of their menu item...         1        0   \n",
       "4      Excellent customer service. I wish I could ren...         1        0   \n",
       "...                                                  ...       ...      ...   \n",
       "63446  I really loved the food and service. I mean, t...         1        0   \n",
       "63447  Their Grove location was the bomb. Delicious f...         1        0   \n",
       "63448  A nice ean BBQ joint right across from some ne...         1        0   \n",
       "63449  The perfect Hookah bar. I'm not sure what they...         1        0   \n",
       "63450  Besides it being super busy often, usually, I ...         0        1   \n",
       "\n",
       "       negative  \n",
       "0             0  \n",
       "1             1  \n",
       "2             1  \n",
       "3             0  \n",
       "4             0  \n",
       "...         ...  \n",
       "63446         0  \n",
       "63447         0  \n",
       "63448         0  \n",
       "63449         0  \n",
       "63450         0  \n",
       "\n",
       "[63451 rows x 5 columns]"
      ]
     },
     "execution_count": 2,
     "metadata": {},
     "output_type": "execute_result"
    }
   ],
   "source": [
    "# load review sentiment data\n",
    "\n",
    "review_df = pd.read_csv('review_sentiment.csv')\n",
    "\n",
    "review_df"
   ]
  },
  {
   "cell_type": "code",
   "execution_count": 3,
   "metadata": {},
   "outputs": [],
   "source": [
    "# load corpus data\n",
    "\n",
    "corpus = open('corpus.txt', 'r').read()\n",
    "corpus = corpus.split('\\n')\n",
    "corpus = corpus[:-1]"
   ]
  },
  {
   "cell_type": "code",
   "execution_count": 4,
   "metadata": {},
   "outputs": [
    {
     "name": "stdout",
     "output_type": "stream",
     "text": [
      "--------------------------------------------------\n",
      "stop munch burger today seahawk saint game place unsurprisingli pack good reason burger order fantast sat right next door get chanc get six feet place soon got meal place start get busier busier work way world shortest peopl maze get guess mean first person hear place go back might go say lunch tuesday less busi\n",
      "--------------------------------------------------\n",
      "yelp allow leav star review see one star wife move ny south california contact differ move compani sent initi email unit van line soon got email back virtual survey confirm ladi virtual survey meticul profession screen whole apart minut one contact sent second email almost month ask everyth ok get quot need mention compani sent quot less hour sinc one repli til today call direct phone left messag answer machin one call back hope everyth ok one hurt see reason explan avoid unprofession\n",
      "--------------------------------------------------\n",
      "find hard believ mani peopl low standard come daili bread ripoff st loui bread co panera bread mind eaten multipl time daili bread yet enjoy experi food best sandwich basic lack real flavor also tri bbq chicken pizza okay certainli steer anyon away place base food food basic simpl bad also noth great biggest qualm daili bread servic major worker seem utterli uninterest help line peopl one person regist sens urgenc help custom line wait good minut put order receiv cup get drink look clean place sit eventu settl tabl top least dirti tabl avail plenti open spot appear though lot trash left behind anyon bu tabl anticip peopl respons clean appear though tabl effect clean also trash floor address well order number call order halfway complet ask sandwich basic ignor girl put two order anoth minut rest order came began eat tri item state okay problem food unabl make lack organ slow speed serv cleanli restaur attempt write daili bread return rather go st loui bread co get level food clean environ time set\n",
      "--------------------------------------------------\n",
      "love place almost menu item made vegan super knowledg pad thai tofu veggi cashew perfect avocado egg roll amaz favorit\n",
      "--------------------------------------------------\n",
      "excel custom servic wish could rent often great experi vers car rental servic rent\n"
     ]
    }
   ],
   "source": [
    "# see contents of corpus\n",
    "\n",
    "for review in corpus[:5]:\n",
    "    print('-' * 50)\n",
    "    print(review)"
   ]
  },
  {
   "cell_type": "markdown",
   "metadata": {},
   "source": [
    "### Dense embeddings"
   ]
  },
  {
   "cell_type": "code",
   "execution_count": 12,
   "metadata": {},
   "outputs": [
    {
     "data": {
      "text/plain": [
       "63451"
      ]
     },
     "execution_count": 12,
     "metadata": {},
     "output_type": "execute_result"
    }
   ],
   "source": [
    "# documents representing reviews\n",
    "\n",
    "documents = [review.split() for review in corpus]\n",
    "\n",
    "len(documents)"
   ]
  },
  {
   "cell_type": "code",
   "execution_count": 14,
   "metadata": {},
   "outputs": [
    {
     "name": "stdout",
     "output_type": "stream",
     "text": [
      "['stop', 'munch', 'burger', 'today', 'seahawk', 'saint', 'game', 'place', 'unsurprisingli', 'pack', 'good', 'reason', 'burger', 'order', 'fantast', 'sat', 'right', 'next', 'door', 'get', 'chanc', 'get', 'six', 'feet', 'place', 'soon', 'got', 'meal', 'place', 'start', 'get', 'busier', 'busier', 'work', 'way', 'world', 'shortest', 'peopl', 'maze', 'get', 'guess', 'mean', 'first', 'person', 'hear', 'place', 'go', 'back', 'might', 'go', 'say', 'lunch', 'tuesday', 'less', 'busi']\n"
     ]
    }
   ],
   "source": [
    "# see contents of documents\n",
    "\n",
    "print(documents[0])"
   ]
  },
  {
   "cell_type": "code",
   "execution_count": 15,
   "metadata": {},
   "outputs": [],
   "source": [
    "# model training\n",
    "\n",
    "model = Word2Vec(documents, vector_size=150, window=10, min_count=2, workers=10, sg=1)"
   ]
  },
  {
   "cell_type": "code",
   "execution_count": 16,
   "metadata": {},
   "outputs": [
    {
     "data": {
      "text/plain": [
       "array([ 0.06700058,  0.06370446,  0.10077358, -0.07877868,  0.01602559,\n",
       "        0.05731801,  0.13199936,  0.28666437, -0.04751187, -0.06556802,\n",
       "        0.09401617,  0.19383274, -0.21678439,  0.16614294,  0.10991853,\n",
       "       -0.02131519,  0.21517622, -0.13370703, -0.04740018,  0.25874633,\n",
       "       -0.18573916, -0.22701082,  0.20272735, -0.1611639 , -0.08112748,\n",
       "        0.12265883, -0.13498469, -0.16523428,  0.04836911, -0.0701794 ,\n",
       "        0.12346497, -0.17380483, -0.1445156 ,  0.10444708, -0.04270989,\n",
       "        0.07531271,  0.1818488 , -0.26479304, -0.0159705 ,  0.12952071,\n",
       "        0.09560172, -0.05184652, -0.03518183,  0.03930816,  0.06056789,\n",
       "       -0.0415628 ,  0.12038585,  0.08714437,  0.29259527,  0.05293156,\n",
       "        0.23251815,  0.2338986 ,  0.01973056, -0.06921055,  0.00739333,\n",
       "       -0.0177428 , -0.05920041,  0.34703907,  0.05980561, -0.3264849 ,\n",
       "        0.01649405, -0.11461464,  0.08051044, -0.14309987, -0.04868563,\n",
       "       -0.00978306, -0.34538463, -0.09181719, -0.00551494, -0.42103446,\n",
       "        0.06211367,  0.07721086,  0.09888165, -0.22342187,  0.02777434,\n",
       "       -0.13217252, -0.09419799, -0.14227648, -0.09753633,  0.03559003,\n",
       "        0.05279688, -0.11298438,  0.1868664 ,  0.20592974,  0.08099625,\n",
       "       -0.08734791,  0.40220186,  0.10644706,  0.37659505, -0.34648168,\n",
       "        0.23076645, -0.01455685, -0.05858251, -0.16702561,  0.24711733,\n",
       "       -0.2292309 ,  0.09948083, -0.08213927, -0.0484707 ,  0.08034816,\n",
       "       -0.04856491, -0.12861975,  0.1282163 , -0.33582073, -0.1068214 ,\n",
       "       -0.21810469,  0.26925594,  0.13734621, -0.32308003, -0.09771182,\n",
       "       -0.09557568,  0.12866934, -0.11024078, -0.0627069 , -0.08505505,\n",
       "        0.10789404,  0.06031254,  0.08349829, -0.09908639, -0.03382971,\n",
       "       -0.07368773, -0.18273345,  0.0872481 , -0.09689213, -0.1632153 ,\n",
       "       -0.04522011,  0.32714352, -0.00683346, -0.27081987, -0.083977  ,\n",
       "        0.15536201,  0.10944813, -0.02601484,  0.18393564,  0.2796878 ,\n",
       "       -0.07702088, -0.1785533 ,  0.11227018, -0.23211105,  0.00545326,\n",
       "       -0.24510594,  0.05967869, -0.24283326,  0.10408106,  0.18314978,\n",
       "        0.09293007,  0.06314084,  0.03429342,  0.06393993, -0.13611284],\n",
       "      dtype=float32)"
      ]
     },
     "execution_count": 16,
     "metadata": {},
     "output_type": "execute_result"
    }
   ],
   "source": [
    "# embeddings\n",
    "\n",
    "model.wv.get_vector(\"good\")"
   ]
  },
  {
   "cell_type": "code",
   "execution_count": 33,
   "metadata": {},
   "outputs": [
    {
     "data": {
      "text/plain": [
       "[('great', 0.7782880067825317),\n",
       " ('definetli', 0.7720577716827393),\n",
       " ('tasti', 0.7702031135559082),\n",
       " ('decent', 0.7608642578125),\n",
       " ('zapp', 0.7472985982894897),\n",
       " ('dublin', 0.7451746463775635),\n",
       " ('crunchier', 0.7408741116523743),\n",
       " ('ok', 0.7399473786354065),\n",
       " ('mongo', 0.7399160861968994),\n",
       " ('veriti', 0.7396931648254395)]"
      ]
     },
     "execution_count": 33,
     "metadata": {},
     "output_type": "execute_result"
    }
   ],
   "source": [
    "# similarity\n",
    "\n",
    "model.wv.most_similar(positive=\"good\")"
   ]
  },
  {
   "cell_type": "code",
   "execution_count": 32,
   "metadata": {},
   "outputs": [
    {
     "data": {
      "text/plain": [
       "[('terribl', 0.7159151434898376),\n",
       " ('jeez', 0.6790581345558167),\n",
       " ('aw', 0.6738978624343872),\n",
       " ('jist', 0.6673039793968201),\n",
       " ('sucki', 0.6668584942817688),\n",
       " ('okay', 0.6654317378997803),\n",
       " ('horribl', 0.6634371876716614),\n",
       " ('bleh', 0.6590250730514526),\n",
       " ('parch', 0.6566184163093567),\n",
       " ('anomali', 0.6548444628715515)]"
      ]
     },
     "execution_count": 32,
     "metadata": {},
     "output_type": "execute_result"
    }
   ],
   "source": [
    "# similarity\n",
    "\n",
    "model.wv.most_similar(positive=\"bad\")"
   ]
  },
  {
   "cell_type": "code",
   "execution_count": 19,
   "metadata": {},
   "outputs": [],
   "source": [
    "# save full model (including trainable vectors to resume training)\n",
    "\n",
    "model.save(\"reviews_model\")"
   ]
  },
  {
   "cell_type": "code",
   "execution_count": 20,
   "metadata": {},
   "outputs": [],
   "source": [
    "# save model word vectors\n",
    "\n",
    "model.wv.save(\"reviews_wv\")"
   ]
  },
  {
   "cell_type": "markdown",
   "metadata": {},
   "source": [
    "### Vector visualization"
   ]
  },
  {
   "cell_type": "code",
   "execution_count": 22,
   "metadata": {},
   "outputs": [],
   "source": [
    "def reduce_dimensions(model, num_dimensions=2, words=[]):\n",
    "    '''\n",
    "    Reduce the dimensions of the word vectors using t-SNE for plotting\n",
    "    '''\n",
    "    vectors = []\n",
    "    labels = []\n",
    "    if (words == []):\n",
    "        words = model.wv.index_to_key\n",
    "    for word in words:\n",
    "        vectors.append(model.wv[word])\n",
    "        labels.append(word)\n",
    "    vectors = np.asarray(vectors)\n",
    "    labels = np.asarray(labels)\n",
    "    tsne = TSNE(n_components=num_dimensions, random_state=0, perplexity=2.0)\n",
    "    vectors = tsne.fit_transform(vectors)\n",
    "    return vectors, labels"
   ]
  },
  {
   "cell_type": "code",
   "execution_count": 25,
   "metadata": {},
   "outputs": [],
   "source": [
    "def plot_word_vectors(x_vals, y_vals, labels, words=[]):\n",
    "    '''\n",
    "    Plot the reduced dimensions of the word vectors using matplotlib\n",
    "    '''\n",
    "    random.seed(0)\n",
    "    x_vals_new = np.array([])\n",
    "    y_vals_new = np.array([])\n",
    "    labels_new = np.array([])\n",
    "    if(words == []):\n",
    "        x_vals_new = x_vals\n",
    "        y_vals_new = y_vals\n",
    "        labels_new = labels\n",
    "    else:\n",
    "        for i in range(len(labels)):\n",
    "            if(labels[i] in words):\n",
    "                x_vals_new = np.append(x_vals_new,x_vals[i])\n",
    "                y_vals_new = np.append(y_vals_new,y_vals[i])\n",
    "                labels_new = np.append(labels_new,labels[i])\n",
    "    plt.figure(figsize=(12, 12))\n",
    "    plt.scatter(x_vals_new, y_vals_new)\n",
    "    for i in range(len(labels_new)):\n",
    "        plt.annotate(labels_new[i], (x_vals_new[i], y_vals_new[i]))\n",
    "    plt.show()"
   ]
  },
  {
   "cell_type": "code",
   "execution_count": 48,
   "metadata": {},
   "outputs": [
    {
     "data": {
      "image/png": "[encoded data removed]",
      "text/plain": [
       "<Figure size 1200x1200 with 1 Axes>"
      ]
     },
     "metadata": {},
     "output_type": "display_data"
    }
   ],
   "source": [
    "# visualize word vectors\n",
    "\n",
    "all_words = ' '.join(corpus).split()\n",
    "fd = nltk.FreqDist(all_words)\n",
    "words = [word[0] for word in fd.most_common(50)]\n",
    "\n",
    "vectors, labels = reduce_dimensions(model, 2, words)\n",
    "x_vals = [v[0] for v in vectors]\n",
    "y_vals = [v[1] for v in vectors]\n",
    "\n",
    "plot_word_vectors(x_vals, y_vals, labels, words)"
   ]
  }
 ],
 "metadata": {
  "kernelspec": {
   "display_name": "Python 3",
   "language": "python",
   "name": "python3"
  },
  "language_info": {
   "codemirror_mode": {
    "name": "ipython",
    "version": 3
   },
   "file_extension": ".py",
   "mimetype": "text/x-python",
   "name": "python",
   "nbconvert_exporter": "python",
   "pygments_lexer": "ipython3",
   "version": "3.10.10"
  }
 },
 "nbformat": 4,
 "nbformat_minor": 2
}
