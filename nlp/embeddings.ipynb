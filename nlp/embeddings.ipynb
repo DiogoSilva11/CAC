{
 "cells": [
  {
   "cell_type": "markdown",
   "metadata": {},
   "source": [
    "# Word Embeddings"
   ]
  },
  {
   "cell_type": "markdown",
   "metadata": {},
   "source": [
    "### Libraries"
   ]
  },
  {
   "cell_type": "code",
   "execution_count": 1,
   "metadata": {},
   "outputs": [],
   "source": [
    "# import libraries\n",
    "\n",
    "import random\n",
    "\n",
    "import pandas as pd\n",
    "import numpy as np\n",
    "import matplotlib.pyplot as plt\n",
    "\n",
    "from gensim.utils import simple_preprocess\n",
    "from gensim.models import Word2Vec\n",
    "from sklearn.manifold import TSNE"
   ]
  },
  {
   "cell_type": "markdown",
   "metadata": {},
   "source": [
    "### Datasets"
   ]
  },
  {
   "cell_type": "code",
   "execution_count": 2,
   "metadata": {},
   "outputs": [
    {
     "data": {
      "text/html": [
       "<div>\n",
       "<style scoped>\n",
       "    .dataframe tbody tr th:only-of-type {\n",
       "        vertical-align: middle;\n",
       "    }\n",
       "\n",
       "    .dataframe tbody tr th {\n",
       "        vertical-align: top;\n",
       "    }\n",
       "\n",
       "    .dataframe thead th {\n",
       "        text-align: right;\n",
       "    }\n",
       "</style>\n",
       "<table border=\"1\" class=\"dataframe\">\n",
       "  <thead>\n",
       "    <tr style=\"text-align: right;\">\n",
       "      <th></th>\n",
       "      <th>review_id</th>\n",
       "      <th>text</th>\n",
       "      <th>sentiment</th>\n",
       "    </tr>\n",
       "  </thead>\n",
       "  <tbody>\n",
       "    <tr>\n",
       "      <th>0</th>\n",
       "      <td>LLzom-2TITa4gasV7_fCCA</td>\n",
       "      <td>Great experience purchasing a washer and dryer...</td>\n",
       "      <td>1</td>\n",
       "    </tr>\n",
       "    <tr>\n",
       "      <th>1</th>\n",
       "      <td>a5JHzBrWxRd_OmIvV7znDA</td>\n",
       "      <td>Went here based on the high ratings and raves ...</td>\n",
       "      <td>-1</td>\n",
       "    </tr>\n",
       "    <tr>\n",
       "      <th>2</th>\n",
       "      <td>X-o--dwf0HuFMittYi4wCA</td>\n",
       "      <td>oh Millers, how i wanted to like you.  You are...</td>\n",
       "      <td>-1</td>\n",
       "    </tr>\n",
       "    <tr>\n",
       "      <th>3</th>\n",
       "      <td>INGNbsyo-MouZZzcxnCSGQ</td>\n",
       "      <td>This place gets two stars from me only because...</td>\n",
       "      <td>-1</td>\n",
       "    </tr>\n",
       "    <tr>\n",
       "      <th>4</th>\n",
       "      <td>k7VatXVLism-cTDJE8TTUw</td>\n",
       "      <td>This place was awesome. Clean, beautiful and t...</td>\n",
       "      <td>1</td>\n",
       "    </tr>\n",
       "    <tr>\n",
       "      <th>...</th>\n",
       "      <td>...</td>\n",
       "      <td>...</td>\n",
       "      <td>...</td>\n",
       "    </tr>\n",
       "    <tr>\n",
       "      <th>11681</th>\n",
       "      <td>IlU-MQzMKc7jAHWwK5VFGQ</td>\n",
       "      <td>To be fair, I tried them in their first week. ...</td>\n",
       "      <td>0</td>\n",
       "    </tr>\n",
       "    <tr>\n",
       "      <th>11682</th>\n",
       "      <td>Qt3BsRvQuJccDQfFWM1XPw</td>\n",
       "      <td>Awful place. It's dirty. Had two birthday part...</td>\n",
       "      <td>-1</td>\n",
       "    </tr>\n",
       "    <tr>\n",
       "      <th>11683</th>\n",
       "      <td>3CQQ8Im_UX6QqDECuXYK8A</td>\n",
       "      <td>A truly vegetarian delight!  I took a Jewish f...</td>\n",
       "      <td>1</td>\n",
       "    </tr>\n",
       "    <tr>\n",
       "      <th>11684</th>\n",
       "      <td>ery1nBM7zKweFLBe-bT5ag</td>\n",
       "      <td>I have a 2011 Toyota Sienna Limited. During th...</td>\n",
       "      <td>-1</td>\n",
       "    </tr>\n",
       "    <tr>\n",
       "      <th>11685</th>\n",
       "      <td>N5_SaVzmwkZUslgWDGGsQQ</td>\n",
       "      <td>I'm a single father raising my 17 year old son...</td>\n",
       "      <td>-1</td>\n",
       "    </tr>\n",
       "  </tbody>\n",
       "</table>\n",
       "<p>11686 rows × 3 columns</p>\n",
       "</div>"
      ],
      "text/plain": [
       "                    review_id  \\\n",
       "0      LLzom-2TITa4gasV7_fCCA   \n",
       "1      a5JHzBrWxRd_OmIvV7znDA   \n",
       "2      X-o--dwf0HuFMittYi4wCA   \n",
       "3      INGNbsyo-MouZZzcxnCSGQ   \n",
       "4      k7VatXVLism-cTDJE8TTUw   \n",
       "...                       ...   \n",
       "11681  IlU-MQzMKc7jAHWwK5VFGQ   \n",
       "11682  Qt3BsRvQuJccDQfFWM1XPw   \n",
       "11683  3CQQ8Im_UX6QqDECuXYK8A   \n",
       "11684  ery1nBM7zKweFLBe-bT5ag   \n",
       "11685  N5_SaVzmwkZUslgWDGGsQQ   \n",
       "\n",
       "                                                    text  sentiment  \n",
       "0      Great experience purchasing a washer and dryer...          1  \n",
       "1      Went here based on the high ratings and raves ...         -1  \n",
       "2      oh Millers, how i wanted to like you.  You are...         -1  \n",
       "3      This place gets two stars from me only because...         -1  \n",
       "4      This place was awesome. Clean, beautiful and t...          1  \n",
       "...                                                  ...        ...  \n",
       "11681  To be fair, I tried them in their first week. ...          0  \n",
       "11682  Awful place. It's dirty. Had two birthday part...         -1  \n",
       "11683  A truly vegetarian delight!  I took a Jewish f...          1  \n",
       "11684  I have a 2011 Toyota Sienna Limited. During th...         -1  \n",
       "11685  I'm a single father raising my 17 year old son...         -1  \n",
       "\n",
       "[11686 rows x 3 columns]"
      ]
     },
     "execution_count": 2,
     "metadata": {},
     "output_type": "execute_result"
    }
   ],
   "source": [
    "# load review sentiment data\n",
    "\n",
    "review_df = pd.read_csv('data/review_sentiment.csv')\n",
    "\n",
    "review_df"
   ]
  },
  {
   "cell_type": "markdown",
   "metadata": {},
   "source": [
    "### Preprocessing"
   ]
  },
  {
   "cell_type": "code",
   "execution_count": 3,
   "metadata": {},
   "outputs": [],
   "source": [
    "# preprocess the reviews using gensim\n",
    "\n",
    "corpus = []\n",
    "for review in review_df['text']:\n",
    "    corpus.append(simple_preprocess(review))"
   ]
  },
  {
   "cell_type": "code",
   "execution_count": 4,
   "metadata": {},
   "outputs": [
    {
     "name": "stdout",
     "output_type": "stream",
     "text": [
      "--------------------------------------------------\n",
      "['great', 'experience', 'purchasing', 'washer', 'and', 'dryer', 'just', 'bought', 'new', 'home', 'and', 'needed', 'all', 'new', 'appliances', 'iam', 'so', 'glad', 'decided', 'to', 'go', 'even', 'though', 'the', 'reviews', 'were', 'not', 'great', 'which', 'don', 'understand', 'since', 'had', 'no', 'issues', 'whatsoever', 'there', 'was', 'an', 'excellent', 'selection', 'knowledgeable', 'salespeople', 'and', 'timely', 'delivery', 'the', 'level', 'of', 'service', 'we', 'received', 'was', 'beyond', 'expected', 'really', 'felt', 'like', 'they', 'were', 'working', 'hard', 'to', 'give', 'me', 'the', 'best', 'price', 'and', 'offered', 'many', 'options', 'to', 'stay', 'in', 'my', 'budget', 'they', 'even', 'took', 'the', 'time', 'to', 'check', 'if', 'there', 'were', 'any', 'additional', 'sales', 'prices', 'or', 'discounts', 'they', 'could', 'offer', 'me', 'was', 'given', 'honest', 'feedback', 'and', 'all', 'of', 'my', 'questions', 'were', 'answered', 'am', 'very', 'happy', 'with', 'sears', 'and', 'would', 'highly', 'recommend']\n",
      "--------------------------------------------------\n",
      "['went', 'here', 'based', 'on', 'the', 'high', 'ratings', 'and', 'raves', 'from', 'people', 'the', 'entire', 'experience', 'was', 'underwhelming', 'from', 'start', 'to', 'finish', 'their', 'website', 'which', 'is', 'fairly', 'useless', 'if', 'you', 'want', 'to', 'figure', 'out', 'the', 'menu', 'before', 'going', 'you', 'have', 'to', 'pick', 'your', 'location', 'choice', 'out', 'of', 'locations', 'and', 'then', 'drill', 'down', 'to', 'the', 'bottom', 'to', 'see', 'the', 'weak', 'descriptions', 'of', 'their', 'menu', 'offering', 'no', 'explanations', 'and', 'no', 'price', 'just', 'this', 'roast', 'beef', 'roast', 'beef', 'combo', 'roast', 'pork', 'roast', 'pork', 'combo', 'baked', 'ham', 'baked', 'ham', 'combo', 'roast', 'turkey', 'roast', 'turkey', 'combo', 'broccoli', 'rabe', 'broccoli', 'rabe', 'combo', 'no', 'explanation', 'of', 'whats', 'in', 'combo', 'its', 'just', 'where', 'they', 'add', 'cheese', 'by', 'the', 'way', 'the', 'table', 'placecard', 'instead', 'of', 'menu', 'had', 'more', 'detailed', 'description', 'than', 'the', 'website', 'when', 'walked', 'in', 'its', 'more', 'bar', 'than', 'restaurant', 'no', 'big', 'deal', 'but', 'there', 'were', 'tables', 'since', 'couldnt', 'decide', 'and', 'the', 'sandwiches', 'werent', 'too', 'expensive', 'at', 'got', 'the', 'roast', 'beef', 'and', 'roast', 'port', 'combos', 'got', 'my', 'two', 'sandwiches', 'fast', 'enough', 'but', 'the', 'roast', 'beef', 'was', 'cold', 'and', 'the', 'roast', 'pork', 'was', 'hot', 'not', 'sure', 'how', 'cook', 'for', 'lack', 'of', 'better', 'word', 'could', 'serve', 'things', 'at', 'the', 'same', 'time', 'with', 'such', 'temperature', 'differential', 'one', 'was', 'obviously', 'sitting', 'for', 'awhile', 'asked', 'the', 'waitress', 'to', 'reheat', 'the', 'roast', 'beef', 'while', 'finished', 'the', 'roast', 'pork', 'and', 'supposedly', 'it', 'was', 'reheated', 'since', 'it', 'was', 'warmer', 'but', 'it', 'was', 'still', 'cold', 'ish', 'compared', 'to', 'my', 'roast', 'pork', 'had', 'just', 'finished', 'the', 'waitress', 'did', 'offer', 'to', 'replace', 'it', 'when', 'she', 'inquired', 'but', 'was', 'in', 'hurry', 'and', 'didnt', 'really', 'care', 'for', 'hot', 'version', 'of', 'this', 'sandwich', 'the', 'sandwiches', 'were', 'very', 'skimpy', 'on', 'meat', 'but', 'they', 'made', 'up', 'for', 'it', 'by', 'adding', 'too', 'much', 'gravy', 'to', 'make', 'it', 'overly', 'messy', 'and', 'the', 'bread', 'was', 'disintegrating', 'the', 'menu', 'place', 'card', 'mentions', 'the', 'wet', 'meat', 'option', 'where', 'you', 'get', 'less', 'gravy', 'strongly', 'recommend', 'you', 'get', 'it', 'that', 'style', 'especially', 'if', 'the', 'gravy', 'overpower', 'the', 'meat', 'and', 'structural', 'integrity', 'of', 'the', 'sandwich']\n",
      "--------------------------------------------------\n",
      "['oh', 'millers', 'how', 'wanted', 'to', 'like', 'you', 'you', 'are', 'close', 'to', 'my', 'house', 'have', 'ample', 'parking', 'and', 'large', 'spacious', 'tables', 'you', 'even', 'have', 'fireplace', 'in', 'the', 'back', 'for', 'little', 'ambiance', 'friends', 'and', 'tried', 'to', 'come', 'here', 'or', 'times', 'for', 'quick', 'inexpensive', 'bite', 'to', 'eat', 'and', 'every', 'time', 'there', 'was', 'minute', 'wait', 'we', 'thought', 'this', 'must', 'mean', 'they', 'are', 'really', 'good', 'perhaps', 'it', 'just', 'means', 'that', 'people', 'in', 'springfield', 'are', 'willing', 'to', 'settle', 'for', 'less', 'than', 'average', 'dining', 'experience', 'side', 'note', 'this', 'place', 'is', 'not', 'inexpensive', 'hubby', 'and', 'ordered', 'apps', 'he', 'got', 'zinger', 'boneless', 'wings', 'and', 'got', 'the', 'guacamole', 'portion', 'size', 'was', 'enormous', 'on', 'the', 'guac', 'it', 'could', 'have', 'served', 'people', 'seriously', 'flavor', 'was', 'meh', 'apparently', 'the', 'wingz', 'were', 'good', 'hard', 'to', 'tell', 'what', 'hubby', 'enjoyed', 'more', 'the', 'wingz', 'or', 'the', 'scantily', 'dressed', 'hostesses', 'our', 'server', 'was', 'great', 'attentive', 'and', 'pleasant', 'when', 'something', 'went', 'wrong', 'she', 'did', 'her', 'best', 'to', 'fix', 'it', 'that', 'was', 'much', 'appreciated', 'side', 'salad', 'came', 'out', 'wilted', 'and', 'gross', 'management', 'offered', 'to', 'take', 'it', 'off', 'the', 'check', 'would', 'have', 'rather', 'had', 'decent', 'salad', 'in', 'the', 'first', 'place', 'but', 'digress', 'dinner', 'was', 'not', 'very', 'flavorful', 'at', 'all', 'and', 'portion', 'sizes', 'were', 'okay', 'got', 'the', 'quesadilla', 'appetizer', 'which', 'was', 'plenty', 'for', 'an', 'entree', 'but', 'it', 'was', 'very', 'sloppily', 'put', 'together', 'and', 'had', 'no', 'seasoning', 'at', 'all', 'have', 'had', 'food', 'that', 'is', 'presented', 'better', 'and', 'tastes', 'better', 'at', 'fast', 'food', 'restaurants', 'where', 'am', 'happy', 'to', 'pay', 'for', 'meal', 'at', 'the', 'end', 'of', 'the', 'meal', 'badly', 'wanted', 'dessert', 'but', 'didnt', 'want', 'to', 'risk', 'another', 'poorly', 'flavored', 'dish', 'not', 'to', 'mention', 'all', 'the', 'dishes', 'were', 'like', 'lunch', 'tray', 'plastic', 'and', 'felt', 'that', 'dinner', 'for', 'two', 'was', 'at', 'least', 'worth', 'nicer', 'presentation', 'who', 'knows', 'it', 'may', 'have', 'even', 'made', 'up', 'for', 'the', 'bland', 'flavors', 'perhaps', 'was', 'let', 'down', 'by', 'the', 'fact', 'that', 'there', 'always', 'seemed', 'to', 'be', 'wait', 'and', 'had', 'over', 'hyped', 'it', 'in', 'my', 'head', 'never', 'have', 'wanted', 'to', 'send', 'back', 'everything', 'ordered', 'at', 'restaurant', 'before', 'this', 'night', 'will', 'never', 'be', 'back', 'my', 'husband', 'says', 'he', 'will', 'order', 'the', 'wings', 'but', 'takeout', 'only', 'no', 'more', 'dining', 'in', 'at', 'this', 'place']\n",
      "--------------------------------------------------\n",
      "['this', 'place', 'gets', 'two', 'stars', 'from', 'me', 'only', 'because', 'the', 'gravy', 'fries', 'were', 'good', 'their', 'sandwiches', 'are', 'awful', 'thick', 'slabs', 'of', 'badly', 'sliced', 'tough', 'dry', 'meat', 'gross', 'made', 'the', 'mistake', 'of', 'ordering', 'their', 'pork', 'sandwich', 'once', 'and', 'it', 'was', 'inedible', 'tried', 'to', 'bite', 'into', 'the', 'sandwich', 'and', 'couldn', 'even', 'bite', 'through', 'because', 'of', 'how', 'tough', 'and', 'rubbery', 'the', 'pork', 'was', 'don', 'understand', 'why', 'they', 'slice', 'the', 'meat', 'the', 'way', 'they', 'do', 'but', 'it', 'makes', 'for', 'disgusting', 'sandwich', 'the', 'people', 'raving', 'on', 'how', 'good', 'this', 'place', 'is', 'are', 'just', 'locals', 'who', 'have', 'never', 'had', 'anything', 'better', 'you', 're', 'better', 'off', 'going', 'to', 'wawa', 'for', 'sandwich', 'seriously', 'it', 'will', 'at', 'least', 'be', 'edible']\n",
      "--------------------------------------------------\n",
      "['this', 'place', 'was', 'awesome', 'clean', 'beautiful', 'and', 'the', 'food', 'was', 'outstanding', 'the', 'staff', 'was', 'lovely', 'very', 'attentive', 'and', 'accommodating', 'brought', 'my', 'month', 'old', 'there', 'to', 'meet', 'friend', 'for', 'lunch', 'and', 'we', 'had', 'great', 'time', 'and', 'great', 'meal', 'this', 'is', 'my', 'new', 'favorite', 'joint']\n"
     ]
    }
   ],
   "source": [
    "# see content of processed reviews\n",
    "\n",
    "for review in corpus[:5]:\n",
    "    print('-' * 50)\n",
    "    print(review)"
   ]
  },
  {
   "cell_type": "markdown",
   "metadata": {},
   "source": [
    "### Dense embeddings"
   ]
  },
  {
   "cell_type": "code",
   "execution_count": 5,
   "metadata": {},
   "outputs": [
    {
     "data": {
      "text/plain": [
       "11686"
      ]
     },
     "execution_count": 5,
     "metadata": {},
     "output_type": "execute_result"
    }
   ],
   "source": [
    "# documents representing reviews\n",
    "\n",
    "documents = corpus\n",
    "\n",
    "len(documents)"
   ]
  },
  {
   "cell_type": "code",
   "execution_count": 6,
   "metadata": {},
   "outputs": [
    {
     "name": "stdout",
     "output_type": "stream",
     "text": [
      "['great', 'experience', 'purchasing', 'washer', 'and', 'dryer', 'just', 'bought', 'new', 'home', 'and', 'needed', 'all', 'new', 'appliances', 'iam', 'so', 'glad', 'decided', 'to', 'go', 'even', 'though', 'the', 'reviews', 'were', 'not', 'great', 'which', 'don', 'understand', 'since', 'had', 'no', 'issues', 'whatsoever', 'there', 'was', 'an', 'excellent', 'selection', 'knowledgeable', 'salespeople', 'and', 'timely', 'delivery', 'the', 'level', 'of', 'service', 'we', 'received', 'was', 'beyond', 'expected', 'really', 'felt', 'like', 'they', 'were', 'working', 'hard', 'to', 'give', 'me', 'the', 'best', 'price', 'and', 'offered', 'many', 'options', 'to', 'stay', 'in', 'my', 'budget', 'they', 'even', 'took', 'the', 'time', 'to', 'check', 'if', 'there', 'were', 'any', 'additional', 'sales', 'prices', 'or', 'discounts', 'they', 'could', 'offer', 'me', 'was', 'given', 'honest', 'feedback', 'and', 'all', 'of', 'my', 'questions', 'were', 'answered', 'am', 'very', 'happy', 'with', 'sears', 'and', 'would', 'highly', 'recommend']\n"
     ]
    }
   ],
   "source": [
    "# see contents of documents\n",
    "\n",
    "print(documents[0])"
   ]
  },
  {
   "cell_type": "code",
   "execution_count": 7,
   "metadata": {},
   "outputs": [],
   "source": [
    "# model training\n",
    "\n",
    "model = Word2Vec(documents, vector_size=150, window=10, min_count=2, workers=10, sg=1)"
   ]
  },
  {
   "cell_type": "code",
   "execution_count": 8,
   "metadata": {},
   "outputs": [
    {
     "data": {
      "text/plain": [
       "array([ 0.10131405, -0.3440484 , -0.17505427,  0.1498761 ,  0.33658427,\n",
       "        0.12158436,  0.32962006,  0.15170354, -0.24652112, -0.10467761,\n",
       "        0.0116818 , -0.01734775, -0.19400352,  0.3375118 , -0.18139523,\n",
       "        0.07533252, -0.02657938,  0.21773545, -0.09342624, -0.01322208,\n",
       "        0.27382636, -0.22550341,  0.02467087,  0.31800988, -0.03325634,\n",
       "       -0.20002888, -0.10024348, -0.06684361, -0.22168499, -0.12553899,\n",
       "       -0.22675325,  0.08727471, -0.23992987, -0.13550073,  0.31364152,\n",
       "       -0.233034  ,  0.20153134, -0.1862808 ,  0.22039115, -0.08413377,\n",
       "       -0.07007195,  0.04928981, -0.46605316,  0.00564597,  0.1856795 ,\n",
       "        0.00491134, -0.01465032, -0.44629723,  0.19897585,  0.18440093,\n",
       "       -0.24855985,  0.30896607,  0.15544723,  0.47012126,  0.12389779,\n",
       "       -0.04855964,  0.31992656,  0.04633038, -0.08458106, -0.08666113,\n",
       "        0.08800687, -0.20746903,  0.08190507,  0.08141096, -0.0811028 ,\n",
       "       -0.04528871,  0.06279285, -0.18801503, -0.18962502, -0.09013458,\n",
       "        0.10969269,  0.1637544 ,  0.11402281, -0.13119632,  0.19060026,\n",
       "       -0.18104208,  0.11909295, -0.21019247, -0.09642922,  0.13274612,\n",
       "       -0.15418665, -0.29559246, -0.10457686,  0.12904036, -0.34142584,\n",
       "        0.16839385,  0.05302224, -0.0240675 ,  0.21507652, -0.06699625,\n",
       "        0.16073641, -0.21032874, -0.24073009,  0.08088841,  0.05228329,\n",
       "       -0.06861355,  0.3477885 , -0.25177747, -0.10694484, -0.01877437,\n",
       "       -0.29466298, -0.28670132,  0.1173199 , -0.26250562,  0.2232932 ,\n",
       "       -0.5318802 , -0.2131982 , -0.16870853, -0.27215698, -0.06484381,\n",
       "       -0.15749745,  0.07519851,  0.00883299, -0.26957366, -0.35192126,\n",
       "        0.08662675,  0.17795655,  0.26732507, -0.19430956,  0.03427891,\n",
       "        0.07230229,  0.19473168,  0.5205701 , -0.29408887,  0.3157868 ,\n",
       "        0.21853554, -0.24033171,  0.07804897,  0.18136652,  0.03967848,\n",
       "        0.15273166, -0.12126774, -0.03236975, -0.18793878, -0.09203407,\n",
       "       -0.25876582, -0.14642772, -0.00410993, -0.18781936, -0.25829047,\n",
       "       -0.09393906,  0.26301003,  0.23105276,  0.19357379,  0.36768264,\n",
       "        0.20535961, -0.2265024 ,  0.17287563,  0.20638433, -0.05041909],\n",
       "      dtype=float32)"
      ]
     },
     "execution_count": 8,
     "metadata": {},
     "output_type": "execute_result"
    }
   ],
   "source": [
    "# embeddings\n",
    "\n",
    "model.wv.get_vector(\"good\")"
   ]
  },
  {
   "cell_type": "code",
   "execution_count": 9,
   "metadata": {},
   "outputs": [
    {
     "data": {
      "text/plain": [
       "[('underwhelming', 0.7509198188781738),\n",
       " ('tasty', 0.7387489676475525),\n",
       " ('satisfying', 0.7371935248374939),\n",
       " ('great', 0.7354063987731934),\n",
       " ('decently', 0.7309800982475281),\n",
       " ('outrageously', 0.7210461497306824),\n",
       " ('spectacular', 0.7208641171455383),\n",
       " ('eggrolls', 0.7161394953727722),\n",
       " ('definite', 0.7158581614494324),\n",
       " ('decent', 0.7152563333511353)]"
      ]
     },
     "execution_count": 9,
     "metadata": {},
     "output_type": "execute_result"
    }
   ],
   "source": [
    "# similarity\n",
    "\n",
    "model.wv.most_similar(positive=\"good\")"
   ]
  },
  {
   "cell_type": "code",
   "execution_count": 10,
   "metadata": {},
   "outputs": [
    {
     "data": {
      "text/plain": [
       "[('wowed', 0.6330130100250244),\n",
       " ('terribly', 0.6199296116828918),\n",
       " ('performance', 0.6160600185394287),\n",
       " ('ruined', 0.6154327988624573),\n",
       " ('deducted', 0.6139522790908813),\n",
       " ('lousy', 0.6134530305862427),\n",
       " ('memorable', 0.6124547123908997),\n",
       " ('redeeming', 0.6109262704849243),\n",
       " ('unmemorable', 0.6079663634300232),\n",
       " ('sucked', 0.607323408126831)]"
      ]
     },
     "execution_count": 10,
     "metadata": {},
     "output_type": "execute_result"
    }
   ],
   "source": [
    "# similarity\n",
    "\n",
    "model.wv.most_similar(positive=\"bad\")"
   ]
  },
  {
   "cell_type": "code",
   "execution_count": 11,
   "metadata": {},
   "outputs": [],
   "source": [
    "# save full model (including trainable vectors to resume training)\n",
    "\n",
    "model.save(\"embeddings/reviews_model\")"
   ]
  },
  {
   "cell_type": "code",
   "execution_count": 12,
   "metadata": {},
   "outputs": [],
   "source": [
    "# save model word vectors\n",
    "\n",
    "model.wv.save(\"embeddings/reviews_wv\")"
   ]
  },
  {
   "cell_type": "markdown",
   "metadata": {},
   "source": [
    "### Vector visualization"
   ]
  },
  {
   "cell_type": "code",
   "execution_count": 13,
   "metadata": {},
   "outputs": [],
   "source": [
    "def reduce_dimensions(model, num_dimensions=2, words=[]):\n",
    "    '''\n",
    "    Reduce the dimensions of the word vectors using t-SNE for plotting\n",
    "    '''\n",
    "    vectors = []\n",
    "    labels = []\n",
    "    if (words == []):\n",
    "        words = model.wv.index_to_key\n",
    "    for word in words:\n",
    "        vectors.append(model.wv[word])\n",
    "        labels.append(word)\n",
    "    vectors = np.asarray(vectors)\n",
    "    labels = np.asarray(labels)\n",
    "    tsne = TSNE(n_components=num_dimensions, random_state=0, perplexity=4.0)\n",
    "    vectors = tsne.fit_transform(vectors)\n",
    "    return vectors, labels"
   ]
  },
  {
   "cell_type": "code",
   "execution_count": 14,
   "metadata": {},
   "outputs": [],
   "source": [
    "def plot_word_vectors(x_vals, y_vals, labels, words=[]):\n",
    "    '''\n",
    "    Plot the reduced dimensions of the word vectors using matplotlib\n",
    "    '''\n",
    "    random.seed(0)\n",
    "    x_vals_new = np.array([])\n",
    "    y_vals_new = np.array([])\n",
    "    labels_new = np.array([])\n",
    "    if(words == []):\n",
    "        x_vals_new = x_vals\n",
    "        y_vals_new = y_vals\n",
    "        labels_new = labels\n",
    "    else:\n",
    "        for i in range(len(labels)):\n",
    "            if(labels[i] in words):\n",
    "                x_vals_new = np.append(x_vals_new,x_vals[i])\n",
    "                y_vals_new = np.append(y_vals_new,y_vals[i])\n",
    "                labels_new = np.append(labels_new,labels[i])\n",
    "    plt.figure(figsize=(12, 12))\n",
    "    plt.scatter(x_vals_new, y_vals_new)\n",
    "    for i in range(len(labels_new)):\n",
    "        plt.annotate(labels_new[i], (x_vals_new[i], y_vals_new[i]))\n",
    "    plt.show()"
   ]
  },
  {
   "cell_type": "code",
   "execution_count": 15,
   "metadata": {},
   "outputs": [
    {
     "data": {
      "image/png": "[encoded data removed]",
      "text/plain": [
       "<Figure size 1200x1200 with 1 Axes>"
      ]
     },
     "metadata": {},
     "output_type": "display_data"
    }
   ],
   "source": [
    "# visualize word vectors\n",
    "\n",
    "all_words = [word for doc in documents for word in doc]\n",
    "words = random.sample(all_words, 50)\n",
    "interesting_words = ['good', 'bad', 'excellent', 'poor', 'awesome', 'terrible', 'nice', 'horrible', 'satisfactory', 'food', 'delicious', 'tasty', 'disappointing', 'service', 'ambiance', 'atmosphere', 'pricey', 'presentation', 'menu', 'variety', 'fresh', 'cooked', 'flavorful', 'tasteless', 'overcooked', 'undercooked', 'friendly', 'rude', 'clean', 'dirty', 'crowded', 'spacious', 'cozy', 'noisy', 'expensive', 'affordable', 'authentic', 'traditional', 'flavor', 'love']\n",
    "\n",
    "vectors, labels = reduce_dimensions(model, 3, interesting_words)\n",
    "x_vals = [v[0] for v in vectors]\n",
    "y_vals = [v[1] for v in vectors]\n",
    "\n",
    "plot_word_vectors(x_vals, y_vals, labels, interesting_words)\n"
   ]
  },
  {
   "cell_type": "code",
   "execution_count": null,
   "metadata": {},
   "outputs": [],
   "source": []
  }
 ],
 "metadata": {
  "kernelspec": {
   "display_name": "Python 3",
   "language": "python",
   "name": "python3"
  },
  "language_info": {
   "codemirror_mode": {
    "name": "ipython",
    "version": 3
   },
   "file_extension": ".py",
   "mimetype": "text/x-python",
   "name": "python",
   "nbconvert_exporter": "python",
   "pygments_lexer": "ipython3",
   "version": "3.10.12"
  }
 },
 "nbformat": 4,
 "nbformat_minor": 2
}
