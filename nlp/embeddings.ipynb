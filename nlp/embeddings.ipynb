{
 "cells": [
  {
   "cell_type": "markdown",
   "metadata": {},
   "source": [
    "# Word Embeddings"
   ]
  },
  {
   "cell_type": "markdown",
   "metadata": {},
   "source": [
    "### Libraries"
   ]
  },
  {
   "cell_type": "code",
   "execution_count": 1,
   "metadata": {},
   "outputs": [],
   "source": [
    "# import libraries\n",
    "\n",
    "import random\n",
    "\n",
    "import pandas as pd\n",
    "import numpy as np\n",
    "import matplotlib.pyplot as plt\n",
    "\n",
    "from gensim.utils import simple_preprocess\n",
    "from gensim.models import Word2Vec\n",
    "from sklearn.manifold import TSNE"
   ]
  },
  {
   "cell_type": "markdown",
   "metadata": {},
   "source": [
    "### Datasets"
   ]
  },
  {
   "cell_type": "code",
   "execution_count": 2,
   "metadata": {},
   "outputs": [
    {
     "data": {
      "text/html": [
       "<div>\n",
       "<style scoped>\n",
       "    .dataframe tbody tr th:only-of-type {\n",
       "        vertical-align: middle;\n",
       "    }\n",
       "\n",
       "    .dataframe tbody tr th {\n",
       "        vertical-align: top;\n",
       "    }\n",
       "\n",
       "    .dataframe thead th {\n",
       "        text-align: right;\n",
       "    }\n",
       "</style>\n",
       "<table border=\"1\" class=\"dataframe\">\n",
       "  <thead>\n",
       "    <tr style=\"text-align: right;\">\n",
       "      <th></th>\n",
       "      <th>review_id</th>\n",
       "      <th>text</th>\n",
       "      <th>sentiment</th>\n",
       "    </tr>\n",
       "  </thead>\n",
       "  <tbody>\n",
       "    <tr>\n",
       "      <th>0</th>\n",
       "      <td>LLzom-2TITa4gasV7_fCCA</td>\n",
       "      <td>Great experience purchasing a washer and dryer...</td>\n",
       "      <td>1</td>\n",
       "    </tr>\n",
       "    <tr>\n",
       "      <th>1</th>\n",
       "      <td>a5JHzBrWxRd_OmIvV7znDA</td>\n",
       "      <td>Went here based on the high ratings and raves ...</td>\n",
       "      <td>-1</td>\n",
       "    </tr>\n",
       "    <tr>\n",
       "      <th>2</th>\n",
       "      <td>X-o--dwf0HuFMittYi4wCA</td>\n",
       "      <td>oh Millers, how i wanted to like you.  You are...</td>\n",
       "      <td>-1</td>\n",
       "    </tr>\n",
       "    <tr>\n",
       "      <th>3</th>\n",
       "      <td>INGNbsyo-MouZZzcxnCSGQ</td>\n",
       "      <td>This place gets two stars from me only because...</td>\n",
       "      <td>-1</td>\n",
       "    </tr>\n",
       "    <tr>\n",
       "      <th>4</th>\n",
       "      <td>k7VatXVLism-cTDJE8TTUw</td>\n",
       "      <td>This place was awesome. Clean, beautiful and t...</td>\n",
       "      <td>1</td>\n",
       "    </tr>\n",
       "    <tr>\n",
       "      <th>...</th>\n",
       "      <td>...</td>\n",
       "      <td>...</td>\n",
       "      <td>...</td>\n",
       "    </tr>\n",
       "    <tr>\n",
       "      <th>11681</th>\n",
       "      <td>IlU-MQzMKc7jAHWwK5VFGQ</td>\n",
       "      <td>To be fair, I tried them in their first week. ...</td>\n",
       "      <td>0</td>\n",
       "    </tr>\n",
       "    <tr>\n",
       "      <th>11682</th>\n",
       "      <td>Qt3BsRvQuJccDQfFWM1XPw</td>\n",
       "      <td>Awful place. It's dirty. Had two birthday part...</td>\n",
       "      <td>-1</td>\n",
       "    </tr>\n",
       "    <tr>\n",
       "      <th>11683</th>\n",
       "      <td>3CQQ8Im_UX6QqDECuXYK8A</td>\n",
       "      <td>A truly vegetarian delight!  I took a Jewish f...</td>\n",
       "      <td>1</td>\n",
       "    </tr>\n",
       "    <tr>\n",
       "      <th>11684</th>\n",
       "      <td>ery1nBM7zKweFLBe-bT5ag</td>\n",
       "      <td>I have a 2011 Toyota Sienna Limited. During th...</td>\n",
       "      <td>-1</td>\n",
       "    </tr>\n",
       "    <tr>\n",
       "      <th>11685</th>\n",
       "      <td>N5_SaVzmwkZUslgWDGGsQQ</td>\n",
       "      <td>I'm a single father raising my 17 year old son...</td>\n",
       "      <td>-1</td>\n",
       "    </tr>\n",
       "  </tbody>\n",
       "</table>\n",
       "<p>11686 rows × 3 columns</p>\n",
       "</div>"
      ],
      "text/plain": [
       "                    review_id  \\\n",
       "0      LLzom-2TITa4gasV7_fCCA   \n",
       "1      a5JHzBrWxRd_OmIvV7znDA   \n",
       "2      X-o--dwf0HuFMittYi4wCA   \n",
       "3      INGNbsyo-MouZZzcxnCSGQ   \n",
       "4      k7VatXVLism-cTDJE8TTUw   \n",
       "...                       ...   \n",
       "11681  IlU-MQzMKc7jAHWwK5VFGQ   \n",
       "11682  Qt3BsRvQuJccDQfFWM1XPw   \n",
       "11683  3CQQ8Im_UX6QqDECuXYK8A   \n",
       "11684  ery1nBM7zKweFLBe-bT5ag   \n",
       "11685  N5_SaVzmwkZUslgWDGGsQQ   \n",
       "\n",
       "                                                    text  sentiment  \n",
       "0      Great experience purchasing a washer and dryer...          1  \n",
       "1      Went here based on the high ratings and raves ...         -1  \n",
       "2      oh Millers, how i wanted to like you.  You are...         -1  \n",
       "3      This place gets two stars from me only because...         -1  \n",
       "4      This place was awesome. Clean, beautiful and t...          1  \n",
       "...                                                  ...        ...  \n",
       "11681  To be fair, I tried them in their first week. ...          0  \n",
       "11682  Awful place. It's dirty. Had two birthday part...         -1  \n",
       "11683  A truly vegetarian delight!  I took a Jewish f...          1  \n",
       "11684  I have a 2011 Toyota Sienna Limited. During th...         -1  \n",
       "11685  I'm a single father raising my 17 year old son...         -1  \n",
       "\n",
       "[11686 rows x 3 columns]"
      ]
     },
     "execution_count": 2,
     "metadata": {},
     "output_type": "execute_result"
    }
   ],
   "source": [
    "# load review sentiment data\n",
    "\n",
    "review_df = pd.read_csv('data/review_sentiment.csv')\n",
    "\n",
    "review_df"
   ]
  },
  {
   "cell_type": "markdown",
   "metadata": {},
   "source": [
    "### Preprocessing"
   ]
  },
  {
   "cell_type": "code",
   "execution_count": 3,
   "metadata": {},
   "outputs": [],
   "source": [
    "# preprocess the reviews using gensim\n",
    "\n",
    "corpus = []\n",
    "for review in review_df['text']:\n",
    "    corpus.append(simple_preprocess(review))"
   ]
  },
  {
   "cell_type": "code",
   "execution_count": 4,
   "metadata": {},
   "outputs": [
    {
     "name": "stdout",
     "output_type": "stream",
     "text": [
      "--------------------------------------------------\n",
      "['great', 'experience', 'purchasing', 'washer', 'and', 'dryer', 'just', 'bought', 'new', 'home', 'and', 'needed', 'all', 'new', 'appliances', 'iam', 'so', 'glad', 'decided', 'to', 'go', 'even', 'though', 'the', 'reviews', 'were', 'not', 'great', 'which', 'don', 'understand', 'since', 'had', 'no', 'issues', 'whatsoever', 'there', 'was', 'an', 'excellent', 'selection', 'knowledgeable', 'salespeople', 'and', 'timely', 'delivery', 'the', 'level', 'of', 'service', 'we', 'received', 'was', 'beyond', 'expected', 'really', 'felt', 'like', 'they', 'were', 'working', 'hard', 'to', 'give', 'me', 'the', 'best', 'price', 'and', 'offered', 'many', 'options', 'to', 'stay', 'in', 'my', 'budget', 'they', 'even', 'took', 'the', 'time', 'to', 'check', 'if', 'there', 'were', 'any', 'additional', 'sales', 'prices', 'or', 'discounts', 'they', 'could', 'offer', 'me', 'was', 'given', 'honest', 'feedback', 'and', 'all', 'of', 'my', 'questions', 'were', 'answered', 'am', 'very', 'happy', 'with', 'sears', 'and', 'would', 'highly', 'recommend']\n",
      "--------------------------------------------------\n",
      "['went', 'here', 'based', 'on', 'the', 'high', 'ratings', 'and', 'raves', 'from', 'people', 'the', 'entire', 'experience', 'was', 'underwhelming', 'from', 'start', 'to', 'finish', 'their', 'website', 'which', 'is', 'fairly', 'useless', 'if', 'you', 'want', 'to', 'figure', 'out', 'the', 'menu', 'before', 'going', 'you', 'have', 'to', 'pick', 'your', 'location', 'choice', 'out', 'of', 'locations', 'and', 'then', 'drill', 'down', 'to', 'the', 'bottom', 'to', 'see', 'the', 'weak', 'descriptions', 'of', 'their', 'menu', 'offering', 'no', 'explanations', 'and', 'no', 'price', 'just', 'this', 'roast', 'beef', 'roast', 'beef', 'combo', 'roast', 'pork', 'roast', 'pork', 'combo', 'baked', 'ham', 'baked', 'ham', 'combo', 'roast', 'turkey', 'roast', 'turkey', 'combo', 'broccoli', 'rabe', 'broccoli', 'rabe', 'combo', 'no', 'explanation', 'of', 'whats', 'in', 'combo', 'its', 'just', 'where', 'they', 'add', 'cheese', 'by', 'the', 'way', 'the', 'table', 'placecard', 'instead', 'of', 'menu', 'had', 'more', 'detailed', 'description', 'than', 'the', 'website', 'when', 'walked', 'in', 'its', 'more', 'bar', 'than', 'restaurant', 'no', 'big', 'deal', 'but', 'there', 'were', 'tables', 'since', 'couldnt', 'decide', 'and', 'the', 'sandwiches', 'werent', 'too', 'expensive', 'at', 'got', 'the', 'roast', 'beef', 'and', 'roast', 'port', 'combos', 'got', 'my', 'two', 'sandwiches', 'fast', 'enough', 'but', 'the', 'roast', 'beef', 'was', 'cold', 'and', 'the', 'roast', 'pork', 'was', 'hot', 'not', 'sure', 'how', 'cook', 'for', 'lack', 'of', 'better', 'word', 'could', 'serve', 'things', 'at', 'the', 'same', 'time', 'with', 'such', 'temperature', 'differential', 'one', 'was', 'obviously', 'sitting', 'for', 'awhile', 'asked', 'the', 'waitress', 'to', 'reheat', 'the', 'roast', 'beef', 'while', 'finished', 'the', 'roast', 'pork', 'and', 'supposedly', 'it', 'was', 'reheated', 'since', 'it', 'was', 'warmer', 'but', 'it', 'was', 'still', 'cold', 'ish', 'compared', 'to', 'my', 'roast', 'pork', 'had', 'just', 'finished', 'the', 'waitress', 'did', 'offer', 'to', 'replace', 'it', 'when', 'she', 'inquired', 'but', 'was', 'in', 'hurry', 'and', 'didnt', 'really', 'care', 'for', 'hot', 'version', 'of', 'this', 'sandwich', 'the', 'sandwiches', 'were', 'very', 'skimpy', 'on', 'meat', 'but', 'they', 'made', 'up', 'for', 'it', 'by', 'adding', 'too', 'much', 'gravy', 'to', 'make', 'it', 'overly', 'messy', 'and', 'the', 'bread', 'was', 'disintegrating', 'the', 'menu', 'place', 'card', 'mentions', 'the', 'wet', 'meat', 'option', 'where', 'you', 'get', 'less', 'gravy', 'strongly', 'recommend', 'you', 'get', 'it', 'that', 'style', 'especially', 'if', 'the', 'gravy', 'overpower', 'the', 'meat', 'and', 'structural', 'integrity', 'of', 'the', 'sandwich']\n",
      "--------------------------------------------------\n",
      "['oh', 'millers', 'how', 'wanted', 'to', 'like', 'you', 'you', 'are', 'close', 'to', 'my', 'house', 'have', 'ample', 'parking', 'and', 'large', 'spacious', 'tables', 'you', 'even', 'have', 'fireplace', 'in', 'the', 'back', 'for', 'little', 'ambiance', 'friends', 'and', 'tried', 'to', 'come', 'here', 'or', 'times', 'for', 'quick', 'inexpensive', 'bite', 'to', 'eat', 'and', 'every', 'time', 'there', 'was', 'minute', 'wait', 'we', 'thought', 'this', 'must', 'mean', 'they', 'are', 'really', 'good', 'perhaps', 'it', 'just', 'means', 'that', 'people', 'in', 'springfield', 'are', 'willing', 'to', 'settle', 'for', 'less', 'than', 'average', 'dining', 'experience', 'side', 'note', 'this', 'place', 'is', 'not', 'inexpensive', 'hubby', 'and', 'ordered', 'apps', 'he', 'got', 'zinger', 'boneless', 'wings', 'and', 'got', 'the', 'guacamole', 'portion', 'size', 'was', 'enormous', 'on', 'the', 'guac', 'it', 'could', 'have', 'served', 'people', 'seriously', 'flavor', 'was', 'meh', 'apparently', 'the', 'wingz', 'were', 'good', 'hard', 'to', 'tell', 'what', 'hubby', 'enjoyed', 'more', 'the', 'wingz', 'or', 'the', 'scantily', 'dressed', 'hostesses', 'our', 'server', 'was', 'great', 'attentive', 'and', 'pleasant', 'when', 'something', 'went', 'wrong', 'she', 'did', 'her', 'best', 'to', 'fix', 'it', 'that', 'was', 'much', 'appreciated', 'side', 'salad', 'came', 'out', 'wilted', 'and', 'gross', 'management', 'offered', 'to', 'take', 'it', 'off', 'the', 'check', 'would', 'have', 'rather', 'had', 'decent', 'salad', 'in', 'the', 'first', 'place', 'but', 'digress', 'dinner', 'was', 'not', 'very', 'flavorful', 'at', 'all', 'and', 'portion', 'sizes', 'were', 'okay', 'got', 'the', 'quesadilla', 'appetizer', 'which', 'was', 'plenty', 'for', 'an', 'entree', 'but', 'it', 'was', 'very', 'sloppily', 'put', 'together', 'and', 'had', 'no', 'seasoning', 'at', 'all', 'have', 'had', 'food', 'that', 'is', 'presented', 'better', 'and', 'tastes', 'better', 'at', 'fast', 'food', 'restaurants', 'where', 'am', 'happy', 'to', 'pay', 'for', 'meal', 'at', 'the', 'end', 'of', 'the', 'meal', 'badly', 'wanted', 'dessert', 'but', 'didnt', 'want', 'to', 'risk', 'another', 'poorly', 'flavored', 'dish', 'not', 'to', 'mention', 'all', 'the', 'dishes', 'were', 'like', 'lunch', 'tray', 'plastic', 'and', 'felt', 'that', 'dinner', 'for', 'two', 'was', 'at', 'least', 'worth', 'nicer', 'presentation', 'who', 'knows', 'it', 'may', 'have', 'even', 'made', 'up', 'for', 'the', 'bland', 'flavors', 'perhaps', 'was', 'let', 'down', 'by', 'the', 'fact', 'that', 'there', 'always', 'seemed', 'to', 'be', 'wait', 'and', 'had', 'over', 'hyped', 'it', 'in', 'my', 'head', 'never', 'have', 'wanted', 'to', 'send', 'back', 'everything', 'ordered', 'at', 'restaurant', 'before', 'this', 'night', 'will', 'never', 'be', 'back', 'my', 'husband', 'says', 'he', 'will', 'order', 'the', 'wings', 'but', 'takeout', 'only', 'no', 'more', 'dining', 'in', 'at', 'this', 'place']\n",
      "--------------------------------------------------\n",
      "['this', 'place', 'gets', 'two', 'stars', 'from', 'me', 'only', 'because', 'the', 'gravy', 'fries', 'were', 'good', 'their', 'sandwiches', 'are', 'awful', 'thick', 'slabs', 'of', 'badly', 'sliced', 'tough', 'dry', 'meat', 'gross', 'made', 'the', 'mistake', 'of', 'ordering', 'their', 'pork', 'sandwich', 'once', 'and', 'it', 'was', 'inedible', 'tried', 'to', 'bite', 'into', 'the', 'sandwich', 'and', 'couldn', 'even', 'bite', 'through', 'because', 'of', 'how', 'tough', 'and', 'rubbery', 'the', 'pork', 'was', 'don', 'understand', 'why', 'they', 'slice', 'the', 'meat', 'the', 'way', 'they', 'do', 'but', 'it', 'makes', 'for', 'disgusting', 'sandwich', 'the', 'people', 'raving', 'on', 'how', 'good', 'this', 'place', 'is', 'are', 'just', 'locals', 'who', 'have', 'never', 'had', 'anything', 'better', 'you', 're', 'better', 'off', 'going', 'to', 'wawa', 'for', 'sandwich', 'seriously', 'it', 'will', 'at', 'least', 'be', 'edible']\n",
      "--------------------------------------------------\n",
      "['this', 'place', 'was', 'awesome', 'clean', 'beautiful', 'and', 'the', 'food', 'was', 'outstanding', 'the', 'staff', 'was', 'lovely', 'very', 'attentive', 'and', 'accommodating', 'brought', 'my', 'month', 'old', 'there', 'to', 'meet', 'friend', 'for', 'lunch', 'and', 'we', 'had', 'great', 'time', 'and', 'great', 'meal', 'this', 'is', 'my', 'new', 'favorite', 'joint']\n"
     ]
    }
   ],
   "source": [
    "# see content of processed reviews\n",
    "\n",
    "for review in corpus[:5]:\n",
    "    print('-' * 50)\n",
    "    print(review)"
   ]
  },
  {
   "cell_type": "markdown",
   "metadata": {},
   "source": [
    "### Dense embeddings"
   ]
  },
  {
   "cell_type": "code",
   "execution_count": 5,
   "metadata": {},
   "outputs": [
    {
     "data": {
      "text/plain": [
       "11686"
      ]
     },
     "execution_count": 5,
     "metadata": {},
     "output_type": "execute_result"
    }
   ],
   "source": [
    "# documents representing reviews\n",
    "\n",
    "documents = corpus\n",
    "\n",
    "len(documents)"
   ]
  },
  {
   "cell_type": "code",
   "execution_count": 6,
   "metadata": {},
   "outputs": [
    {
     "name": "stdout",
     "output_type": "stream",
     "text": [
      "['great', 'experience', 'purchasing', 'washer', 'and', 'dryer', 'just', 'bought', 'new', 'home', 'and', 'needed', 'all', 'new', 'appliances', 'iam', 'so', 'glad', 'decided', 'to', 'go', 'even', 'though', 'the', 'reviews', 'were', 'not', 'great', 'which', 'don', 'understand', 'since', 'had', 'no', 'issues', 'whatsoever', 'there', 'was', 'an', 'excellent', 'selection', 'knowledgeable', 'salespeople', 'and', 'timely', 'delivery', 'the', 'level', 'of', 'service', 'we', 'received', 'was', 'beyond', 'expected', 'really', 'felt', 'like', 'they', 'were', 'working', 'hard', 'to', 'give', 'me', 'the', 'best', 'price', 'and', 'offered', 'many', 'options', 'to', 'stay', 'in', 'my', 'budget', 'they', 'even', 'took', 'the', 'time', 'to', 'check', 'if', 'there', 'were', 'any', 'additional', 'sales', 'prices', 'or', 'discounts', 'they', 'could', 'offer', 'me', 'was', 'given', 'honest', 'feedback', 'and', 'all', 'of', 'my', 'questions', 'were', 'answered', 'am', 'very', 'happy', 'with', 'sears', 'and', 'would', 'highly', 'recommend']\n"
     ]
    }
   ],
   "source": [
    "# see contents of documents\n",
    "\n",
    "print(documents[0])"
   ]
  },
  {
   "cell_type": "code",
   "execution_count": 7,
   "metadata": {},
   "outputs": [],
   "source": [
    "# model training\n",
    "\n",
    "model = Word2Vec(documents, vector_size=150, window=10, min_count=2, workers=10, sg=1)"
   ]
  },
  {
   "cell_type": "code",
   "execution_count": 8,
   "metadata": {},
   "outputs": [
    {
     "data": {
      "text/plain": [
       "array([ 1.83445200e-01, -1.19781248e-01, -2.32567638e-02,  4.32053268e-01,\n",
       "        3.53476286e-01, -1.08121410e-01,  1.19024545e-01,  3.24915685e-02,\n",
       "       -5.92375472e-02, -2.27833763e-02, -9.30590630e-02, -5.28617315e-02,\n",
       "       -2.19531223e-01,  1.04363829e-01, -4.41497266e-02,  4.48162518e-02,\n",
       "        9.83486995e-02,  2.97650158e-01, -1.02611654e-01, -8.62826258e-02,\n",
       "       -5.44348247e-02, -3.46186906e-01, -6.21112324e-02,  1.50979862e-01,\n",
       "        2.47010246e-01, -2.63598770e-01, -1.60323307e-02,  2.16465786e-01,\n",
       "       -2.40544751e-01, -2.29085431e-01, -1.64325580e-01, -1.87469751e-01,\n",
       "       -8.61612409e-02, -1.25661073e-02, -1.45920575e-01,  5.90438838e-04,\n",
       "        3.25940363e-02, -8.52670968e-02,  2.75339276e-01, -3.86965200e-02,\n",
       "       -1.05531484e-01,  2.21921444e-01, -9.18180496e-02, -3.87208983e-02,\n",
       "        3.04440916e-01,  2.83160340e-02, -1.88451931e-02, -1.18018650e-02,\n",
       "        1.11162074e-01,  3.35188985e-01, -3.37331176e-01,  3.79422575e-01,\n",
       "        2.79081285e-01,  1.87908992e-01,  1.50809824e-01, -1.31111234e-01,\n",
       "        1.49039045e-01,  8.85713026e-02,  1.03719130e-01, -1.09162793e-01,\n",
       "        3.31424810e-02, -2.83484638e-01, -2.54003378e-03,  7.35977069e-02,\n",
       "        1.05811819e-01, -2.96394497e-01,  9.50146914e-02, -1.06312618e-01,\n",
       "       -5.59604466e-01, -6.85133636e-02,  1.18760049e-01,  2.02988416e-01,\n",
       "       -1.79493457e-01, -3.65034610e-01, -2.45308056e-02, -2.57852256e-01,\n",
       "       -1.32860884e-01, -2.34245226e-01, -2.19259545e-01,  7.54725263e-02,\n",
       "        1.05014294e-01, -2.54389763e-01, -1.63842440e-01,  1.35639071e-01,\n",
       "       -3.95373434e-01,  1.97582737e-01,  1.57824889e-01, -1.57410979e-01,\n",
       "        3.24519336e-01,  6.91907033e-02,  1.76602870e-01, -5.09154260e-01,\n",
       "       -1.93659276e-01, -2.05726221e-01,  1.93001643e-01,  1.52007297e-01,\n",
       "        7.14629292e-02, -1.15446515e-01,  1.65954351e-01,  1.54737234e-01,\n",
       "       -9.08156559e-02, -1.38986245e-01,  1.92783773e-01,  2.05062136e-01,\n",
       "        2.56952755e-02, -3.88639122e-01, -9.44117531e-02, -4.35600057e-02,\n",
       "       -2.43994758e-01, -2.34253824e-01, -1.08534530e-01,  6.65582418e-02,\n",
       "       -9.46991816e-02, -3.97503257e-01, -2.28363916e-01,  3.28929722e-01,\n",
       "        1.65314063e-01,  9.10152942e-02, -2.14768108e-03, -2.44466782e-01,\n",
       "        2.91294545e-01,  1.85367465e-01,  3.92627597e-01, -7.59601146e-02,\n",
       "        3.06582719e-01,  3.99908096e-01, -1.63889006e-01,  1.73168480e-01,\n",
       "       -1.88587804e-03,  1.33324042e-01,  2.41407931e-01, -1.92950800e-01,\n",
       "       -2.65373707e-01, -1.43197581e-01,  3.17395478e-02, -2.04247117e-01,\n",
       "       -2.51868159e-01, -1.99003465e-04, -1.63535133e-01, -5.14562666e-01,\n",
       "       -2.74865031e-01,  4.39309746e-01,  4.40208390e-02,  1.69597551e-01,\n",
       "        1.75378606e-01,  8.67945179e-02, -1.45692363e-01, -8.05244595e-02,\n",
       "        1.60031781e-01, -3.14648539e-01], dtype=float32)"
      ]
     },
     "execution_count": 8,
     "metadata": {},
     "output_type": "execute_result"
    }
   ],
   "source": [
    "# embeddings\n",
    "\n",
    "model.wv.get_vector(\"good\")"
   ]
  },
  {
   "cell_type": "code",
   "execution_count": 9,
   "metadata": {},
   "outputs": [
    {
     "data": {
      "text/plain": [
       "[('underwhelming', 0.7438048720359802),\n",
       " ('outrageously', 0.7228362560272217),\n",
       " ('great', 0.7165464758872986),\n",
       " ('decent', 0.7155913710594177),\n",
       " ('skimped', 0.7152799367904663),\n",
       " ('potstickers', 0.7129173874855042),\n",
       " ('paninis', 0.7065517902374268),\n",
       " ('decently', 0.7056686878204346),\n",
       " ('solid', 0.7052648663520813),\n",
       " ('satisfying', 0.7048661708831787)]"
      ]
     },
     "execution_count": 9,
     "metadata": {},
     "output_type": "execute_result"
    }
   ],
   "source": [
    "# similarity\n",
    "\n",
    "model.wv.most_similar(positive=\"good\")"
   ]
  },
  {
   "cell_type": "code",
   "execution_count": 10,
   "metadata": {},
   "outputs": [
    {
     "data": {
      "text/plain": [
       "[('horrible', 0.6435999274253845),\n",
       " ('wowed', 0.636924147605896),\n",
       " ('compelled', 0.6359608173370361),\n",
       " ('lousy', 0.6289284229278564),\n",
       " ('terribly', 0.6281933784484863),\n",
       " ('deducted', 0.625701367855072),\n",
       " ('bizarre', 0.6233023405075073),\n",
       " ('shitty', 0.6171818375587463),\n",
       " ('ruined', 0.6161934733390808),\n",
       " ('redeeming', 0.6161266565322876)]"
      ]
     },
     "execution_count": 10,
     "metadata": {},
     "output_type": "execute_result"
    }
   ],
   "source": [
    "# similarity\n",
    "\n",
    "model.wv.most_similar(positive=\"bad\")"
   ]
  },
  {
   "cell_type": "code",
   "execution_count": 11,
   "metadata": {},
   "outputs": [],
   "source": [
    "# save full model (including trainable vectors to resume training)\n",
    "\n",
    "model.save(\"embeddings/reviews_model\")"
   ]
  },
  {
   "cell_type": "code",
   "execution_count": 12,
   "metadata": {},
   "outputs": [],
   "source": [
    "# save model word vectors\n",
    "\n",
    "model.wv.save(\"embeddings/reviews_wv\")"
   ]
  },
  {
   "cell_type": "markdown",
   "metadata": {},
   "source": [
    "### Vector visualization"
   ]
  },
  {
   "cell_type": "code",
   "execution_count": 13,
   "metadata": {},
   "outputs": [],
   "source": [
    "def reduce_dimensions(model, num_dimensions=2, words=[]):\n",
    "    '''\n",
    "    Reduce the dimensions of the word vectors using t-SNE for plotting\n",
    "    '''\n",
    "    vectors = []\n",
    "    labels = []\n",
    "    if (words == []):\n",
    "        words = model.wv.index_to_key\n",
    "    for word in words:\n",
    "        vectors.append(model.wv[word])\n",
    "        labels.append(word)\n",
    "    vectors = np.asarray(vectors)\n",
    "    labels = np.asarray(labels)\n",
    "    tsne = TSNE(n_components=num_dimensions, random_state=0, perplexity=4.0)\n",
    "    vectors = tsne.fit_transform(vectors)\n",
    "    return vectors, labels"
   ]
  },
  {
   "cell_type": "code",
   "execution_count": 14,
   "metadata": {},
   "outputs": [],
   "source": [
    "def plot_word_vectors(x_vals, y_vals, labels, words=[]):\n",
    "    '''\n",
    "    Plot the reduced dimensions of the word vectors using matplotlib\n",
    "    '''\n",
    "    random.seed(0)\n",
    "    x_vals_new = np.array([])\n",
    "    y_vals_new = np.array([])\n",
    "    labels_new = np.array([])\n",
    "    if(words == []):\n",
    "        x_vals_new = x_vals\n",
    "        y_vals_new = y_vals\n",
    "        labels_new = labels\n",
    "    else:\n",
    "        for i in range(len(labels)):\n",
    "            if(labels[i] in words):\n",
    "                x_vals_new = np.append(x_vals_new,x_vals[i])\n",
    "                y_vals_new = np.append(y_vals_new,y_vals[i])\n",
    "                labels_new = np.append(labels_new,labels[i])\n",
    "    plt.figure(figsize=(12, 12))\n",
    "    plt.scatter(x_vals_new, y_vals_new)\n",
    "    for i in range(len(labels_new)):\n",
    "        plt.annotate(labels_new[i], (x_vals_new[i], y_vals_new[i]))\n",
    "    plt.show()"
   ]
  },
  {
   "cell_type": "code",
   "execution_count": 15,
   "metadata": {},
   "outputs": [
    {
     "name": "stderr",
     "output_type": "stream",
     "text": [
      "c:\\Users\\Utilizador\\AppData\\Local\\Programs\\Python\\Python310\\lib\\site-packages\\joblib\\externals\\loky\\backend\\context.py:136: UserWarning: Could not find the number of physical cores for the following reason:\n",
      "found 0 physical cores < 1\n",
      "Returning the number of logical cores instead. You can silence this warning by setting LOKY_MAX_CPU_COUNT to the number of cores you want to use.\n",
      "  warnings.warn(\n",
      "  File \"c:\\Users\\Utilizador\\AppData\\Local\\Programs\\Python\\Python310\\lib\\site-packages\\joblib\\externals\\loky\\backend\\context.py\", line 282, in _count_physical_cores\n",
      "    raise ValueError(f\"found {cpu_count_physical} physical cores < 1\")\n"
     ]
    },
    {
     "data": {
      "image/png": "[encoded data removed]",
      "text/plain": [
       "<Figure size 1200x1200 with 1 Axes>"
      ]
     },
     "metadata": {},
     "output_type": "display_data"
    }
   ],
   "source": [
    "# visualize word vectors\n",
    "\n",
    "all_words = [word for doc in documents for word in doc]\n",
    "words = random.sample(all_words, 50)\n",
    "interesting_words = ['good', 'bad', 'excellent', 'poor', 'awesome', 'terrible', 'nice', 'horrible', 'satisfactory', 'food', 'delicious', 'tasty', 'disappointing', 'service', 'ambiance', 'atmosphere', 'pricey', 'presentation', 'menu', 'variety', 'fresh', 'cooked', 'flavorful', 'tasteless', 'overcooked', 'undercooked', 'friendly', 'rude', 'clean', 'dirty', 'crowded', 'spacious', 'cozy', 'noisy', 'expensive', 'affordable', 'authentic', 'traditional', 'flavor', 'love']\n",
    "\n",
    "vectors, labels = reduce_dimensions(model, 3, interesting_words)\n",
    "x_vals = [v[0] for v in vectors]\n",
    "y_vals = [v[1] for v in vectors]\n",
    "\n",
    "plot_word_vectors(x_vals, y_vals, labels, interesting_words)\n"
   ]
  }
 ],
 "metadata": {
  "kernelspec": {
   "display_name": "Python 3",
   "language": "python",
   "name": "python3"
  },
  "language_info": {
   "codemirror_mode": {
    "name": "ipython",
    "version": 3
   },
   "file_extension": ".py",
   "mimetype": "text/x-python",
   "name": "python",
   "nbconvert_exporter": "python",
   "pygments_lexer": "ipython3",
   "version": "3.11.2"
  }
 },
 "nbformat": 4,
 "nbformat_minor": 2
}
