{
 "cells": [
  {
   "cell_type": "markdown",
   "metadata": {},
   "source": [
    "# Word Embeddings"
   ]
  },
  {
   "cell_type": "markdown",
   "metadata": {},
   "source": [
    "### Libraries"
   ]
  },
  {
   "cell_type": "code",
   "execution_count": 16,
   "metadata": {},
   "outputs": [],
   "source": [
    "# import libraries\n",
    "\n",
    "import random\n",
    "\n",
    "import pandas as pd\n",
    "import numpy as np\n",
    "import matplotlib.pyplot as plt\n",
    "\n",
    "from gensim.utils import simple_preprocess\n",
    "from gensim.models import Word2Vec\n",
    "from sklearn.manifold import TSNE"
   ]
  },
  {
   "cell_type": "markdown",
   "metadata": {},
   "source": [
    "### Datasets"
   ]
  },
  {
   "cell_type": "code",
   "execution_count": 17,
   "metadata": {},
   "outputs": [
    {
     "data": {
      "text/html": [
       "<div>\n",
       "<style scoped>\n",
       "    .dataframe tbody tr th:only-of-type {\n",
       "        vertical-align: middle;\n",
       "    }\n",
       "\n",
       "    .dataframe tbody tr th {\n",
       "        vertical-align: top;\n",
       "    }\n",
       "\n",
       "    .dataframe thead th {\n",
       "        text-align: right;\n",
       "    }\n",
       "</style>\n",
       "<table border=\"1\" class=\"dataframe\">\n",
       "  <thead>\n",
       "    <tr style=\"text-align: right;\">\n",
       "      <th></th>\n",
       "      <th>review_id</th>\n",
       "      <th>text</th>\n",
       "      <th>sentiment</th>\n",
       "    </tr>\n",
       "  </thead>\n",
       "  <tbody>\n",
       "    <tr>\n",
       "      <th>0</th>\n",
       "      <td>LLzom-2TITa4gasV7_fCCA</td>\n",
       "      <td>Great experience purchasing a washer and dryer...</td>\n",
       "      <td>1</td>\n",
       "    </tr>\n",
       "    <tr>\n",
       "      <th>1</th>\n",
       "      <td>a5JHzBrWxRd_OmIvV7znDA</td>\n",
       "      <td>Went here based on the high ratings and raves ...</td>\n",
       "      <td>-1</td>\n",
       "    </tr>\n",
       "    <tr>\n",
       "      <th>2</th>\n",
       "      <td>X-o--dwf0HuFMittYi4wCA</td>\n",
       "      <td>oh Millers, how i wanted to like you.  You are...</td>\n",
       "      <td>-1</td>\n",
       "    </tr>\n",
       "    <tr>\n",
       "      <th>3</th>\n",
       "      <td>INGNbsyo-MouZZzcxnCSGQ</td>\n",
       "      <td>This place gets two stars from me only because...</td>\n",
       "      <td>-1</td>\n",
       "    </tr>\n",
       "    <tr>\n",
       "      <th>4</th>\n",
       "      <td>k7VatXVLism-cTDJE8TTUw</td>\n",
       "      <td>This place was awesome. Clean, beautiful and t...</td>\n",
       "      <td>1</td>\n",
       "    </tr>\n",
       "    <tr>\n",
       "      <th>...</th>\n",
       "      <td>...</td>\n",
       "      <td>...</td>\n",
       "      <td>...</td>\n",
       "    </tr>\n",
       "    <tr>\n",
       "      <th>11681</th>\n",
       "      <td>IlU-MQzMKc7jAHWwK5VFGQ</td>\n",
       "      <td>To be fair, I tried them in their first week. ...</td>\n",
       "      <td>0</td>\n",
       "    </tr>\n",
       "    <tr>\n",
       "      <th>11682</th>\n",
       "      <td>Qt3BsRvQuJccDQfFWM1XPw</td>\n",
       "      <td>Awful place. It's dirty. Had two birthday part...</td>\n",
       "      <td>-1</td>\n",
       "    </tr>\n",
       "    <tr>\n",
       "      <th>11683</th>\n",
       "      <td>3CQQ8Im_UX6QqDECuXYK8A</td>\n",
       "      <td>A truly vegetarian delight!  I took a Jewish f...</td>\n",
       "      <td>1</td>\n",
       "    </tr>\n",
       "    <tr>\n",
       "      <th>11684</th>\n",
       "      <td>ery1nBM7zKweFLBe-bT5ag</td>\n",
       "      <td>I have a 2011 Toyota Sienna Limited. During th...</td>\n",
       "      <td>-1</td>\n",
       "    </tr>\n",
       "    <tr>\n",
       "      <th>11685</th>\n",
       "      <td>N5_SaVzmwkZUslgWDGGsQQ</td>\n",
       "      <td>I'm a single father raising my 17 year old son...</td>\n",
       "      <td>-1</td>\n",
       "    </tr>\n",
       "  </tbody>\n",
       "</table>\n",
       "<p>11686 rows × 3 columns</p>\n",
       "</div>"
      ],
      "text/plain": [
       "                    review_id  \\\n",
       "0      LLzom-2TITa4gasV7_fCCA   \n",
       "1      a5JHzBrWxRd_OmIvV7znDA   \n",
       "2      X-o--dwf0HuFMittYi4wCA   \n",
       "3      INGNbsyo-MouZZzcxnCSGQ   \n",
       "4      k7VatXVLism-cTDJE8TTUw   \n",
       "...                       ...   \n",
       "11681  IlU-MQzMKc7jAHWwK5VFGQ   \n",
       "11682  Qt3BsRvQuJccDQfFWM1XPw   \n",
       "11683  3CQQ8Im_UX6QqDECuXYK8A   \n",
       "11684  ery1nBM7zKweFLBe-bT5ag   \n",
       "11685  N5_SaVzmwkZUslgWDGGsQQ   \n",
       "\n",
       "                                                    text  sentiment  \n",
       "0      Great experience purchasing a washer and dryer...          1  \n",
       "1      Went here based on the high ratings and raves ...         -1  \n",
       "2      oh Millers, how i wanted to like you.  You are...         -1  \n",
       "3      This place gets two stars from me only because...         -1  \n",
       "4      This place was awesome. Clean, beautiful and t...          1  \n",
       "...                                                  ...        ...  \n",
       "11681  To be fair, I tried them in their first week. ...          0  \n",
       "11682  Awful place. It's dirty. Had two birthday part...         -1  \n",
       "11683  A truly vegetarian delight!  I took a Jewish f...          1  \n",
       "11684  I have a 2011 Toyota Sienna Limited. During th...         -1  \n",
       "11685  I'm a single father raising my 17 year old son...         -1  \n",
       "\n",
       "[11686 rows x 3 columns]"
      ]
     },
     "execution_count": 17,
     "metadata": {},
     "output_type": "execute_result"
    }
   ],
   "source": [
    "# load review sentiment data\n",
    "\n",
    "review_df = pd.read_csv('data/review_sentiment.csv')\n",
    "\n",
    "review_df"
   ]
  },
  {
   "cell_type": "markdown",
   "metadata": {},
   "source": [
    "### Preprocessing"
   ]
  },
  {
   "cell_type": "code",
   "execution_count": 18,
   "metadata": {},
   "outputs": [],
   "source": [
    "# preprocess the reviews using gensim\n",
    "\n",
    "corpus = []\n",
    "for review in review_df['text']:\n",
    "    corpus.append(simple_preprocess(review))"
   ]
  },
  {
   "cell_type": "code",
   "execution_count": 19,
   "metadata": {},
   "outputs": [
    {
     "name": "stdout",
     "output_type": "stream",
     "text": [
      "--------------------------------------------------\n",
      "['great', 'experience', 'purchasing', 'washer', 'and', 'dryer', 'just', 'bought', 'new', 'home', 'and', 'needed', 'all', 'new', 'appliances', 'iam', 'so', 'glad', 'decided', 'to', 'go', 'even', 'though', 'the', 'reviews', 'were', 'not', 'great', 'which', 'don', 'understand', 'since', 'had', 'no', 'issues', 'whatsoever', 'there', 'was', 'an', 'excellent', 'selection', 'knowledgeable', 'salespeople', 'and', 'timely', 'delivery', 'the', 'level', 'of', 'service', 'we', 'received', 'was', 'beyond', 'expected', 'really', 'felt', 'like', 'they', 'were', 'working', 'hard', 'to', 'give', 'me', 'the', 'best', 'price', 'and', 'offered', 'many', 'options', 'to', 'stay', 'in', 'my', 'budget', 'they', 'even', 'took', 'the', 'time', 'to', 'check', 'if', 'there', 'were', 'any', 'additional', 'sales', 'prices', 'or', 'discounts', 'they', 'could', 'offer', 'me', 'was', 'given', 'honest', 'feedback', 'and', 'all', 'of', 'my', 'questions', 'were', 'answered', 'am', 'very', 'happy', 'with', 'sears', 'and', 'would', 'highly', 'recommend']\n",
      "--------------------------------------------------\n",
      "['went', 'here', 'based', 'on', 'the', 'high', 'ratings', 'and', 'raves', 'from', 'people', 'the', 'entire', 'experience', 'was', 'underwhelming', 'from', 'start', 'to', 'finish', 'their', 'website', 'which', 'is', 'fairly', 'useless', 'if', 'you', 'want', 'to', 'figure', 'out', 'the', 'menu', 'before', 'going', 'you', 'have', 'to', 'pick', 'your', 'location', 'choice', 'out', 'of', 'locations', 'and', 'then', 'drill', 'down', 'to', 'the', 'bottom', 'to', 'see', 'the', 'weak', 'descriptions', 'of', 'their', 'menu', 'offering', 'no', 'explanations', 'and', 'no', 'price', 'just', 'this', 'roast', 'beef', 'roast', 'beef', 'combo', 'roast', 'pork', 'roast', 'pork', 'combo', 'baked', 'ham', 'baked', 'ham', 'combo', 'roast', 'turkey', 'roast', 'turkey', 'combo', 'broccoli', 'rabe', 'broccoli', 'rabe', 'combo', 'no', 'explanation', 'of', 'whats', 'in', 'combo', 'its', 'just', 'where', 'they', 'add', 'cheese', 'by', 'the', 'way', 'the', 'table', 'placecard', 'instead', 'of', 'menu', 'had', 'more', 'detailed', 'description', 'than', 'the', 'website', 'when', 'walked', 'in', 'its', 'more', 'bar', 'than', 'restaurant', 'no', 'big', 'deal', 'but', 'there', 'were', 'tables', 'since', 'couldnt', 'decide', 'and', 'the', 'sandwiches', 'werent', 'too', 'expensive', 'at', 'got', 'the', 'roast', 'beef', 'and', 'roast', 'port', 'combos', 'got', 'my', 'two', 'sandwiches', 'fast', 'enough', 'but', 'the', 'roast', 'beef', 'was', 'cold', 'and', 'the', 'roast', 'pork', 'was', 'hot', 'not', 'sure', 'how', 'cook', 'for', 'lack', 'of', 'better', 'word', 'could', 'serve', 'things', 'at', 'the', 'same', 'time', 'with', 'such', 'temperature', 'differential', 'one', 'was', 'obviously', 'sitting', 'for', 'awhile', 'asked', 'the', 'waitress', 'to', 'reheat', 'the', 'roast', 'beef', 'while', 'finished', 'the', 'roast', 'pork', 'and', 'supposedly', 'it', 'was', 'reheated', 'since', 'it', 'was', 'warmer', 'but', 'it', 'was', 'still', 'cold', 'ish', 'compared', 'to', 'my', 'roast', 'pork', 'had', 'just', 'finished', 'the', 'waitress', 'did', 'offer', 'to', 'replace', 'it', 'when', 'she', 'inquired', 'but', 'was', 'in', 'hurry', 'and', 'didnt', 'really', 'care', 'for', 'hot', 'version', 'of', 'this', 'sandwich', 'the', 'sandwiches', 'were', 'very', 'skimpy', 'on', 'meat', 'but', 'they', 'made', 'up', 'for', 'it', 'by', 'adding', 'too', 'much', 'gravy', 'to', 'make', 'it', 'overly', 'messy', 'and', 'the', 'bread', 'was', 'disintegrating', 'the', 'menu', 'place', 'card', 'mentions', 'the', 'wet', 'meat', 'option', 'where', 'you', 'get', 'less', 'gravy', 'strongly', 'recommend', 'you', 'get', 'it', 'that', 'style', 'especially', 'if', 'the', 'gravy', 'overpower', 'the', 'meat', 'and', 'structural', 'integrity', 'of', 'the', 'sandwich']\n",
      "--------------------------------------------------\n",
      "['oh', 'millers', 'how', 'wanted', 'to', 'like', 'you', 'you', 'are', 'close', 'to', 'my', 'house', 'have', 'ample', 'parking', 'and', 'large', 'spacious', 'tables', 'you', 'even', 'have', 'fireplace', 'in', 'the', 'back', 'for', 'little', 'ambiance', 'friends', 'and', 'tried', 'to', 'come', 'here', 'or', 'times', 'for', 'quick', 'inexpensive', 'bite', 'to', 'eat', 'and', 'every', 'time', 'there', 'was', 'minute', 'wait', 'we', 'thought', 'this', 'must', 'mean', 'they', 'are', 'really', 'good', 'perhaps', 'it', 'just', 'means', 'that', 'people', 'in', 'springfield', 'are', 'willing', 'to', 'settle', 'for', 'less', 'than', 'average', 'dining', 'experience', 'side', 'note', 'this', 'place', 'is', 'not', 'inexpensive', 'hubby', 'and', 'ordered', 'apps', 'he', 'got', 'zinger', 'boneless', 'wings', 'and', 'got', 'the', 'guacamole', 'portion', 'size', 'was', 'enormous', 'on', 'the', 'guac', 'it', 'could', 'have', 'served', 'people', 'seriously', 'flavor', 'was', 'meh', 'apparently', 'the', 'wingz', 'were', 'good', 'hard', 'to', 'tell', 'what', 'hubby', 'enjoyed', 'more', 'the', 'wingz', 'or', 'the', 'scantily', 'dressed', 'hostesses', 'our', 'server', 'was', 'great', 'attentive', 'and', 'pleasant', 'when', 'something', 'went', 'wrong', 'she', 'did', 'her', 'best', 'to', 'fix', 'it', 'that', 'was', 'much', 'appreciated', 'side', 'salad', 'came', 'out', 'wilted', 'and', 'gross', 'management', 'offered', 'to', 'take', 'it', 'off', 'the', 'check', 'would', 'have', 'rather', 'had', 'decent', 'salad', 'in', 'the', 'first', 'place', 'but', 'digress', 'dinner', 'was', 'not', 'very', 'flavorful', 'at', 'all', 'and', 'portion', 'sizes', 'were', 'okay', 'got', 'the', 'quesadilla', 'appetizer', 'which', 'was', 'plenty', 'for', 'an', 'entree', 'but', 'it', 'was', 'very', 'sloppily', 'put', 'together', 'and', 'had', 'no', 'seasoning', 'at', 'all', 'have', 'had', 'food', 'that', 'is', 'presented', 'better', 'and', 'tastes', 'better', 'at', 'fast', 'food', 'restaurants', 'where', 'am', 'happy', 'to', 'pay', 'for', 'meal', 'at', 'the', 'end', 'of', 'the', 'meal', 'badly', 'wanted', 'dessert', 'but', 'didnt', 'want', 'to', 'risk', 'another', 'poorly', 'flavored', 'dish', 'not', 'to', 'mention', 'all', 'the', 'dishes', 'were', 'like', 'lunch', 'tray', 'plastic', 'and', 'felt', 'that', 'dinner', 'for', 'two', 'was', 'at', 'least', 'worth', 'nicer', 'presentation', 'who', 'knows', 'it', 'may', 'have', 'even', 'made', 'up', 'for', 'the', 'bland', 'flavors', 'perhaps', 'was', 'let', 'down', 'by', 'the', 'fact', 'that', 'there', 'always', 'seemed', 'to', 'be', 'wait', 'and', 'had', 'over', 'hyped', 'it', 'in', 'my', 'head', 'never', 'have', 'wanted', 'to', 'send', 'back', 'everything', 'ordered', 'at', 'restaurant', 'before', 'this', 'night', 'will', 'never', 'be', 'back', 'my', 'husband', 'says', 'he', 'will', 'order', 'the', 'wings', 'but', 'takeout', 'only', 'no', 'more', 'dining', 'in', 'at', 'this', 'place']\n",
      "--------------------------------------------------\n",
      "['this', 'place', 'gets', 'two', 'stars', 'from', 'me', 'only', 'because', 'the', 'gravy', 'fries', 'were', 'good', 'their', 'sandwiches', 'are', 'awful', 'thick', 'slabs', 'of', 'badly', 'sliced', 'tough', 'dry', 'meat', 'gross', 'made', 'the', 'mistake', 'of', 'ordering', 'their', 'pork', 'sandwich', 'once', 'and', 'it', 'was', 'inedible', 'tried', 'to', 'bite', 'into', 'the', 'sandwich', 'and', 'couldn', 'even', 'bite', 'through', 'because', 'of', 'how', 'tough', 'and', 'rubbery', 'the', 'pork', 'was', 'don', 'understand', 'why', 'they', 'slice', 'the', 'meat', 'the', 'way', 'they', 'do', 'but', 'it', 'makes', 'for', 'disgusting', 'sandwich', 'the', 'people', 'raving', 'on', 'how', 'good', 'this', 'place', 'is', 'are', 'just', 'locals', 'who', 'have', 'never', 'had', 'anything', 'better', 'you', 're', 'better', 'off', 'going', 'to', 'wawa', 'for', 'sandwich', 'seriously', 'it', 'will', 'at', 'least', 'be', 'edible']\n",
      "--------------------------------------------------\n",
      "['this', 'place', 'was', 'awesome', 'clean', 'beautiful', 'and', 'the', 'food', 'was', 'outstanding', 'the', 'staff', 'was', 'lovely', 'very', 'attentive', 'and', 'accommodating', 'brought', 'my', 'month', 'old', 'there', 'to', 'meet', 'friend', 'for', 'lunch', 'and', 'we', 'had', 'great', 'time', 'and', 'great', 'meal', 'this', 'is', 'my', 'new', 'favorite', 'joint']\n"
     ]
    }
   ],
   "source": [
    "# see content of processed reviews\n",
    "\n",
    "for review in corpus[:5]:\n",
    "    print('-' * 50)\n",
    "    print(review)"
   ]
  },
  {
   "cell_type": "markdown",
   "metadata": {},
   "source": [
    "### Dense embeddings"
   ]
  },
  {
   "cell_type": "code",
   "execution_count": 20,
   "metadata": {},
   "outputs": [
    {
     "data": {
      "text/plain": [
       "11686"
      ]
     },
     "execution_count": 20,
     "metadata": {},
     "output_type": "execute_result"
    }
   ],
   "source": [
    "# documents representing reviews\n",
    "\n",
    "documents = corpus\n",
    "\n",
    "len(documents)"
   ]
  },
  {
   "cell_type": "code",
   "execution_count": 21,
   "metadata": {},
   "outputs": [
    {
     "name": "stdout",
     "output_type": "stream",
     "text": [
      "['great', 'experience', 'purchasing', 'washer', 'and', 'dryer', 'just', 'bought', 'new', 'home', 'and', 'needed', 'all', 'new', 'appliances', 'iam', 'so', 'glad', 'decided', 'to', 'go', 'even', 'though', 'the', 'reviews', 'were', 'not', 'great', 'which', 'don', 'understand', 'since', 'had', 'no', 'issues', 'whatsoever', 'there', 'was', 'an', 'excellent', 'selection', 'knowledgeable', 'salespeople', 'and', 'timely', 'delivery', 'the', 'level', 'of', 'service', 'we', 'received', 'was', 'beyond', 'expected', 'really', 'felt', 'like', 'they', 'were', 'working', 'hard', 'to', 'give', 'me', 'the', 'best', 'price', 'and', 'offered', 'many', 'options', 'to', 'stay', 'in', 'my', 'budget', 'they', 'even', 'took', 'the', 'time', 'to', 'check', 'if', 'there', 'were', 'any', 'additional', 'sales', 'prices', 'or', 'discounts', 'they', 'could', 'offer', 'me', 'was', 'given', 'honest', 'feedback', 'and', 'all', 'of', 'my', 'questions', 'were', 'answered', 'am', 'very', 'happy', 'with', 'sears', 'and', 'would', 'highly', 'recommend']\n"
     ]
    }
   ],
   "source": [
    "# see contents of documents\n",
    "\n",
    "print(documents[0])"
   ]
  },
  {
   "cell_type": "code",
   "execution_count": 22,
   "metadata": {},
   "outputs": [],
   "source": [
    "# model training\n",
    "\n",
    "model = Word2Vec(documents, vector_size=150, window=10, min_count=2, workers=10, sg=1)"
   ]
  },
  {
   "cell_type": "code",
   "execution_count": 23,
   "metadata": {},
   "outputs": [
    {
     "data": {
      "text/plain": [
       "array([ 0.03727848, -0.22462687,  0.06164508,  0.3662258 ,  0.26775795,\n",
       "        0.0949092 ,  0.33315012,  0.08703592, -0.31017822, -0.09601659,\n",
       "       -0.0345335 , -0.28154746, -0.23863763,  0.49955168, -0.3348116 ,\n",
       "       -0.0690914 ,  0.09672657,  0.09617839,  0.01219174, -0.15871102,\n",
       "        0.22455214, -0.3606065 ,  0.11819144,  0.49199897, -0.18650632,\n",
       "       -0.01891272, -0.2055627 ,  0.11916728, -0.08187222, -0.23131824,\n",
       "       -0.08752682,  0.03381372,  0.01548811,  0.04684589,  0.11016046,\n",
       "       -0.08134802,  0.13251714, -0.2343207 , -0.04932792, -0.27357253,\n",
       "       -0.11048202,  0.19680564, -0.36467218,  0.03878137,  0.2800511 ,\n",
       "        0.17159954,  0.03488294, -0.22608729, -0.06888847,  0.19337998,\n",
       "       -0.2834905 ,  0.40472472,  0.20542362,  0.03928608,  0.01452966,\n",
       "        0.07789407,  0.24326362, -0.05343039, -0.00359046, -0.1449768 ,\n",
       "        0.3081016 , -0.20754522,  0.05652031,  0.03468379,  0.0912493 ,\n",
       "       -0.08596721,  0.24058227,  0.06047442, -0.20332696, -0.17096196,\n",
       "        0.1227092 ,  0.16644804,  0.06823744, -0.36944684, -0.15135598,\n",
       "       -0.24203901,  0.24675399,  0.04221575, -0.18885973,  0.02430691,\n",
       "       -0.31248042, -0.4030971 , -0.00573993,  0.49702156, -0.4147224 ,\n",
       "        0.28824526,  0.03890593, -0.10304059,  0.3503512 , -0.25253856,\n",
       "        0.09395345, -0.28766698, -0.07339511,  0.09171952, -0.01736027,\n",
       "        0.15078028,  0.12299518, -0.07518754,  0.19801947,  0.00897079,\n",
       "       -0.19022222, -0.25527304,  0.17465098, -0.09102823,  0.200732  ,\n",
       "       -0.38515443, -0.19813833, -0.14031088, -0.35935867, -0.22495201,\n",
       "        0.07761195, -0.26953223, -0.14740838, -0.2980824 , -0.37215576,\n",
       "        0.00529599,  0.05160799,  0.12272461, -0.20479397, -0.07358649,\n",
       "        0.22284712, -0.03700766,  0.4023886 ,  0.0540194 ,  0.08035266,\n",
       "        0.21703638, -0.13153853,  0.17302953,  0.15756957, -0.12738772,\n",
       "        0.05638126, -0.08458177, -0.01324537, -0.01284187, -0.14452039,\n",
       "       -0.02459777, -0.26064494, -0.2511101 , -0.16362365,  0.0472833 ,\n",
       "       -0.1820039 ,  0.29990953,  0.2658503 ,  0.49303466,  0.2812486 ,\n",
       "        0.04873338, -0.12695748,  0.11151826,  0.06150154,  0.0031266 ],\n",
       "      dtype=float32)"
      ]
     },
     "execution_count": 23,
     "metadata": {},
     "output_type": "execute_result"
    }
   ],
   "source": [
    "# embeddings\n",
    "\n",
    "model.wv.get_vector(\"good\")"
   ]
  },
  {
   "cell_type": "code",
   "execution_count": 24,
   "metadata": {},
   "outputs": [
    {
     "data": {
      "text/plain": [
       "[('underwhelming', 0.7523173093795776),\n",
       " ('tasty', 0.7322449088096619),\n",
       " ('decent', 0.7235148549079895),\n",
       " ('decently', 0.7166332602500916),\n",
       " ('satisfying', 0.7156621217727661),\n",
       " ('definite', 0.7154306173324585),\n",
       " ('paninis', 0.7116918563842773),\n",
       " ('great', 0.711249053478241),\n",
       " ('eaters', 0.7064165472984314),\n",
       " ('darn', 0.7053967714309692)]"
      ]
     },
     "execution_count": 24,
     "metadata": {},
     "output_type": "execute_result"
    }
   ],
   "source": [
    "# similarity\n",
    "\n",
    "model.wv.most_similar(positive=\"good\")"
   ]
  },
  {
   "cell_type": "code",
   "execution_count": 25,
   "metadata": {},
   "outputs": [
    {
     "data": {
      "text/plain": [
       "[('wowed', 0.6551146507263184),\n",
       " ('deducted', 0.6418485641479492),\n",
       " ('terribly', 0.6349087357521057),\n",
       " ('lousy', 0.6336261034011841),\n",
       " ('blows', 0.6281378865242004),\n",
       " ('memorable', 0.6212449073791504),\n",
       " ('necessarily', 0.6205263137817383),\n",
       " ('bizarre', 0.6186093091964722),\n",
       " ('sucked', 0.6180410981178284),\n",
       " ('horrible', 0.6178065538406372)]"
      ]
     },
     "execution_count": 25,
     "metadata": {},
     "output_type": "execute_result"
    }
   ],
   "source": [
    "# similarity\n",
    "\n",
    "model.wv.most_similar(positive=\"bad\")"
   ]
  },
  {
   "cell_type": "code",
   "execution_count": 26,
   "metadata": {},
   "outputs": [],
   "source": [
    "# save full model (including trainable vectors to resume training)\n",
    "\n",
    "model.save(\"embeddings/reviews_model\")"
   ]
  },
  {
   "cell_type": "code",
   "execution_count": 27,
   "metadata": {},
   "outputs": [],
   "source": [
    "# save model word vectors\n",
    "\n",
    "model.wv.save(\"embeddings/reviews_wv\")"
   ]
  },
  {
   "cell_type": "markdown",
   "metadata": {},
   "source": [
    "### Vector visualization"
   ]
  },
  {
   "cell_type": "code",
   "execution_count": 28,
   "metadata": {},
   "outputs": [],
   "source": [
    "def reduce_dimensions(model, num_dimensions=2, words=[]):\n",
    "    '''\n",
    "    Reduce the dimensions of the word vectors using t-SNE for plotting\n",
    "    '''\n",
    "    vectors = []\n",
    "    labels = []\n",
    "    if (words == []):\n",
    "        words = model.wv.index_to_key\n",
    "    for word in words:\n",
    "        vectors.append(model.wv[word])\n",
    "        labels.append(word)\n",
    "    vectors = np.asarray(vectors)\n",
    "    labels = np.asarray(labels)\n",
    "    tsne = TSNE(n_components=num_dimensions, random_state=0, perplexity=4.0)\n",
    "    vectors = tsne.fit_transform(vectors)\n",
    "    return vectors, labels"
   ]
  },
  {
   "cell_type": "code",
   "execution_count": 29,
   "metadata": {},
   "outputs": [],
   "source": [
    "def plot_word_vectors(x_vals, y_vals, labels, words=[]):\n",
    "    '''\n",
    "    Plot the reduced dimensions of the word vectors using matplotlib\n",
    "    '''\n",
    "    random.seed(0)\n",
    "    x_vals_new = np.array([])\n",
    "    y_vals_new = np.array([])\n",
    "    labels_new = np.array([])\n",
    "    if(words == []):\n",
    "        x_vals_new = x_vals\n",
    "        y_vals_new = y_vals\n",
    "        labels_new = labels\n",
    "    else:\n",
    "        for i in range(len(labels)):\n",
    "            if(labels[i] in words):\n",
    "                x_vals_new = np.append(x_vals_new,x_vals[i])\n",
    "                y_vals_new = np.append(y_vals_new,y_vals[i])\n",
    "                labels_new = np.append(labels_new,labels[i])\n",
    "    plt.figure(figsize=(12, 12))\n",
    "    plt.scatter(x_vals_new, y_vals_new)\n",
    "    for i in range(len(labels_new)):\n",
    "        plt.annotate(labels_new[i], (x_vals_new[i], y_vals_new[i]))\n",
    "    plt.show()"
   ]
  },
  {
   "cell_type": "code",
   "execution_count": 30,
   "metadata": {},
   "outputs": [
    {
     "data": {
      "image/png": "[encoded data removed]",
      "text/plain": [
       "<Figure size 1200x1200 with 1 Axes>"
      ]
     },
     "metadata": {},
     "output_type": "display_data"
    }
   ],
   "source": [
    "# visualize word vectors\n",
    "\n",
    "all_words = [word for doc in documents for word in doc]\n",
    "words = random.sample(all_words, 50)\n",
    "interesting_words = ['good', 'bad', 'excellent', 'poor', 'awesome', 'terrible', 'nice', 'horrible', 'satisfactory', 'food', 'delicious', 'tasty', 'disappointing', 'service', 'ambiance', 'atmosphere', 'pricey', 'presentation', 'menu', 'variety', 'fresh', 'cooked', 'flavorful', 'tasteless', 'overcooked', 'undercooked', 'friendly', 'rude', 'clean', 'dirty', 'crowded', 'spacious', 'cozy', 'noisy', 'expensive', 'affordable', 'authentic', 'traditional', 'flavor', 'love']\n",
    "\n",
    "vectors, labels = reduce_dimensions(model, 3, interesting_words)\n",
    "x_vals = [v[0] for v in vectors]\n",
    "y_vals = [v[1] for v in vectors]\n",
    "\n",
    "plot_word_vectors(x_vals, y_vals, labels, interesting_words)\n"
   ]
  },
  {
   "cell_type": "code",
   "execution_count": null,
   "metadata": {},
   "outputs": [],
   "source": []
  }
 ],
 "metadata": {
  "kernelspec": {
   "display_name": "Python 3",
   "language": "python",
   "name": "python3"
  },
  "language_info": {
   "codemirror_mode": {
    "name": "ipython",
    "version": 3
   },
   "file_extension": ".py",
   "mimetype": "text/x-python",
   "name": "python",
   "nbconvert_exporter": "python",
   "pygments_lexer": "ipython3",
   "version": "3.10.12"
  }
 },
 "nbformat": 4,
 "nbformat_minor": 2
}
