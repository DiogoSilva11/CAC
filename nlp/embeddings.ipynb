{
 "cells": [
  {
   "cell_type": "markdown",
   "metadata": {},
   "source": [
    "# Word Embeddings"
   ]
  },
  {
   "cell_type": "markdown",
   "metadata": {},
   "source": [
    "### Libraries"
   ]
  },
  {
   "cell_type": "code",
   "execution_count": 3,
   "metadata": {},
   "outputs": [],
   "source": [
    "# import libraries\n",
    "\n",
    "import pandas as pd\n",
    "import numpy as np\n",
    "\n",
    "from gensim.models import Word2Vec\n",
    "from nltk.tokenize import word_tokenize\n",
    "from scipy import stats"
   ]
  },
  {
   "cell_type": "markdown",
   "metadata": {},
   "source": [
    "### Datasets"
   ]
  },
  {
   "cell_type": "code",
   "execution_count": 2,
   "metadata": {},
   "outputs": [
    {
     "data": {
      "text/html": [
       "<div>\n",
       "<style scoped>\n",
       "    .dataframe tbody tr th:only-of-type {\n",
       "        vertical-align: middle;\n",
       "    }\n",
       "\n",
       "    .dataframe tbody tr th {\n",
       "        vertical-align: top;\n",
       "    }\n",
       "\n",
       "    .dataframe thead th {\n",
       "        text-align: right;\n",
       "    }\n",
       "</style>\n",
       "<table border=\"1\" class=\"dataframe\">\n",
       "  <thead>\n",
       "    <tr style=\"text-align: right;\">\n",
       "      <th></th>\n",
       "      <th>review_id</th>\n",
       "      <th>text</th>\n",
       "      <th>positive</th>\n",
       "      <th>neutral</th>\n",
       "      <th>negative</th>\n",
       "    </tr>\n",
       "  </thead>\n",
       "  <tbody>\n",
       "    <tr>\n",
       "      <th>0</th>\n",
       "      <td>NvusujU9_5pIUbn9SZ6hMA</td>\n",
       "      <td>Stopped by to munch a burger during today's Se...</td>\n",
       "      <td>1</td>\n",
       "      <td>0</td>\n",
       "      <td>0</td>\n",
       "    </tr>\n",
       "    <tr>\n",
       "      <th>1</th>\n",
       "      <td>vHOeBa7aMA_na4rfS2Db5A</td>\n",
       "      <td>Yelp doesn't allow to leave 0 star review, so ...</td>\n",
       "      <td>0</td>\n",
       "      <td>0</td>\n",
       "      <td>1</td>\n",
       "    </tr>\n",
       "    <tr>\n",
       "      <th>2</th>\n",
       "      <td>hG9RTxxivb0ZXzEk4JXTXA</td>\n",
       "      <td>I find it hard to believe there are so many pe...</td>\n",
       "      <td>0</td>\n",
       "      <td>0</td>\n",
       "      <td>1</td>\n",
       "    </tr>\n",
       "    <tr>\n",
       "      <th>3</th>\n",
       "      <td>zIVkwgahZjOneChZFUYY4g</td>\n",
       "      <td>Love this place! Almost all of their menu item...</td>\n",
       "      <td>1</td>\n",
       "      <td>0</td>\n",
       "      <td>0</td>\n",
       "    </tr>\n",
       "    <tr>\n",
       "      <th>4</th>\n",
       "      <td>DLczAuvMAlAnY5EeDGhTVg</td>\n",
       "      <td>Excellent customer service. I wish I could ren...</td>\n",
       "      <td>1</td>\n",
       "      <td>0</td>\n",
       "      <td>0</td>\n",
       "    </tr>\n",
       "    <tr>\n",
       "      <th>...</th>\n",
       "      <td>...</td>\n",
       "      <td>...</td>\n",
       "      <td>...</td>\n",
       "      <td>...</td>\n",
       "      <td>...</td>\n",
       "    </tr>\n",
       "    <tr>\n",
       "      <th>63446</th>\n",
       "      <td>OgoBp7fbXnLSKvsQb4O_tw</td>\n",
       "      <td>I really loved the food and service. I mean, t...</td>\n",
       "      <td>1</td>\n",
       "      <td>0</td>\n",
       "      <td>0</td>\n",
       "    </tr>\n",
       "    <tr>\n",
       "      <th>63447</th>\n",
       "      <td>Q7e8EtZMmdknDrQE7huMoQ</td>\n",
       "      <td>Their Grove location was the bomb. Delicious f...</td>\n",
       "      <td>1</td>\n",
       "      <td>0</td>\n",
       "      <td>0</td>\n",
       "    </tr>\n",
       "    <tr>\n",
       "      <th>63448</th>\n",
       "      <td>zzMW6zbsFaQMjoGu2bGVdA</td>\n",
       "      <td>A nice ean BBQ joint right across from some ne...</td>\n",
       "      <td>1</td>\n",
       "      <td>0</td>\n",
       "      <td>0</td>\n",
       "    </tr>\n",
       "    <tr>\n",
       "      <th>63449</th>\n",
       "      <td>scgoa60EvhW2Mz7JMqLYGw</td>\n",
       "      <td>The perfect Hookah bar. I'm not sure what they...</td>\n",
       "      <td>1</td>\n",
       "      <td>0</td>\n",
       "      <td>0</td>\n",
       "    </tr>\n",
       "    <tr>\n",
       "      <th>63450</th>\n",
       "      <td>M7NAWZ9P99ucR66LrxrUOQ</td>\n",
       "      <td>Besides it being super busy often, usually, I ...</td>\n",
       "      <td>0</td>\n",
       "      <td>1</td>\n",
       "      <td>0</td>\n",
       "    </tr>\n",
       "  </tbody>\n",
       "</table>\n",
       "<p>63451 rows × 5 columns</p>\n",
       "</div>"
      ],
      "text/plain": [
       "                    review_id  \\\n",
       "0      NvusujU9_5pIUbn9SZ6hMA   \n",
       "1      vHOeBa7aMA_na4rfS2Db5A   \n",
       "2      hG9RTxxivb0ZXzEk4JXTXA   \n",
       "3      zIVkwgahZjOneChZFUYY4g   \n",
       "4      DLczAuvMAlAnY5EeDGhTVg   \n",
       "...                       ...   \n",
       "63446  OgoBp7fbXnLSKvsQb4O_tw   \n",
       "63447  Q7e8EtZMmdknDrQE7huMoQ   \n",
       "63448  zzMW6zbsFaQMjoGu2bGVdA   \n",
       "63449  scgoa60EvhW2Mz7JMqLYGw   \n",
       "63450  M7NAWZ9P99ucR66LrxrUOQ   \n",
       "\n",
       "                                                    text  positive  neutral  \\\n",
       "0      Stopped by to munch a burger during today's Se...         1        0   \n",
       "1      Yelp doesn't allow to leave 0 star review, so ...         0        0   \n",
       "2      I find it hard to believe there are so many pe...         0        0   \n",
       "3      Love this place! Almost all of their menu item...         1        0   \n",
       "4      Excellent customer service. I wish I could ren...         1        0   \n",
       "...                                                  ...       ...      ...   \n",
       "63446  I really loved the food and service. I mean, t...         1        0   \n",
       "63447  Their Grove location was the bomb. Delicious f...         1        0   \n",
       "63448  A nice ean BBQ joint right across from some ne...         1        0   \n",
       "63449  The perfect Hookah bar. I'm not sure what they...         1        0   \n",
       "63450  Besides it being super busy often, usually, I ...         0        1   \n",
       "\n",
       "       negative  \n",
       "0             0  \n",
       "1             1  \n",
       "2             1  \n",
       "3             0  \n",
       "4             0  \n",
       "...         ...  \n",
       "63446         0  \n",
       "63447         0  \n",
       "63448         0  \n",
       "63449         0  \n",
       "63450         0  \n",
       "\n",
       "[63451 rows x 5 columns]"
      ]
     },
     "execution_count": 2,
     "metadata": {},
     "output_type": "execute_result"
    }
   ],
   "source": [
    "# load review sentiment data\n",
    "\n",
    "review_df = pd.read_csv('review_sentiment.csv')\n",
    "\n",
    "review_df"
   ]
  },
  {
   "cell_type": "code",
   "execution_count": null,
   "metadata": {},
   "outputs": [],
   "source": [
    "# load corpus data\n",
    "\n",
    "corpus = open('corpus.txt', 'r').read()\n",
    "corpus = corpus.split('\\n')\n",
    "corpus = corpus[:-1]"
   ]
  },
  {
   "cell_type": "code",
   "execution_count": null,
   "metadata": {},
   "outputs": [],
   "source": [
    "# see contents of corpus\n",
    "\n",
    "for review in corpus[:5]:\n",
    "    print('-' * 50)\n",
    "    print(review)"
   ]
  },
  {
   "cell_type": "markdown",
   "metadata": {},
   "source": [
    "### Dense embeddings"
   ]
  },
  {
   "cell_type": "code",
   "execution_count": null,
   "metadata": {},
   "outputs": [],
   "source": [
    "def text_to_vector(embeddings, text, sequence_len):\n",
    "    '''\n",
    "    Function to convert text to embedding vectors\n",
    "    '''\n",
    "    tokens = text.split()\n",
    "    vec = []\n",
    "    n = 0\n",
    "    i = 0\n",
    "    while i < len(tokens) and n < sequence_len:\n",
    "        try:\n",
    "            vec.extend(embeddings.get_vector(tokens[i]))\n",
    "            n += 1\n",
    "        except KeyError:\n",
    "            True \n",
    "        finally:\n",
    "            i += 1\n",
    "    for j in range(sequence_len - n):\n",
    "        vec.extend(np.zeros(embeddings.vector_size,))\n",
    "    return vec"
   ]
  },
  {
   "cell_type": "code",
   "execution_count": null,
   "metadata": {},
   "outputs": [],
   "source": [
    "# tokenize preprocessed corpus\n",
    "\n",
    "tokenized_corpus = [word_tokenize(review) for review in corpus]"
   ]
  },
  {
   "cell_type": "code",
   "execution_count": null,
   "metadata": {},
   "outputs": [],
   "source": [
    "# train Word2Vec model\n",
    "\n",
    "word2vec_model = Word2Vec(sentences=tokenized_corpus, vector_size=100, window=5, min_count=1, workers=4)"
   ]
  },
  {
   "cell_type": "code",
   "execution_count": null,
   "metadata": {},
   "outputs": [],
   "source": [
    "# corpus statistics\n",
    "\n",
    "lens = [len(c.split()) for c in corpus]\n",
    "print(np.min(lens), np.max(lens), np.mean(lens), np.std(lens), stats.mode(lens))"
   ]
  },
  {
   "cell_type": "code",
   "execution_count": null,
   "metadata": {},
   "outputs": [],
   "source": [
    "# convert corpus to embeddings\n",
    "\n",
    "embeddings_corpus = []\n",
    "for c in corpus:\n",
    "    embeddings_corpus.append(text_to_vector(word2vec_model.wv, c, 10))"
   ]
  },
  {
   "cell_type": "code",
   "execution_count": null,
   "metadata": {},
   "outputs": [],
   "source": [
    "# TODO: save embeddings, then load in classification notebook and test"
   ]
  },
  {
   "cell_type": "code",
   "execution_count": null,
   "metadata": {},
   "outputs": [],
   "source": [
    "'''\n",
    "\n",
    "X = np.array(embeddings_corpus)\n",
    "y = reviews['positive']\n",
    "\n",
    "X_train, X_test, y_train, y_test = train_test_split(X, y, test_size=0.2, random_state=42)\n",
    "\n",
    "# Train classifier\n",
    "classifier = LogisticRegression(max_iter=1000)\n",
    "classifier.fit(X_train, y_train)\n",
    "\n",
    "y_pred = classifier.predict(X_test)\n",
    "\n",
    "print(classification_report(y_test, y_pred))\n",
    "\n",
    "'''"
   ]
  }
 ],
 "metadata": {
  "kernelspec": {
   "display_name": "Python 3",
   "language": "python",
   "name": "python3"
  },
  "language_info": {
   "codemirror_mode": {
    "name": "ipython",
    "version": 3
   },
   "file_extension": ".py",
   "mimetype": "text/x-python",
   "name": "python",
   "nbconvert_exporter": "python",
   "pygments_lexer": "ipython3",
   "version": "3.10.10"
  }
 },
 "nbformat": 4,
 "nbformat_minor": 2
}
