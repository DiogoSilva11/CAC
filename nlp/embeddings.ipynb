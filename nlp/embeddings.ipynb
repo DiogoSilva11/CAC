{
 "cells": [
  {
   "cell_type": "markdown",
   "metadata": {},
   "source": [
    "# Word Embeddings"
   ]
  },
  {
   "cell_type": "markdown",
   "metadata": {},
   "source": [
    "### Libraries"
   ]
  },
  {
   "cell_type": "code",
   "execution_count": 1,
   "metadata": {},
   "outputs": [],
   "source": [
    "# import libraries\n",
    "\n",
    "import random\n",
    "\n",
    "import pandas as pd\n",
    "import numpy as np\n",
    "import matplotlib.pyplot as plt\n",
    "\n",
    "from gensim.utils import simple_preprocess\n",
    "from gensim.models import Word2Vec\n",
    "from sklearn.manifold import TSNE"
   ]
  },
  {
   "cell_type": "markdown",
   "metadata": {},
   "source": [
    "### Datasets"
   ]
  },
  {
   "cell_type": "code",
   "execution_count": 2,
   "metadata": {},
   "outputs": [
    {
     "data": {
      "text/html": [
       "<div>\n",
       "<style scoped>\n",
       "    .dataframe tbody tr th:only-of-type {\n",
       "        vertical-align: middle;\n",
       "    }\n",
       "\n",
       "    .dataframe tbody tr th {\n",
       "        vertical-align: top;\n",
       "    }\n",
       "\n",
       "    .dataframe thead th {\n",
       "        text-align: right;\n",
       "    }\n",
       "</style>\n",
       "<table border=\"1\" class=\"dataframe\">\n",
       "  <thead>\n",
       "    <tr style=\"text-align: right;\">\n",
       "      <th></th>\n",
       "      <th>review_id</th>\n",
       "      <th>text</th>\n",
       "      <th>negative</th>\n",
       "      <th>neutral</th>\n",
       "      <th>positive</th>\n",
       "    </tr>\n",
       "  </thead>\n",
       "  <tbody>\n",
       "    <tr>\n",
       "      <th>0</th>\n",
       "      <td>NvusujU9_5pIUbn9SZ6hMA</td>\n",
       "      <td>Stopped by to munch a burger during today's Se...</td>\n",
       "      <td>0</td>\n",
       "      <td>0</td>\n",
       "      <td>1</td>\n",
       "    </tr>\n",
       "    <tr>\n",
       "      <th>1</th>\n",
       "      <td>vHOeBa7aMA_na4rfS2Db5A</td>\n",
       "      <td>Yelp doesn't allow to leave 0 star review, so ...</td>\n",
       "      <td>1</td>\n",
       "      <td>0</td>\n",
       "      <td>0</td>\n",
       "    </tr>\n",
       "    <tr>\n",
       "      <th>2</th>\n",
       "      <td>hG9RTxxivb0ZXzEk4JXTXA</td>\n",
       "      <td>I find it hard to believe there are so many pe...</td>\n",
       "      <td>1</td>\n",
       "      <td>0</td>\n",
       "      <td>0</td>\n",
       "    </tr>\n",
       "    <tr>\n",
       "      <th>3</th>\n",
       "      <td>zIVkwgahZjOneChZFUYY4g</td>\n",
       "      <td>Love this place! Almost all of their menu item...</td>\n",
       "      <td>0</td>\n",
       "      <td>0</td>\n",
       "      <td>1</td>\n",
       "    </tr>\n",
       "    <tr>\n",
       "      <th>4</th>\n",
       "      <td>DLczAuvMAlAnY5EeDGhTVg</td>\n",
       "      <td>Excellent customer service. I wish I could ren...</td>\n",
       "      <td>0</td>\n",
       "      <td>0</td>\n",
       "      <td>1</td>\n",
       "    </tr>\n",
       "    <tr>\n",
       "      <th>...</th>\n",
       "      <td>...</td>\n",
       "      <td>...</td>\n",
       "      <td>...</td>\n",
       "      <td>...</td>\n",
       "      <td>...</td>\n",
       "    </tr>\n",
       "    <tr>\n",
       "      <th>63446</th>\n",
       "      <td>OgoBp7fbXnLSKvsQb4O_tw</td>\n",
       "      <td>I really loved the food and service. I mean, t...</td>\n",
       "      <td>0</td>\n",
       "      <td>0</td>\n",
       "      <td>1</td>\n",
       "    </tr>\n",
       "    <tr>\n",
       "      <th>63447</th>\n",
       "      <td>Q7e8EtZMmdknDrQE7huMoQ</td>\n",
       "      <td>Their Grove location was the bomb. Delicious f...</td>\n",
       "      <td>0</td>\n",
       "      <td>0</td>\n",
       "      <td>1</td>\n",
       "    </tr>\n",
       "    <tr>\n",
       "      <th>63448</th>\n",
       "      <td>zzMW6zbsFaQMjoGu2bGVdA</td>\n",
       "      <td>A nice ean BBQ joint right across from some ne...</td>\n",
       "      <td>0</td>\n",
       "      <td>0</td>\n",
       "      <td>1</td>\n",
       "    </tr>\n",
       "    <tr>\n",
       "      <th>63449</th>\n",
       "      <td>scgoa60EvhW2Mz7JMqLYGw</td>\n",
       "      <td>The perfect Hookah bar. I'm not sure what they...</td>\n",
       "      <td>0</td>\n",
       "      <td>0</td>\n",
       "      <td>1</td>\n",
       "    </tr>\n",
       "    <tr>\n",
       "      <th>63450</th>\n",
       "      <td>M7NAWZ9P99ucR66LrxrUOQ</td>\n",
       "      <td>Besides it being super busy often, usually, I ...</td>\n",
       "      <td>0</td>\n",
       "      <td>1</td>\n",
       "      <td>0</td>\n",
       "    </tr>\n",
       "  </tbody>\n",
       "</table>\n",
       "<p>63451 rows × 5 columns</p>\n",
       "</div>"
      ],
      "text/plain": [
       "                    review_id  \\\n",
       "0      NvusujU9_5pIUbn9SZ6hMA   \n",
       "1      vHOeBa7aMA_na4rfS2Db5A   \n",
       "2      hG9RTxxivb0ZXzEk4JXTXA   \n",
       "3      zIVkwgahZjOneChZFUYY4g   \n",
       "4      DLczAuvMAlAnY5EeDGhTVg   \n",
       "...                       ...   \n",
       "63446  OgoBp7fbXnLSKvsQb4O_tw   \n",
       "63447  Q7e8EtZMmdknDrQE7huMoQ   \n",
       "63448  zzMW6zbsFaQMjoGu2bGVdA   \n",
       "63449  scgoa60EvhW2Mz7JMqLYGw   \n",
       "63450  M7NAWZ9P99ucR66LrxrUOQ   \n",
       "\n",
       "                                                    text  negative  neutral  \\\n",
       "0      Stopped by to munch a burger during today's Se...         0        0   \n",
       "1      Yelp doesn't allow to leave 0 star review, so ...         1        0   \n",
       "2      I find it hard to believe there are so many pe...         1        0   \n",
       "3      Love this place! Almost all of their menu item...         0        0   \n",
       "4      Excellent customer service. I wish I could ren...         0        0   \n",
       "...                                                  ...       ...      ...   \n",
       "63446  I really loved the food and service. I mean, t...         0        0   \n",
       "63447  Their Grove location was the bomb. Delicious f...         0        0   \n",
       "63448  A nice ean BBQ joint right across from some ne...         0        0   \n",
       "63449  The perfect Hookah bar. I'm not sure what they...         0        0   \n",
       "63450  Besides it being super busy often, usually, I ...         0        1   \n",
       "\n",
       "       positive  \n",
       "0             1  \n",
       "1             0  \n",
       "2             0  \n",
       "3             1  \n",
       "4             1  \n",
       "...         ...  \n",
       "63446         1  \n",
       "63447         1  \n",
       "63448         1  \n",
       "63449         1  \n",
       "63450         0  \n",
       "\n",
       "[63451 rows x 5 columns]"
      ]
     },
     "execution_count": 2,
     "metadata": {},
     "output_type": "execute_result"
    }
   ],
   "source": [
    "# load review sentiment data\n",
    "\n",
    "review_df = pd.read_csv('data/review_sentiment.csv')\n",
    "\n",
    "review_df"
   ]
  },
  {
   "cell_type": "markdown",
   "metadata": {},
   "source": [
    "### Preprocessing"
   ]
  },
  {
   "cell_type": "code",
   "execution_count": 3,
   "metadata": {},
   "outputs": [],
   "source": [
    "# preprocess the reviews using gensim\n",
    "\n",
    "corpus = []\n",
    "for review in review_df['text']:\n",
    "    corpus.append(simple_preprocess(review))"
   ]
  },
  {
   "cell_type": "code",
   "execution_count": 4,
   "metadata": {},
   "outputs": [
    {
     "name": "stdout",
     "output_type": "stream",
     "text": [
      "--------------------------------------------------\n",
      "['stopped', 'by', 'to', 'munch', 'burger', 'during', 'today', 'seahawks', 'saints', 'game', 'and', 'the', 'place', 'was', 'unsurprisingly', 'packed', 'for', 'good', 'reason', 'too', 'the', 'haven', 'burger', 'ordered', 'was', 'fantastic', 'sat', 'right', 'next', 'to', 'the', 'door', 'so', 'didn', 'get', 'the', 'chance', 'to', 'get', 'more', 'than', 'six', 'feet', 'into', 'the', 'place', 'as', 'soon', 'as', 'got', 'my', 'meal', 'the', 'place', 'started', 'getting', 'busier', 'and', 'busier', 'until', 'had', 'to', 'work', 'my', 'way', 'through', 'the', 'world', 'shortest', 'people', 'maze', 'to', 'get', 'out', 'guess', 'that', 'means', 'wasn', 'the', 'first', 'person', 'to', 'hear', 'about', 'the', 'place', 'will', 'be', 'going', 'back', 'to', 'the', 'haven', 'might', 'go', 'for', 'say', 'lunch', 'on', 'tuesday', 'so', 'it', 'less', 'busy']\n",
      "--------------------------------------------------\n",
      "['yelp', 'doesn', 'allow', 'to', 'leave', 'star', 'review', 'so', 'that', 'is', 'why', 'you', 'see', 'one', 'star', 'me', 'and', 'my', 'wife', 'are', 'moving', 'from', 'ny', 'to', 'south', 'california', 'and', 'we', 'contacted', 'different', 'moving', 'companies', 'sent', 'my', 'initial', 'email', 'to', 'united', 'van', 'lines', 'on', 'and', 'soon', 'got', 'email', 'back', 'with', 'virtual', 'survey', 'confirmation', 'for', 'the', 'lady', 'that', 'did', 'virtual', 'survey', 'was', 'very', 'meticulous', 'and', 'professional', 'and', 'we', 'screened', 'through', 'the', 'whole', 'apartment', 'in', 'minutes', 'no', 'one', 'contacted', 'me', 'after', 'that', 'so', 'sent', 'second', 'email', 'almost', 'month', 'after', 'on', 'asking', 'if', 'everything', 'is', 'ok', 'and', 'if', 'can', 'get', 'the', 'quote', 'don', 'need', 'to', 'mention', 'that', 'other', 'companies', 'sent', 'their', 'quotes', 'in', 'less', 'than', 'hours', 'since', 'no', 'one', 'replied', 'til', 'today', 'called', 'the', 'direct', 'phone', 'and', 'left', 'the', 'message', 'on', 'the', 'answering', 'machine', 'no', 'one', 'called', 'me', 'back', 'hope', 'everything', 'is', 'ok', 'and', 'that', 'no', 'one', 'is', 'hurt', 'because', 'don', 'see', 'any', 'other', 'reasonable', 'explanation', 'why', 'they', 'are', 'avoiding', 'me', 'very', 'very', 'unprofessional']\n",
      "--------------------------------------------------\n",
      "['find', 'it', 'hard', 'to', 'believe', 'there', 'are', 'so', 'many', 'people', 'with', 'such', 'low', 'standards', 'when', 'it', 'comes', 'to', 'the', 'daily', 'bread', 'it', 'is', 'ripoff', 'of', 'st', 'louis', 'bread', 'co', 'panera', 'bread', 'which', 'in', 'of', 'itself', 'don', 'mind', 'at', 'all', 'have', 'eaten', 'multiple', 'times', 'at', 'the', 'daily', 'bread', 'and', 'have', 'yet', 'to', 'have', 'an', 'enjoyable', 'experience', 'the', 'food', 'is', 'so', 'so', 'at', 'best', 'their', 'sandwiches', 'are', 'basic', 'and', 'lack', 'any', 'real', 'flavor', 'also', 'tried', 'the', 'bbq', 'chicken', 'pizza', 'and', 'it', 'was', 'okay', 'certainly', 'wouldn', 'steer', 'anyone', 'away', 'from', 'this', 'place', 'based', 'on', 'the', 'food', 'the', 'food', 'is', 'basic', 'and', 'simple', 'not', 'bad', 'but', 'also', 'nothing', 'great', 'my', 'biggest', 'qualm', 'with', 'the', 'daily', 'bread', 'is', 'the', 'service', 'the', 'majority', 'of', 'the', 'workers', 'seem', 'utterly', 'uninterested', 'in', 'helping', 'out', 'there', 'was', 'line', 'of', 'about', 'people', 'and', 'one', 'person', 'at', 'the', 'register', 'there', 'was', 'no', 'sense', 'of', 'urgency', 'to', 'help', 'any', 'of', 'the', 'customers', 'in', 'line', 'we', 'waited', 'for', 'good', 'minutes', 'to', 'put', 'an', 'order', 'in', 'after', 'receiving', 'our', 'cups', 'to', 'get', 'our', 'drinks', 'we', 'looked', 'for', 'clean', 'place', 'to', 'sit', 'and', 'eventually', 'settled', 'on', 'table', 'top', 'that', 'was', 'the', 'least', 'dirty', 'of', 'the', 'tables', 'available', 'there', 'were', 'plenty', 'of', 'open', 'spots', 'but', 'it', 'just', 'appeared', 'as', 'though', 'there', 'was', 'lots', 'of', 'trash', 'left', 'behind', 'does', 'anyone', 'bus', 'these', 'tables', 'anticipate', 'that', 'people', 'are', 'responsible', 'for', 'cleaning', 'up', 'after', 'themselves', 'but', 'it', 'appeared', 'as', 'though', 'the', 'tables', 'hadn', 'been', 'effectively', 'cleaned', 'in', 'while', 'there', 'was', 'also', 'some', 'trash', 'on', 'the', 'floor', 'that', 'hadn', 'been', 'addressed', 'as', 'well', 'the', 'order', 'number', 'was', 'called', 'and', 'the', 'order', 'was', 'only', 'halfway', 'completed', 'when', 'we', 'asked', 'which', 'sandwich', 'was', 'ours', 'we', 'were', 'basically', 'ignored', 'as', 'the', 'girl', 'put', 'up', 'two', 'more', 'orders', 'after', 'another', 'few', 'minutes', 'the', 'rest', 'of', 'the', 'order', 'came', 'up', 'and', 'we', 'began', 'to', 'eat', 'tried', 'both', 'items', 'and', 'as', 'stated', 'before', 'both', 'were', 'okay', 'the', 'problem', 'is', 'that', 'the', 'food', 'was', 'just', 'unable', 'to', 'make', 'up', 'for', 'the', 'lack', 'of', 'organization', 'the', 'slow', 'speed', 'at', 'which', 'we', 'were', 'served', 'or', 'the', 'cleanliness', 'of', 'the', 'restaurant', 'after', 'attempts', 'writing', 'the', 'daily', 'bread', 'off', 'and', 'won', 'return', 'rather', 'go', 'to', 'st', 'louis', 'bread', 'co', 'get', 'the', 'same', 'level', 'of', 'food', 'but', 'in', 'clean', 'environment', 'and', 'timely', 'setting']\n",
      "--------------------------------------------------\n",
      "['love', 'this', 'place', 'almost', 'all', 'of', 'their', 'menu', 'items', 'can', 'be', 'made', 'vegan', 'they', 'are', 'super', 'knowledgeable', 'the', 'pad', 'thai', 'with', 'tofu', 'veggies', 'and', 'cashews', 'is', 'perfection', 'the', 'avocado', 'egg', 'rolls', 'are', 'amazing', 'too', 'favorite']\n",
      "--------------------------------------------------\n",
      "['excellent', 'customer', 'service', 'wish', 'could', 'rent', 'from', 'there', 'more', 'often', 'had', 'such', 'great', 'experience', 'verses', 'other', 'car', 'rental', 'services', 'rent', 'if', 'you', 'can']\n"
     ]
    }
   ],
   "source": [
    "# see content of processed reviews\n",
    "\n",
    "for review in corpus[:5]:\n",
    "    print('-' * 50)\n",
    "    print(review)"
   ]
  },
  {
   "cell_type": "markdown",
   "metadata": {},
   "source": [
    "### Dense embeddings"
   ]
  },
  {
   "cell_type": "code",
   "execution_count": 5,
   "metadata": {},
   "outputs": [
    {
     "data": {
      "text/plain": [
       "63451"
      ]
     },
     "execution_count": 5,
     "metadata": {},
     "output_type": "execute_result"
    }
   ],
   "source": [
    "# documents representing reviews\n",
    "\n",
    "documents = corpus\n",
    "\n",
    "len(documents)"
   ]
  },
  {
   "cell_type": "code",
   "execution_count": 6,
   "metadata": {},
   "outputs": [
    {
     "name": "stdout",
     "output_type": "stream",
     "text": [
      "['stopped', 'by', 'to', 'munch', 'burger', 'during', 'today', 'seahawks', 'saints', 'game', 'and', 'the', 'place', 'was', 'unsurprisingly', 'packed', 'for', 'good', 'reason', 'too', 'the', 'haven', 'burger', 'ordered', 'was', 'fantastic', 'sat', 'right', 'next', 'to', 'the', 'door', 'so', 'didn', 'get', 'the', 'chance', 'to', 'get', 'more', 'than', 'six', 'feet', 'into', 'the', 'place', 'as', 'soon', 'as', 'got', 'my', 'meal', 'the', 'place', 'started', 'getting', 'busier', 'and', 'busier', 'until', 'had', 'to', 'work', 'my', 'way', 'through', 'the', 'world', 'shortest', 'people', 'maze', 'to', 'get', 'out', 'guess', 'that', 'means', 'wasn', 'the', 'first', 'person', 'to', 'hear', 'about', 'the', 'place', 'will', 'be', 'going', 'back', 'to', 'the', 'haven', 'might', 'go', 'for', 'say', 'lunch', 'on', 'tuesday', 'so', 'it', 'less', 'busy']\n"
     ]
    }
   ],
   "source": [
    "# see contents of documents\n",
    "\n",
    "print(documents[0])"
   ]
  },
  {
   "cell_type": "code",
   "execution_count": 7,
   "metadata": {},
   "outputs": [],
   "source": [
    "# model training\n",
    "\n",
    "model = Word2Vec(documents, vector_size=150, window=10, min_count=2, workers=10, sg=1)"
   ]
  },
  {
   "cell_type": "code",
   "execution_count": 8,
   "metadata": {},
   "outputs": [
    {
     "data": {
      "text/plain": [
       "array([-1.65503006e-02, -7.08080456e-02, -2.54945993e-01, -2.15923153e-02,\n",
       "        5.16927838e-02,  7.79310167e-02,  6.34546801e-02,  1.92393661e-01,\n",
       "        1.17050782e-01,  8.05542618e-02,  1.07546590e-01, -1.55633613e-01,\n",
       "       -1.83467388e-01,  4.39457670e-02, -2.80966666e-02,  3.77290994e-01,\n",
       "       -4.81955931e-02, -9.89525169e-02, -6.92601455e-03,  8.42960104e-02,\n",
       "        2.34686509e-01,  1.44949719e-01,  4.17269558e-01,  1.60662219e-01,\n",
       "        2.48656258e-01,  4.40166827e-04,  1.00164309e-01, -1.92942709e-01,\n",
       "       -1.31843060e-01, -1.66767180e-01, -4.00530808e-02, -1.37355000e-01,\n",
       "        2.75023989e-02, -2.24255383e-01, -1.61918953e-01, -8.39829370e-02,\n",
       "        1.52167762e-02, -6.98088408e-02,  5.44385165e-02,  7.84674585e-02,\n",
       "       -6.42942265e-03, -1.02868855e-01,  1.50404602e-01, -2.08587632e-01,\n",
       "       -6.41967729e-02, -1.65232971e-01, -1.84885100e-01, -1.84646964e-01,\n",
       "       -4.90507856e-02, -4.33915891e-02, -4.29192215e-01,  1.46665424e-01,\n",
       "        1.08686246e-01, -6.43060803e-02,  2.07436025e-01,  7.94972330e-02,\n",
       "        5.51380664e-02, -2.09695801e-01, -1.68136247e-02, -4.46089916e-02,\n",
       "        4.97373581e-01, -2.71611959e-01, -1.66849732e-01, -2.32907385e-01,\n",
       "        1.34541333e-01, -4.36658040e-02, -1.03094250e-01, -3.41363132e-01,\n",
       "        5.01748510e-02, -4.56721243e-03,  2.81730801e-01, -6.94108568e-03,\n",
       "       -1.84992060e-01, -2.28857100e-01,  1.41690448e-01, -3.34123611e-01,\n",
       "       -1.01911068e-01,  1.91590730e-02, -1.03411816e-01, -1.02915093e-01,\n",
       "        1.54779509e-01,  9.35109481e-02,  5.15951663e-02,  4.06939059e-01,\n",
       "       -2.70063668e-01,  7.74299055e-02, -1.47239417e-01, -1.11258171e-01,\n",
       "        6.86794147e-02, -3.49490941e-01,  1.46081761e-01, -1.02718413e-01,\n",
       "        1.39819875e-01, -9.13081467e-02,  9.79944021e-02,  1.02729037e-01,\n",
       "        1.00231633e-01, -2.48891428e-01,  1.01305125e-02,  2.11910591e-01,\n",
       "       -1.87849887e-02,  7.13397115e-02,  1.36526257e-01,  7.67940730e-02,\n",
       "       -1.77249730e-01, -1.22870103e-01,  2.65387267e-01,  2.27563098e-01,\n",
       "       -4.73658681e-01, -8.86797607e-02, -1.17308863e-01, -9.41534936e-02,\n",
       "        3.98164466e-02,  2.35000163e-01, -1.95558220e-02,  1.21874847e-01,\n",
       "        4.53827418e-02,  2.26847112e-01, -1.00163423e-01, -3.32608223e-01,\n",
       "        1.35529786e-01,  9.44408551e-02,  3.97284657e-01,  3.09400588e-01,\n",
       "        2.05427617e-01,  2.23597795e-01,  1.05471216e-01, -1.34443879e-01,\n",
       "       -6.03043176e-02,  3.39180261e-01,  2.63257295e-01,  1.49959341e-01,\n",
       "        2.68889397e-01, -5.91675229e-02,  2.93192267e-02, -1.20479397e-01,\n",
       "       -5.49064055e-02, -7.62728304e-02, -2.23459527e-01,  3.37018184e-02,\n",
       "        2.39598140e-01,  9.85158794e-03, -2.30951637e-01, -2.11261153e-01,\n",
       "        1.37649506e-01,  4.63200398e-02,  1.23811826e-01, -2.44981376e-03,\n",
       "        2.93790191e-01, -1.20345280e-01], dtype=float32)"
      ]
     },
     "execution_count": 8,
     "metadata": {},
     "output_type": "execute_result"
    }
   ],
   "source": [
    "# embeddings\n",
    "\n",
    "model.wv.get_vector(\"good\")"
   ]
  },
  {
   "cell_type": "code",
   "execution_count": 9,
   "metadata": {},
   "outputs": [
    {
     "data": {
      "text/plain": [
       "[('tasty', 0.7680354714393616),\n",
       " ('great', 0.7627661824226379),\n",
       " ('decent', 0.7317320704460144),\n",
       " ('gooood', 0.7040425539016724),\n",
       " ('gauc', 0.7019708156585693),\n",
       " ('unflavorful', 0.6997774243354797),\n",
       " ('ok', 0.6969814300537109),\n",
       " ('definetly', 0.6947609186172485),\n",
       " ('verdes', 0.6933496594429016),\n",
       " ('darned', 0.6928594708442688)]"
      ]
     },
     "execution_count": 9,
     "metadata": {},
     "output_type": "execute_result"
    }
   ],
   "source": [
    "# similarity\n",
    "\n",
    "model.wv.most_similar(positive=\"good\")"
   ]
  },
  {
   "cell_type": "code",
   "execution_count": 10,
   "metadata": {},
   "outputs": [
    {
     "data": {
      "text/plain": [
       "[('terrible', 0.717540979385376),\n",
       " ('horrible', 0.6636315584182739),\n",
       " ('good', 0.6622781157493591),\n",
       " ('crappy', 0.6444217562675476),\n",
       " ('poor', 0.6270184516906738),\n",
       " ('sucked', 0.6244748830795288),\n",
       " ('affects', 0.6189008951187134),\n",
       " ('harsh', 0.6166673898696899),\n",
       " ('crummy', 0.6163368821144104),\n",
       " ('bleh', 0.6150140166282654)]"
      ]
     },
     "execution_count": 10,
     "metadata": {},
     "output_type": "execute_result"
    }
   ],
   "source": [
    "# similarity\n",
    "\n",
    "model.wv.most_similar(positive=\"bad\")"
   ]
  },
  {
   "cell_type": "code",
   "execution_count": 12,
   "metadata": {},
   "outputs": [],
   "source": [
    "# save full model (including trainable vectors to resume training)\n",
    "\n",
    "model.save(\"embeddings/reviews_model\")"
   ]
  },
  {
   "cell_type": "code",
   "execution_count": 13,
   "metadata": {},
   "outputs": [],
   "source": [
    "# save model word vectors\n",
    "\n",
    "model.wv.save(\"embeddings/reviews_wv\")"
   ]
  },
  {
   "cell_type": "markdown",
   "metadata": {},
   "source": [
    "### Vector visualization"
   ]
  },
  {
   "cell_type": "code",
   "execution_count": 14,
   "metadata": {},
   "outputs": [],
   "source": [
    "def reduce_dimensions(model, num_dimensions=2, words=[]):\n",
    "    '''\n",
    "    Reduce the dimensions of the word vectors using t-SNE for plotting\n",
    "    '''\n",
    "    vectors = []\n",
    "    labels = []\n",
    "    if (words == []):\n",
    "        words = model.wv.index_to_key\n",
    "    for word in words:\n",
    "        vectors.append(model.wv[word])\n",
    "        labels.append(word)\n",
    "    vectors = np.asarray(vectors)\n",
    "    labels = np.asarray(labels)\n",
    "    tsne = TSNE(n_components=num_dimensions, random_state=0, perplexity=2.0)\n",
    "    vectors = tsne.fit_transform(vectors)\n",
    "    return vectors, labels"
   ]
  },
  {
   "cell_type": "code",
   "execution_count": 15,
   "metadata": {},
   "outputs": [],
   "source": [
    "def plot_word_vectors(x_vals, y_vals, labels, words=[]):\n",
    "    '''\n",
    "    Plot the reduced dimensions of the word vectors using matplotlib\n",
    "    '''\n",
    "    random.seed(0)\n",
    "    x_vals_new = np.array([])\n",
    "    y_vals_new = np.array([])\n",
    "    labels_new = np.array([])\n",
    "    if(words == []):\n",
    "        x_vals_new = x_vals\n",
    "        y_vals_new = y_vals\n",
    "        labels_new = labels\n",
    "    else:\n",
    "        for i in range(len(labels)):\n",
    "            if(labels[i] in words):\n",
    "                x_vals_new = np.append(x_vals_new,x_vals[i])\n",
    "                y_vals_new = np.append(y_vals_new,y_vals[i])\n",
    "                labels_new = np.append(labels_new,labels[i])\n",
    "    plt.figure(figsize=(12, 12))\n",
    "    plt.scatter(x_vals_new, y_vals_new)\n",
    "    for i in range(len(labels_new)):\n",
    "        plt.annotate(labels_new[i], (x_vals_new[i], y_vals_new[i]))\n",
    "    plt.show()"
   ]
  },
  {
   "cell_type": "code",
   "execution_count": 18,
   "metadata": {},
   "outputs": [
    {
     "data": {
      "image/png": "[encoded data removed]",
      "text/plain": [
       "<Figure size 1200x1200 with 1 Axes>"
      ]
     },
     "metadata": {},
     "output_type": "display_data"
    }
   ],
   "source": [
    "# visualize word vectors\n",
    "\n",
    "all_words = [word for doc in documents for word in doc]\n",
    "words = random.sample(all_words, 50)\n",
    "\n",
    "vectors, labels = reduce_dimensions(model, 3, words)\n",
    "x_vals = [v[0] for v in vectors]\n",
    "y_vals = [v[1] for v in vectors]\n",
    "\n",
    "plot_word_vectors(x_vals, y_vals, labels, words)\n",
    "\n",
    "# TODO: maybe select a few interesting words to visualize their distances"
   ]
  }
 ],
 "metadata": {
  "kernelspec": {
   "display_name": "Python 3",
   "language": "python",
   "name": "python3"
  },
  "language_info": {
   "codemirror_mode": {
    "name": "ipython",
    "version": 3
   },
   "file_extension": ".py",
   "mimetype": "text/x-python",
   "name": "python",
   "nbconvert_exporter": "python",
   "pygments_lexer": "ipython3",
   "version": "3.10.10"
  }
 },
 "nbformat": 4,
 "nbformat_minor": 2
}
