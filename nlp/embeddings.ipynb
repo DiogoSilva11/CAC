{
 "cells": [
  {
   "cell_type": "markdown",
   "metadata": {},
   "source": [
    "# Word Embeddings"
   ]
  },
  {
   "cell_type": "markdown",
   "metadata": {},
   "source": [
    "### Libraries"
   ]
  },
  {
   "cell_type": "code",
   "execution_count": 3,
   "metadata": {},
   "outputs": [],
   "source": [
    "# import libraries\n",
    "\n",
    "import random\n",
    "\n",
    "import pandas as pd\n",
    "import numpy as np\n",
    "import matplotlib.pyplot as plt\n",
    "\n",
    "from gensim.utils import simple_preprocess\n",
    "from gensim.models import Word2Vec\n",
    "from sklearn.manifold import TSNE"
   ]
  },
  {
   "cell_type": "markdown",
   "metadata": {},
   "source": [
    "### Datasets"
   ]
  },
  {
   "cell_type": "code",
   "execution_count": 2,
   "metadata": {},
   "outputs": [
    {
     "data": {
      "text/html": [
       "<div>\n",
       "<style scoped>\n",
       "    .dataframe tbody tr th:only-of-type {\n",
       "        vertical-align: middle;\n",
       "    }\n",
       "\n",
       "    .dataframe tbody tr th {\n",
       "        vertical-align: top;\n",
       "    }\n",
       "\n",
       "    .dataframe thead th {\n",
       "        text-align: right;\n",
       "    }\n",
       "</style>\n",
       "<table border=\"1\" class=\"dataframe\">\n",
       "  <thead>\n",
       "    <tr style=\"text-align: right;\">\n",
       "      <th></th>\n",
       "      <th>review_id</th>\n",
       "      <th>text</th>\n",
       "      <th>positive</th>\n",
       "      <th>neutral</th>\n",
       "      <th>negative</th>\n",
       "    </tr>\n",
       "  </thead>\n",
       "  <tbody>\n",
       "    <tr>\n",
       "      <th>0</th>\n",
       "      <td>NvusujU9_5pIUbn9SZ6hMA</td>\n",
       "      <td>Stopped by to munch a burger during today's Se...</td>\n",
       "      <td>1</td>\n",
       "      <td>0</td>\n",
       "      <td>0</td>\n",
       "    </tr>\n",
       "    <tr>\n",
       "      <th>1</th>\n",
       "      <td>vHOeBa7aMA_na4rfS2Db5A</td>\n",
       "      <td>Yelp doesn't allow to leave 0 star review, so ...</td>\n",
       "      <td>0</td>\n",
       "      <td>0</td>\n",
       "      <td>1</td>\n",
       "    </tr>\n",
       "    <tr>\n",
       "      <th>2</th>\n",
       "      <td>hG9RTxxivb0ZXzEk4JXTXA</td>\n",
       "      <td>I find it hard to believe there are so many pe...</td>\n",
       "      <td>0</td>\n",
       "      <td>0</td>\n",
       "      <td>1</td>\n",
       "    </tr>\n",
       "    <tr>\n",
       "      <th>3</th>\n",
       "      <td>zIVkwgahZjOneChZFUYY4g</td>\n",
       "      <td>Love this place! Almost all of their menu item...</td>\n",
       "      <td>1</td>\n",
       "      <td>0</td>\n",
       "      <td>0</td>\n",
       "    </tr>\n",
       "    <tr>\n",
       "      <th>4</th>\n",
       "      <td>DLczAuvMAlAnY5EeDGhTVg</td>\n",
       "      <td>Excellent customer service. I wish I could ren...</td>\n",
       "      <td>1</td>\n",
       "      <td>0</td>\n",
       "      <td>0</td>\n",
       "    </tr>\n",
       "    <tr>\n",
       "      <th>...</th>\n",
       "      <td>...</td>\n",
       "      <td>...</td>\n",
       "      <td>...</td>\n",
       "      <td>...</td>\n",
       "      <td>...</td>\n",
       "    </tr>\n",
       "    <tr>\n",
       "      <th>63446</th>\n",
       "      <td>OgoBp7fbXnLSKvsQb4O_tw</td>\n",
       "      <td>I really loved the food and service. I mean, t...</td>\n",
       "      <td>1</td>\n",
       "      <td>0</td>\n",
       "      <td>0</td>\n",
       "    </tr>\n",
       "    <tr>\n",
       "      <th>63447</th>\n",
       "      <td>Q7e8EtZMmdknDrQE7huMoQ</td>\n",
       "      <td>Their Grove location was the bomb. Delicious f...</td>\n",
       "      <td>1</td>\n",
       "      <td>0</td>\n",
       "      <td>0</td>\n",
       "    </tr>\n",
       "    <tr>\n",
       "      <th>63448</th>\n",
       "      <td>zzMW6zbsFaQMjoGu2bGVdA</td>\n",
       "      <td>A nice ean BBQ joint right across from some ne...</td>\n",
       "      <td>1</td>\n",
       "      <td>0</td>\n",
       "      <td>0</td>\n",
       "    </tr>\n",
       "    <tr>\n",
       "      <th>63449</th>\n",
       "      <td>scgoa60EvhW2Mz7JMqLYGw</td>\n",
       "      <td>The perfect Hookah bar. I'm not sure what they...</td>\n",
       "      <td>1</td>\n",
       "      <td>0</td>\n",
       "      <td>0</td>\n",
       "    </tr>\n",
       "    <tr>\n",
       "      <th>63450</th>\n",
       "      <td>M7NAWZ9P99ucR66LrxrUOQ</td>\n",
       "      <td>Besides it being super busy often, usually, I ...</td>\n",
       "      <td>0</td>\n",
       "      <td>1</td>\n",
       "      <td>0</td>\n",
       "    </tr>\n",
       "  </tbody>\n",
       "</table>\n",
       "<p>63451 rows × 5 columns</p>\n",
       "</div>"
      ],
      "text/plain": [
       "                    review_id  \\\n",
       "0      NvusujU9_5pIUbn9SZ6hMA   \n",
       "1      vHOeBa7aMA_na4rfS2Db5A   \n",
       "2      hG9RTxxivb0ZXzEk4JXTXA   \n",
       "3      zIVkwgahZjOneChZFUYY4g   \n",
       "4      DLczAuvMAlAnY5EeDGhTVg   \n",
       "...                       ...   \n",
       "63446  OgoBp7fbXnLSKvsQb4O_tw   \n",
       "63447  Q7e8EtZMmdknDrQE7huMoQ   \n",
       "63448  zzMW6zbsFaQMjoGu2bGVdA   \n",
       "63449  scgoa60EvhW2Mz7JMqLYGw   \n",
       "63450  M7NAWZ9P99ucR66LrxrUOQ   \n",
       "\n",
       "                                                    text  positive  neutral  \\\n",
       "0      Stopped by to munch a burger during today's Se...         1        0   \n",
       "1      Yelp doesn't allow to leave 0 star review, so ...         0        0   \n",
       "2      I find it hard to believe there are so many pe...         0        0   \n",
       "3      Love this place! Almost all of their menu item...         1        0   \n",
       "4      Excellent customer service. I wish I could ren...         1        0   \n",
       "...                                                  ...       ...      ...   \n",
       "63446  I really loved the food and service. I mean, t...         1        0   \n",
       "63447  Their Grove location was the bomb. Delicious f...         1        0   \n",
       "63448  A nice ean BBQ joint right across from some ne...         1        0   \n",
       "63449  The perfect Hookah bar. I'm not sure what they...         1        0   \n",
       "63450  Besides it being super busy often, usually, I ...         0        1   \n",
       "\n",
       "       negative  \n",
       "0             0  \n",
       "1             1  \n",
       "2             1  \n",
       "3             0  \n",
       "4             0  \n",
       "...         ...  \n",
       "63446         0  \n",
       "63447         0  \n",
       "63448         0  \n",
       "63449         0  \n",
       "63450         0  \n",
       "\n",
       "[63451 rows x 5 columns]"
      ]
     },
     "execution_count": 2,
     "metadata": {},
     "output_type": "execute_result"
    }
   ],
   "source": [
    "# load review sentiment data\n",
    "\n",
    "review_df = pd.read_csv('review_sentiment.csv')\n",
    "\n",
    "review_df"
   ]
  },
  {
   "cell_type": "markdown",
   "metadata": {},
   "source": [
    "### Preprocessing"
   ]
  },
  {
   "cell_type": "code",
   "execution_count": 4,
   "metadata": {},
   "outputs": [],
   "source": [
    "# preprocess the reviews using gensim\n",
    "\n",
    "corpus = []\n",
    "for review in review_df['text']:\n",
    "    corpus.append(simple_preprocess(review))"
   ]
  },
  {
   "cell_type": "code",
   "execution_count": 5,
   "metadata": {},
   "outputs": [
    {
     "name": "stdout",
     "output_type": "stream",
     "text": [
      "--------------------------------------------------\n",
      "['stopped', 'by', 'to', 'munch', 'burger', 'during', 'today', 'seahawks', 'saints', 'game', 'and', 'the', 'place', 'was', 'unsurprisingly', 'packed', 'for', 'good', 'reason', 'too', 'the', 'haven', 'burger', 'ordered', 'was', 'fantastic', 'sat', 'right', 'next', 'to', 'the', 'door', 'so', 'didn', 'get', 'the', 'chance', 'to', 'get', 'more', 'than', 'six', 'feet', 'into', 'the', 'place', 'as', 'soon', 'as', 'got', 'my', 'meal', 'the', 'place', 'started', 'getting', 'busier', 'and', 'busier', 'until', 'had', 'to', 'work', 'my', 'way', 'through', 'the', 'world', 'shortest', 'people', 'maze', 'to', 'get', 'out', 'guess', 'that', 'means', 'wasn', 'the', 'first', 'person', 'to', 'hear', 'about', 'the', 'place', 'will', 'be', 'going', 'back', 'to', 'the', 'haven', 'might', 'go', 'for', 'say', 'lunch', 'on', 'tuesday', 'so', 'it', 'less', 'busy']\n",
      "--------------------------------------------------\n",
      "['yelp', 'doesn', 'allow', 'to', 'leave', 'star', 'review', 'so', 'that', 'is', 'why', 'you', 'see', 'one', 'star', 'me', 'and', 'my', 'wife', 'are', 'moving', 'from', 'ny', 'to', 'south', 'california', 'and', 'we', 'contacted', 'different', 'moving', 'companies', 'sent', 'my', 'initial', 'email', 'to', 'united', 'van', 'lines', 'on', 'and', 'soon', 'got', 'email', 'back', 'with', 'virtual', 'survey', 'confirmation', 'for', 'the', 'lady', 'that', 'did', 'virtual', 'survey', 'was', 'very', 'meticulous', 'and', 'professional', 'and', 'we', 'screened', 'through', 'the', 'whole', 'apartment', 'in', 'minutes', 'no', 'one', 'contacted', 'me', 'after', 'that', 'so', 'sent', 'second', 'email', 'almost', 'month', 'after', 'on', 'asking', 'if', 'everything', 'is', 'ok', 'and', 'if', 'can', 'get', 'the', 'quote', 'don', 'need', 'to', 'mention', 'that', 'other', 'companies', 'sent', 'their', 'quotes', 'in', 'less', 'than', 'hours', 'since', 'no', 'one', 'replied', 'til', 'today', 'called', 'the', 'direct', 'phone', 'and', 'left', 'the', 'message', 'on', 'the', 'answering', 'machine', 'no', 'one', 'called', 'me', 'back', 'hope', 'everything', 'is', 'ok', 'and', 'that', 'no', 'one', 'is', 'hurt', 'because', 'don', 'see', 'any', 'other', 'reasonable', 'explanation', 'why', 'they', 'are', 'avoiding', 'me', 'very', 'very', 'unprofessional']\n",
      "--------------------------------------------------\n",
      "['find', 'it', 'hard', 'to', 'believe', 'there', 'are', 'so', 'many', 'people', 'with', 'such', 'low', 'standards', 'when', 'it', 'comes', 'to', 'the', 'daily', 'bread', 'it', 'is', 'ripoff', 'of', 'st', 'louis', 'bread', 'co', 'panera', 'bread', 'which', 'in', 'of', 'itself', 'don', 'mind', 'at', 'all', 'have', 'eaten', 'multiple', 'times', 'at', 'the', 'daily', 'bread', 'and', 'have', 'yet', 'to', 'have', 'an', 'enjoyable', 'experience', 'the', 'food', 'is', 'so', 'so', 'at', 'best', 'their', 'sandwiches', 'are', 'basic', 'and', 'lack', 'any', 'real', 'flavor', 'also', 'tried', 'the', 'bbq', 'chicken', 'pizza', 'and', 'it', 'was', 'okay', 'certainly', 'wouldn', 'steer', 'anyone', 'away', 'from', 'this', 'place', 'based', 'on', 'the', 'food', 'the', 'food', 'is', 'basic', 'and', 'simple', 'not', 'bad', 'but', 'also', 'nothing', 'great', 'my', 'biggest', 'qualm', 'with', 'the', 'daily', 'bread', 'is', 'the', 'service', 'the', 'majority', 'of', 'the', 'workers', 'seem', 'utterly', 'uninterested', 'in', 'helping', 'out', 'there', 'was', 'line', 'of', 'about', 'people', 'and', 'one', 'person', 'at', 'the', 'register', 'there', 'was', 'no', 'sense', 'of', 'urgency', 'to', 'help', 'any', 'of', 'the', 'customers', 'in', 'line', 'we', 'waited', 'for', 'good', 'minutes', 'to', 'put', 'an', 'order', 'in', 'after', 'receiving', 'our', 'cups', 'to', 'get', 'our', 'drinks', 'we', 'looked', 'for', 'clean', 'place', 'to', 'sit', 'and', 'eventually', 'settled', 'on', 'table', 'top', 'that', 'was', 'the', 'least', 'dirty', 'of', 'the', 'tables', 'available', 'there', 'were', 'plenty', 'of', 'open', 'spots', 'but', 'it', 'just', 'appeared', 'as', 'though', 'there', 'was', 'lots', 'of', 'trash', 'left', 'behind', 'does', 'anyone', 'bus', 'these', 'tables', 'anticipate', 'that', 'people', 'are', 'responsible', 'for', 'cleaning', 'up', 'after', 'themselves', 'but', 'it', 'appeared', 'as', 'though', 'the', 'tables', 'hadn', 'been', 'effectively', 'cleaned', 'in', 'while', 'there', 'was', 'also', 'some', 'trash', 'on', 'the', 'floor', 'that', 'hadn', 'been', 'addressed', 'as', 'well', 'the', 'order', 'number', 'was', 'called', 'and', 'the', 'order', 'was', 'only', 'halfway', 'completed', 'when', 'we', 'asked', 'which', 'sandwich', 'was', 'ours', 'we', 'were', 'basically', 'ignored', 'as', 'the', 'girl', 'put', 'up', 'two', 'more', 'orders', 'after', 'another', 'few', 'minutes', 'the', 'rest', 'of', 'the', 'order', 'came', 'up', 'and', 'we', 'began', 'to', 'eat', 'tried', 'both', 'items', 'and', 'as', 'stated', 'before', 'both', 'were', 'okay', 'the', 'problem', 'is', 'that', 'the', 'food', 'was', 'just', 'unable', 'to', 'make', 'up', 'for', 'the', 'lack', 'of', 'organization', 'the', 'slow', 'speed', 'at', 'which', 'we', 'were', 'served', 'or', 'the', 'cleanliness', 'of', 'the', 'restaurant', 'after', 'attempts', 'writing', 'the', 'daily', 'bread', 'off', 'and', 'won', 'return', 'rather', 'go', 'to', 'st', 'louis', 'bread', 'co', 'get', 'the', 'same', 'level', 'of', 'food', 'but', 'in', 'clean', 'environment', 'and', 'timely', 'setting']\n",
      "--------------------------------------------------\n",
      "['love', 'this', 'place', 'almost', 'all', 'of', 'their', 'menu', 'items', 'can', 'be', 'made', 'vegan', 'they', 'are', 'super', 'knowledgeable', 'the', 'pad', 'thai', 'with', 'tofu', 'veggies', 'and', 'cashews', 'is', 'perfection', 'the', 'avocado', 'egg', 'rolls', 'are', 'amazing', 'too', 'favorite']\n",
      "--------------------------------------------------\n",
      "['excellent', 'customer', 'service', 'wish', 'could', 'rent', 'from', 'there', 'more', 'often', 'had', 'such', 'great', 'experience', 'verses', 'other', 'car', 'rental', 'services', 'rent', 'if', 'you', 'can']\n"
     ]
    }
   ],
   "source": [
    "# see content of processed reviews\n",
    "\n",
    "for review in corpus[:5]:\n",
    "    print('-' * 50)\n",
    "    print(review)"
   ]
  },
  {
   "cell_type": "markdown",
   "metadata": {},
   "source": [
    "### Dense embeddings"
   ]
  },
  {
   "cell_type": "code",
   "execution_count": 11,
   "metadata": {},
   "outputs": [
    {
     "data": {
      "text/plain": [
       "63451"
      ]
     },
     "execution_count": 11,
     "metadata": {},
     "output_type": "execute_result"
    }
   ],
   "source": [
    "# documents representing reviews\n",
    "\n",
    "documents = corpus\n",
    "\n",
    "len(documents)"
   ]
  },
  {
   "cell_type": "code",
   "execution_count": 12,
   "metadata": {},
   "outputs": [
    {
     "name": "stdout",
     "output_type": "stream",
     "text": [
      "['stopped', 'by', 'to', 'munch', 'burger', 'during', 'today', 'seahawks', 'saints', 'game', 'and', 'the', 'place', 'was', 'unsurprisingly', 'packed', 'for', 'good', 'reason', 'too', 'the', 'haven', 'burger', 'ordered', 'was', 'fantastic', 'sat', 'right', 'next', 'to', 'the', 'door', 'so', 'didn', 'get', 'the', 'chance', 'to', 'get', 'more', 'than', 'six', 'feet', 'into', 'the', 'place', 'as', 'soon', 'as', 'got', 'my', 'meal', 'the', 'place', 'started', 'getting', 'busier', 'and', 'busier', 'until', 'had', 'to', 'work', 'my', 'way', 'through', 'the', 'world', 'shortest', 'people', 'maze', 'to', 'get', 'out', 'guess', 'that', 'means', 'wasn', 'the', 'first', 'person', 'to', 'hear', 'about', 'the', 'place', 'will', 'be', 'going', 'back', 'to', 'the', 'haven', 'might', 'go', 'for', 'say', 'lunch', 'on', 'tuesday', 'so', 'it', 'less', 'busy']\n"
     ]
    }
   ],
   "source": [
    "# see contents of documents\n",
    "\n",
    "print(documents[0])"
   ]
  },
  {
   "cell_type": "code",
   "execution_count": 13,
   "metadata": {},
   "outputs": [],
   "source": [
    "# model training\n",
    "\n",
    "model = Word2Vec(documents, vector_size=150, window=10, min_count=2, workers=10, sg=1)"
   ]
  },
  {
   "cell_type": "code",
   "execution_count": 14,
   "metadata": {},
   "outputs": [
    {
     "data": {
      "text/plain": [
       "array([-2.16018721e-01, -6.42977431e-02, -9.90256434e-04,  1.71694197e-02,\n",
       "        2.70710409e-01, -4.43431474e-02,  2.16883779e-01,  2.56874830e-01,\n",
       "        1.77468270e-01,  4.68945429e-02,  2.43836716e-01, -1.06404543e-01,\n",
       "       -2.29408145e-01,  9.13602039e-02, -1.47572160e-01,  2.50020176e-01,\n",
       "        1.99610298e-03, -9.40790251e-02, -5.96108176e-02,  1.22396260e-01,\n",
       "        8.68441239e-02, -6.89013004e-02,  2.73171932e-01,  1.57560661e-01,\n",
       "        1.16040193e-01,  1.01271078e-01, -5.70209250e-02,  3.83393243e-02,\n",
       "       -1.47125870e-01, -1.48275390e-01,  4.02981304e-02,  2.45573431e-01,\n",
       "        1.52489677e-01, -1.79623619e-01, -1.79631159e-01,  4.06486448e-03,\n",
       "       -1.84074283e-01,  1.03501119e-02,  6.37542903e-02,  2.73255527e-01,\n",
       "        9.80985984e-02, -7.02908486e-02,  1.40460543e-02, -1.36867464e-01,\n",
       "        8.75460207e-02,  4.23871912e-02, -1.85557768e-01,  2.82960478e-02,\n",
       "       -6.52791038e-02,  1.45767722e-02, -3.03036571e-01,  6.15699403e-02,\n",
       "        1.89170331e-01, -8.71393085e-03,  1.30792022e-01, -1.47015885e-01,\n",
       "        8.14902261e-02, -1.87602580e-01, -1.75614089e-01, -3.90289091e-02,\n",
       "        2.72608548e-01, -4.76955324e-01, -1.24490904e-02, -8.85930434e-02,\n",
       "        2.38774359e-01, -1.06778778e-01, -5.15971705e-02, -3.56077939e-01,\n",
       "       -3.93306538e-02, -7.99314901e-02,  5.60808973e-03, -1.32742934e-02,\n",
       "       -2.46933475e-02, -3.81018102e-01,  1.92442492e-01, -2.70099461e-01,\n",
       "        2.42286809e-02,  1.88342586e-01, -2.09000215e-01, -1.20158494e-01,\n",
       "        1.15445979e-01, -9.23448876e-02, -2.07161680e-01,  4.76517230e-01,\n",
       "       -1.80057481e-01,  6.19562715e-02, -8.60004947e-02, -1.42017260e-01,\n",
       "       -6.46854043e-02, -2.06304356e-01,  1.86253279e-01, -1.92470893e-01,\n",
       "       -5.95177822e-02, -1.68963373e-01,  2.61565387e-01,  4.42199707e-02,\n",
       "        1.87766537e-01,  6.92694560e-02, -8.65476206e-02,  1.98673382e-01,\n",
       "       -4.02966812e-02,  7.99116865e-02, -2.16010138e-01,  1.12640902e-01,\n",
       "       -9.23476294e-02, -2.52805859e-01,  3.47900033e-01,  1.78959206e-01,\n",
       "       -4.73525435e-01, -3.52708966e-01,  2.76156049e-03, -1.89167976e-01,\n",
       "        1.24821581e-01, -1.24177653e-02,  5.40663935e-02,  1.42960191e-01,\n",
       "        1.65848866e-01,  1.35964170e-01, -2.07121804e-01, -2.88772285e-01,\n",
       "        1.69916928e-01,  1.29413307e-01,  2.62828201e-01,  1.17547743e-01,\n",
       "        1.43728435e-01,  2.09133536e-01, -1.16368294e-01, -2.24671483e-01,\n",
       "        3.89016382e-02,  3.01825225e-01,  3.52810621e-01,  1.90774202e-01,\n",
       "        3.55241358e-01, -1.71113104e-01,  1.85220972e-01, -1.32874027e-01,\n",
       "       -8.67209956e-02,  6.94799125e-02, -6.14909306e-02, -1.64851900e-02,\n",
       "        6.99998764e-03,  1.62102520e-01,  1.08706474e-01, -1.73806727e-01,\n",
       "        6.67673871e-02,  1.25012157e-04, -1.10367872e-02, -9.80787426e-02,\n",
       "        1.45815596e-01, -2.40891799e-01], dtype=float32)"
      ]
     },
     "execution_count": 14,
     "metadata": {},
     "output_type": "execute_result"
    }
   ],
   "source": [
    "# embeddings\n",
    "\n",
    "model.wv.get_vector(\"good\")"
   ]
  },
  {
   "cell_type": "code",
   "execution_count": 15,
   "metadata": {},
   "outputs": [
    {
     "data": {
      "text/plain": [
       "[('decent', 0.768552839756012),\n",
       " ('great', 0.760156512260437),\n",
       " ('tasty', 0.7574518918991089),\n",
       " ('justifiable', 0.709621012210846),\n",
       " ('egregiously', 0.7045932412147522),\n",
       " ('definetly', 0.7034106850624084),\n",
       " ('enviroment', 0.702587902545929),\n",
       " ('zapp', 0.7014052867889404),\n",
       " ('delicious', 0.7007278203964233),\n",
       " ('gauc', 0.7004209756851196)]"
      ]
     },
     "execution_count": 15,
     "metadata": {},
     "output_type": "execute_result"
    }
   ],
   "source": [
    "# similarity\n",
    "\n",
    "model.wv.most_similar(positive=\"good\")"
   ]
  },
  {
   "cell_type": "code",
   "execution_count": 16,
   "metadata": {},
   "outputs": [
    {
     "data": {
      "text/plain": [
       "[('terrible', 0.7282092571258545),\n",
       " ('horrible', 0.6699198484420776),\n",
       " ('good', 0.6643328070640564),\n",
       " ('marred', 0.6565530300140381),\n",
       " ('ehh', 0.6371792554855347),\n",
       " ('sucked', 0.6368367671966553),\n",
       " ('veiny', 0.6348840594291687),\n",
       " ('harsh', 0.6341089010238647),\n",
       " ('crappy', 0.6335166096687317),\n",
       " ('awful', 0.6224693655967712)]"
      ]
     },
     "execution_count": 16,
     "metadata": {},
     "output_type": "execute_result"
    }
   ],
   "source": [
    "# similarity\n",
    "\n",
    "model.wv.most_similar(positive=\"bad\")"
   ]
  },
  {
   "cell_type": "code",
   "execution_count": 17,
   "metadata": {},
   "outputs": [],
   "source": [
    "# save full model (including trainable vectors to resume training)\n",
    "\n",
    "model.save(\"reviews_model\")"
   ]
  },
  {
   "cell_type": "code",
   "execution_count": 18,
   "metadata": {},
   "outputs": [],
   "source": [
    "# save model word vectors\n",
    "\n",
    "model.wv.save(\"reviews_wv\")"
   ]
  },
  {
   "cell_type": "markdown",
   "metadata": {},
   "source": [
    "### Vector visualization"
   ]
  },
  {
   "cell_type": "code",
   "execution_count": 19,
   "metadata": {},
   "outputs": [],
   "source": [
    "def reduce_dimensions(model, num_dimensions=2, words=[]):\n",
    "    '''\n",
    "    Reduce the dimensions of the word vectors using t-SNE for plotting\n",
    "    '''\n",
    "    vectors = []\n",
    "    labels = []\n",
    "    if (words == []):\n",
    "        words = model.wv.index_to_key\n",
    "    for word in words:\n",
    "        vectors.append(model.wv[word])\n",
    "        labels.append(word)\n",
    "    vectors = np.asarray(vectors)\n",
    "    labels = np.asarray(labels)\n",
    "    tsne = TSNE(n_components=num_dimensions, random_state=0, perplexity=2.0)\n",
    "    vectors = tsne.fit_transform(vectors)\n",
    "    return vectors, labels"
   ]
  },
  {
   "cell_type": "code",
   "execution_count": 20,
   "metadata": {},
   "outputs": [],
   "source": [
    "def plot_word_vectors(x_vals, y_vals, labels, words=[]):\n",
    "    '''\n",
    "    Plot the reduced dimensions of the word vectors using matplotlib\n",
    "    '''\n",
    "    random.seed(0)\n",
    "    x_vals_new = np.array([])\n",
    "    y_vals_new = np.array([])\n",
    "    labels_new = np.array([])\n",
    "    if(words == []):\n",
    "        x_vals_new = x_vals\n",
    "        y_vals_new = y_vals\n",
    "        labels_new = labels\n",
    "    else:\n",
    "        for i in range(len(labels)):\n",
    "            if(labels[i] in words):\n",
    "                x_vals_new = np.append(x_vals_new,x_vals[i])\n",
    "                y_vals_new = np.append(y_vals_new,y_vals[i])\n",
    "                labels_new = np.append(labels_new,labels[i])\n",
    "    plt.figure(figsize=(12, 12))\n",
    "    plt.scatter(x_vals_new, y_vals_new)\n",
    "    for i in range(len(labels_new)):\n",
    "        plt.annotate(labels_new[i], (x_vals_new[i], y_vals_new[i]))\n",
    "    plt.show()"
   ]
  },
  {
   "cell_type": "code",
   "execution_count": 25,
   "metadata": {},
   "outputs": [
    {
     "data": {
      "image/png": "[encoded data removed]",
      "text/plain": [
       "<Figure size 1200x1200 with 1 Axes>"
      ]
     },
     "metadata": {},
     "output_type": "display_data"
    }
   ],
   "source": [
    "# visualize word vectors\n",
    "\n",
    "all_words = [word for doc in documents for word in doc]\n",
    "words = random.sample(all_words, 50)\n",
    "\n",
    "vectors, labels = reduce_dimensions(model, 3, words)\n",
    "x_vals = [v[0] for v in vectors]\n",
    "y_vals = [v[1] for v in vectors]\n",
    "\n",
    "plot_word_vectors(x_vals, y_vals, labels, words)"
   ]
  }
 ],
 "metadata": {
  "kernelspec": {
   "display_name": "Python 3",
   "language": "python",
   "name": "python3"
  },
  "language_info": {
   "codemirror_mode": {
    "name": "ipython",
    "version": 3
   },
   "file_extension": ".py",
   "mimetype": "text/x-python",
   "name": "python",
   "nbconvert_exporter": "python",
   "pygments_lexer": "ipython3",
   "version": "3.10.10"
  }
 },
 "nbformat": 4,
 "nbformat_minor": 2
}
