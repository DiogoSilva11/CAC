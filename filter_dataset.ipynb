{
 "cells": [
  {
   "cell_type": "code",
   "execution_count": 4,
   "id": "initial_id",
   "metadata": {
    "collapsed": true,
    "ExecuteTime": {
     "end_time": "2024-04-24T14:37:50.878687Z",
     "start_time": "2024-04-24T14:37:50.875857Z"
    }
   },
   "outputs": [],
   "source": [
    "from utils import read_chunks"
   ]
  },
  {
   "cell_type": "code",
   "execution_count": 5,
   "id": "c348701e86fadcf3",
   "metadata": {
    "collapsed": false,
    "ExecuteTime": {
     "end_time": "2024-04-24T14:37:50.884816Z",
     "start_time": "2024-04-24T14:37:50.881493Z"
    }
   },
   "outputs": [],
   "source": [
    "# choose city of interest\n",
    "\n",
    "city_of_interest = 'St. Louis'"
   ]
  },
  {
   "cell_type": "code",
   "execution_count": 6,
   "id": "4e435ada5d9e4b6",
   "metadata": {
    "collapsed": false,
    "ExecuteTime": {
     "end_time": "2024-04-24T14:42:21.683124Z",
     "start_time": "2024-04-24T14:37:50.886478Z"
    }
   },
   "outputs": [
    {
     "data": {
      "text/plain": "yelp_dataset/yelp_academic_dataset_business.json: 0it [00:00, ?it/s]",
      "application/vnd.jupyter.widget-view+json": {
       "version_major": 2,
       "version_minor": 0,
       "model_id": "da65084dd827467681dbd436f1233b55"
      }
     },
     "metadata": {},
     "output_type": "display_data"
    },
    {
     "data": {
      "text/plain": "yelp_dataset/yelp_academic_dataset_checkin.json: 0it [00:00, ?it/s]",
      "application/vnd.jupyter.widget-view+json": {
       "version_major": 2,
       "version_minor": 0,
       "model_id": "8670e4692e05436bb9c1b062ac0d2c3a"
      }
     },
     "metadata": {},
     "output_type": "display_data"
    },
    {
     "data": {
      "text/plain": "yelp_dataset/yelp_academic_dataset_review.json: 0it [00:00, ?it/s]",
      "application/vnd.jupyter.widget-view+json": {
       "version_major": 2,
       "version_minor": 0,
       "model_id": "b539e7c1887a446d97c8488737e99540"
      }
     },
     "metadata": {},
     "output_type": "display_data"
    },
    {
     "data": {
      "text/plain": "yelp_dataset/yelp_academic_dataset_tip.json: 0it [00:00, ?it/s]",
      "application/vnd.jupyter.widget-view+json": {
       "version_major": 2,
       "version_minor": 0,
       "model_id": "a6e7bfdaec54487298a984176f6c3a73"
      }
     },
     "metadata": {},
     "output_type": "display_data"
    },
    {
     "data": {
      "text/plain": "yelp_dataset/yelp_academic_dataset_user.json: 0it [00:00, ?it/s]",
      "application/vnd.jupyter.widget-view+json": {
       "version_major": 2,
       "version_minor": 0,
       "model_id": "6f989265445c4da6a2bdb3ee2ccfe056"
      }
     },
     "metadata": {},
     "output_type": "display_data"
    }
   ],
   "source": [
    "# read data\n",
    "business_data = read_chunks('yelp_dataset/yelp_academic_dataset_business.json', city=city_of_interest)\n",
    "business_ids = business_data['business_id'].unique()\n",
    "\n",
    "checkin_data = read_chunks('yelp_dataset/yelp_academic_dataset_checkin.json')\n",
    "checkin_data = checkin_data[checkin_data['business_id'].isin(business_ids)]\n",
    "\n",
    "review_data = read_chunks('yelp_dataset/yelp_academic_dataset_review.json')\n",
    "review_data = review_data[review_data['business_id'].isin(business_ids)]\n",
    "\n",
    "tip_data = read_chunks('yelp_dataset/yelp_academic_dataset_tip.json')\n",
    "tip_data = tip_data[tip_data['business_id'].isin(business_ids)]\n",
    "\n",
    "user_data = read_chunks('yelp_dataset/yelp_academic_dataset_user.json')\n",
    "users_of_interest = set(review_data['user_id']).union(set(tip_data['user_id']))\n",
    "user_data = user_data[user_data['user_id'].isin(users_of_interest)]"
   ]
  },
  {
   "cell_type": "code",
   "execution_count": 7,
   "id": "6d560e5e3dab6f51",
   "metadata": {
    "collapsed": false,
    "ExecuteTime": {
     "end_time": "2024-04-24T14:42:24.800803Z",
     "start_time": "2024-04-24T14:42:21.685706Z"
    }
   },
   "outputs": [],
   "source": [
    "# save data in csv format in filtered_cities folder\n",
    "business_data.to_csv(f'filtered_cities/{city_of_interest}_business.csv', index=False)\n",
    "checkin_data.to_csv(f'filtered_cities/{city_of_interest}_checkin.csv', index=False)\n",
    "review_data.to_csv(f'filtered_cities/{city_of_interest}_review.csv', index=False)\n",
    "tip_data.to_csv(f'filtered_cities/{city_of_interest}_tip.csv', index=False)\n",
    "user_data.to_csv(f'filtered_cities/{city_of_interest}_user.csv', index=False)"
   ]
  }
 ],
 "metadata": {
  "kernelspec": {
   "display_name": "Python 3",
   "language": "python",
   "name": "python3"
  },
  "language_info": {
   "codemirror_mode": {
    "name": "ipython",
    "version": 3
   },
   "file_extension": ".py",
   "mimetype": "text/x-python",
   "name": "python",
   "nbconvert_exporter": "python",
   "pygments_lexer": "ipython3",
   "version": "3.10.10"
  }
 },
 "nbformat": 4,
 "nbformat_minor": 5
}
