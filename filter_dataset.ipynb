{
 "cells": [
  {
   "cell_type": "code",
   "execution_count": 1,
   "id": "initial_id",
   "metadata": {
    "ExecuteTime": {
     "end_time": "2024-03-08T12:26:39.672102Z",
     "start_time": "2024-03-08T12:26:39.320379Z"
    },
    "collapsed": true
   },
   "outputs": [],
   "source": [
    "from utils import read_chunks"
   ]
  },
  {
   "cell_type": "code",
   "execution_count": 2,
   "id": "c348701e86fadcf3",
   "metadata": {
    "ExecuteTime": {
     "end_time": "2024-03-08T12:26:39.682313Z",
     "start_time": "2024-03-08T12:26:39.679774Z"
    },
    "collapsed": false
   },
   "outputs": [],
   "source": [
    "# choose city of interest\n",
    "\n",
    "city_of_interest = 'Springfield'"
   ]
  },
  {
   "cell_type": "code",
   "execution_count": 3,
   "id": "4e435ada5d9e4b6",
   "metadata": {
    "ExecuteTime": {
     "end_time": "2024-03-08T12:29:03.596011Z",
     "start_time": "2024-03-08T12:26:39.683683Z"
    },
    "collapsed": false
   },
   "outputs": [
    {
     "data": {
      "application/vnd.jupyter.widget-view+json": {
       "model_id": "66f0b61121dc45cab869dd0609c4e8f0",
       "version_major": 2,
       "version_minor": 0
      },
      "text/plain": [
       "yelp_dataset/yelp_academic_dataset_business.json: 0it [00:00, ?it/s]"
      ]
     },
     "metadata": {},
     "output_type": "display_data"
    },
    {
     "data": {
      "application/vnd.jupyter.widget-view+json": {
       "model_id": "894fc7d4da0b434589a26eb932f026af",
       "version_major": 2,
       "version_minor": 0
      },
      "text/plain": [
       "yelp_dataset/yelp_academic_dataset_checkin.json: 0it [00:00, ?it/s]"
      ]
     },
     "metadata": {},
     "output_type": "display_data"
    },
    {
     "data": {
      "application/vnd.jupyter.widget-view+json": {
       "model_id": "a98e8ce117a1402986f19b051ab4eb5c",
       "version_major": 2,
       "version_minor": 0
      },
      "text/plain": [
       "yelp_dataset/yelp_academic_dataset_review.json: 0it [00:00, ?it/s]"
      ]
     },
     "metadata": {},
     "output_type": "display_data"
    },
    {
     "data": {
      "application/vnd.jupyter.widget-view+json": {
       "model_id": "fab39f8d8ed546119a32c3baa23bbc09",
       "version_major": 2,
       "version_minor": 0
      },
      "text/plain": [
       "yelp_dataset/yelp_academic_dataset_tip.json: 0it [00:00, ?it/s]"
      ]
     },
     "metadata": {},
     "output_type": "display_data"
    },
    {
     "data": {
      "application/vnd.jupyter.widget-view+json": {
       "model_id": "8f6676c17a2e4b339c1b57146abca1c5",
       "version_major": 2,
       "version_minor": 0
      },
      "text/plain": [
       "yelp_dataset/yelp_academic_dataset_user.json: 0it [00:00, ?it/s]"
      ]
     },
     "metadata": {},
     "output_type": "display_data"
    }
   ],
   "source": [
    "# read data\n",
    "business_data = read_chunks('yelp_dataset/yelp_academic_dataset_business.json', city=city_of_interest)\n",
    "business_ids = business_data['business_id'].unique()\n",
    "\n",
    "checkin_data = read_chunks('yelp_dataset/yelp_academic_dataset_checkin.json')\n",
    "checkin_data = checkin_data[checkin_data['business_id'].isin(business_ids)]\n",
    "\n",
    "review_data = read_chunks('yelp_dataset/yelp_academic_dataset_review.json')\n",
    "review_data = review_data[review_data['business_id'].isin(business_ids)]\n",
    "\n",
    "tip_data = read_chunks('yelp_dataset/yelp_academic_dataset_tip.json')\n",
    "tip_data = tip_data[tip_data['business_id'].isin(business_ids)]\n",
    "\n",
    "user_data = read_chunks('yelp_dataset/yelp_academic_dataset_user.json')\n",
    "users_of_interest = set(review_data['user_id']).union(set(tip_data['user_id']))\n",
    "user_data = user_data[user_data['user_id'].isin(users_of_interest)]"
   ]
  },
  {
   "cell_type": "code",
   "execution_count": 4,
   "id": "6d560e5e3dab6f51",
   "metadata": {
    "ExecuteTime": {
     "end_time": "2024-03-08T12:29:03.614392Z",
     "start_time": "2024-03-08T12:29:03.599119Z"
    },
    "collapsed": false
   },
   "outputs": [],
   "source": [
    "# save data in csv format in filtered_cities folder\n",
    "business_data.to_csv(f'filtered_cities/{city_of_interest}_business.csv', index=False)\n",
    "checkin_data.to_csv(f'filtered_cities/{city_of_interest}_checkin.csv', index=False)\n",
    "review_data.to_csv(f'filtered_cities/{city_of_interest}_review.csv', index=False)\n",
    "tip_data.to_csv(f'filtered_cities/{city_of_interest}_tip.csv', index=False)\n",
    "user_data.to_csv(f'filtered_cities/{city_of_interest}_user.csv', index=False)"
   ]
  }
 ],
 "metadata": {
  "kernelspec": {
   "display_name": "Python 3",
   "language": "python",
   "name": "python3"
  },
  "language_info": {
   "codemirror_mode": {
    "name": "ipython",
    "version": 3
   },
   "file_extension": ".py",
   "mimetype": "text/x-python",
   "name": "python",
   "nbconvert_exporter": "python",
   "pygments_lexer": "ipython3",
   "version": "3.10.10"
  }
 },
 "nbformat": 4,
 "nbformat_minor": 5
}
