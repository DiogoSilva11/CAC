{
 "cells": [
  {
   "cell_type": "code",
   "execution_count": 9,
   "id": "initial_id",
   "metadata": {
    "ExecuteTime": {
     "end_time": "2024-04-24T14:37:50.878687Z",
     "start_time": "2024-04-24T14:37:50.875857Z"
    },
    "collapsed": true
   },
   "outputs": [],
   "source": [
    "# import libraries\n",
    "\n",
    "import pandas as pd\n",
    "from tqdm.notebook import tqdm"
   ]
  },
  {
   "cell_type": "code",
   "execution_count": 10,
   "id": "4add8e94",
   "metadata": {},
   "outputs": [],
   "source": [
    "def read_chunks(file, cols=None, city=None, chunk_size=500):\n",
    "    '''\n",
    "    Read dataset in chunks\n",
    "    '''\n",
    "    df = pd.read_json(path_or_buf=file, chunksize=chunk_size, lines=True)\n",
    "    chunk_list = []\n",
    "    for chunk in tqdm(df, desc=file):\n",
    "        if city:\n",
    "            chunk = chunk[chunk['city'] == city]\n",
    "        if cols is None:\n",
    "            chunk_list.append(chunk)\n",
    "        else:\n",
    "            chunk_list.append(chunk[cols])\n",
    "    return pd.concat(chunk_list, ignore_index=True, join='outer', axis=0)"
   ]
  },
  {
   "cell_type": "code",
   "execution_count": 11,
   "id": "c348701e86fadcf3",
   "metadata": {
    "ExecuteTime": {
     "end_time": "2024-04-24T14:37:50.884816Z",
     "start_time": "2024-04-24T14:37:50.881493Z"
    },
    "collapsed": false
   },
   "outputs": [],
   "source": [
    "# choose city of interest\n",
    "\n",
    "#city_of_interest = 'Springfield'\n",
    "city_of_interest = 'St. Louis'"
   ]
  },
  {
   "cell_type": "code",
   "execution_count": 13,
   "id": "b79188d2",
   "metadata": {},
   "outputs": [],
   "source": [
    "import pandas as pd\n",
    "\n",
    "def read_chunks(file, city=None, chunk_size=10000):\n",
    "    df = pd.read_json(file, chunksize=chunk_size, lines=True)\n",
    "    chunk_list = []\n",
    "    for chunk in df:\n",
    "        if city:\n",
    "            chunk = chunk[chunk['city'] == city]\n",
    "        chunk_list.append(chunk)\n",
    "    return pd.concat(chunk_list, ignore_index=True)\n",
    "\n",
    "city_of_interest = 'Springfield'  # Replace with your city of interest\n",
    "\n",
    "# read data\n",
    "business_data = read_chunks('yelp_dataset/yelp_academic_dataset_business.json', city=city_of_interest)\n",
    "business_ids = business_data['business_id'].unique()\n",
    "\n",
    "checkin_data = read_chunks('yelp_dataset/yelp_academic_dataset_checkin.json')\n",
    "checkin_data = checkin_data[checkin_data['business_id'].isin(business_ids)]\n",
    "\n",
    "review_data = read_chunks('yelp_dataset/yelp_academic_dataset_review.json')\n",
    "review_data = review_data[review_data['business_id'].isin(business_ids)]\n",
    "\n",
    "tip_data = read_chunks('yelp_dataset/yelp_academic_dataset_tip.json')\n",
    "tip_data = tip_data[tip_data['business_id'].isin(business_ids)]\n",
    "\n",
    "user_data = read_chunks('yelp_dataset/yelp_academic_dataset_user.json')\n",
    "users_of_interest = set(review_data['user_id']).union(set(tip_data['user_id']))\n",
    "user_data = user_data[user_data['user_id'].isin(users_of_interest)]\n"
   ]
  },
  {
   "cell_type": "code",
   "execution_count": 14,
   "id": "6d560e5e3dab6f51",
   "metadata": {
    "ExecuteTime": {
     "end_time": "2024-04-24T14:42:24.800803Z",
     "start_time": "2024-04-24T14:42:21.685706Z"
    },
    "collapsed": false
   },
   "outputs": [],
   "source": [
    "# save data in csv format in filtered_cities folder\n",
    "\n",
    "business_data.to_csv(f'filtered_cities/{city_of_interest}_business.csv', index=False)\n",
    "checkin_data.to_csv(f'filtered_cities/{city_of_interest}_checkin.csv', index=False)\n",
    "review_data.to_csv(f'filtered_cities/{city_of_interest}_review.csv', index=False)\n",
    "tip_data.to_csv(f'filtered_cities/{city_of_interest}_tip.csv', index=False)\n",
    "user_data.to_csv(f'filtered_cities/{city_of_interest}_user.csv', index=False)"
   ]
  }
 ],
 "metadata": {
  "kernelspec": {
   "display_name": "Python 3",
   "language": "python",
   "name": "python3"
  },
  "language_info": {
   "codemirror_mode": {
    "name": "ipython",
    "version": 3
   },
   "file_extension": ".py",
   "mimetype": "text/x-python",
   "name": "python",
   "nbconvert_exporter": "python",
   "pygments_lexer": "ipython3",
   "version": "3.11.2"
  }
 },
 "nbformat": 4,
 "nbformat_minor": 5
}
