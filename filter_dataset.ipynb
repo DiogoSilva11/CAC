{
 "cells": [
  {
   "cell_type": "code",
   "execution_count": 1,
   "id": "initial_id",
   "metadata": {
    "collapsed": true,
    "ExecuteTime": {
     "end_time": "2024-03-08T12:26:39.672102Z",
     "start_time": "2024-03-08T12:26:39.320379Z"
    }
   },
   "outputs": [],
   "source": [
    "import pandas as pd\n",
    "from tqdm.notebook import tqdm"
   ]
  },
  {
   "cell_type": "code",
   "outputs": [],
   "source": [
    "def read_chunks(file, cols=None, city=None, chunk_size=500000):\n",
    "    df = pd.read_json(path_or_buf=file, chunksize=chunk_size, lines=True)\n",
    "\n",
    "    chunk_list = []\n",
    "    for chunk in tqdm(df, desc=file):\n",
    "        if city:\n",
    "            chunk = chunk[chunk['city'] == city]\n",
    "        if cols is None:\n",
    "            chunk_list.append(chunk)\n",
    "        else:\n",
    "            chunk_list.append(chunk[cols])\n",
    "    \n",
    "    return pd.concat(chunk_list, ignore_index=True, join='outer', axis=0)"
   ],
   "metadata": {
    "collapsed": false,
    "ExecuteTime": {
     "end_time": "2024-03-08T12:26:39.677940Z",
     "start_time": "2024-03-08T12:26:39.673962Z"
    }
   },
   "id": "6e17783c8e13e3ac",
   "execution_count": 2
  },
  {
   "cell_type": "code",
   "outputs": [],
   "source": [
    "# Choose city of interest\n",
    "\n",
    "city_of_interest = 'Jennings'"
   ],
   "metadata": {
    "collapsed": false,
    "ExecuteTime": {
     "end_time": "2024-03-08T12:26:39.682313Z",
     "start_time": "2024-03-08T12:26:39.679774Z"
    }
   },
   "id": "c348701e86fadcf3",
   "execution_count": 3
  },
  {
   "cell_type": "code",
   "outputs": [
    {
     "data": {
      "text/plain": "yelp_dataset/yelp_academic_dataset_business.json: 0it [00:00, ?it/s]",
      "application/vnd.jupyter.widget-view+json": {
       "version_major": 2,
       "version_minor": 0,
       "model_id": "42dff303f8d54750ac03cc77ce624fd1"
      }
     },
     "metadata": {},
     "output_type": "display_data"
    },
    {
     "data": {
      "text/plain": "yelp_dataset/yelp_academic_dataset_checkin.json: 0it [00:00, ?it/s]",
      "application/vnd.jupyter.widget-view+json": {
       "version_major": 2,
       "version_minor": 0,
       "model_id": "46c8706401f6484e847062d1e6c83c1b"
      }
     },
     "metadata": {},
     "output_type": "display_data"
    },
    {
     "data": {
      "text/plain": "yelp_dataset/yelp_academic_dataset_review.json: 0it [00:00, ?it/s]",
      "application/vnd.jupyter.widget-view+json": {
       "version_major": 2,
       "version_minor": 0,
       "model_id": "8f5bd43f51364749ad21f740699027e9"
      }
     },
     "metadata": {},
     "output_type": "display_data"
    },
    {
     "data": {
      "text/plain": "yelp_dataset/yelp_academic_dataset_tip.json: 0it [00:00, ?it/s]",
      "application/vnd.jupyter.widget-view+json": {
       "version_major": 2,
       "version_minor": 0,
       "model_id": "2dbf38f7f1ab423e8b56bca699e7ddce"
      }
     },
     "metadata": {},
     "output_type": "display_data"
    },
    {
     "data": {
      "text/plain": "yelp_dataset/yelp_academic_dataset_user.json: 0it [00:00, ?it/s]",
      "application/vnd.jupyter.widget-view+json": {
       "version_major": 2,
       "version_minor": 0,
       "model_id": "752bdd646449495cb1852a6183098579"
      }
     },
     "metadata": {},
     "output_type": "display_data"
    }
   ],
   "source": [
    "# Read the data\n",
    "\n",
    "business_data = read_chunks('yelp_dataset/yelp_academic_dataset_business.json', city=city_of_interest)\n",
    "business_ids = business_data['business_id'].unique()\n",
    "\n",
    "checkin_data = read_chunks('yelp_dataset/yelp_academic_dataset_checkin.json')\n",
    "checkin_data = checkin_data[checkin_data['business_id'].isin(business_ids)]\n",
    "\n",
    "review_data = read_chunks('yelp_dataset/yelp_academic_dataset_review.json')\n",
    "review_data = review_data[review_data['business_id'].isin(business_ids)]\n",
    "\n",
    "tip_data = read_chunks('yelp_dataset/yelp_academic_dataset_tip.json')\n",
    "tip_data = tip_data[tip_data['business_id'].isin(business_ids)]\n",
    "\n",
    "user_data = read_chunks('yelp_dataset/yelp_academic_dataset_user.json')\n",
    "users_of_interest = set(review_data['user_id']).union(set(tip_data['user_id']))\n",
    "user_data = user_data[user_data['user_id'].isin(users_of_interest)]"
   ],
   "metadata": {
    "collapsed": false,
    "ExecuteTime": {
     "end_time": "2024-03-08T12:29:03.596011Z",
     "start_time": "2024-03-08T12:26:39.683683Z"
    }
   },
   "id": "4e435ada5d9e4b6",
   "execution_count": 4
  },
  {
   "cell_type": "code",
   "outputs": [],
   "source": [
    "# Save data in csv format in filtered_cities folder\n",
    "\n",
    "business_data.to_csv(f'filtered_cities/{city_of_interest}_business.csv', index=False)\n",
    "checkin_data.to_csv(f'filtered_cities/{city_of_interest}_checkin.csv', index=False)\n",
    "review_data.to_csv(f'filtered_cities/{city_of_interest}_review.csv', index=False)\n",
    "tip_data.to_csv(f'filtered_cities/{city_of_interest}_tip.csv', index=False)\n",
    "user_data.to_csv(f'filtered_cities/{city_of_interest}_user.csv', index=False)"
   ],
   "metadata": {
    "collapsed": false,
    "ExecuteTime": {
     "end_time": "2024-03-08T12:29:03.614392Z",
     "start_time": "2024-03-08T12:29:03.599119Z"
    }
   },
   "id": "6d560e5e3dab6f51",
   "execution_count": 5
  },
  {
   "cell_type": "code",
   "outputs": [],
   "source": [],
   "metadata": {
    "collapsed": false,
    "ExecuteTime": {
     "end_time": "2024-03-08T12:29:03.618358Z",
     "start_time": "2024-03-08T12:29:03.615617Z"
    }
   },
   "id": "fe972a7584247870",
   "execution_count": 5
  }
 ],
 "metadata": {
  "kernelspec": {
   "display_name": "Python 3",
   "language": "python",
   "name": "python3"
  },
  "language_info": {
   "codemirror_mode": {
    "name": "ipython",
    "version": 2
   },
   "file_extension": ".py",
   "mimetype": "text/x-python",
   "name": "python",
   "nbconvert_exporter": "python",
   "pygments_lexer": "ipython2",
   "version": "2.7.6"
  }
 },
 "nbformat": 4,
 "nbformat_minor": 5
}
