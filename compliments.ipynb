{
 "cells": [
  {
   "cell_type": "code",
   "execution_count": 1,
   "metadata": {
    "ExecuteTime": {
     "end_time": "2024-03-12T22:46:01.269580Z",
     "start_time": "2024-03-12T22:46:00.873273Z"
    }
   },
   "outputs": [],
   "source": [
    "import pandas as pd\n",
    "from utils import load_filtered_data"
   ]
  },
  {
   "cell_type": "code",
   "execution_count": 2,
   "metadata": {
    "ExecuteTime": {
     "end_time": "2024-03-12T22:46:01.363915Z",
     "start_time": "2024-03-12T22:46:01.271861Z"
    }
   },
   "outputs": [],
   "source": [
    "city = 'Sicklerville'\n",
    "name = 'compliments'\n",
    "\n",
    "# load city data\n",
    "data = load_filtered_data(city)"
   ]
  },
  {
   "cell_type": "code",
   "execution_count": 3,
   "metadata": {
    "ExecuteTime": {
     "end_time": "2024-03-12T22:46:01.380174Z",
     "start_time": "2024-03-12T22:46:01.365127Z"
    }
   },
   "outputs": [
    {
     "data": {
      "text/plain": "                          id people_name\n0     RgDVC3ZUBqpEe6Y1kPhIpw      Monica\n1     zkamNMEjihh3zN7lC7_WVw     Matthew\n2     gVFxZMcuG_Tal2_TnpmUPg   Stephanie\n3     g0_x4kVvJAYuk96oCcbOmw     Michael\n4     -NbeVN5tnwdyYAvdNkKMjw     Dominic\n...                      ...         ...\n3073  CUE13op55l9WZp6fBTUWnA      Nicole\n3074  cACn6Qc1owO7hV_ZhcP74Q     Allison\n3075  SpTYEhfInvALG1le1uu21w         Ray\n3076  sGOCaCP7_SMlaRKPNO__CQ      Tahjae\n3077  AUaVo2JAMwLGJmBo3M4VyQ      Nicole\n\n[3078 rows x 2 columns]",
      "text/html": "<div>\n<style scoped>\n    .dataframe tbody tr th:only-of-type {\n        vertical-align: middle;\n    }\n\n    .dataframe tbody tr th {\n        vertical-align: top;\n    }\n\n    .dataframe thead th {\n        text-align: right;\n    }\n</style>\n<table border=\"1\" class=\"dataframe\">\n  <thead>\n    <tr style=\"text-align: right;\">\n      <th></th>\n      <th>id</th>\n      <th>people_name</th>\n    </tr>\n  </thead>\n  <tbody>\n    <tr>\n      <th>0</th>\n      <td>RgDVC3ZUBqpEe6Y1kPhIpw</td>\n      <td>Monica</td>\n    </tr>\n    <tr>\n      <th>1</th>\n      <td>zkamNMEjihh3zN7lC7_WVw</td>\n      <td>Matthew</td>\n    </tr>\n    <tr>\n      <th>2</th>\n      <td>gVFxZMcuG_Tal2_TnpmUPg</td>\n      <td>Stephanie</td>\n    </tr>\n    <tr>\n      <th>3</th>\n      <td>g0_x4kVvJAYuk96oCcbOmw</td>\n      <td>Michael</td>\n    </tr>\n    <tr>\n      <th>4</th>\n      <td>-NbeVN5tnwdyYAvdNkKMjw</td>\n      <td>Dominic</td>\n    </tr>\n    <tr>\n      <th>...</th>\n      <td>...</td>\n      <td>...</td>\n    </tr>\n    <tr>\n      <th>3073</th>\n      <td>CUE13op55l9WZp6fBTUWnA</td>\n      <td>Nicole</td>\n    </tr>\n    <tr>\n      <th>3074</th>\n      <td>cACn6Qc1owO7hV_ZhcP74Q</td>\n      <td>Allison</td>\n    </tr>\n    <tr>\n      <th>3075</th>\n      <td>SpTYEhfInvALG1le1uu21w</td>\n      <td>Ray</td>\n    </tr>\n    <tr>\n      <th>3076</th>\n      <td>sGOCaCP7_SMlaRKPNO__CQ</td>\n      <td>Tahjae</td>\n    </tr>\n    <tr>\n      <th>3077</th>\n      <td>AUaVo2JAMwLGJmBo3M4VyQ</td>\n      <td>Nicole</td>\n    </tr>\n  </tbody>\n</table>\n<p>3078 rows × 2 columns</p>\n</div>"
     },
     "execution_count": 3,
     "metadata": {},
     "output_type": "execute_result"
    }
   ],
   "source": [
    "# creating the nodes\n",
    "\n",
    "nodes = data['user'][['user_id', 'name']]\n",
    "nodes = nodes.rename(columns={'user_id': 'id', 'name': 'people_name'})\n",
    "\n",
    "nodes"
   ]
  },
  {
   "cell_type": "code",
   "execution_count": 6,
   "metadata": {
    "ExecuteTime": {
     "end_time": "2024-03-12T22:52:02.516955Z",
     "start_time": "2024-03-12T22:51:56.165668Z"
    }
   },
   "outputs": [
    {
     "data": {
      "text/plain": "                        from                      to    weight         type\n0     RgDVC3ZUBqpEe6Y1kPhIpw  jsp8h4yF3VI7_sk3EyvEIQ  37664478  compliments\n1     RgDVC3ZUBqpEe6Y1kPhIpw  ET8n-r7glWYqZhuR6GcdNw  28951369  compliments\n2     RgDVC3ZUBqpEe6Y1kPhIpw  BmVwbsL8l0imz4slonyMaA  19920208  compliments\n3     RgDVC3ZUBqpEe6Y1kPhIpw  V0c-AS2FFCeSaV-3JfG5vA  14918555  compliments\n4     RgDVC3ZUBqpEe6Y1kPhIpw  -G7Zkl1wIWBBmD0KRy_sCw  12847034  compliments\n...                      ...                     ...       ...          ...\n5925  a0YAw3rG2m-ArKuBBkiXUA  ET8n-r7glWYqZhuR6GcdNw       143  compliments\n5926  a0YAw3rG2m-ArKuBBkiXUA  -G7Zkl1wIWBBmD0KRy_sCw       108  compliments\n5927  a0YAw3rG2m-ArKuBBkiXUA  RgDVC3ZUBqpEe6Y1kPhIpw       102  compliments\n5928  a0YAw3rG2m-ArKuBBkiXUA  jsp8h4yF3VI7_sk3EyvEIQ        98  compliments\n5929  a0YAw3rG2m-ArKuBBkiXUA  BmVwbsL8l0imz4slonyMaA        63  compliments\n\n[5930 rows x 4 columns]",
      "text/html": "<div>\n<style scoped>\n    .dataframe tbody tr th:only-of-type {\n        vertical-align: middle;\n    }\n\n    .dataframe tbody tr th {\n        vertical-align: top;\n    }\n\n    .dataframe thead th {\n        text-align: right;\n    }\n</style>\n<table border=\"1\" class=\"dataframe\">\n  <thead>\n    <tr style=\"text-align: right;\">\n      <th></th>\n      <th>from</th>\n      <th>to</th>\n      <th>weight</th>\n      <th>type</th>\n    </tr>\n  </thead>\n  <tbody>\n    <tr>\n      <th>0</th>\n      <td>RgDVC3ZUBqpEe6Y1kPhIpw</td>\n      <td>jsp8h4yF3VI7_sk3EyvEIQ</td>\n      <td>37664478</td>\n      <td>compliments</td>\n    </tr>\n    <tr>\n      <th>1</th>\n      <td>RgDVC3ZUBqpEe6Y1kPhIpw</td>\n      <td>ET8n-r7glWYqZhuR6GcdNw</td>\n      <td>28951369</td>\n      <td>compliments</td>\n    </tr>\n    <tr>\n      <th>2</th>\n      <td>RgDVC3ZUBqpEe6Y1kPhIpw</td>\n      <td>BmVwbsL8l0imz4slonyMaA</td>\n      <td>19920208</td>\n      <td>compliments</td>\n    </tr>\n    <tr>\n      <th>3</th>\n      <td>RgDVC3ZUBqpEe6Y1kPhIpw</td>\n      <td>V0c-AS2FFCeSaV-3JfG5vA</td>\n      <td>14918555</td>\n      <td>compliments</td>\n    </tr>\n    <tr>\n      <th>4</th>\n      <td>RgDVC3ZUBqpEe6Y1kPhIpw</td>\n      <td>-G7Zkl1wIWBBmD0KRy_sCw</td>\n      <td>12847034</td>\n      <td>compliments</td>\n    </tr>\n    <tr>\n      <th>...</th>\n      <td>...</td>\n      <td>...</td>\n      <td>...</td>\n      <td>...</td>\n    </tr>\n    <tr>\n      <th>5925</th>\n      <td>a0YAw3rG2m-ArKuBBkiXUA</td>\n      <td>ET8n-r7glWYqZhuR6GcdNw</td>\n      <td>143</td>\n      <td>compliments</td>\n    </tr>\n    <tr>\n      <th>5926</th>\n      <td>a0YAw3rG2m-ArKuBBkiXUA</td>\n      <td>-G7Zkl1wIWBBmD0KRy_sCw</td>\n      <td>108</td>\n      <td>compliments</td>\n    </tr>\n    <tr>\n      <th>5927</th>\n      <td>a0YAw3rG2m-ArKuBBkiXUA</td>\n      <td>RgDVC3ZUBqpEe6Y1kPhIpw</td>\n      <td>102</td>\n      <td>compliments</td>\n    </tr>\n    <tr>\n      <th>5928</th>\n      <td>a0YAw3rG2m-ArKuBBkiXUA</td>\n      <td>jsp8h4yF3VI7_sk3EyvEIQ</td>\n      <td>98</td>\n      <td>compliments</td>\n    </tr>\n    <tr>\n      <th>5929</th>\n      <td>a0YAw3rG2m-ArKuBBkiXUA</td>\n      <td>BmVwbsL8l0imz4slonyMaA</td>\n      <td>63</td>\n      <td>compliments</td>\n    </tr>\n  </tbody>\n</table>\n<p>5930 rows × 4 columns</p>\n</div>"
     },
     "execution_count": 6,
     "metadata": {},
     "output_type": "execute_result"
    }
   ],
   "source": [
    "temp_edges_struct = {'from': [], 'to': [], 'weight': [], 'type': []}\n",
    "\n",
    "users_vec_compliments = {}\n",
    "\n",
    "for index, row in data['user'].iterrows():\n",
    "    users_vec_compliments[row['user_id']] = [row['compliment_hot'], row['compliment_more'], row['compliment_profile'], row['compliment_cute'], row['compliment_list'], row['compliment_note'], row['compliment_plain'], row['compliment_cool'], row['compliment_funny'], row['compliment_writer'], row['compliment_photos']]\n",
    "\n",
    "# find k most similar users for each user and create an edge for them (make it fast pls)\n",
    "k = 5\n",
    "for user_id in users_vec_compliments:\n",
    "    user_vec = users_vec_compliments[user_id]\n",
    "    if sum(user_vec) == 0:\n",
    "        continue\n",
    "    similarities = {}\n",
    "    for user_id2 in users_vec_compliments:\n",
    "        if user_id2 != user_id:\n",
    "            user_vec2 = users_vec_compliments[user_id2]\n",
    "            similarity = sum([a*b for a,b in zip(user_vec, user_vec2)])\n",
    "            similarities[user_id2] = similarity\n",
    "    similarities = dict(sorted(similarities.items(), key=lambda item: item[1], reverse=True))\n",
    "    similarities = dict(list(similarities.items())[:k])\n",
    "    for user_id2 in similarities:\n",
    "        temp_edges_struct['from'].append(user_id)\n",
    "        temp_edges_struct['to'].append(user_id2)\n",
    "        temp_edges_struct['weight'].append(similarities[user_id2])\n",
    "        temp_edges_struct['type'].append('compliments')\n",
    "    \n",
    "\n",
    "edges = pd.DataFrame(temp_edges_struct)\n",
    "\n",
    "# drop duplicates without caring about weight and keep the highest weight\n",
    "edges = edges.sort_values('weight', ascending=False).drop_duplicates(subset=['from', 'to'], keep='first').sort_index()\n",
    "\n",
    "edges"
   ]
  },
  {
   "cell_type": "code",
   "execution_count": 7,
   "metadata": {
    "ExecuteTime": {
     "end_time": "2024-03-12T22:52:02.547476Z",
     "start_time": "2024-03-12T22:52:02.519143Z"
    }
   },
   "outputs": [],
   "source": [
    "# save data\n",
    "nodes.to_csv(f'nodes_and_edges/{city}_{name}_nodes.csv', index=False)\n",
    "edges.to_csv(f'nodes_and_edges/{city}_{name}_edges.csv', index=False)"
   ]
  },
  {
   "cell_type": "code",
   "outputs": [],
   "source": [],
   "metadata": {
    "collapsed": false
   }
  }
 ],
 "metadata": {
  "kernelspec": {
   "display_name": "Python 3",
   "language": "python",
   "name": "python3"
  },
  "language_info": {
   "codemirror_mode": {
    "name": "ipython",
    "version": 3
   },
   "file_extension": ".py",
   "mimetype": "text/x-python",
   "name": "python",
   "nbconvert_exporter": "python",
   "pygments_lexer": "ipython3",
   "version": "3.10.10"
  }
 },
 "nbformat": 4,
 "nbformat_minor": 2
}
