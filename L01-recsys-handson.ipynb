{
 "cells": [
  {
   "cell_type": "markdown",
   "metadata": {},
   "source": [
    "Notebok prepared by Inês Gomes (ines.gomes@fe.up.pt)\n",
    "\n",
    "based on Carlos Soares (csoares@fe.up.pt) tutorial.\n",
    "\n",
    "Recommender Systems Libraries:\n",
    "- for Rating Interactions: Surprise (https://surpriselib.com/)\n",
    "- for Implicit Interactions: Implicit (https://github.com/benfred/implicit/tree/main)\n",
    "- for an hybrid implementation: LightFM (https://making.lyst.com/lightfm/docs/index.html#)"
   ]
  },
  {
   "cell_type": "markdown",
   "metadata": {},
   "source": [
    "## Table of Contents\n",
    "\n",
    "1. [Dataset](#dataset)\n",
    "\n",
    "2. [User-item Matrix](#matrix)\n",
    "\n",
    "    2.1 [Pandas Version](#pandas)\n",
    "\n",
    "    2.2 [Surprise Lib Version](#surprise)\n",
    "\n",
    "3. [Recommender Systems](#recsys)\n",
    "\n",
    "    3.1 [Popularity](#popularity)\n",
    "\n",
    "    3.2 [Modelling](#modelling)\n",
    "\n",
    "    3.3 [Top Recommendations](#top-rec)"
   ]
  },
  {
   "cell_type": "code",
   "execution_count": 25,
   "metadata": {},
   "outputs": [],
   "source": [
    "import numpy as np\n",
    "import pandas as pd\n",
    "from surprise import Dataset, Reader, NormalPredictor, KNNBasic, KNNWithZScore, KNNWithMeans, KNNWithZScore, SVD\n",
    "from surprise.model_selection import train_test_split, cross_validate\n",
    "from collections import defaultdict\n",
    "from surprise import accuracy\n",
    "import random"
   ]
  },
  {
   "cell_type": "code",
   "execution_count": 26,
   "metadata": {},
   "outputs": [
    {
     "name": "stdout",
     "output_type": "stream",
     "text": [
      "    A   B   X   Y\n",
      "0  A0  B0  X0  Y0\n",
      "1  A0  B0  X1  Y1\n",
      "2  A1  B1  X0  Y0\n",
      "3  A1  B1  X1  Y1\n",
      "4  A2  B2  X0  Y0\n",
      "5  A2  B2  X1  Y1\n"
     ]
    }
   ],
   "source": [
    "import pandas as pd\n",
    "\n",
    "# Sample dataframes\n",
    "df1 = pd.DataFrame({'A': ['A0', 'A1', 'A2'],\n",
    "                    'B': ['B0', 'B1', 'B2']})\n",
    "\n",
    "df2 = pd.DataFrame({'X': ['X0', 'X1'],\n",
    "                    'Y': ['Y0', 'Y1']})\n",
    "\n",
    "# Performing a Cartesian product (cross-join)\n",
    "result = df1.assign(key=1).merge(df2.assign(key=1), on='key').drop('key', axis=1)\n",
    "\n",
    "print(result)"
   ]
  },
  {
   "cell_type": "code",
   "execution_count": 27,
   "metadata": {},
   "outputs": [],
   "source": [
    "import matplotlib.pyplot as plt"
   ]
  },
  {
   "cell_type": "markdown",
   "metadata": {},
   "source": [
    "## Dataset <a id=\"dataset\"></a>\n",
    "\n",
    "Jester dataset: https://eigentaste.berkeley.edu/dataset/"
   ]
  },
  {
   "cell_type": "code",
   "execution_count": 28,
   "metadata": {},
   "outputs": [],
   "source": [
    "# Load data\n",
    "from surprise import Dataset\n",
    "from surprise import Reader\n",
    "\n",
    "# Load the Jester5k data\n",
    "data = Dataset.load_builtin('jester')"
   ]
  },
  {
   "cell_type": "markdown",
   "metadata": {},
   "source": [
    "Our dataset is currently encapsulated in an object named \"dataset\" from the Surprise library."
   ]
  },
  {
   "cell_type": "code",
   "execution_count": 29,
   "metadata": {},
   "outputs": [
    {
     "data": {
      "text/plain": [
       "<surprise.dataset.DatasetAutoFolds at 0x7d543eb1bdc0>"
      ]
     },
     "execution_count": 29,
     "metadata": {},
     "output_type": "execute_result"
    }
   ],
   "source": [
    "data"
   ]
  },
  {
   "cell_type": "markdown",
   "metadata": {},
   "source": [
    "We will transform the dataset into a pandas DataFrame in order to explore and visualize the data."
   ]
  },
  {
   "cell_type": "code",
   "execution_count": 30,
   "metadata": {},
   "outputs": [],
   "source": [
    "# transform the surprise dataset into pandas dataframe\n",
    "df = pd.DataFrame(data.raw_ratings, columns=['user_id', 'item_id', 'rating', 'comments']).drop(columns=['comments'])"
   ]
  },
  {
   "cell_type": "markdown",
   "metadata": {},
   "source": [
    "What can you tell about this dataset?\n",
    "\n",
    "1. How many ratings do we have?\n",
    "\n",
    "2. How many users do we have?\n",
    "\n",
    "3. How many items do we have?\n",
    "\n",
    "4. What is the distribution of ratings?"
   ]
  },
  {
   "cell_type": "code",
   "execution_count": 31,
   "metadata": {},
   "outputs": [
    {
     "data": {
      "text/html": [
       "<div>\n",
       "<style scoped>\n",
       "    .dataframe tbody tr th:only-of-type {\n",
       "        vertical-align: middle;\n",
       "    }\n",
       "\n",
       "    .dataframe tbody tr th {\n",
       "        vertical-align: top;\n",
       "    }\n",
       "\n",
       "    .dataframe thead th {\n",
       "        text-align: right;\n",
       "    }\n",
       "</style>\n",
       "<table border=\"1\" class=\"dataframe\">\n",
       "  <thead>\n",
       "    <tr style=\"text-align: right;\">\n",
       "      <th></th>\n",
       "      <th>user_id</th>\n",
       "      <th>item_id</th>\n",
       "      <th>rating</th>\n",
       "    </tr>\n",
       "  </thead>\n",
       "  <tbody>\n",
       "    <tr>\n",
       "      <th>1660382</th>\n",
       "      <td>60310</td>\n",
       "      <td>15</td>\n",
       "      <td>8.844</td>\n",
       "    </tr>\n",
       "    <tr>\n",
       "      <th>108028</th>\n",
       "      <td>2824</td>\n",
       "      <td>60</td>\n",
       "      <td>6.750</td>\n",
       "    </tr>\n",
       "    <tr>\n",
       "      <th>504286</th>\n",
       "      <td>19162</td>\n",
       "      <td>108</td>\n",
       "      <td>1.094</td>\n",
       "    </tr>\n",
       "    <tr>\n",
       "      <th>1566060</th>\n",
       "      <td>56572</td>\n",
       "      <td>84</td>\n",
       "      <td>1.219</td>\n",
       "    </tr>\n",
       "    <tr>\n",
       "      <th>1367583</th>\n",
       "      <td>48651</td>\n",
       "      <td>128</td>\n",
       "      <td>8.719</td>\n",
       "    </tr>\n",
       "    <tr>\n",
       "      <th>947987</th>\n",
       "      <td>36671</td>\n",
       "      <td>122</td>\n",
       "      <td>9.156</td>\n",
       "    </tr>\n",
       "    <tr>\n",
       "      <th>1245338</th>\n",
       "      <td>45207</td>\n",
       "      <td>129</td>\n",
       "      <td>5.219</td>\n",
       "    </tr>\n",
       "    <tr>\n",
       "      <th>588890</th>\n",
       "      <td>23321</td>\n",
       "      <td>17</td>\n",
       "      <td>-6.031</td>\n",
       "    </tr>\n",
       "    <tr>\n",
       "      <th>706371</th>\n",
       "      <td>29704</td>\n",
       "      <td>126</td>\n",
       "      <td>-2.469</td>\n",
       "    </tr>\n",
       "    <tr>\n",
       "      <th>74442</th>\n",
       "      <td>1918</td>\n",
       "      <td>69</td>\n",
       "      <td>6.531</td>\n",
       "    </tr>\n",
       "  </tbody>\n",
       "</table>\n",
       "</div>"
      ],
      "text/plain": [
       "        user_id item_id  rating\n",
       "1660382   60310      15   8.844\n",
       "108028     2824      60   6.750\n",
       "504286    19162     108   1.094\n",
       "1566060   56572      84   1.219\n",
       "1367583   48651     128   8.719\n",
       "947987    36671     122   9.156\n",
       "1245338   45207     129   5.219\n",
       "588890    23321      17  -6.031\n",
       "706371    29704     126  -2.469\n",
       "74442      1918      69   6.531"
      ]
     },
     "execution_count": 31,
     "metadata": {},
     "output_type": "execute_result"
    }
   ],
   "source": [
    "df.sample(10)"
   ]
  },
  {
   "cell_type": "code",
   "execution_count": 32,
   "metadata": {},
   "outputs": [
    {
     "data": {
      "text/plain": [
       "1761439"
      ]
     },
     "execution_count": 32,
     "metadata": {},
     "output_type": "execute_result"
    }
   ],
   "source": [
    "# TODO\n",
    "len(df['rating'])"
   ]
  },
  {
   "cell_type": "code",
   "execution_count": 33,
   "metadata": {},
   "outputs": [
    {
     "data": {
      "text/plain": [
       "59132"
      ]
     },
     "execution_count": 33,
     "metadata": {},
     "output_type": "execute_result"
    }
   ],
   "source": [
    "len(df['user_id'].unique())"
   ]
  },
  {
   "cell_type": "code",
   "execution_count": 34,
   "metadata": {},
   "outputs": [
    {
     "data": {
      "text/plain": [
       "count    1.761439e+06\n",
       "mean     1.618602e+00\n",
       "std      5.302608e+00\n",
       "min     -1.000000e+01\n",
       "25%     -2.031000e+00\n",
       "50%      2.219000e+00\n",
       "75%      5.719000e+00\n",
       "max      1.000000e+01\n",
       "Name: rating, dtype: float64"
      ]
     },
     "execution_count": 34,
     "metadata": {},
     "output_type": "execute_result"
    }
   ],
   "source": [
    "df[\"rating\"].describe()"
   ]
  },
  {
   "cell_type": "code",
   "execution_count": 35,
   "metadata": {},
   "outputs": [
    {
     "data": {
      "text/plain": [
       "<Axes: >"
      ]
     },
     "execution_count": 35,
     "metadata": {},
     "output_type": "execute_result"
    },
    {
     "data": {
      "image/png": "[encoded data removed]",
      "text/plain": [
       "<Figure size 640x480 with 1 Axes>"
      ]
     },
     "metadata": {},
     "output_type": "display_data"
    }
   ],
   "source": [
    "df[\"rating\"].hist()"
   ]
  },
  {
   "cell_type": "markdown",
   "metadata": {},
   "source": [
    "## User-item Matrix <a id=\"matrix\"></a>"
   ]
  },
  {
   "cell_type": "markdown",
   "metadata": {},
   "source": [
    "The first step to create a recommender system, is to transform the dataset into a user-item matrix. To that end, we must first define the \"user\", the \"item\" and the \"value\". The value can be a rating (explicit feedback) or binary information (implicit feedback).\n",
    "\n",
    "In this case, our user is the column \"user\", the item is the \"item\" and the value is the \"rating\"."
   ]
  },
  {
   "cell_type": "markdown",
   "metadata": {},
   "source": [
    "### Pandas version <a id=\"pandas\"></a>"
   ]
  },
  {
   "cell_type": "markdown",
   "metadata": {},
   "source": [
    "Let's create a user-item matrix based on our pandas dataframe."
   ]
  },
  {
   "cell_type": "code",
   "execution_count": 36,
   "metadata": {},
   "outputs": [
    {
     "data": {
      "text/html": [
       "<div>\n",
       "<style scoped>\n",
       "    .dataframe tbody tr th:only-of-type {\n",
       "        vertical-align: middle;\n",
       "    }\n",
       "\n",
       "    .dataframe tbody tr th {\n",
       "        vertical-align: top;\n",
       "    }\n",
       "\n",
       "    .dataframe thead th {\n",
       "        text-align: right;\n",
       "    }\n",
       "</style>\n",
       "<table border=\"1\" class=\"dataframe\">\n",
       "  <thead>\n",
       "    <tr style=\"text-align: right;\">\n",
       "      <th>item_id</th>\n",
       "      <th>100</th>\n",
       "      <th>101</th>\n",
       "      <th>102</th>\n",
       "      <th>103</th>\n",
       "      <th>104</th>\n",
       "      <th>105</th>\n",
       "      <th>106</th>\n",
       "      <th>107</th>\n",
       "      <th>108</th>\n",
       "      <th>109</th>\n",
       "      <th>...</th>\n",
       "      <th>90</th>\n",
       "      <th>91</th>\n",
       "      <th>92</th>\n",
       "      <th>93</th>\n",
       "      <th>94</th>\n",
       "      <th>95</th>\n",
       "      <th>96</th>\n",
       "      <th>97</th>\n",
       "      <th>98</th>\n",
       "      <th>99</th>\n",
       "    </tr>\n",
       "    <tr>\n",
       "      <th>user_id</th>\n",
       "      <th></th>\n",
       "      <th></th>\n",
       "      <th></th>\n",
       "      <th></th>\n",
       "      <th></th>\n",
       "      <th></th>\n",
       "      <th></th>\n",
       "      <th></th>\n",
       "      <th></th>\n",
       "      <th></th>\n",
       "      <th></th>\n",
       "      <th></th>\n",
       "      <th></th>\n",
       "      <th></th>\n",
       "      <th></th>\n",
       "      <th></th>\n",
       "      <th></th>\n",
       "      <th></th>\n",
       "      <th></th>\n",
       "      <th></th>\n",
       "      <th></th>\n",
       "    </tr>\n",
       "  </thead>\n",
       "  <tbody>\n",
       "    <tr>\n",
       "      <th>1</th>\n",
       "      <td>NaN</td>\n",
       "      <td>NaN</td>\n",
       "      <td>0.750</td>\n",
       "      <td>-5.000</td>\n",
       "      <td>2.938</td>\n",
       "      <td>2.000</td>\n",
       "      <td>-0.156</td>\n",
       "      <td>2.031</td>\n",
       "      <td>5.688</td>\n",
       "      <td>9.656</td>\n",
       "      <td>...</td>\n",
       "      <td>NaN</td>\n",
       "      <td>8.781</td>\n",
       "      <td>3.625</td>\n",
       "      <td>9.312</td>\n",
       "      <td>NaN</td>\n",
       "      <td>NaN</td>\n",
       "      <td>NaN</td>\n",
       "      <td>NaN</td>\n",
       "      <td>NaN</td>\n",
       "      <td>NaN</td>\n",
       "    </tr>\n",
       "    <tr>\n",
       "      <th>10</th>\n",
       "      <td>1.875</td>\n",
       "      <td>0.094</td>\n",
       "      <td>1.031</td>\n",
       "      <td>-1.031</td>\n",
       "      <td>2.219</td>\n",
       "      <td>0.219</td>\n",
       "      <td>5.406</td>\n",
       "      <td>4.844</td>\n",
       "      <td>3.281</td>\n",
       "      <td>-1.000</td>\n",
       "      <td>...</td>\n",
       "      <td>5.781</td>\n",
       "      <td>6.688</td>\n",
       "      <td>2.344</td>\n",
       "      <td>1.875</td>\n",
       "      <td>2.031</td>\n",
       "      <td>1.75</td>\n",
       "      <td>2.00</td>\n",
       "      <td>2.625</td>\n",
       "      <td>-2.312</td>\n",
       "      <td>2.125</td>\n",
       "    </tr>\n",
       "    <tr>\n",
       "      <th>100</th>\n",
       "      <td>NaN</td>\n",
       "      <td>NaN</td>\n",
       "      <td>NaN</td>\n",
       "      <td>NaN</td>\n",
       "      <td>NaN</td>\n",
       "      <td>NaN</td>\n",
       "      <td>NaN</td>\n",
       "      <td>NaN</td>\n",
       "      <td>NaN</td>\n",
       "      <td>NaN</td>\n",
       "      <td>...</td>\n",
       "      <td>NaN</td>\n",
       "      <td>NaN</td>\n",
       "      <td>NaN</td>\n",
       "      <td>NaN</td>\n",
       "      <td>NaN</td>\n",
       "      <td>NaN</td>\n",
       "      <td>NaN</td>\n",
       "      <td>NaN</td>\n",
       "      <td>NaN</td>\n",
       "      <td>NaN</td>\n",
       "    </tr>\n",
       "    <tr>\n",
       "      <th>1000</th>\n",
       "      <td>NaN</td>\n",
       "      <td>NaN</td>\n",
       "      <td>NaN</td>\n",
       "      <td>NaN</td>\n",
       "      <td>NaN</td>\n",
       "      <td>NaN</td>\n",
       "      <td>NaN</td>\n",
       "      <td>NaN</td>\n",
       "      <td>NaN</td>\n",
       "      <td>NaN</td>\n",
       "      <td>...</td>\n",
       "      <td>NaN</td>\n",
       "      <td>NaN</td>\n",
       "      <td>NaN</td>\n",
       "      <td>NaN</td>\n",
       "      <td>NaN</td>\n",
       "      <td>NaN</td>\n",
       "      <td>NaN</td>\n",
       "      <td>NaN</td>\n",
       "      <td>NaN</td>\n",
       "      <td>NaN</td>\n",
       "    </tr>\n",
       "    <tr>\n",
       "      <th>10001</th>\n",
       "      <td>NaN</td>\n",
       "      <td>NaN</td>\n",
       "      <td>NaN</td>\n",
       "      <td>NaN</td>\n",
       "      <td>NaN</td>\n",
       "      <td>6.125</td>\n",
       "      <td>NaN</td>\n",
       "      <td>NaN</td>\n",
       "      <td>NaN</td>\n",
       "      <td>NaN</td>\n",
       "      <td>...</td>\n",
       "      <td>NaN</td>\n",
       "      <td>NaN</td>\n",
       "      <td>NaN</td>\n",
       "      <td>NaN</td>\n",
       "      <td>NaN</td>\n",
       "      <td>NaN</td>\n",
       "      <td>NaN</td>\n",
       "      <td>0.969</td>\n",
       "      <td>NaN</td>\n",
       "      <td>NaN</td>\n",
       "    </tr>\n",
       "    <tr>\n",
       "      <th>...</th>\n",
       "      <td>...</td>\n",
       "      <td>...</td>\n",
       "      <td>...</td>\n",
       "      <td>...</td>\n",
       "      <td>...</td>\n",
       "      <td>...</td>\n",
       "      <td>...</td>\n",
       "      <td>...</td>\n",
       "      <td>...</td>\n",
       "      <td>...</td>\n",
       "      <td>...</td>\n",
       "      <td>...</td>\n",
       "      <td>...</td>\n",
       "      <td>...</td>\n",
       "      <td>...</td>\n",
       "      <td>...</td>\n",
       "      <td>...</td>\n",
       "      <td>...</td>\n",
       "      <td>...</td>\n",
       "      <td>...</td>\n",
       "      <td>...</td>\n",
       "    </tr>\n",
       "    <tr>\n",
       "      <th>9994</th>\n",
       "      <td>NaN</td>\n",
       "      <td>NaN</td>\n",
       "      <td>NaN</td>\n",
       "      <td>NaN</td>\n",
       "      <td>NaN</td>\n",
       "      <td>NaN</td>\n",
       "      <td>NaN</td>\n",
       "      <td>NaN</td>\n",
       "      <td>NaN</td>\n",
       "      <td>NaN</td>\n",
       "      <td>...</td>\n",
       "      <td>NaN</td>\n",
       "      <td>NaN</td>\n",
       "      <td>NaN</td>\n",
       "      <td>NaN</td>\n",
       "      <td>NaN</td>\n",
       "      <td>NaN</td>\n",
       "      <td>NaN</td>\n",
       "      <td>NaN</td>\n",
       "      <td>NaN</td>\n",
       "      <td>NaN</td>\n",
       "    </tr>\n",
       "    <tr>\n",
       "      <th>9996</th>\n",
       "      <td>NaN</td>\n",
       "      <td>NaN</td>\n",
       "      <td>NaN</td>\n",
       "      <td>NaN</td>\n",
       "      <td>NaN</td>\n",
       "      <td>NaN</td>\n",
       "      <td>NaN</td>\n",
       "      <td>NaN</td>\n",
       "      <td>NaN</td>\n",
       "      <td>NaN</td>\n",
       "      <td>...</td>\n",
       "      <td>NaN</td>\n",
       "      <td>NaN</td>\n",
       "      <td>NaN</td>\n",
       "      <td>NaN</td>\n",
       "      <td>NaN</td>\n",
       "      <td>NaN</td>\n",
       "      <td>NaN</td>\n",
       "      <td>NaN</td>\n",
       "      <td>NaN</td>\n",
       "      <td>NaN</td>\n",
       "    </tr>\n",
       "    <tr>\n",
       "      <th>9997</th>\n",
       "      <td>NaN</td>\n",
       "      <td>NaN</td>\n",
       "      <td>NaN</td>\n",
       "      <td>NaN</td>\n",
       "      <td>3.062</td>\n",
       "      <td>5.562</td>\n",
       "      <td>NaN</td>\n",
       "      <td>NaN</td>\n",
       "      <td>NaN</td>\n",
       "      <td>NaN</td>\n",
       "      <td>...</td>\n",
       "      <td>NaN</td>\n",
       "      <td>NaN</td>\n",
       "      <td>NaN</td>\n",
       "      <td>NaN</td>\n",
       "      <td>NaN</td>\n",
       "      <td>NaN</td>\n",
       "      <td>NaN</td>\n",
       "      <td>NaN</td>\n",
       "      <td>1.312</td>\n",
       "      <td>NaN</td>\n",
       "    </tr>\n",
       "    <tr>\n",
       "      <th>9998</th>\n",
       "      <td>NaN</td>\n",
       "      <td>NaN</td>\n",
       "      <td>NaN</td>\n",
       "      <td>NaN</td>\n",
       "      <td>NaN</td>\n",
       "      <td>3.500</td>\n",
       "      <td>5.594</td>\n",
       "      <td>NaN</td>\n",
       "      <td>7.625</td>\n",
       "      <td>NaN</td>\n",
       "      <td>...</td>\n",
       "      <td>NaN</td>\n",
       "      <td>NaN</td>\n",
       "      <td>NaN</td>\n",
       "      <td>-0.344</td>\n",
       "      <td>NaN</td>\n",
       "      <td>NaN</td>\n",
       "      <td>8.25</td>\n",
       "      <td>NaN</td>\n",
       "      <td>NaN</td>\n",
       "      <td>NaN</td>\n",
       "    </tr>\n",
       "    <tr>\n",
       "      <th>9999</th>\n",
       "      <td>NaN</td>\n",
       "      <td>NaN</td>\n",
       "      <td>NaN</td>\n",
       "      <td>NaN</td>\n",
       "      <td>7.875</td>\n",
       "      <td>NaN</td>\n",
       "      <td>-6.062</td>\n",
       "      <td>NaN</td>\n",
       "      <td>NaN</td>\n",
       "      <td>NaN</td>\n",
       "      <td>...</td>\n",
       "      <td>NaN</td>\n",
       "      <td>NaN</td>\n",
       "      <td>NaN</td>\n",
       "      <td>6.531</td>\n",
       "      <td>NaN</td>\n",
       "      <td>NaN</td>\n",
       "      <td>NaN</td>\n",
       "      <td>NaN</td>\n",
       "      <td>NaN</td>\n",
       "      <td>NaN</td>\n",
       "    </tr>\n",
       "  </tbody>\n",
       "</table>\n",
       "<p>59132 rows × 140 columns</p>\n",
       "</div>"
      ],
      "text/plain": [
       "item_id    100    101    102    103    104    105    106    107    108    109  \\\n",
       "user_id                                                                         \n",
       "1          NaN    NaN  0.750 -5.000  2.938  2.000 -0.156  2.031  5.688  9.656   \n",
       "10       1.875  0.094  1.031 -1.031  2.219  0.219  5.406  4.844  3.281 -1.000   \n",
       "100        NaN    NaN    NaN    NaN    NaN    NaN    NaN    NaN    NaN    NaN   \n",
       "1000       NaN    NaN    NaN    NaN    NaN    NaN    NaN    NaN    NaN    NaN   \n",
       "10001      NaN    NaN    NaN    NaN    NaN  6.125    NaN    NaN    NaN    NaN   \n",
       "...        ...    ...    ...    ...    ...    ...    ...    ...    ...    ...   \n",
       "9994       NaN    NaN    NaN    NaN    NaN    NaN    NaN    NaN    NaN    NaN   \n",
       "9996       NaN    NaN    NaN    NaN    NaN    NaN    NaN    NaN    NaN    NaN   \n",
       "9997       NaN    NaN    NaN    NaN  3.062  5.562    NaN    NaN    NaN    NaN   \n",
       "9998       NaN    NaN    NaN    NaN    NaN  3.500  5.594    NaN  7.625    NaN   \n",
       "9999       NaN    NaN    NaN    NaN  7.875    NaN -6.062    NaN    NaN    NaN   \n",
       "\n",
       "item_id  ...     90     91     92     93     94    95    96     97     98  \\\n",
       "user_id  ...                                                                \n",
       "1        ...    NaN  8.781  3.625  9.312    NaN   NaN   NaN    NaN    NaN   \n",
       "10       ...  5.781  6.688  2.344  1.875  2.031  1.75  2.00  2.625 -2.312   \n",
       "100      ...    NaN    NaN    NaN    NaN    NaN   NaN   NaN    NaN    NaN   \n",
       "1000     ...    NaN    NaN    NaN    NaN    NaN   NaN   NaN    NaN    NaN   \n",
       "10001    ...    NaN    NaN    NaN    NaN    NaN   NaN   NaN  0.969    NaN   \n",
       "...      ...    ...    ...    ...    ...    ...   ...   ...    ...    ...   \n",
       "9994     ...    NaN    NaN    NaN    NaN    NaN   NaN   NaN    NaN    NaN   \n",
       "9996     ...    NaN    NaN    NaN    NaN    NaN   NaN   NaN    NaN    NaN   \n",
       "9997     ...    NaN    NaN    NaN    NaN    NaN   NaN   NaN    NaN  1.312   \n",
       "9998     ...    NaN    NaN    NaN -0.344    NaN   NaN  8.25    NaN    NaN   \n",
       "9999     ...    NaN    NaN    NaN  6.531    NaN   NaN   NaN    NaN    NaN   \n",
       "\n",
       "item_id     99  \n",
       "user_id         \n",
       "1          NaN  \n",
       "10       2.125  \n",
       "100        NaN  \n",
       "1000       NaN  \n",
       "10001      NaN  \n",
       "...        ...  \n",
       "9994       NaN  \n",
       "9996       NaN  \n",
       "9997       NaN  \n",
       "9998       NaN  \n",
       "9999       NaN  \n",
       "\n",
       "[59132 rows x 140 columns]"
      ]
     },
     "execution_count": 36,
     "metadata": {},
     "output_type": "execute_result"
    }
   ],
   "source": [
    "# we will use the pivot function\n",
    "df_matrix = df.pivot(index='user_id', columns='item_id', values='rating')\n",
    "\n",
    "df_matrix"
   ]
  },
  {
   "cell_type": "markdown",
   "metadata": {},
   "source": [
    "Is this dataset sparse?\n",
    "\n",
    "To calculate the sparsity, we count the number of ratings (that is, the number of cells in the matrix that are filled) and divide by the total number of user-item pairs. To count the number of users, we can simply count the number of rows in the matrix, while to count the number of items, we can simply count the number of columns. "
   ]
  },
  {
   "cell_type": "code",
   "execution_count": 37,
   "metadata": {},
   "outputs": [
    {
     "name": "stdout",
     "output_type": "stream",
     "text": [
      "21.28%\n"
     ]
    }
   ],
   "source": [
    "print(f\"{df_matrix.notnull().sum().sum() / (df_matrix.shape[0] * df_matrix.shape[1]):.2%}\")"
   ]
  },
  {
   "cell_type": "markdown",
   "metadata": {},
   "source": [
    "What is the:\n",
    "\n",
    "1. distribution of total number of items per user?\n",
    "\n",
    "2. distribution of total number of users per item?\n",
    "\n",
    "3. distribution of mean ratings per user?\n",
    "\n",
    "4. distribution of ratings?\n",
    "\n",
    "(Show the histograms)"
   ]
  },
  {
   "cell_type": "code",
   "execution_count": 38,
   "metadata": {},
   "outputs": [],
   "source": [
    "# TODO"
   ]
  },
  {
   "cell_type": "markdown",
   "metadata": {},
   "source": [
    "### Surprise Library <a id=\"surprise\"></a>"
   ]
  },
  {
   "cell_type": "markdown",
   "metadata": {},
   "source": [
    "Now let's tranform dataset in a user-item matrix **using the surprise library**.\n",
    "\n",
    "To that end, we can apply the method \"build_full_trainset\".\n",
    "\n",
    "This is the documentation for the trainset object https://surprise.readthedocs.io/en/stable/trainset.html\n",
    "\n",
    "(Using the trainset object is useful for applying the surprise library methods)"
   ]
  },
  {
   "cell_type": "code",
   "execution_count": 39,
   "metadata": {},
   "outputs": [
    {
     "data": {
      "text/plain": [
       "<surprise.trainset.Trainset at 0x7d543c7979a0>"
      ]
     },
     "execution_count": 39,
     "metadata": {},
     "output_type": "execute_result"
    }
   ],
   "source": [
    "# Build the trainset\n",
    "# THIS IS WRONG\n",
    "trainset = data.build_full_trainset()\n",
    "\n",
    "trainset"
   ]
  },
  {
   "cell_type": "markdown",
   "metadata": {},
   "source": [
    "Explore the trainset object. \n",
    "\n",
    "Can you answer the same questions about the dataset using only the methods available in the trainset object? Do you have the same results?"
   ]
  },
  {
   "cell_type": "code",
   "execution_count": 40,
   "metadata": {},
   "outputs": [],
   "source": [
    "# TODO"
   ]
  },
  {
   "cell_type": "markdown",
   "metadata": {},
   "source": [
    "What are the two most popular items?"
   ]
  },
  {
   "cell_type": "code",
   "execution_count": 41,
   "metadata": {},
   "outputs": [],
   "source": [
    "# TODO"
   ]
  },
  {
   "cell_type": "markdown",
   "metadata": {},
   "source": [
    "## Recommender Systems <a id=\"recsys\"></a>"
   ]
  },
  {
   "cell_type": "code",
   "execution_count": 42,
   "metadata": {},
   "outputs": [],
   "source": [
    "# HACK: the dataset is too big, so we will pick or pandas dataframe, create a sample and then covert to the surprise lib dataset\n",
    "reader = Reader(rating_scale=(df.rating.min(), df.rating.max()))\n",
    "# you can try other sizes\n",
    "size = 10000\n",
    "data_sml = Dataset.load_from_df(df[['user_id', 'item_id', 'rating']].sample(size), reader)"
   ]
  },
  {
   "cell_type": "markdown",
   "metadata": {},
   "source": [
    "To properly evaluate the recommender systems, we will now split the original dataset into train and test. "
   ]
  },
  {
   "cell_type": "code",
   "execution_count": 43,
   "metadata": {},
   "outputs": [],
   "source": [
    "# use only the first half of the dataset as our dataset\n",
    "# split intro train and test set\n",
    "trainset, testset = train_test_split(data, test_size=0.2)"
   ]
  },
  {
   "cell_type": "markdown",
   "metadata": {},
   "source": [
    "### Popularity <id a=\"popularity\"></a>"
   ]
  },
  {
   "cell_type": "markdown",
   "metadata": {},
   "source": [
    "The popularity method is the simplest recommender system.\n",
    "\n",
    "It finds the most popular items and then recommends them to new users."
   ]
  },
  {
   "cell_type": "code",
   "execution_count": 44,
   "metadata": {},
   "outputs": [],
   "source": [
    "# Popular Recommender -> maybe we should use the rating too\n",
    "def popular_recommendations(trainset, top_n=10):\n",
    "    item_counts = defaultdict(int)\n",
    "\n",
    "    # Iterate through the trainset to count item ratings\n",
    "    for _, item_id, _ in trainset.all_ratings():\n",
    "        item_counts[item_id] += 1\n",
    "\n",
    "    # Sort items by popularity (number of ratings)\n",
    "    popular_items = sorted(item_counts.items(), key=lambda x: x[1], reverse=True)\n",
    "\n",
    "    # Get the top N most popular items (e.g., top 10)\n",
    "    top_n = popular_items[:top_n]\n",
    "    return [trainset.to_raw_iid(i) for i, _ in top_n]"
   ]
  },
  {
   "cell_type": "markdown",
   "metadata": {},
   "source": [
    "These are the most popular items"
   ]
  },
  {
   "cell_type": "code",
   "execution_count": 45,
   "metadata": {},
   "outputs": [
    {
     "data": {
      "text/plain": [
       "['7', '8', '13', '15', '16']"
      ]
     },
     "execution_count": 45,
     "metadata": {},
     "output_type": "execute_result"
    }
   ],
   "source": [
    "popular_recommendations(trainset, 5)"
   ]
  },
  {
   "cell_type": "markdown",
   "metadata": {},
   "source": [
    "### Modelling <a id=\"modelling\"></a>"
   ]
  },
  {
   "cell_type": "markdown",
   "metadata": {},
   "source": [
    "The predictor fills the matrix with the ratings por unseen user-item pairs.\n",
    "\n",
    "To evaluate how good the model is, we calculate the RMSE between the true value and the predicted. \n",
    "\n",
    "As we are using the test set to create the predictions only for user-item pairs found in the test set."
   ]
  },
  {
   "cell_type": "code",
   "execution_count": 46,
   "metadata": {},
   "outputs": [],
   "source": [
    "# Define evaluation function\n",
    "def evaluate_algorithm(algo, trainset, testset):\n",
    "    algo.fit(trainset)\n",
    "    predictions = algo.test(testset)\n",
    "    \n",
    "    # Compute and return RMSE\n",
    "    rmse = accuracy.rmse(predictions)\n",
    "    return rmse"
   ]
  },
  {
   "cell_type": "code",
   "execution_count": 47,
   "metadata": {},
   "outputs": [
    {
     "name": "stdout",
     "output_type": "stream",
     "text": [
      "RMSE: 7.2704\n"
     ]
    }
   ],
   "source": [
    "# Random Recommender\n",
    "random_algo = NormalPredictor()\n",
    "random_rmse = evaluate_algorithm(random_algo, trainset, testset)"
   ]
  },
  {
   "cell_type": "code",
   "execution_count": 48,
   "metadata": {},
   "outputs": [],
   "source": [
    "# User-Based Collaborative Filtering\n",
    "#ubcf_algo = KNNBasic(sim_options={'user_based': True})\n",
    "#ubcf_rmse = evaluate_algorithm(ubcf_algo, trainset, testset)"
   ]
  },
  {
   "cell_type": "code",
   "execution_count": 49,
   "metadata": {},
   "outputs": [
    {
     "name": "stdout",
     "output_type": "stream",
     "text": [
      "Computing the msd similarity matrix...\n",
      "Done computing similarity matrix.\n",
      "RMSE: 4.3345\n"
     ]
    }
   ],
   "source": [
    "# Item-Based Collaborative Filtering\n",
    "ibcf_algo = KNNBasic(sim_options={'user_based': False})\n",
    "ibcf_rmse = evaluate_algorithm(ibcf_algo, trainset, testset)"
   ]
  },
  {
   "cell_type": "code",
   "execution_count": 50,
   "metadata": {},
   "outputs": [
    {
     "name": "stdout",
     "output_type": "stream",
     "text": [
      "RMSE: 4.4963\n"
     ]
    }
   ],
   "source": [
    "# Singular Value Decomposition (SVD)\n",
    "svd_algo = SVD()\n",
    "svd_rmse = evaluate_algorithm(svd_algo, trainset, testset)"
   ]
  },
  {
   "cell_type": "code",
   "execution_count": 51,
   "metadata": {},
   "outputs": [
    {
     "name": "stdout",
     "output_type": "stream",
     "text": [
      "Random RMSE: 7.270\n",
      "Item-Based CF RMSE: 4.335\n",
      "SVD RMSE: 4.496\n"
     ]
    }
   ],
   "source": [
    "print(f\"Random RMSE: {random_rmse:.3f}\")\n",
    "#print(f\"User-Based CF RMSE: {ubcf_rmse:.3f}\")\n",
    "print(f\"Item-Based CF RMSE: {ibcf_rmse:.3f}\")\n",
    "print(f\"SVD RMSE: {svd_rmse:.3f}\")"
   ]
  },
  {
   "cell_type": "markdown",
   "metadata": {},
   "source": [
    "### Top recommendations <a id=\"top-rec\"></a>"
   ]
  },
  {
   "cell_type": "markdown",
   "metadata": {},
   "source": [
    "The following function is designed to generate personalized recommendations for a user using a recommender model (`algo`) and a `Trainset` object. It uses the recommender model to make a rating prediction for each item the user hasn't interacted with and sorts the items by their estimated scores in descending order. Then, selects the top `n` items with the highest estimated scores as recommendations for the user."
   ]
  },
  {
   "cell_type": "code",
   "execution_count": 52,
   "metadata": {},
   "outputs": [],
   "source": [
    "# Recommend top N items for a user using a recommender model\n",
    "def recommend_top_n(algo, trainset, user_id, n=10):\n",
    "    user_ratings = trainset.ur[user_id]\n",
    "    items = [item_id for (item_id, _) in user_ratings]\n",
    "    \n",
    "    item_scores = {}\n",
    "    # this is actually not the most correct way to do this, but it works\n",
    "    for item_id in trainset.all_items():\n",
    "        if item_id not in items:\n",
    "            prediction = algo.predict(trainset.to_raw_uid(user_id), trainset.to_raw_iid(item_id), verbose=True)\n",
    "            item_scores[item_id] = prediction.est\n",
    "    \n",
    "    top_items = sorted(item_scores, key=item_scores.get, reverse=True)[:n]\n",
    "\n",
    "    #from raw_id to actual_id\n",
    "    return [trainset.to_raw_iid(i) for i in top_items]"
   ]
  },
  {
   "cell_type": "code",
   "execution_count": 53,
   "metadata": {},
   "outputs": [
    {
     "name": "stdout",
     "output_type": "stream",
     "text": [
      "user: 16875      item: 76         r_ui = None   est = 6.08   {'actual_k': 40, 'was_impossible': False}\n",
      "user: 16875      item: 22         r_ui = None   est = 3.73   {'actual_k': 40, 'was_impossible': False}\n",
      "user: 16875      item: 150        r_ui = None   est = 6.38   {'actual_k': 40, 'was_impossible': False}\n",
      "user: 16875      item: 42         r_ui = None   est = 5.52   {'actual_k': 40, 'was_impossible': False}\n",
      "user: 16875      item: 138        r_ui = None   est = 6.48   {'actual_k': 40, 'was_impossible': False}\n",
      "user: 16875      item: 39         r_ui = None   est = 5.42   {'actual_k': 40, 'was_impossible': False}\n",
      "user: 16875      item: 94         r_ui = None   est = 3.69   {'actual_k': 40, 'was_impossible': False}\n",
      "user: 16875      item: 74         r_ui = None   est = 2.87   {'actual_k': 40, 'was_impossible': False}\n",
      "user: 16875      item: 62         r_ui = None   est = 6.41   {'actual_k': 40, 'was_impossible': False}\n",
      "user: 16875      item: 7          r_ui = None   est = 1.68   {'actual_k': 40, 'was_impossible': False}\n",
      "user: 16875      item: 114        r_ui = None   est = 6.50   {'actual_k': 40, 'was_impossible': False}\n",
      "user: 16875      item: 55         r_ui = None   est = 3.68   {'actual_k': 40, 'was_impossible': False}\n",
      "user: 16875      item: 75         r_ui = None   est = 3.05   {'actual_k': 40, 'was_impossible': False}\n",
      "user: 16875      item: 68         r_ui = None   est = 6.34   {'actual_k': 40, 'was_impossible': False}\n",
      "user: 16875      item: 146        r_ui = None   est = 4.04   {'actual_k': 40, 'was_impossible': False}\n",
      "user: 16875      item: 30         r_ui = None   est = 3.59   {'actual_k': 40, 'was_impossible': False}\n",
      "user: 16875      item: 53         r_ui = None   est = 6.60   {'actual_k': 40, 'was_impossible': False}\n",
      "user: 16875      item: 24         r_ui = None   est = 1.99   {'actual_k': 40, 'was_impossible': False}\n",
      "user: 16875      item: 73         r_ui = None   est = 4.95   {'actual_k': 40, 'was_impossible': False}\n",
      "user: 16875      item: 129        r_ui = None   est = 6.46   {'actual_k': 40, 'was_impossible': False}\n",
      "user: 16875      item: 141        r_ui = None   est = 1.74   {'actual_k': 40, 'was_impossible': False}\n",
      "user: 16875      item: 91         r_ui = None   est = 5.54   {'actual_k': 40, 'was_impossible': False}\n",
      "user: 16875      item: 85         r_ui = None   est = 3.70   {'actual_k': 40, 'was_impossible': False}\n",
      "user: 16875      item: 118        r_ui = None   est = 5.53   {'actual_k': 40, 'was_impossible': False}\n",
      "user: 16875      item: 49         r_ui = None   est = 6.57   {'actual_k': 40, 'was_impossible': False}\n",
      "user: 16875      item: 40         r_ui = None   est = 4.83   {'actual_k': 40, 'was_impossible': False}\n",
      "user: 16875      item: 56         r_ui = None   est = 6.08   {'actual_k': 40, 'was_impossible': False}\n",
      "user: 16875      item: 149        r_ui = None   est = 6.18   {'actual_k': 40, 'was_impossible': False}\n",
      "user: 16875      item: 59         r_ui = None   est = 4.82   {'actual_k': 40, 'was_impossible': False}\n",
      "user: 16875      item: 126        r_ui = None   est = 6.40   {'actual_k': 40, 'was_impossible': False}\n",
      "user: 16875      item: 37         r_ui = None   est = 3.05   {'actual_k': 40, 'was_impossible': False}\n",
      "user: 16875      item: 26         r_ui = None   est = 5.84   {'actual_k': 40, 'was_impossible': False}\n",
      "user: 16875      item: 124        r_ui = None   est = 2.12   {'actual_k': 40, 'was_impossible': False}\n",
      "user: 16875      item: 116        r_ui = None   est = 5.96   {'actual_k': 40, 'was_impossible': False}\n",
      "user: 16875      item: 123        r_ui = None   est = 3.41   {'actual_k': 40, 'was_impossible': False}\n",
      "user: 16875      item: 131        r_ui = None   est = 4.10   {'actual_k': 40, 'was_impossible': False}\n",
      "user: 16875      item: 63         r_ui = None   est = 6.05   {'actual_k': 40, 'was_impossible': False}\n",
      "user: 16875      item: 57         r_ui = None   est = 2.50   {'actual_k': 40, 'was_impossible': False}\n",
      "user: 16875      item: 46         r_ui = None   est = 5.55   {'actual_k': 40, 'was_impossible': False}\n",
      "user: 16875      item: 20         r_ui = None   est = 4.49   {'actual_k': 40, 'was_impossible': False}\n",
      "user: 16875      item: 28         r_ui = None   est = 5.65   {'actual_k': 40, 'was_impossible': False}\n",
      "user: 16875      item: 23         r_ui = None   est = 3.63   {'actual_k': 40, 'was_impossible': False}\n",
      "user: 16875      item: 64         r_ui = None   est = 3.24   {'actual_k': 40, 'was_impossible': False}\n",
      "user: 16875      item: 58         r_ui = None   est = 1.89   {'actual_k': 40, 'was_impossible': False}\n",
      "user: 16875      item: 48         r_ui = None   est = 6.22   {'actual_k': 40, 'was_impossible': False}\n",
      "user: 16875      item: 44         r_ui = None   est = 1.84   {'actual_k': 40, 'was_impossible': False}\n",
      "user: 16875      item: 5          r_ui = None   est = 2.72   {'actual_k': 40, 'was_impossible': False}\n",
      "user: 16875      item: 52         r_ui = None   est = 4.42   {'actual_k': 40, 'was_impossible': False}\n",
      "user: 16875      item: 100        r_ui = None   est = 4.84   {'actual_k': 40, 'was_impossible': False}\n",
      "user: 16875      item: 43         r_ui = None   est = 3.48   {'actual_k': 40, 'was_impossible': False}\n",
      "user: 16875      item: 51         r_ui = None   est = 3.66   {'actual_k': 40, 'was_impossible': False}\n",
      "user: 16875      item: 27         r_ui = None   est = 5.84   {'actual_k': 40, 'was_impossible': False}\n",
      "user: 16875      item: 80         r_ui = None   est = 5.88   {'actual_k': 40, 'was_impossible': False}\n",
      "user: 16875      item: 61         r_ui = None   est = 5.55   {'actual_k': 40, 'was_impossible': False}\n",
      "user: 16875      item: 31         r_ui = None   est = 5.96   {'actual_k': 40, 'was_impossible': False}\n",
      "Top 5 User-Based CF Recommendations for User 16875 : ['53', '49', '114', '138', '129']\n"
     ]
    }
   ],
   "source": [
    "# Get recommendations for a specific user using the User-Based CF model\n",
    "user_id = 3 # Change to the desired user ID\n",
    "ubcf_top_items = recommend_top_n(ibcf_algo, trainset, user_id , n=5)\n",
    "print(\"Top 5 User-Based CF Recommendations for User\", trainset.to_raw_uid(user_id), \":\", ubcf_top_items)"
   ]
  },
  {
   "cell_type": "code",
   "execution_count": 54,
   "metadata": {},
   "outputs": [
    {
     "name": "stdout",
     "output_type": "stream",
     "text": [
      "user_id 52134\n"
     ]
    },
    {
     "ename": "AttributeError",
     "evalue": "'KNNBasic' object has no attribute 'sim'",
     "output_type": "error",
     "traceback": [
      "\u001b[0;31m---------------------------------------------------------------------------\u001b[0m",
      "\u001b[0;31mAttributeError\u001b[0m                            Traceback (most recent call last)",
      "Cell \u001b[0;32mIn[54], line 5\u001b[0m\n\u001b[1;32m      2\u001b[0m n \u001b[38;5;241m=\u001b[39m \u001b[38;5;241m5\u001b[39m\n\u001b[1;32m      3\u001b[0m \u001b[38;5;28mprint\u001b[39m(\u001b[38;5;124m\"\u001b[39m\u001b[38;5;124muser_id\u001b[39m\u001b[38;5;124m\"\u001b[39m, trainset\u001b[38;5;241m.\u001b[39mto_raw_uid(user_id))\n\u001b[0;32m----> 5\u001b[0m \u001b[38;5;28mprint\u001b[39m(\u001b[43mrecommend_top_n\u001b[49m\u001b[43m(\u001b[49m\u001b[43mubcf_algo\u001b[49m\u001b[43m,\u001b[49m\u001b[43m \u001b[49m\u001b[43mtrainset\u001b[49m\u001b[43m,\u001b[49m\u001b[43m \u001b[49m\u001b[43muser_id\u001b[49m\u001b[43m,\u001b[49m\u001b[43m \u001b[49m\u001b[43mn\u001b[49m\u001b[43m)\u001b[49m)\n\u001b[1;32m      6\u001b[0m \u001b[38;5;28mprint\u001b[39m(recommend_top_n(svd_algo, trainset, user_id, n))\n",
      "Cell \u001b[0;32mIn[52], line 10\u001b[0m, in \u001b[0;36mrecommend_top_n\u001b[0;34m(algo, trainset, user_id, n)\u001b[0m\n\u001b[1;32m      8\u001b[0m \u001b[38;5;28;01mfor\u001b[39;00m item_id \u001b[38;5;129;01min\u001b[39;00m trainset\u001b[38;5;241m.\u001b[39mall_items():\n\u001b[1;32m      9\u001b[0m     \u001b[38;5;28;01mif\u001b[39;00m item_id \u001b[38;5;129;01mnot\u001b[39;00m \u001b[38;5;129;01min\u001b[39;00m items:\n\u001b[0;32m---> 10\u001b[0m         prediction \u001b[38;5;241m=\u001b[39m \u001b[43malgo\u001b[49m\u001b[38;5;241;43m.\u001b[39;49m\u001b[43mpredict\u001b[49m\u001b[43m(\u001b[49m\u001b[43mtrainset\u001b[49m\u001b[38;5;241;43m.\u001b[39;49m\u001b[43mto_raw_uid\u001b[49m\u001b[43m(\u001b[49m\u001b[43muser_id\u001b[49m\u001b[43m)\u001b[49m\u001b[43m,\u001b[49m\u001b[43m \u001b[49m\u001b[43mtrainset\u001b[49m\u001b[38;5;241;43m.\u001b[39;49m\u001b[43mto_raw_iid\u001b[49m\u001b[43m(\u001b[49m\u001b[43mitem_id\u001b[49m\u001b[43m)\u001b[49m\u001b[43m,\u001b[49m\u001b[43m \u001b[49m\u001b[43mverbose\u001b[49m\u001b[38;5;241;43m=\u001b[39;49m\u001b[38;5;28;43;01mTrue\u001b[39;49;00m\u001b[43m)\u001b[49m\n\u001b[1;32m     11\u001b[0m         item_scores[item_id] \u001b[38;5;241m=\u001b[39m prediction\u001b[38;5;241m.\u001b[39mest\n\u001b[1;32m     13\u001b[0m top_items \u001b[38;5;241m=\u001b[39m \u001b[38;5;28msorted\u001b[39m(item_scores, key\u001b[38;5;241m=\u001b[39mitem_scores\u001b[38;5;241m.\u001b[39mget, reverse\u001b[38;5;241m=\u001b[39m\u001b[38;5;28;01mTrue\u001b[39;00m)[:n]\n",
      "File \u001b[0;32m~/.local/lib/python3.10/site-packages/surprise/prediction_algorithms/algo_base.py:102\u001b[0m, in \u001b[0;36mAlgoBase.predict\u001b[0;34m(self, uid, iid, r_ui, clip, verbose)\u001b[0m\n\u001b[1;32m    100\u001b[0m details \u001b[38;5;241m=\u001b[39m {}\n\u001b[1;32m    101\u001b[0m \u001b[38;5;28;01mtry\u001b[39;00m:\n\u001b[0;32m--> 102\u001b[0m     est \u001b[38;5;241m=\u001b[39m \u001b[38;5;28;43mself\u001b[39;49m\u001b[38;5;241;43m.\u001b[39;49m\u001b[43mestimate\u001b[49m\u001b[43m(\u001b[49m\u001b[43miuid\u001b[49m\u001b[43m,\u001b[49m\u001b[43m \u001b[49m\u001b[43miiid\u001b[49m\u001b[43m)\u001b[49m\n\u001b[1;32m    104\u001b[0m     \u001b[38;5;66;03m# If the details dict was also returned\u001b[39;00m\n\u001b[1;32m    105\u001b[0m     \u001b[38;5;28;01mif\u001b[39;00m \u001b[38;5;28misinstance\u001b[39m(est, \u001b[38;5;28mtuple\u001b[39m):\n",
      "File \u001b[0;32m~/.local/lib/python3.10/site-packages/surprise/prediction_algorithms/knns.py:109\u001b[0m, in \u001b[0;36mKNNBasic.estimate\u001b[0;34m(self, u, i)\u001b[0m\n\u001b[1;32m    105\u001b[0m     \u001b[38;5;28;01mraise\u001b[39;00m PredictionImpossible(\u001b[38;5;124m\"\u001b[39m\u001b[38;5;124mUser and/or item is unknown.\u001b[39m\u001b[38;5;124m\"\u001b[39m)\n\u001b[1;32m    107\u001b[0m x, y \u001b[38;5;241m=\u001b[39m \u001b[38;5;28mself\u001b[39m\u001b[38;5;241m.\u001b[39mswitch(u, i)\n\u001b[0;32m--> 109\u001b[0m neighbors \u001b[38;5;241m=\u001b[39m [(\u001b[38;5;28mself\u001b[39m\u001b[38;5;241m.\u001b[39msim[x, x2], r) \u001b[38;5;28;01mfor\u001b[39;00m (x2, r) \u001b[38;5;129;01min\u001b[39;00m \u001b[38;5;28mself\u001b[39m\u001b[38;5;241m.\u001b[39myr[y]]\n\u001b[1;32m    110\u001b[0m k_neighbors \u001b[38;5;241m=\u001b[39m heapq\u001b[38;5;241m.\u001b[39mnlargest(\u001b[38;5;28mself\u001b[39m\u001b[38;5;241m.\u001b[39mk, neighbors, key\u001b[38;5;241m=\u001b[39m\u001b[38;5;28;01mlambda\u001b[39;00m t: t[\u001b[38;5;241m0\u001b[39m])\n\u001b[1;32m    112\u001b[0m \u001b[38;5;66;03m# compute weighted average\u001b[39;00m\n",
      "File \u001b[0;32m~/.local/lib/python3.10/site-packages/surprise/prediction_algorithms/knns.py:109\u001b[0m, in \u001b[0;36m<listcomp>\u001b[0;34m(.0)\u001b[0m\n\u001b[1;32m    105\u001b[0m     \u001b[38;5;28;01mraise\u001b[39;00m PredictionImpossible(\u001b[38;5;124m\"\u001b[39m\u001b[38;5;124mUser and/or item is unknown.\u001b[39m\u001b[38;5;124m\"\u001b[39m)\n\u001b[1;32m    107\u001b[0m x, y \u001b[38;5;241m=\u001b[39m \u001b[38;5;28mself\u001b[39m\u001b[38;5;241m.\u001b[39mswitch(u, i)\n\u001b[0;32m--> 109\u001b[0m neighbors \u001b[38;5;241m=\u001b[39m [(\u001b[38;5;28;43mself\u001b[39;49m\u001b[38;5;241;43m.\u001b[39;49m\u001b[43msim\u001b[49m[x, x2], r) \u001b[38;5;28;01mfor\u001b[39;00m (x2, r) \u001b[38;5;129;01min\u001b[39;00m \u001b[38;5;28mself\u001b[39m\u001b[38;5;241m.\u001b[39myr[y]]\n\u001b[1;32m    110\u001b[0m k_neighbors \u001b[38;5;241m=\u001b[39m heapq\u001b[38;5;241m.\u001b[39mnlargest(\u001b[38;5;28mself\u001b[39m\u001b[38;5;241m.\u001b[39mk, neighbors, key\u001b[38;5;241m=\u001b[39m\u001b[38;5;28;01mlambda\u001b[39;00m t: t[\u001b[38;5;241m0\u001b[39m])\n\u001b[1;32m    112\u001b[0m \u001b[38;5;66;03m# compute weighted average\u001b[39;00m\n",
      "\u001b[0;31mAttributeError\u001b[0m: 'KNNBasic' object has no attribute 'sim'"
     ]
    }
   ],
   "source": [
    "user_id = 10\n",
    "n = 5\n",
    "print(\"user_id\", trainset.to_raw_uid(user_id))\n",
    "\n",
    "print(recommend_top_n(ubcf_algo, trainset, user_id, n))\n",
    "print(recommend_top_n(svd_algo, trainset, user_id, n))"
   ]
  },
  {
   "cell_type": "markdown",
   "metadata": {},
   "source": [
    "How to evaluate this ranking?"
   ]
  },
  {
   "cell_type": "code",
   "execution_count": null,
   "metadata": {},
   "outputs": [],
   "source": [
    "df_testset = pd.DataFrame(testset, columns=['user_id', 'item_id', 'rating'])"
   ]
  },
  {
   "cell_type": "code",
   "execution_count": null,
   "metadata": {},
   "outputs": [
    {
     "data": {
      "text/plain": [
       "1     8926\n",
       "2     8386\n",
       "3     6634\n",
       "4     4955\n",
       "5     3720\n",
       "6     2989\n",
       "7     2269\n",
       "8     1885\n",
       "9     1520\n",
       "10    1213\n",
       "11    1009\n",
       "12     819\n",
       "13     811\n",
       "14     678\n",
       "15     615\n",
       "16     500\n",
       "17     485\n",
       "18     470\n",
       "21     451\n",
       "19     438\n",
       "20     436\n",
       "25     431\n",
       "23     427\n",
       "22     413\n",
       "24     410\n",
       "26     348\n",
       "27     316\n",
       "29     251\n",
       "28     240\n",
       "30     163\n",
       "31     161\n",
       "32     106\n",
       "33      76\n",
       "34      55\n",
       "35      44\n",
       "36      21\n",
       "37      11\n",
       "38       7\n",
       "39       7\n",
       "40       2\n",
       "41       2\n",
       "Name: count, dtype: int64"
      ]
     },
     "execution_count": 250,
     "metadata": {},
     "output_type": "execute_result"
    }
   ],
   "source": [
    "df_testset.groupby(\"user_id\").apply(len).value_counts()"
   ]
  },
  {
   "cell_type": "code",
   "execution_count": null,
   "metadata": {},
   "outputs": [
    {
     "name": "stdout",
     "output_type": "stream",
     "text": [
      "number of users in the testset that exist in the trainset: 28606\n"
     ]
    }
   ],
   "source": [
    "# we just want to recommend positive ratings\n",
    "pos_rating = 5\n",
    "df_testset_pos = df_testset[df_testset[\"rating\"] > pos_rating]\n",
    "# which users exist in the training and testset\n",
    "users = []\n",
    "for u in df_testset_pos[\"user_id\"].unique():\n",
    "    try :\n",
    "        trainset.to_inner_uid(u)\n",
    "        users.append(u)\n",
    "    except ValueError:\n",
    "        continue\n",
    "\n",
    "print(\"number of users in the testset that exist in the trainset:\", len(users))"
   ]
  },
  {
   "cell_type": "code",
   "execution_count": null,
   "metadata": {},
   "outputs": [
    {
     "name": "stdout",
     "output_type": "stream",
     "text": [
      "user_id :  60334\n",
      "ground truth :  ['106', '68']\n",
      "recommendations:  ['139', '99', '135', '91', '129']\n",
      "hits: 0 / 5\n"
     ]
    }
   ],
   "source": [
    "random_user = random.choice(users)\n",
    "n = 5\n",
    "print(\"user_id : \", random_user)\n",
    "gt = df_testset[(df_testset['user_id']==random_user) & (df_testset['rating']>pos_rating)].item_id.to_list()\n",
    "print(\"ground truth : \", gt)\n",
    "recs =  recommend_top_n(svd_algo, trainset, trainset.to_inner_uid(random_user), n)\n",
    "print(\"recommendations: \",recs)\n",
    "print(f\"hits: {len(set(gt).intersection(set(recs)))} / {n}\")"
   ]
  },
  {
   "cell_type": "code",
   "execution_count": null,
   "metadata": {},
   "outputs": [],
   "source": []
  },
  {
   "cell_type": "code",
   "execution_count": null,
   "metadata": {},
   "outputs": [],
   "source": []
  }
 ],
 "metadata": {
  "kernelspec": {
   "display_name": "Python 3",
   "language": "python",
   "name": "python3"
  },
  "language_info": {
   "codemirror_mode": {
    "name": "ipython",
    "version": 3
   },
   "file_extension": ".py",
   "mimetype": "text/x-python",
   "name": "python",
   "nbconvert_exporter": "python",
   "pygments_lexer": "ipython3",
   "version": "3.10.12"
  },
  "orig_nbformat": 4
 },
 "nbformat": 4,
 "nbformat_minor": 2
}
