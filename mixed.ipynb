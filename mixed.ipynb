{
 "cells": [
  {
   "cell_type": "code",
   "execution_count": 6,
   "id": "initial_id",
   "metadata": {
    "collapsed": true,
    "ExecuteTime": {
     "end_time": "2024-03-12T23:38:56.721535Z",
     "start_time": "2024-03-12T23:38:56.718631Z"
    }
   },
   "outputs": [],
   "source": [
    "import pandas as pd\n",
    "from utils import load_filtered_data"
   ]
  },
  {
   "cell_type": "code",
   "outputs": [],
   "source": [
    "city = 'Sicklerville'\n",
    "name = 'mixed'\n",
    "\n",
    "# load city data\n",
    "data = load_filtered_data(city)"
   ],
   "metadata": {
    "collapsed": false,
    "ExecuteTime": {
     "end_time": "2024-03-12T23:38:56.811832Z",
     "start_time": "2024-03-12T23:38:56.723644Z"
    }
   },
   "id": "bd062388fb65c439",
   "execution_count": 7
  },
  {
   "cell_type": "code",
   "outputs": [
    {
     "data": {
      "text/plain": "                          id people_name  review_count        yelping_since  \\\n0     RgDVC3ZUBqpEe6Y1kPhIpw      Monica          1282  2009-02-23 14:08:31   \n1     zkamNMEjihh3zN7lC7_WVw     Matthew            15  2006-02-04 15:53:46   \n2     gVFxZMcuG_Tal2_TnpmUPg   Stephanie           146  2008-05-05 00:16:33   \n3     g0_x4kVvJAYuk96oCcbOmw     Michael           455  2009-04-15 12:46:06   \n4     -NbeVN5tnwdyYAvdNkKMjw     Dominic          1101  2012-04-25 19:31:00   \n...                      ...         ...           ...                  ...   \n3073  CUE13op55l9WZp6fBTUWnA      Nicole             2  2016-08-19 13:24:47   \n3074  cACn6Qc1owO7hV_ZhcP74Q     Allison             1  2019-11-10 00:05:23   \n3075  SpTYEhfInvALG1le1uu21w         Ray             2  2016-01-18 16:55:04   \n3076  sGOCaCP7_SMlaRKPNO__CQ      Tahjae             2  2019-05-04 13:07:23   \n3077  AUaVo2JAMwLGJmBo3M4VyQ      Nicole             1  2015-02-10 21:15:36   \n\n      useful  funny   cool                                              elite  \\\n0      12640  10005  11149            2009,2010,2011,2012,2013,2014,2015,2016   \n1         35      4     22                                                NaN   \n2        347    100    124                      2011,2012,2013,2014,2015,2016   \n3       1823    696    663  2009,2010,2011,2012,2013,2014,2015,2016,2017,2018   \n4       6704   1959   4179  2012,2013,2014,2015,2016,2017,2018,2019,20,20,...   \n...      ...    ...    ...                                                ...   \n3073       0      0      0                                                NaN   \n3074       0      0      0                                                NaN   \n3075       5      0      0                                                NaN   \n3076       0      0      0                                                NaN   \n3077       0      0      0                                                NaN   \n\n      fans  average_stars  ...  compliment_more  compliment_profile  \\\n0      804           4.17  ...              102                 108   \n1        1           4.07  ...                1                   0   \n2        6           3.68  ...               13                   1   \n3       46           3.38  ...               11                   0   \n4      193           3.75  ...               33                  18   \n...    ...            ...  ...              ...                 ...   \n3073     0           1.00  ...                0                   0   \n3074     0           5.00  ...                0                   0   \n3075     0           1.00  ...                0                   0   \n3076     0           5.00  ...                0                   0   \n3077     0           1.00  ...                0                   0   \n\n      compliment_cute  compliment_list  compliment_note  compliment_plain  \\\n0                 138               65              898              2584   \n1                   0                0                1                 3   \n2                   0                0               10                 8   \n3                   1                5               39                33   \n4                   2                2              312               457   \n...               ...              ...              ...               ...   \n3073                0                0                0                 0   \n3074                0                0                0                 0   \n3075                0                0                0                 0   \n3076                0                0                0                 0   \n3077                0                0                0                 0   \n\n      compliment_cool  compliment_funny  compliment_writer  compliment_photos  \n0                1731              1731                551                177  \n1                   2                 2                  0                  0  \n2                  21                21                  8                  0  \n3                  57                57                 32                  8  \n4                 637               637                137                 63  \n...               ...               ...                ...                ...  \n3073                0                 0                  0                  0  \n3074                0                 0                  0                  0  \n3075                0                 0                  0                  0  \n3076                0                 0                  0                  0  \n3077                0                 0                  0                  0  \n\n[3078 rows x 21 columns]",
      "text/html": "<div>\n<style scoped>\n    .dataframe tbody tr th:only-of-type {\n        vertical-align: middle;\n    }\n\n    .dataframe tbody tr th {\n        vertical-align: top;\n    }\n\n    .dataframe thead th {\n        text-align: right;\n    }\n</style>\n<table border=\"1\" class=\"dataframe\">\n  <thead>\n    <tr style=\"text-align: right;\">\n      <th></th>\n      <th>id</th>\n      <th>people_name</th>\n      <th>review_count</th>\n      <th>yelping_since</th>\n      <th>useful</th>\n      <th>funny</th>\n      <th>cool</th>\n      <th>elite</th>\n      <th>fans</th>\n      <th>average_stars</th>\n      <th>...</th>\n      <th>compliment_more</th>\n      <th>compliment_profile</th>\n      <th>compliment_cute</th>\n      <th>compliment_list</th>\n      <th>compliment_note</th>\n      <th>compliment_plain</th>\n      <th>compliment_cool</th>\n      <th>compliment_funny</th>\n      <th>compliment_writer</th>\n      <th>compliment_photos</th>\n    </tr>\n  </thead>\n  <tbody>\n    <tr>\n      <th>0</th>\n      <td>RgDVC3ZUBqpEe6Y1kPhIpw</td>\n      <td>Monica</td>\n      <td>1282</td>\n      <td>2009-02-23 14:08:31</td>\n      <td>12640</td>\n      <td>10005</td>\n      <td>11149</td>\n      <td>2009,2010,2011,2012,2013,2014,2015,2016</td>\n      <td>804</td>\n      <td>4.17</td>\n      <td>...</td>\n      <td>102</td>\n      <td>108</td>\n      <td>138</td>\n      <td>65</td>\n      <td>898</td>\n      <td>2584</td>\n      <td>1731</td>\n      <td>1731</td>\n      <td>551</td>\n      <td>177</td>\n    </tr>\n    <tr>\n      <th>1</th>\n      <td>zkamNMEjihh3zN7lC7_WVw</td>\n      <td>Matthew</td>\n      <td>15</td>\n      <td>2006-02-04 15:53:46</td>\n      <td>35</td>\n      <td>4</td>\n      <td>22</td>\n      <td>NaN</td>\n      <td>1</td>\n      <td>4.07</td>\n      <td>...</td>\n      <td>1</td>\n      <td>0</td>\n      <td>0</td>\n      <td>0</td>\n      <td>1</td>\n      <td>3</td>\n      <td>2</td>\n      <td>2</td>\n      <td>0</td>\n      <td>0</td>\n    </tr>\n    <tr>\n      <th>2</th>\n      <td>gVFxZMcuG_Tal2_TnpmUPg</td>\n      <td>Stephanie</td>\n      <td>146</td>\n      <td>2008-05-05 00:16:33</td>\n      <td>347</td>\n      <td>100</td>\n      <td>124</td>\n      <td>2011,2012,2013,2014,2015,2016</td>\n      <td>6</td>\n      <td>3.68</td>\n      <td>...</td>\n      <td>13</td>\n      <td>1</td>\n      <td>0</td>\n      <td>0</td>\n      <td>10</td>\n      <td>8</td>\n      <td>21</td>\n      <td>21</td>\n      <td>8</td>\n      <td>0</td>\n    </tr>\n    <tr>\n      <th>3</th>\n      <td>g0_x4kVvJAYuk96oCcbOmw</td>\n      <td>Michael</td>\n      <td>455</td>\n      <td>2009-04-15 12:46:06</td>\n      <td>1823</td>\n      <td>696</td>\n      <td>663</td>\n      <td>2009,2010,2011,2012,2013,2014,2015,2016,2017,2018</td>\n      <td>46</td>\n      <td>3.38</td>\n      <td>...</td>\n      <td>11</td>\n      <td>0</td>\n      <td>1</td>\n      <td>5</td>\n      <td>39</td>\n      <td>33</td>\n      <td>57</td>\n      <td>57</td>\n      <td>32</td>\n      <td>8</td>\n    </tr>\n    <tr>\n      <th>4</th>\n      <td>-NbeVN5tnwdyYAvdNkKMjw</td>\n      <td>Dominic</td>\n      <td>1101</td>\n      <td>2012-04-25 19:31:00</td>\n      <td>6704</td>\n      <td>1959</td>\n      <td>4179</td>\n      <td>2012,2013,2014,2015,2016,2017,2018,2019,20,20,...</td>\n      <td>193</td>\n      <td>3.75</td>\n      <td>...</td>\n      <td>33</td>\n      <td>18</td>\n      <td>2</td>\n      <td>2</td>\n      <td>312</td>\n      <td>457</td>\n      <td>637</td>\n      <td>637</td>\n      <td>137</td>\n      <td>63</td>\n    </tr>\n    <tr>\n      <th>...</th>\n      <td>...</td>\n      <td>...</td>\n      <td>...</td>\n      <td>...</td>\n      <td>...</td>\n      <td>...</td>\n      <td>...</td>\n      <td>...</td>\n      <td>...</td>\n      <td>...</td>\n      <td>...</td>\n      <td>...</td>\n      <td>...</td>\n      <td>...</td>\n      <td>...</td>\n      <td>...</td>\n      <td>...</td>\n      <td>...</td>\n      <td>...</td>\n      <td>...</td>\n      <td>...</td>\n    </tr>\n    <tr>\n      <th>3073</th>\n      <td>CUE13op55l9WZp6fBTUWnA</td>\n      <td>Nicole</td>\n      <td>2</td>\n      <td>2016-08-19 13:24:47</td>\n      <td>0</td>\n      <td>0</td>\n      <td>0</td>\n      <td>NaN</td>\n      <td>0</td>\n      <td>1.00</td>\n      <td>...</td>\n      <td>0</td>\n      <td>0</td>\n      <td>0</td>\n      <td>0</td>\n      <td>0</td>\n      <td>0</td>\n      <td>0</td>\n      <td>0</td>\n      <td>0</td>\n      <td>0</td>\n    </tr>\n    <tr>\n      <th>3074</th>\n      <td>cACn6Qc1owO7hV_ZhcP74Q</td>\n      <td>Allison</td>\n      <td>1</td>\n      <td>2019-11-10 00:05:23</td>\n      <td>0</td>\n      <td>0</td>\n      <td>0</td>\n      <td>NaN</td>\n      <td>0</td>\n      <td>5.00</td>\n      <td>...</td>\n      <td>0</td>\n      <td>0</td>\n      <td>0</td>\n      <td>0</td>\n      <td>0</td>\n      <td>0</td>\n      <td>0</td>\n      <td>0</td>\n      <td>0</td>\n      <td>0</td>\n    </tr>\n    <tr>\n      <th>3075</th>\n      <td>SpTYEhfInvALG1le1uu21w</td>\n      <td>Ray</td>\n      <td>2</td>\n      <td>2016-01-18 16:55:04</td>\n      <td>5</td>\n      <td>0</td>\n      <td>0</td>\n      <td>NaN</td>\n      <td>0</td>\n      <td>1.00</td>\n      <td>...</td>\n      <td>0</td>\n      <td>0</td>\n      <td>0</td>\n      <td>0</td>\n      <td>0</td>\n      <td>0</td>\n      <td>0</td>\n      <td>0</td>\n      <td>0</td>\n      <td>0</td>\n    </tr>\n    <tr>\n      <th>3076</th>\n      <td>sGOCaCP7_SMlaRKPNO__CQ</td>\n      <td>Tahjae</td>\n      <td>2</td>\n      <td>2019-05-04 13:07:23</td>\n      <td>0</td>\n      <td>0</td>\n      <td>0</td>\n      <td>NaN</td>\n      <td>0</td>\n      <td>5.00</td>\n      <td>...</td>\n      <td>0</td>\n      <td>0</td>\n      <td>0</td>\n      <td>0</td>\n      <td>0</td>\n      <td>0</td>\n      <td>0</td>\n      <td>0</td>\n      <td>0</td>\n      <td>0</td>\n    </tr>\n    <tr>\n      <th>3077</th>\n      <td>AUaVo2JAMwLGJmBo3M4VyQ</td>\n      <td>Nicole</td>\n      <td>1</td>\n      <td>2015-02-10 21:15:36</td>\n      <td>0</td>\n      <td>0</td>\n      <td>0</td>\n      <td>NaN</td>\n      <td>0</td>\n      <td>1.00</td>\n      <td>...</td>\n      <td>0</td>\n      <td>0</td>\n      <td>0</td>\n      <td>0</td>\n      <td>0</td>\n      <td>0</td>\n      <td>0</td>\n      <td>0</td>\n      <td>0</td>\n      <td>0</td>\n    </tr>\n  </tbody>\n</table>\n<p>3078 rows × 21 columns</p>\n</div>"
     },
     "execution_count": 8,
     "metadata": {},
     "output_type": "execute_result"
    }
   ],
   "source": [
    "# creating the nodes\n",
    "\n",
    "nodes = data['user'].drop(columns=['friends'])\n",
    "nodes = nodes.rename(columns={'user_id': 'id', 'name': 'people_name'})\n",
    "\n",
    "nodes"
   ],
   "metadata": {
    "collapsed": false,
    "ExecuteTime": {
     "end_time": "2024-03-12T23:38:56.830668Z",
     "start_time": "2024-03-12T23:38:56.813408Z"
    }
   },
   "id": "7315f5071217a5e6",
   "execution_count": 8
  },
  {
   "cell_type": "code",
   "outputs": [
    {
     "data": {
      "text/plain": "                        from                      to  weight  \\\n0     -0MIp6WKJ8QvGnYZQ5ETyg  BmVwbsL8l0imz4slonyMaA       2   \n1     -6MrOJCN-eIe37-LT-uPoQ  BmVwbsL8l0imz4slonyMaA       2   \n2     -6MrOJCN-eIe37-LT-uPoQ  PfkF7k5bk9ftSXrC8Q7GaQ       3   \n3     -6MrOJCN-eIe37-LT-uPoQ  ePxjx8tee06mn5h87X-Sxg       3   \n4     -6MrOJCN-eIe37-LT-uPoQ  i-v015Oa8uK4JiHe0GC8mQ       3   \n...                      ...                     ...     ...   \n2552  zkamNMEjihh3zN7lC7_WVw  lnQyKu1NZTMThnUYGh6jgg       3   \n2553  zkamNMEjihh3zN7lC7_WVw  ruTAZ7_Q7YAeEMeIoun6AQ       3   \n2554  zkamNMEjihh3zN7lC7_WVw  ulRdB25JWcztx_n6N67yog       4   \n2555  zvYSqlpOr2Nhi6ct_91vYw  2qfEiGZrOYwm2HX9ai4SNA       9   \n2556  zvYSqlpOr2Nhi6ct_91vYw  tBlxhHAjHPY2AdMEonmylw       3   \n\n                                         type  \n0     reviewed-same-restaurant-and-friendship  \n1     reviewed-same-restaurant-and-friendship  \n2     reviewed-same-restaurant-and-friendship  \n3     reviewed-same-restaurant-and-friendship  \n4     reviewed-same-restaurant-and-friendship  \n...                                       ...  \n2552  reviewed-same-restaurant-and-friendship  \n2553  reviewed-same-restaurant-and-friendship  \n2554  reviewed-same-restaurant-and-friendship  \n2555  reviewed-same-restaurant-and-friendship  \n2556  reviewed-same-restaurant-and-friendship  \n\n[2557 rows x 4 columns]",
      "text/html": "<div>\n<style scoped>\n    .dataframe tbody tr th:only-of-type {\n        vertical-align: middle;\n    }\n\n    .dataframe tbody tr th {\n        vertical-align: top;\n    }\n\n    .dataframe thead th {\n        text-align: right;\n    }\n</style>\n<table border=\"1\" class=\"dataframe\">\n  <thead>\n    <tr style=\"text-align: right;\">\n      <th></th>\n      <th>from</th>\n      <th>to</th>\n      <th>weight</th>\n      <th>type</th>\n    </tr>\n  </thead>\n  <tbody>\n    <tr>\n      <th>0</th>\n      <td>-0MIp6WKJ8QvGnYZQ5ETyg</td>\n      <td>BmVwbsL8l0imz4slonyMaA</td>\n      <td>2</td>\n      <td>reviewed-same-restaurant-and-friendship</td>\n    </tr>\n    <tr>\n      <th>1</th>\n      <td>-6MrOJCN-eIe37-LT-uPoQ</td>\n      <td>BmVwbsL8l0imz4slonyMaA</td>\n      <td>2</td>\n      <td>reviewed-same-restaurant-and-friendship</td>\n    </tr>\n    <tr>\n      <th>2</th>\n      <td>-6MrOJCN-eIe37-LT-uPoQ</td>\n      <td>PfkF7k5bk9ftSXrC8Q7GaQ</td>\n      <td>3</td>\n      <td>reviewed-same-restaurant-and-friendship</td>\n    </tr>\n    <tr>\n      <th>3</th>\n      <td>-6MrOJCN-eIe37-LT-uPoQ</td>\n      <td>ePxjx8tee06mn5h87X-Sxg</td>\n      <td>3</td>\n      <td>reviewed-same-restaurant-and-friendship</td>\n    </tr>\n    <tr>\n      <th>4</th>\n      <td>-6MrOJCN-eIe37-LT-uPoQ</td>\n      <td>i-v015Oa8uK4JiHe0GC8mQ</td>\n      <td>3</td>\n      <td>reviewed-same-restaurant-and-friendship</td>\n    </tr>\n    <tr>\n      <th>...</th>\n      <td>...</td>\n      <td>...</td>\n      <td>...</td>\n      <td>...</td>\n    </tr>\n    <tr>\n      <th>2552</th>\n      <td>zkamNMEjihh3zN7lC7_WVw</td>\n      <td>lnQyKu1NZTMThnUYGh6jgg</td>\n      <td>3</td>\n      <td>reviewed-same-restaurant-and-friendship</td>\n    </tr>\n    <tr>\n      <th>2553</th>\n      <td>zkamNMEjihh3zN7lC7_WVw</td>\n      <td>ruTAZ7_Q7YAeEMeIoun6AQ</td>\n      <td>3</td>\n      <td>reviewed-same-restaurant-and-friendship</td>\n    </tr>\n    <tr>\n      <th>2554</th>\n      <td>zkamNMEjihh3zN7lC7_WVw</td>\n      <td>ulRdB25JWcztx_n6N67yog</td>\n      <td>4</td>\n      <td>reviewed-same-restaurant-and-friendship</td>\n    </tr>\n    <tr>\n      <th>2555</th>\n      <td>zvYSqlpOr2Nhi6ct_91vYw</td>\n      <td>2qfEiGZrOYwm2HX9ai4SNA</td>\n      <td>9</td>\n      <td>reviewed-same-restaurant-and-friendship</td>\n    </tr>\n    <tr>\n      <th>2556</th>\n      <td>zvYSqlpOr2Nhi6ct_91vYw</td>\n      <td>tBlxhHAjHPY2AdMEonmylw</td>\n      <td>3</td>\n      <td>reviewed-same-restaurant-and-friendship</td>\n    </tr>\n  </tbody>\n</table>\n<p>2557 rows × 4 columns</p>\n</div>"
     },
     "execution_count": 9,
     "metadata": {},
     "output_type": "execute_result"
    }
   ],
   "source": [
    "# creating the edges for users&bgt\n",
    "\n",
    "temp_edges_struct = {'from': [], 'to': [], 'weight': [], 'type': []}\n",
    "connected = {}\n",
    "\n",
    "for business in data['review']['business_id'].unique():\n",
    "    reviews_of_business = data['review'][data['review']['business_id'] == business]\n",
    "    users_that_reviewed_business = reviews_of_business['user_id'].unique()\n",
    "    for i in range(len(users_that_reviewed_business)-1):\n",
    "        for j in range(i+1, len(users_that_reviewed_business)):\n",
    "            if users_that_reviewed_business[i] in connected:\n",
    "                connected[users_that_reviewed_business[i]].append(users_that_reviewed_business[j])\n",
    "            else:\n",
    "                connected[users_that_reviewed_business[i]] = [users_that_reviewed_business[j]]\n",
    "            if users_that_reviewed_business[j] in connected:\n",
    "                connected[users_that_reviewed_business[j]].append(users_that_reviewed_business[i])\n",
    "            else:\n",
    "                connected[users_that_reviewed_business[j]] = [users_that_reviewed_business[i]]\n",
    "\n",
    "# now do it for tip (data['tip'] has user_id and business_id)\n",
    "for business in data['tip']['business_id'].unique():\n",
    "    tip_of_business = data['tip'][data['tip']['business_id'] == business]\n",
    "    users_that_tipped_business = tip_of_business['user_id'].unique()\n",
    "    for i in range(len(users_that_tipped_business)-1):\n",
    "        for j in range(i+1, len(users_that_tipped_business)):\n",
    "            if users_that_tipped_business[i] in connected:\n",
    "                connected[users_that_tipped_business[i]].append(users_that_tipped_business[j])\n",
    "            else:\n",
    "                connected[users_that_tipped_business[i]] = [users_that_tipped_business[j]]\n",
    "            if users_that_tipped_business[j] in connected:\n",
    "                connected[users_that_tipped_business[j]].append(users_that_tipped_business[i])\n",
    "            else:\n",
    "                connected[users_that_tipped_business[j]] = [users_that_tipped_business[i]]\n",
    "\n",
    "\n",
    "THRESHOLD = 3\n",
    "\n",
    "for business in data['review']['business_id'].unique():\n",
    "    reviews_of_business = data['review'][data['review']['business_id'] == business]\n",
    "    users_that_reviewed_business = reviews_of_business['user_id'].unique()\n",
    "    for i in range(len(users_that_reviewed_business)-1):\n",
    "        for j in range(i+1, len(users_that_reviewed_business)):\n",
    "            if connected[users_that_reviewed_business[i]].count(users_that_reviewed_business[j]) >= THRESHOLD:\n",
    "                # from i to j\n",
    "                temp_edges_struct['from'].append(users_that_reviewed_business[i])\n",
    "                temp_edges_struct['to'].append(users_that_reviewed_business[j])\n",
    "                temp_edges_struct['weight'].append(connected[users_that_reviewed_business[i]].count(users_that_reviewed_business[j]))\n",
    "                temp_edges_struct['type'].append('reviewed-same-restaurant')\n",
    "                # from j to i\n",
    "                temp_edges_struct['from'].append(users_that_reviewed_business[j])\n",
    "                temp_edges_struct['to'].append(users_that_reviewed_business[i])\n",
    "                temp_edges_struct['weight'].append(connected[users_that_reviewed_business[j]].count(users_that_reviewed_business[i]))\n",
    "                temp_edges_struct['type'].append('reviewed-same-restaurant')\n",
    "            \n",
    "\n",
    "for business in data['tip']['business_id'].unique():\n",
    "    tip_of_business = data['tip'][data['tip']['business_id'] == business]\n",
    "    users_that_tipped_business = tip_of_business['user_id'].unique()\n",
    "    for i in range(len(users_that_tipped_business)-1):\n",
    "        for j in range(i+1, len(users_that_tipped_business)):\n",
    "            if connected[users_that_tipped_business[i]].count(users_that_tipped_business[j]) >= THRESHOLD:\n",
    "                # from i to j\n",
    "                temp_edges_struct['from'].append(users_that_tipped_business[i])\n",
    "                temp_edges_struct['to'].append(users_that_tipped_business[j])\n",
    "                temp_edges_struct['weight'].append(connected[users_that_tipped_business[i]].count(users_that_tipped_business[j]))\n",
    "                temp_edges_struct['type'].append('tipped-same-restaurant')\n",
    "                # from j to i\n",
    "                temp_edges_struct['from'].append(users_that_tipped_business[j])\n",
    "                temp_edges_struct['to'].append(users_that_tipped_business[i])\n",
    "                temp_edges_struct['weight'].append(connected[users_that_tipped_business[j]].count(users_that_tipped_business[i]))\n",
    "                temp_edges_struct['type'].append('tipped-same-restaurant')\n",
    "\n",
    "edges_usersbgt = pd.DataFrame(temp_edges_struct)\n",
    "\n",
    "# remove repeated lines\n",
    "edges_usersbgt = edges_usersbgt.drop_duplicates()\n",
    "\n",
    "# now sum the weights of the repeated\n",
    "edges_usersbgt = edges_usersbgt.groupby(['from', 'to', 'type']).agg({'weight': 'sum'}).reset_index()\n",
    "\n",
    "\n",
    "# adding the edges for friendships\n",
    "\n",
    "user_ids_set = set(data['user']['user_id'])\n",
    "temp_edges_struct = {'from': [], 'to': [], 'weight': [], 'type': []}\n",
    "\n",
    "for index, row in data['user'].iterrows():\n",
    "    user_id = row['user_id']\n",
    "    friends = row['friends']\n",
    "    if pd.notnull(friends):\n",
    "        friend_list = friends.split(', ')\n",
    "        for friend in friend_list:\n",
    "            friendship_pair = tuple(sorted([user_id, friend]))\n",
    "            if friendship_pair[0] in user_ids_set and friendship_pair[1] in user_ids_set:\n",
    "                temp_edges_struct['from'].append(friendship_pair[0])\n",
    "                temp_edges_struct['to'].append(friendship_pair[1])\n",
    "                temp_edges_struct['weight'].append(2)\n",
    "                temp_edges_struct['type'].append('friendship')\n",
    "\n",
    "edges_friendships = pd.DataFrame(temp_edges_struct)\n",
    "edges_friendships = edges_friendships.drop_duplicates()\n",
    "\n",
    "edges = pd.concat([edges_usersbgt, edges_friendships])\n",
    "\n",
    "def multiply_values(x):\n",
    "    result = 1\n",
    "    for value in x:\n",
    "        result *= value\n",
    "    return result\n",
    "\n",
    "edges = edges.groupby(['from', 'to']).agg({'weight': multiply_values}).reset_index()\n",
    "\n",
    "edges = edges.drop_duplicates()\n",
    "\n",
    "edges['type'] = 'reviewed-same-restaurant-and-friendship'\n",
    "\n",
    "edges"
   ],
   "metadata": {
    "collapsed": false,
    "ExecuteTime": {
     "end_time": "2024-03-12T23:38:58.247958Z",
     "start_time": "2024-03-12T23:38:56.833007Z"
    }
   },
   "id": "e4521d2eee80530a",
   "execution_count": 9
  },
  {
   "cell_type": "code",
   "outputs": [],
   "source": [
    "# save data\n",
    "nodes.to_csv(f'nodes_and_edges/{city}_{name}_nodes.csv', index=False)\n",
    "edges.to_csv(f'nodes_and_edges/{city}_{name}_edges.csv', index=False)"
   ],
   "metadata": {
    "collapsed": false,
    "ExecuteTime": {
     "end_time": "2024-03-12T23:38:58.288736Z",
     "start_time": "2024-03-12T23:38:58.250109Z"
    }
   },
   "id": "9ae87d116dc18258",
   "execution_count": 10
  },
  {
   "cell_type": "code",
   "outputs": [],
   "source": [],
   "metadata": {
    "collapsed": false,
    "ExecuteTime": {
     "end_time": "2024-03-12T23:38:58.292003Z",
     "start_time": "2024-03-12T23:38:58.290113Z"
    }
   },
   "id": "b8ec4f9cd752a05a",
   "execution_count": 10
  }
 ],
 "metadata": {
  "kernelspec": {
   "display_name": "Python 3",
   "language": "python",
   "name": "python3"
  },
  "language_info": {
   "codemirror_mode": {
    "name": "ipython",
    "version": 2
   },
   "file_extension": ".py",
   "mimetype": "text/x-python",
   "name": "python",
   "nbconvert_exporter": "python",
   "pygments_lexer": "ipython2",
   "version": "2.7.6"
  }
 },
 "nbformat": 4,
 "nbformat_minor": 5
}
