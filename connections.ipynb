{
 "cells": [
  {
   "cell_type": "markdown",
   "metadata": {},
   "source": [
    "# Connections Development"
   ]
  },
  {
   "cell_type": "markdown",
   "metadata": {},
   "source": [
    "### Libraries"
   ]
  },
  {
   "cell_type": "code",
   "execution_count": 5,
   "metadata": {
    "ExecuteTime": {
     "end_time": "2024-04-01T10:54:14.634527Z",
     "start_time": "2024-04-01T10:54:14.631715Z"
    }
   },
   "outputs": [],
   "source": [
    "# import libraries\n",
    "\n",
    "import pandas as pd\n",
    "from utils import load_filtered_data\n",
    "\n",
    "# pd.set_option('display.max_rows', None)"
   ]
  },
  {
   "cell_type": "code",
   "execution_count": 6,
   "metadata": {
    "ExecuteTime": {
     "end_time": "2024-04-01T10:54:15.252782Z",
     "start_time": "2024-04-01T10:54:15.149432Z"
    }
   },
   "outputs": [],
   "source": [
    "# major variables\n",
    "\n",
    "city = 'Sicklerville'\n",
    "data = load_filtered_data(city)"
   ]
  },
  {
   "cell_type": "markdown",
   "metadata": {},
   "source": [
    "### Data preprocessing"
   ]
  },
  {
   "cell_type": "code",
   "execution_count": 7,
   "metadata": {
    "ExecuteTime": {
     "end_time": "2024-04-01T10:54:16.540095Z",
     "start_time": "2024-04-01T10:54:16.533029Z"
    }
   },
   "outputs": [],
   "source": [
    "# data preprocessing\n",
    "\n",
    "data['business'] = data['business'].drop(['city', 'state'], axis=1)\n",
    "data['business']['categories'] = data['business']['categories'].fillna('Other')\n",
    "\n",
    "data['user']['friends'] = data['user']['friends'].fillna('')"
   ]
  },
  {
   "cell_type": "markdown",
   "metadata": {},
   "source": [
    "### Feature engineering"
   ]
  },
  {
   "cell_type": "code",
   "execution_count": 8,
   "metadata": {
    "ExecuteTime": {
     "end_time": "2024-04-01T10:54:17.755471Z",
     "start_time": "2024-04-01T10:54:17.691049Z"
    }
   },
   "outputs": [
    {
     "data": {
      "text/plain": "                     user_id  \\\n0     -0MIp6WKJ8QvGnYZQ5ETyg   \n1     -23fvrDipXmZf9edeiF2yA   \n2     -27LxQq2L2oXHPYXzspBNA   \n3     -3CNoR9qVyD_P_K1Hvujbw   \n4     -6MrOJCN-eIe37-LT-uPoQ   \n...                      ...   \n2885  ztj0Iln1_ahMyDu9WXQNeA   \n2886  zvQmf9h7UpKiqt3XU7hppQ   \n2887  zvYSqlpOr2Nhi6ct_91vYw   \n2888  zxFEGpkzzdAb7qR6e6qWwQ   \n2889  zyTCJLh4oUsuRar4kxRfgg   \n\n                                           business_ids  \n0                              [2jy1GXVEHFIZZDV9rNBzcQ]  \n1                              [QiQl1_ErNV_wcQS0Bgfg8A]  \n2                              [FqHuK8GngSTqD-64mIdBrw]  \n3                              [nVRPnQOHahdw3N5PFwoYwA]  \n4     [hHTo8EhV8nLPLcO4SHmQgQ, NbajxjmlNjYfUNr1osXpY...  \n...                                                 ...  \n2885   [W4EklwiIeQNH6QhkcGllQQ, kEsHQJADJRgsPMjio88mYg]  \n2886                           [3a4WbB1do5QXwtVEwDiZcw]  \n2887  [NbajxjmlNjYfUNr1osXpYw, j1Gkb3wSeo3klOEAhL75c...  \n2888                           [lQZDL1J6xDjL7PG-5CgkGA]  \n2889                           [j6ZbvZ61szApc-EXvKgumA]  \n\n[2890 rows x 2 columns]",
      "text/html": "<div>\n<style scoped>\n    .dataframe tbody tr th:only-of-type {\n        vertical-align: middle;\n    }\n\n    .dataframe tbody tr th {\n        vertical-align: top;\n    }\n\n    .dataframe thead th {\n        text-align: right;\n    }\n</style>\n<table border=\"1\" class=\"dataframe\">\n  <thead>\n    <tr style=\"text-align: right;\">\n      <th></th>\n      <th>user_id</th>\n      <th>business_ids</th>\n    </tr>\n  </thead>\n  <tbody>\n    <tr>\n      <th>0</th>\n      <td>-0MIp6WKJ8QvGnYZQ5ETyg</td>\n      <td>[2jy1GXVEHFIZZDV9rNBzcQ]</td>\n    </tr>\n    <tr>\n      <th>1</th>\n      <td>-23fvrDipXmZf9edeiF2yA</td>\n      <td>[QiQl1_ErNV_wcQS0Bgfg8A]</td>\n    </tr>\n    <tr>\n      <th>2</th>\n      <td>-27LxQq2L2oXHPYXzspBNA</td>\n      <td>[FqHuK8GngSTqD-64mIdBrw]</td>\n    </tr>\n    <tr>\n      <th>3</th>\n      <td>-3CNoR9qVyD_P_K1Hvujbw</td>\n      <td>[nVRPnQOHahdw3N5PFwoYwA]</td>\n    </tr>\n    <tr>\n      <th>4</th>\n      <td>-6MrOJCN-eIe37-LT-uPoQ</td>\n      <td>[hHTo8EhV8nLPLcO4SHmQgQ, NbajxjmlNjYfUNr1osXpY...</td>\n    </tr>\n    <tr>\n      <th>...</th>\n      <td>...</td>\n      <td>...</td>\n    </tr>\n    <tr>\n      <th>2885</th>\n      <td>ztj0Iln1_ahMyDu9WXQNeA</td>\n      <td>[W4EklwiIeQNH6QhkcGllQQ, kEsHQJADJRgsPMjio88mYg]</td>\n    </tr>\n    <tr>\n      <th>2886</th>\n      <td>zvQmf9h7UpKiqt3XU7hppQ</td>\n      <td>[3a4WbB1do5QXwtVEwDiZcw]</td>\n    </tr>\n    <tr>\n      <th>2887</th>\n      <td>zvYSqlpOr2Nhi6ct_91vYw</td>\n      <td>[NbajxjmlNjYfUNr1osXpYw, j1Gkb3wSeo3klOEAhL75c...</td>\n    </tr>\n    <tr>\n      <th>2888</th>\n      <td>zxFEGpkzzdAb7qR6e6qWwQ</td>\n      <td>[lQZDL1J6xDjL7PG-5CgkGA]</td>\n    </tr>\n    <tr>\n      <th>2889</th>\n      <td>zyTCJLh4oUsuRar4kxRfgg</td>\n      <td>[j6ZbvZ61szApc-EXvKgumA]</td>\n    </tr>\n  </tbody>\n</table>\n<p>2890 rows × 2 columns</p>\n</div>"
     },
     "execution_count": 8,
     "metadata": {},
     "output_type": "execute_result"
    }
   ],
   "source": [
    "# dataframe for user reviews\n",
    "\n",
    "user_reviews_df = data['review'].groupby('user_id')['business_id'].agg(list).reset_index()\n",
    "user_reviews_df.columns = ['user_id', 'business_ids']\n",
    "\n",
    "user_reviews_df"
   ]
  },
  {
   "cell_type": "code",
   "execution_count": 9,
   "metadata": {
    "ExecuteTime": {
     "end_time": "2024-04-01T10:54:18.875019Z",
     "start_time": "2024-04-01T10:54:18.857464Z"
    }
   },
   "outputs": [
    {
     "data": {
      "text/plain": "                    user_id                                      business_ids\n0    -7fV-5KlUUMatLOiIOBT-g                          [TOVprh8VkxDRMwU-MlRgJg]\n1    -FpdhQ3h2YQgKMtF7NX85w                          [BreAoaPXLkmLRU0xeSzQPw]\n2    -G7Zkl1wIWBBmD0KRy_sCw                          [0pL-eq0ufX5jMDgVAvoHHw]\n3    -XZOz3ViFET3IZFRGFoOpQ  [QCZvkvipsfyZ_5uBy3PkpQ, QCZvkvipsfyZ_5uBy3PkpQ]\n4    -kAQ-PSKx3i0st2B4aPpTg                          [0p7kYtoqwJScvJjMjXYr7w]\n..                      ...                                               ...\n431  z_79z8n_uFOKbluPlZrtFg                          [hHTo8EhV8nLPLcO4SHmQgQ]\n432  zb1dJhjlW3c-IAMr0OjZaQ                          [Bw2X8gqOouIIznH2x_bLeQ]\n433  zhx48x_XOjJQBA0DMnPG2Q                          [oGDLaTRLPLz-R_KyQ3TzPA]\n434  zkamNMEjihh3zN7lC7_WVw  [NbajxjmlNjYfUNr1osXpYw, i39XLqAolwphb5zkZVId_A]\n435  zvYSqlpOr2Nhi6ct_91vYw                          [NbajxjmlNjYfUNr1osXpYw]\n\n[436 rows x 2 columns]",
      "text/html": "<div>\n<style scoped>\n    .dataframe tbody tr th:only-of-type {\n        vertical-align: middle;\n    }\n\n    .dataframe tbody tr th {\n        vertical-align: top;\n    }\n\n    .dataframe thead th {\n        text-align: right;\n    }\n</style>\n<table border=\"1\" class=\"dataframe\">\n  <thead>\n    <tr style=\"text-align: right;\">\n      <th></th>\n      <th>user_id</th>\n      <th>business_ids</th>\n    </tr>\n  </thead>\n  <tbody>\n    <tr>\n      <th>0</th>\n      <td>-7fV-5KlUUMatLOiIOBT-g</td>\n      <td>[TOVprh8VkxDRMwU-MlRgJg]</td>\n    </tr>\n    <tr>\n      <th>1</th>\n      <td>-FpdhQ3h2YQgKMtF7NX85w</td>\n      <td>[BreAoaPXLkmLRU0xeSzQPw]</td>\n    </tr>\n    <tr>\n      <th>2</th>\n      <td>-G7Zkl1wIWBBmD0KRy_sCw</td>\n      <td>[0pL-eq0ufX5jMDgVAvoHHw]</td>\n    </tr>\n    <tr>\n      <th>3</th>\n      <td>-XZOz3ViFET3IZFRGFoOpQ</td>\n      <td>[QCZvkvipsfyZ_5uBy3PkpQ, QCZvkvipsfyZ_5uBy3PkpQ]</td>\n    </tr>\n    <tr>\n      <th>4</th>\n      <td>-kAQ-PSKx3i0st2B4aPpTg</td>\n      <td>[0p7kYtoqwJScvJjMjXYr7w]</td>\n    </tr>\n    <tr>\n      <th>...</th>\n      <td>...</td>\n      <td>...</td>\n    </tr>\n    <tr>\n      <th>431</th>\n      <td>z_79z8n_uFOKbluPlZrtFg</td>\n      <td>[hHTo8EhV8nLPLcO4SHmQgQ]</td>\n    </tr>\n    <tr>\n      <th>432</th>\n      <td>zb1dJhjlW3c-IAMr0OjZaQ</td>\n      <td>[Bw2X8gqOouIIznH2x_bLeQ]</td>\n    </tr>\n    <tr>\n      <th>433</th>\n      <td>zhx48x_XOjJQBA0DMnPG2Q</td>\n      <td>[oGDLaTRLPLz-R_KyQ3TzPA]</td>\n    </tr>\n    <tr>\n      <th>434</th>\n      <td>zkamNMEjihh3zN7lC7_WVw</td>\n      <td>[NbajxjmlNjYfUNr1osXpYw, i39XLqAolwphb5zkZVId_A]</td>\n    </tr>\n    <tr>\n      <th>435</th>\n      <td>zvYSqlpOr2Nhi6ct_91vYw</td>\n      <td>[NbajxjmlNjYfUNr1osXpYw]</td>\n    </tr>\n  </tbody>\n</table>\n<p>436 rows × 2 columns</p>\n</div>"
     },
     "execution_count": 9,
     "metadata": {},
     "output_type": "execute_result"
    }
   ],
   "source": [
    "# dataframe for user tips\n",
    "\n",
    "user_tips_df = data['tip'].groupby('user_id')['business_id'].agg(list).reset_index()\n",
    "user_tips_df.columns = ['user_id', 'business_ids']\n",
    "\n",
    "user_tips_df"
   ]
  },
  {
   "cell_type": "code",
   "execution_count": 10,
   "metadata": {
    "ExecuteTime": {
     "end_time": "2024-04-01T10:54:31.380846Z",
     "start_time": "2024-04-01T10:54:31.313405Z"
    }
   },
   "outputs": [
    {
     "data": {
      "text/plain": "                     user_id  \\\n0     -0MIp6WKJ8QvGnYZQ5ETyg   \n1     -23fvrDipXmZf9edeiF2yA   \n2     -27LxQq2L2oXHPYXzspBNA   \n3     -3CNoR9qVyD_P_K1Hvujbw   \n4     -6MrOJCN-eIe37-LT-uPoQ   \n...                      ...   \n3073  ztj0Iln1_ahMyDu9WXQNeA   \n3074  zvQmf9h7UpKiqt3XU7hppQ   \n3075  zvYSqlpOr2Nhi6ct_91vYw   \n3076  zxFEGpkzzdAb7qR6e6qWwQ   \n3077  zyTCJLh4oUsuRar4kxRfgg   \n\n                                             categories  \n0     [Fast Food, Salad, Restaurants, Chicken Shop, ...  \n1                 [Appliances & Repair, Local Services]  \n2                   [Restaurants, Caribbean, Soul Food]  \n3                                  [Delis, Restaurants]  \n4     [Restaurants, Asian Fusion, Coffee & Tea, Food...  \n...                                                 ...  \n3073  [Salad, Restaurants, Sandwiches, Soup, Food, R...  \n3074  [Skin Care, Health & Medical, Massage Therapy,...  \n3075  [American (Traditional), Chicken Wings, Bars, ...  \n3076                        [Restaurants, Asian Fusion]  \n3077  [Italian, Restaurants, Sandwiches, American (N...  \n\n[3078 rows x 2 columns]",
      "text/html": "<div>\n<style scoped>\n    .dataframe tbody tr th:only-of-type {\n        vertical-align: middle;\n    }\n\n    .dataframe tbody tr th {\n        vertical-align: top;\n    }\n\n    .dataframe thead th {\n        text-align: right;\n    }\n</style>\n<table border=\"1\" class=\"dataframe\">\n  <thead>\n    <tr style=\"text-align: right;\">\n      <th></th>\n      <th>user_id</th>\n      <th>categories</th>\n    </tr>\n  </thead>\n  <tbody>\n    <tr>\n      <th>0</th>\n      <td>-0MIp6WKJ8QvGnYZQ5ETyg</td>\n      <td>[Fast Food, Salad, Restaurants, Chicken Shop, ...</td>\n    </tr>\n    <tr>\n      <th>1</th>\n      <td>-23fvrDipXmZf9edeiF2yA</td>\n      <td>[Appliances &amp; Repair, Local Services]</td>\n    </tr>\n    <tr>\n      <th>2</th>\n      <td>-27LxQq2L2oXHPYXzspBNA</td>\n      <td>[Restaurants, Caribbean, Soul Food]</td>\n    </tr>\n    <tr>\n      <th>3</th>\n      <td>-3CNoR9qVyD_P_K1Hvujbw</td>\n      <td>[Delis, Restaurants]</td>\n    </tr>\n    <tr>\n      <th>4</th>\n      <td>-6MrOJCN-eIe37-LT-uPoQ</td>\n      <td>[Restaurants, Asian Fusion, Coffee &amp; Tea, Food...</td>\n    </tr>\n    <tr>\n      <th>...</th>\n      <td>...</td>\n      <td>...</td>\n    </tr>\n    <tr>\n      <th>3073</th>\n      <td>ztj0Iln1_ahMyDu9WXQNeA</td>\n      <td>[Salad, Restaurants, Sandwiches, Soup, Food, R...</td>\n    </tr>\n    <tr>\n      <th>3074</th>\n      <td>zvQmf9h7UpKiqt3XU7hppQ</td>\n      <td>[Skin Care, Health &amp; Medical, Massage Therapy,...</td>\n    </tr>\n    <tr>\n      <th>3075</th>\n      <td>zvYSqlpOr2Nhi6ct_91vYw</td>\n      <td>[American (Traditional), Chicken Wings, Bars, ...</td>\n    </tr>\n    <tr>\n      <th>3076</th>\n      <td>zxFEGpkzzdAb7qR6e6qWwQ</td>\n      <td>[Restaurants, Asian Fusion]</td>\n    </tr>\n    <tr>\n      <th>3077</th>\n      <td>zyTCJLh4oUsuRar4kxRfgg</td>\n      <td>[Italian, Restaurants, Sandwiches, American (N...</td>\n    </tr>\n  </tbody>\n</table>\n<p>3078 rows × 2 columns</p>\n</div>"
     },
     "execution_count": 10,
     "metadata": {},
     "output_type": "execute_result"
    }
   ],
   "source": [
    "# dataframe for user categories (reviewed and tipped)\n",
    "\n",
    "review_business_data = pd.merge(data['review'], data['business'][['business_id', 'categories']], on='business_id', how='left')\n",
    "tip_business_data = pd.merge(data['tip'], data['business'][['business_id', 'categories']], on='business_id', how='left')\n",
    "merged_data = pd.concat([review_business_data, tip_business_data])\n",
    "\n",
    "user_categories_df = merged_data.groupby('user_id')['categories'].agg(lambda x: list(set(x))).reset_index()\n",
    "user_categories_df.columns = ['user_id', 'categories']\n",
    "\n",
    "user_categories_df"
   ]
  },
  {
   "cell_type": "code",
   "execution_count": 11,
   "metadata": {
    "ExecuteTime": {
     "end_time": "2024-04-01T10:54:32.334146Z",
     "start_time": "2024-04-01T10:54:32.291976Z"
    }
   },
   "outputs": [
    {
     "name": "stderr",
     "output_type": "stream",
     "text": [
      "/var/folders/td/xwj23wjj3p909mcvhbt6jgy00000gn/T/ipykernel_53015/1305039260.py:4: SettingWithCopyWarning: \n",
      "A value is trying to be set on a copy of a slice from a DataFrame.\n",
      "Try using .loc[row_indexer,col_indexer] = value instead\n",
      "\n",
      "See the caveats in the documentation: https://pandas.pydata.org/pandas-docs/stable/user_guide/indexing.html#returning-a-view-versus-a-copy\n",
      "  user_friends_df.loc[:, 'friends'] = user_friends_df['friends'].str.split(', ')\n"
     ]
    },
    {
     "data": {
      "text/plain": "                     user_id  \\\n0     RgDVC3ZUBqpEe6Y1kPhIpw   \n1     zkamNMEjihh3zN7lC7_WVw   \n2     gVFxZMcuG_Tal2_TnpmUPg   \n3     g0_x4kVvJAYuk96oCcbOmw   \n4     -NbeVN5tnwdyYAvdNkKMjw   \n...                      ...   \n3073  CUE13op55l9WZp6fBTUWnA   \n3074  cACn6Qc1owO7hV_ZhcP74Q   \n3075  SpTYEhfInvALG1le1uu21w   \n3076  sGOCaCP7_SMlaRKPNO__CQ   \n3077  AUaVo2JAMwLGJmBo3M4VyQ   \n\n                                                friends  \n0     [sHozd2pcOKwHtPr8VlZJfg, 7mL9cvICl8fuCQTM89a-S...  \n1     [YLzb3jjc3p-XAOBRggcrgA, 9lcq01JUhRY2yW8AxU3TI...  \n2     [uUh_q6rVMhKxwt0eaiphRg, jRqWx2z7jdSzpvqqswqNn...  \n3     [_BcWyKQL16ndpBdggh2kNA, mx50KP6rXgutH36fhnL6V...  \n4     [9IRuYmy5YmhtNQ6ei1p-uQ, 6NvkQATK0J2nmEWsuzhHi...  \n...                                                 ...  \n3073                                             [None]  \n3074                                             [None]  \n3075                                             [None]  \n3076                                             [None]  \n3077                                             [None]  \n\n[3078 rows x 2 columns]",
      "text/html": "<div>\n<style scoped>\n    .dataframe tbody tr th:only-of-type {\n        vertical-align: middle;\n    }\n\n    .dataframe tbody tr th {\n        vertical-align: top;\n    }\n\n    .dataframe thead th {\n        text-align: right;\n    }\n</style>\n<table border=\"1\" class=\"dataframe\">\n  <thead>\n    <tr style=\"text-align: right;\">\n      <th></th>\n      <th>user_id</th>\n      <th>friends</th>\n    </tr>\n  </thead>\n  <tbody>\n    <tr>\n      <th>0</th>\n      <td>RgDVC3ZUBqpEe6Y1kPhIpw</td>\n      <td>[sHozd2pcOKwHtPr8VlZJfg, 7mL9cvICl8fuCQTM89a-S...</td>\n    </tr>\n    <tr>\n      <th>1</th>\n      <td>zkamNMEjihh3zN7lC7_WVw</td>\n      <td>[YLzb3jjc3p-XAOBRggcrgA, 9lcq01JUhRY2yW8AxU3TI...</td>\n    </tr>\n    <tr>\n      <th>2</th>\n      <td>gVFxZMcuG_Tal2_TnpmUPg</td>\n      <td>[uUh_q6rVMhKxwt0eaiphRg, jRqWx2z7jdSzpvqqswqNn...</td>\n    </tr>\n    <tr>\n      <th>3</th>\n      <td>g0_x4kVvJAYuk96oCcbOmw</td>\n      <td>[_BcWyKQL16ndpBdggh2kNA, mx50KP6rXgutH36fhnL6V...</td>\n    </tr>\n    <tr>\n      <th>4</th>\n      <td>-NbeVN5tnwdyYAvdNkKMjw</td>\n      <td>[9IRuYmy5YmhtNQ6ei1p-uQ, 6NvkQATK0J2nmEWsuzhHi...</td>\n    </tr>\n    <tr>\n      <th>...</th>\n      <td>...</td>\n      <td>...</td>\n    </tr>\n    <tr>\n      <th>3073</th>\n      <td>CUE13op55l9WZp6fBTUWnA</td>\n      <td>[None]</td>\n    </tr>\n    <tr>\n      <th>3074</th>\n      <td>cACn6Qc1owO7hV_ZhcP74Q</td>\n      <td>[None]</td>\n    </tr>\n    <tr>\n      <th>3075</th>\n      <td>SpTYEhfInvALG1le1uu21w</td>\n      <td>[None]</td>\n    </tr>\n    <tr>\n      <th>3076</th>\n      <td>sGOCaCP7_SMlaRKPNO__CQ</td>\n      <td>[None]</td>\n    </tr>\n    <tr>\n      <th>3077</th>\n      <td>AUaVo2JAMwLGJmBo3M4VyQ</td>\n      <td>[None]</td>\n    </tr>\n  </tbody>\n</table>\n<p>3078 rows × 2 columns</p>\n</div>"
     },
     "execution_count": 11,
     "metadata": {},
     "output_type": "execute_result"
    }
   ],
   "source": [
    "# dataframe for user friends\n",
    "\n",
    "user_friends_df = data['user'][['user_id', 'friends']]\n",
    "user_friends_df.loc[:, 'friends'] = user_friends_df['friends'].str.split(', ')\n",
    "\n",
    "user_friends_df"
   ]
  },
  {
   "cell_type": "markdown",
   "metadata": {},
   "source": [
    "### Creation of nodes and edges"
   ]
  },
  {
   "cell_type": "code",
   "execution_count": 12,
   "metadata": {
    "ExecuteTime": {
     "end_time": "2024-04-01T10:54:39.592425Z",
     "start_time": "2024-04-01T10:54:39.584190Z"
    }
   },
   "outputs": [
    {
     "data": {
      "text/plain": "                          id       name\n0     RgDVC3ZUBqpEe6Y1kPhIpw     Monica\n1     zkamNMEjihh3zN7lC7_WVw    Matthew\n2     gVFxZMcuG_Tal2_TnpmUPg  Stephanie\n3     g0_x4kVvJAYuk96oCcbOmw    Michael\n4     -NbeVN5tnwdyYAvdNkKMjw    Dominic\n...                      ...        ...\n3073  CUE13op55l9WZp6fBTUWnA     Nicole\n3074  cACn6Qc1owO7hV_ZhcP74Q    Allison\n3075  SpTYEhfInvALG1le1uu21w        Ray\n3076  sGOCaCP7_SMlaRKPNO__CQ     Tahjae\n3077  AUaVo2JAMwLGJmBo3M4VyQ     Nicole\n\n[3078 rows x 2 columns]",
      "text/html": "<div>\n<style scoped>\n    .dataframe tbody tr th:only-of-type {\n        vertical-align: middle;\n    }\n\n    .dataframe tbody tr th {\n        vertical-align: top;\n    }\n\n    .dataframe thead th {\n        text-align: right;\n    }\n</style>\n<table border=\"1\" class=\"dataframe\">\n  <thead>\n    <tr style=\"text-align: right;\">\n      <th></th>\n      <th>id</th>\n      <th>name</th>\n    </tr>\n  </thead>\n  <tbody>\n    <tr>\n      <th>0</th>\n      <td>RgDVC3ZUBqpEe6Y1kPhIpw</td>\n      <td>Monica</td>\n    </tr>\n    <tr>\n      <th>1</th>\n      <td>zkamNMEjihh3zN7lC7_WVw</td>\n      <td>Matthew</td>\n    </tr>\n    <tr>\n      <th>2</th>\n      <td>gVFxZMcuG_Tal2_TnpmUPg</td>\n      <td>Stephanie</td>\n    </tr>\n    <tr>\n      <th>3</th>\n      <td>g0_x4kVvJAYuk96oCcbOmw</td>\n      <td>Michael</td>\n    </tr>\n    <tr>\n      <th>4</th>\n      <td>-NbeVN5tnwdyYAvdNkKMjw</td>\n      <td>Dominic</td>\n    </tr>\n    <tr>\n      <th>...</th>\n      <td>...</td>\n      <td>...</td>\n    </tr>\n    <tr>\n      <th>3073</th>\n      <td>CUE13op55l9WZp6fBTUWnA</td>\n      <td>Nicole</td>\n    </tr>\n    <tr>\n      <th>3074</th>\n      <td>cACn6Qc1owO7hV_ZhcP74Q</td>\n      <td>Allison</td>\n    </tr>\n    <tr>\n      <th>3075</th>\n      <td>SpTYEhfInvALG1le1uu21w</td>\n      <td>Ray</td>\n    </tr>\n    <tr>\n      <th>3076</th>\n      <td>sGOCaCP7_SMlaRKPNO__CQ</td>\n      <td>Tahjae</td>\n    </tr>\n    <tr>\n      <th>3077</th>\n      <td>AUaVo2JAMwLGJmBo3M4VyQ</td>\n      <td>Nicole</td>\n    </tr>\n  </tbody>\n</table>\n<p>3078 rows × 2 columns</p>\n</div>"
     },
     "execution_count": 12,
     "metadata": {},
     "output_type": "execute_result"
    }
   ],
   "source": [
    "# user nodes\n",
    "\n",
    "nodes = data['user'][['user_id', 'name']].rename(columns={'user_id': 'id'})\n",
    "\n",
    "nodes"
   ]
  },
  {
   "cell_type": "markdown",
   "metadata": {},
   "source": [
    "#### Friendship edges"
   ]
  },
  {
   "cell_type": "code",
   "execution_count": 14,
   "metadata": {
    "ExecuteTime": {
     "end_time": "2024-04-01T10:55:21.892377Z",
     "start_time": "2024-04-01T10:55:10.175052Z"
    }
   },
   "outputs": [
    {
     "data": {
      "text/plain": "                        from                      to  weight        type\n0     RgDVC3ZUBqpEe6Y1kPhIpw  ET8n-r7glWYqZhuR6GcdNw       1  friendship\n1     RgDVC3ZUBqpEe6Y1kPhIpw  A_BF2dDDUTKGVXrqxO9mag       1  friendship\n2     RgDVC3ZUBqpEe6Y1kPhIpw  r3ov7FgibBx41_W74I1KiA       1  friendship\n3     RgDVC3ZUBqpEe6Y1kPhIpw  ApJ9YgYU-AhS4a-F5oTGHw       1  friendship\n4     RgDVC3ZUBqpEe6Y1kPhIpw  cXtE-ZTrNx-hE7usp_f_xg       1  friendship\n...                      ...                     ...     ...         ...\n3553  XK-y2bmfTHkvYcXhZdUsUw  V_GUiV9qmwiHf2mpoe6Z5A       1  friendship\n3554  YNVgWbJpVqi16hd_TRTmSA  ePxjx8tee06mn5h87X-Sxg       1  friendship\n3555  g2wm59vqikKev1UxWtPwpw  7PgEfFn3tX__MeZANY3tYQ       1  friendship\n3556  No6DEuOu_In4ncAUg0MRtA  -u5CsCUHOvP5OHYaNGteZw       1  friendship\n3557  JaC0kofsQCR-adebGQdZ6A  RF10H09h98BaHfIZ8JS8jQ       1  friendship\n\n[3558 rows x 4 columns]",
      "text/html": "<div>\n<style scoped>\n    .dataframe tbody tr th:only-of-type {\n        vertical-align: middle;\n    }\n\n    .dataframe tbody tr th {\n        vertical-align: top;\n    }\n\n    .dataframe thead th {\n        text-align: right;\n    }\n</style>\n<table border=\"1\" class=\"dataframe\">\n  <thead>\n    <tr style=\"text-align: right;\">\n      <th></th>\n      <th>from</th>\n      <th>to</th>\n      <th>weight</th>\n      <th>type</th>\n    </tr>\n  </thead>\n  <tbody>\n    <tr>\n      <th>0</th>\n      <td>RgDVC3ZUBqpEe6Y1kPhIpw</td>\n      <td>ET8n-r7glWYqZhuR6GcdNw</td>\n      <td>1</td>\n      <td>friendship</td>\n    </tr>\n    <tr>\n      <th>1</th>\n      <td>RgDVC3ZUBqpEe6Y1kPhIpw</td>\n      <td>A_BF2dDDUTKGVXrqxO9mag</td>\n      <td>1</td>\n      <td>friendship</td>\n    </tr>\n    <tr>\n      <th>2</th>\n      <td>RgDVC3ZUBqpEe6Y1kPhIpw</td>\n      <td>r3ov7FgibBx41_W74I1KiA</td>\n      <td>1</td>\n      <td>friendship</td>\n    </tr>\n    <tr>\n      <th>3</th>\n      <td>RgDVC3ZUBqpEe6Y1kPhIpw</td>\n      <td>ApJ9YgYU-AhS4a-F5oTGHw</td>\n      <td>1</td>\n      <td>friendship</td>\n    </tr>\n    <tr>\n      <th>4</th>\n      <td>RgDVC3ZUBqpEe6Y1kPhIpw</td>\n      <td>cXtE-ZTrNx-hE7usp_f_xg</td>\n      <td>1</td>\n      <td>friendship</td>\n    </tr>\n    <tr>\n      <th>...</th>\n      <td>...</td>\n      <td>...</td>\n      <td>...</td>\n      <td>...</td>\n    </tr>\n    <tr>\n      <th>3553</th>\n      <td>XK-y2bmfTHkvYcXhZdUsUw</td>\n      <td>V_GUiV9qmwiHf2mpoe6Z5A</td>\n      <td>1</td>\n      <td>friendship</td>\n    </tr>\n    <tr>\n      <th>3554</th>\n      <td>YNVgWbJpVqi16hd_TRTmSA</td>\n      <td>ePxjx8tee06mn5h87X-Sxg</td>\n      <td>1</td>\n      <td>friendship</td>\n    </tr>\n    <tr>\n      <th>3555</th>\n      <td>g2wm59vqikKev1UxWtPwpw</td>\n      <td>7PgEfFn3tX__MeZANY3tYQ</td>\n      <td>1</td>\n      <td>friendship</td>\n    </tr>\n    <tr>\n      <th>3556</th>\n      <td>No6DEuOu_In4ncAUg0MRtA</td>\n      <td>-u5CsCUHOvP5OHYaNGteZw</td>\n      <td>1</td>\n      <td>friendship</td>\n    </tr>\n    <tr>\n      <th>3557</th>\n      <td>JaC0kofsQCR-adebGQdZ6A</td>\n      <td>RF10H09h98BaHfIZ8JS8jQ</td>\n      <td>1</td>\n      <td>friendship</td>\n    </tr>\n  </tbody>\n</table>\n<p>3558 rows × 4 columns</p>\n</div>"
     },
     "execution_count": 14,
     "metadata": {},
     "output_type": "execute_result"
    }
   ],
   "source": [
    "# edges representing user friendships\n",
    "\n",
    "friendship_edges = []\n",
    "\n",
    "for idx, row in user_friends_df.iterrows():\n",
    "    user_id = row['user_id']\n",
    "    friends_list = row['friends'] \n",
    "\n",
    "    for friend in friends_list:\n",
    "        if friend in nodes['id'].values:\n",
    "            friendship_edges.append((user_id, friend, 1, 'friendship'))\n",
    "\n",
    "friendship_edges = pd.DataFrame(friendship_edges, columns=['from', 'to', 'weight', 'type'])\n",
    "friendship_edges = friendship_edges.drop_duplicates()\n",
    "\n",
    "friendship_edges"
   ]
  },
  {
   "cell_type": "code",
   "execution_count": 10,
   "metadata": {},
   "outputs": [],
   "source": [
    "# save nodes and friendship edges\n",
    "\n",
    "connection = 'friendships'\n",
    "\n",
    "nodes.to_csv(f'nodes_and_edges/{city}_{connection}_nodes.csv', index=False)\n",
    "friendship_edges.to_csv(f'nodes_and_edges/{city}_{connection}_edges.csv', index=False)"
   ]
  },
  {
   "cell_type": "markdown",
   "metadata": {},
   "source": [
    "#### Review edges"
   ]
  },
  {
   "cell_type": "code",
   "execution_count": 15,
   "metadata": {
    "ExecuteTime": {
     "end_time": "2024-04-01T10:55:22.594933Z",
     "start_time": "2024-04-01T10:55:22.295038Z"
    }
   },
   "outputs": [
    {
     "data": {
      "text/plain": "                          from                      to  weight  \\\n0       -0MIp6WKJ8QvGnYZQ5ETyg  -ZCf13dTuzGKMwKFRxTUwQ       1   \n1       -0MIp6WKJ8QvGnYZQ5ETyg  -u5CsCUHOvP5OHYaNGteZw       1   \n2       -0MIp6WKJ8QvGnYZQ5ETyg  0cLvdT2ANqM7CL93gccVjA       1   \n3       -0MIp6WKJ8QvGnYZQ5ETyg  2K6e4rSuEYKJpmU37Kk-oA       1   \n4       -0MIp6WKJ8QvGnYZQ5ETyg  2RCnyrzyOQ1oA9jSgL7XPQ       1   \n...                        ...                     ...     ...   \n273707  zyTCJLh4oUsuRar4kxRfgg  vnSNGuRxa9p3Xrvlj3t03g       1   \n273708  zyTCJLh4oUsuRar4kxRfgg  w7QCKFrjpaBHiPSOo2O3MQ       1   \n273709  zyTCJLh4oUsuRar4kxRfgg  xvdkeWY0421VZicMbYmz2w       1   \n273710  zyTCJLh4oUsuRar4kxRfgg  y2PUG5elRIz6xkQP30DScA       1   \n273711  zyTCJLh4oUsuRar4kxRfgg  zUk_Ww2q1At1QSyRbUjIGQ       1   \n\n                          type  \n0       reviewed_same_business  \n1       reviewed_same_business  \n2       reviewed_same_business  \n3       reviewed_same_business  \n4       reviewed_same_business  \n...                        ...  \n273707  reviewed_same_business  \n273708  reviewed_same_business  \n273709  reviewed_same_business  \n273710  reviewed_same_business  \n273711  reviewed_same_business  \n\n[273712 rows x 4 columns]",
      "text/html": "<div>\n<style scoped>\n    .dataframe tbody tr th:only-of-type {\n        vertical-align: middle;\n    }\n\n    .dataframe tbody tr th {\n        vertical-align: top;\n    }\n\n    .dataframe thead th {\n        text-align: right;\n    }\n</style>\n<table border=\"1\" class=\"dataframe\">\n  <thead>\n    <tr style=\"text-align: right;\">\n      <th></th>\n      <th>from</th>\n      <th>to</th>\n      <th>weight</th>\n      <th>type</th>\n    </tr>\n  </thead>\n  <tbody>\n    <tr>\n      <th>0</th>\n      <td>-0MIp6WKJ8QvGnYZQ5ETyg</td>\n      <td>-ZCf13dTuzGKMwKFRxTUwQ</td>\n      <td>1</td>\n      <td>reviewed_same_business</td>\n    </tr>\n    <tr>\n      <th>1</th>\n      <td>-0MIp6WKJ8QvGnYZQ5ETyg</td>\n      <td>-u5CsCUHOvP5OHYaNGteZw</td>\n      <td>1</td>\n      <td>reviewed_same_business</td>\n    </tr>\n    <tr>\n      <th>2</th>\n      <td>-0MIp6WKJ8QvGnYZQ5ETyg</td>\n      <td>0cLvdT2ANqM7CL93gccVjA</td>\n      <td>1</td>\n      <td>reviewed_same_business</td>\n    </tr>\n    <tr>\n      <th>3</th>\n      <td>-0MIp6WKJ8QvGnYZQ5ETyg</td>\n      <td>2K6e4rSuEYKJpmU37Kk-oA</td>\n      <td>1</td>\n      <td>reviewed_same_business</td>\n    </tr>\n    <tr>\n      <th>4</th>\n      <td>-0MIp6WKJ8QvGnYZQ5ETyg</td>\n      <td>2RCnyrzyOQ1oA9jSgL7XPQ</td>\n      <td>1</td>\n      <td>reviewed_same_business</td>\n    </tr>\n    <tr>\n      <th>...</th>\n      <td>...</td>\n      <td>...</td>\n      <td>...</td>\n      <td>...</td>\n    </tr>\n    <tr>\n      <th>273707</th>\n      <td>zyTCJLh4oUsuRar4kxRfgg</td>\n      <td>vnSNGuRxa9p3Xrvlj3t03g</td>\n      <td>1</td>\n      <td>reviewed_same_business</td>\n    </tr>\n    <tr>\n      <th>273708</th>\n      <td>zyTCJLh4oUsuRar4kxRfgg</td>\n      <td>w7QCKFrjpaBHiPSOo2O3MQ</td>\n      <td>1</td>\n      <td>reviewed_same_business</td>\n    </tr>\n    <tr>\n      <th>273709</th>\n      <td>zyTCJLh4oUsuRar4kxRfgg</td>\n      <td>xvdkeWY0421VZicMbYmz2w</td>\n      <td>1</td>\n      <td>reviewed_same_business</td>\n    </tr>\n    <tr>\n      <th>273710</th>\n      <td>zyTCJLh4oUsuRar4kxRfgg</td>\n      <td>y2PUG5elRIz6xkQP30DScA</td>\n      <td>1</td>\n      <td>reviewed_same_business</td>\n    </tr>\n    <tr>\n      <th>273711</th>\n      <td>zyTCJLh4oUsuRar4kxRfgg</td>\n      <td>zUk_Ww2q1At1QSyRbUjIGQ</td>\n      <td>1</td>\n      <td>reviewed_same_business</td>\n    </tr>\n  </tbody>\n</table>\n<p>273712 rows × 4 columns</p>\n</div>"
     },
     "execution_count": 15,
     "metadata": {},
     "output_type": "execute_result"
    }
   ],
   "source": [
    "# edges representing reviews on same businesses\n",
    "\n",
    "review_edges = []\n",
    "\n",
    "user_reviews_exploded = user_reviews_df.explode('business_ids')\n",
    "\n",
    "review_business_pairs = pd.merge(user_reviews_exploded, user_reviews_exploded, on='business_ids')\n",
    "review_business_pairs = review_business_pairs[review_business_pairs['user_id_x'] != review_business_pairs['user_id_y']]\n",
    "\n",
    "common_businesses_count = review_business_pairs.groupby(['user_id_x', 'user_id_y'])['business_ids'].count().reset_index()\n",
    "\n",
    "review_edges = common_businesses_count.rename(columns={'user_id_x': 'from', 'user_id_y': 'to', 'business_ids': 'weight'})\n",
    "review_edges['type'] = 'reviewed_same_business'\n",
    "review_edges = review_edges.drop_duplicates()\n",
    "\n",
    "review_edges"
   ]
  },
  {
   "cell_type": "code",
   "execution_count": 12,
   "metadata": {},
   "outputs": [],
   "source": [
    "# save nodes and review edges\n",
    "\n",
    "connection = 'business_reviews'\n",
    "\n",
    "nodes.to_csv(f'nodes_and_edges/{city}_{connection}_nodes.csv', index=False)\n",
    "review_edges.to_csv(f'nodes_and_edges/{city}_{connection}_edges.csv', index=False)"
   ]
  },
  {
   "cell_type": "markdown",
   "metadata": {},
   "source": [
    "#### Tip edges"
   ]
  },
  {
   "cell_type": "code",
   "execution_count": 16,
   "metadata": {
    "ExecuteTime": {
     "end_time": "2024-04-01T10:55:25.530883Z",
     "start_time": "2024-04-01T10:55:25.505206Z"
    }
   },
   "outputs": [
    {
     "data": {
      "text/plain": "                        from                      to  weight  \\\n0     -7fV-5KlUUMatLOiIOBT-g  19db0FoXZ3Z42YlxJNc3yA       1   \n1     -7fV-5KlUUMatLOiIOBT-g  EqxTRmQVFYOKDZAzg_jPUA       1   \n2     -7fV-5KlUUMatLOiIOBT-g  FDF8cb38lGF61RYXuKxF-A       1   \n3     -7fV-5KlUUMatLOiIOBT-g  _HVLI1r7CFgq7UgKJJduLw       1   \n4     -7fV-5KlUUMatLOiIOBT-g  dhLizr4a2oydrv15y56r0A       1   \n...                      ...                     ...     ...   \n6081  zvYSqlpOr2Nhi6ct_91vYw  dLUJcC7l6fOM8oTc63SQSA       1   \n6082  zvYSqlpOr2Nhi6ct_91vYw  e3w7nYEWShsYUjbJSE577g       1   \n6083  zvYSqlpOr2Nhi6ct_91vYw  kgXtOag6mfRoIHa1LTjoug       1   \n6084  zvYSqlpOr2Nhi6ct_91vYw  vZsH7VYNIa42wo4-f1svEQ       1   \n6085  zvYSqlpOr2Nhi6ct_91vYw  zkamNMEjihh3zN7lC7_WVw       1   \n\n                      type  \n0     tipped_same_business  \n1     tipped_same_business  \n2     tipped_same_business  \n3     tipped_same_business  \n4     tipped_same_business  \n...                    ...  \n6081  tipped_same_business  \n6082  tipped_same_business  \n6083  tipped_same_business  \n6084  tipped_same_business  \n6085  tipped_same_business  \n\n[6086 rows x 4 columns]",
      "text/html": "<div>\n<style scoped>\n    .dataframe tbody tr th:only-of-type {\n        vertical-align: middle;\n    }\n\n    .dataframe tbody tr th {\n        vertical-align: top;\n    }\n\n    .dataframe thead th {\n        text-align: right;\n    }\n</style>\n<table border=\"1\" class=\"dataframe\">\n  <thead>\n    <tr style=\"text-align: right;\">\n      <th></th>\n      <th>from</th>\n      <th>to</th>\n      <th>weight</th>\n      <th>type</th>\n    </tr>\n  </thead>\n  <tbody>\n    <tr>\n      <th>0</th>\n      <td>-7fV-5KlUUMatLOiIOBT-g</td>\n      <td>19db0FoXZ3Z42YlxJNc3yA</td>\n      <td>1</td>\n      <td>tipped_same_business</td>\n    </tr>\n    <tr>\n      <th>1</th>\n      <td>-7fV-5KlUUMatLOiIOBT-g</td>\n      <td>EqxTRmQVFYOKDZAzg_jPUA</td>\n      <td>1</td>\n      <td>tipped_same_business</td>\n    </tr>\n    <tr>\n      <th>2</th>\n      <td>-7fV-5KlUUMatLOiIOBT-g</td>\n      <td>FDF8cb38lGF61RYXuKxF-A</td>\n      <td>1</td>\n      <td>tipped_same_business</td>\n    </tr>\n    <tr>\n      <th>3</th>\n      <td>-7fV-5KlUUMatLOiIOBT-g</td>\n      <td>_HVLI1r7CFgq7UgKJJduLw</td>\n      <td>1</td>\n      <td>tipped_same_business</td>\n    </tr>\n    <tr>\n      <th>4</th>\n      <td>-7fV-5KlUUMatLOiIOBT-g</td>\n      <td>dhLizr4a2oydrv15y56r0A</td>\n      <td>1</td>\n      <td>tipped_same_business</td>\n    </tr>\n    <tr>\n      <th>...</th>\n      <td>...</td>\n      <td>...</td>\n      <td>...</td>\n      <td>...</td>\n    </tr>\n    <tr>\n      <th>6081</th>\n      <td>zvYSqlpOr2Nhi6ct_91vYw</td>\n      <td>dLUJcC7l6fOM8oTc63SQSA</td>\n      <td>1</td>\n      <td>tipped_same_business</td>\n    </tr>\n    <tr>\n      <th>6082</th>\n      <td>zvYSqlpOr2Nhi6ct_91vYw</td>\n      <td>e3w7nYEWShsYUjbJSE577g</td>\n      <td>1</td>\n      <td>tipped_same_business</td>\n    </tr>\n    <tr>\n      <th>6083</th>\n      <td>zvYSqlpOr2Nhi6ct_91vYw</td>\n      <td>kgXtOag6mfRoIHa1LTjoug</td>\n      <td>1</td>\n      <td>tipped_same_business</td>\n    </tr>\n    <tr>\n      <th>6084</th>\n      <td>zvYSqlpOr2Nhi6ct_91vYw</td>\n      <td>vZsH7VYNIa42wo4-f1svEQ</td>\n      <td>1</td>\n      <td>tipped_same_business</td>\n    </tr>\n    <tr>\n      <th>6085</th>\n      <td>zvYSqlpOr2Nhi6ct_91vYw</td>\n      <td>zkamNMEjihh3zN7lC7_WVw</td>\n      <td>1</td>\n      <td>tipped_same_business</td>\n    </tr>\n  </tbody>\n</table>\n<p>6086 rows × 4 columns</p>\n</div>"
     },
     "execution_count": 16,
     "metadata": {},
     "output_type": "execute_result"
    }
   ],
   "source": [
    "# edges representing tips on same businesses\n",
    "\n",
    "tip_edges = []\n",
    "\n",
    "tips_exploded = user_tips_df.explode('business_ids')\n",
    "\n",
    "tip_business_pairs = pd.merge(tips_exploded, tips_exploded, on='business_ids')\n",
    "tip_business_pairs = tip_business_pairs[tip_business_pairs['user_id_x'] != tip_business_pairs['user_id_y']]\n",
    "\n",
    "common_businesses_count = tip_business_pairs.groupby(['user_id_x', 'user_id_y'])['business_ids'].count().reset_index()\n",
    "\n",
    "tip_edges = common_businesses_count.rename(columns={'user_id_x': 'from', 'user_id_y': 'to', 'business_ids': 'weight'})\n",
    "tip_edges['type'] = 'tipped_same_business'\n",
    "tip_edges = tip_edges.drop_duplicates()\n",
    "\n",
    "tip_edges"
   ]
  },
  {
   "cell_type": "code",
   "execution_count": 14,
   "metadata": {},
   "outputs": [],
   "source": [
    "# save nodes and tip edges\n",
    "\n",
    "connection = 'business_tips'\n",
    "\n",
    "nodes.to_csv(f'nodes_and_edges/{city}_{connection}_nodes.csv', index=False)\n",
    "tip_edges.to_csv(f'nodes_and_edges/{city}_{connection}_edges.csv', index=False)"
   ]
  },
  {
   "cell_type": "markdown",
   "metadata": {},
   "source": [
    "#### Category edges"
   ]
  },
  {
   "cell_type": "code",
   "execution_count": 17,
   "metadata": {
    "ExecuteTime": {
     "end_time": "2024-04-01T10:56:31.578878Z",
     "start_time": "2024-04-01T10:55:28.618615Z"
    }
   },
   "outputs": [
    {
     "data": {
      "text/plain": "                          from                      to  weight  \\\n0       -0MIp6WKJ8QvGnYZQ5ETyg  -ZCf13dTuzGKMwKFRxTUwQ       1   \n1       -0MIp6WKJ8QvGnYZQ5ETyg  -u5CsCUHOvP5OHYaNGteZw       1   \n2       -0MIp6WKJ8QvGnYZQ5ETyg  0cLvdT2ANqM7CL93gccVjA       1   \n3       -0MIp6WKJ8QvGnYZQ5ETyg  2K6e4rSuEYKJpmU37Kk-oA       1   \n4       -0MIp6WKJ8QvGnYZQ5ETyg  2RCnyrzyOQ1oA9jSgL7XPQ       1   \n...                        ...                     ...     ...   \n173850  zg7fd5Lqylh6bEVzZksRAA  zxFEGpkzzdAb7qR6e6qWwQ       1   \n173851  ziqmpeDagwM5_IOhQQL1-Q  zxFEGpkzzdAb7qR6e6qWwQ       1   \n173852  zkUag7nMlqepogNJIi4EoA  zvYSqlpOr2Nhi6ct_91vYw       1   \n173853  zkamNMEjihh3zN7lC7_WVw  zmS0zKxOejPVYVv-ivTBGg       1   \n173854  zkamNMEjihh3zN7lC7_WVw  zvYSqlpOr2Nhi6ct_91vYw       1   \n\n                     type  \n0       common_categories  \n1       common_categories  \n2       common_categories  \n3       common_categories  \n4       common_categories  \n...                   ...  \n173850  common_categories  \n173851  common_categories  \n173852  common_categories  \n173853  common_categories  \n173854  common_categories  \n\n[173855 rows x 4 columns]",
      "text/html": "<div>\n<style scoped>\n    .dataframe tbody tr th:only-of-type {\n        vertical-align: middle;\n    }\n\n    .dataframe tbody tr th {\n        vertical-align: top;\n    }\n\n    .dataframe thead th {\n        text-align: right;\n    }\n</style>\n<table border=\"1\" class=\"dataframe\">\n  <thead>\n    <tr style=\"text-align: right;\">\n      <th></th>\n      <th>from</th>\n      <th>to</th>\n      <th>weight</th>\n      <th>type</th>\n    </tr>\n  </thead>\n  <tbody>\n    <tr>\n      <th>0</th>\n      <td>-0MIp6WKJ8QvGnYZQ5ETyg</td>\n      <td>-ZCf13dTuzGKMwKFRxTUwQ</td>\n      <td>1</td>\n      <td>common_categories</td>\n    </tr>\n    <tr>\n      <th>1</th>\n      <td>-0MIp6WKJ8QvGnYZQ5ETyg</td>\n      <td>-u5CsCUHOvP5OHYaNGteZw</td>\n      <td>1</td>\n      <td>common_categories</td>\n    </tr>\n    <tr>\n      <th>2</th>\n      <td>-0MIp6WKJ8QvGnYZQ5ETyg</td>\n      <td>0cLvdT2ANqM7CL93gccVjA</td>\n      <td>1</td>\n      <td>common_categories</td>\n    </tr>\n    <tr>\n      <th>3</th>\n      <td>-0MIp6WKJ8QvGnYZQ5ETyg</td>\n      <td>2K6e4rSuEYKJpmU37Kk-oA</td>\n      <td>1</td>\n      <td>common_categories</td>\n    </tr>\n    <tr>\n      <th>4</th>\n      <td>-0MIp6WKJ8QvGnYZQ5ETyg</td>\n      <td>2RCnyrzyOQ1oA9jSgL7XPQ</td>\n      <td>1</td>\n      <td>common_categories</td>\n    </tr>\n    <tr>\n      <th>...</th>\n      <td>...</td>\n      <td>...</td>\n      <td>...</td>\n      <td>...</td>\n    </tr>\n    <tr>\n      <th>173850</th>\n      <td>zg7fd5Lqylh6bEVzZksRAA</td>\n      <td>zxFEGpkzzdAb7qR6e6qWwQ</td>\n      <td>1</td>\n      <td>common_categories</td>\n    </tr>\n    <tr>\n      <th>173851</th>\n      <td>ziqmpeDagwM5_IOhQQL1-Q</td>\n      <td>zxFEGpkzzdAb7qR6e6qWwQ</td>\n      <td>1</td>\n      <td>common_categories</td>\n    </tr>\n    <tr>\n      <th>173852</th>\n      <td>zkUag7nMlqepogNJIi4EoA</td>\n      <td>zvYSqlpOr2Nhi6ct_91vYw</td>\n      <td>1</td>\n      <td>common_categories</td>\n    </tr>\n    <tr>\n      <th>173853</th>\n      <td>zkamNMEjihh3zN7lC7_WVw</td>\n      <td>zmS0zKxOejPVYVv-ivTBGg</td>\n      <td>1</td>\n      <td>common_categories</td>\n    </tr>\n    <tr>\n      <th>173854</th>\n      <td>zkamNMEjihh3zN7lC7_WVw</td>\n      <td>zvYSqlpOr2Nhi6ct_91vYw</td>\n      <td>1</td>\n      <td>common_categories</td>\n    </tr>\n  </tbody>\n</table>\n<p>173855 rows × 4 columns</p>\n</div>"
     },
     "execution_count": 17,
     "metadata": {},
     "output_type": "execute_result"
    }
   ],
   "source": [
    "# edges representing reviews or tips on common categories\n",
    "\n",
    "category_edges = []\n",
    "\n",
    "for i in range(len(user_categories_df)):\n",
    "    for j in range(i+1, len(user_categories_df)):\n",
    "        user1_categories = set(user_categories_df.loc[i, 'categories'])\n",
    "        user2_categories = set(user_categories_df.loc[j, 'categories'])\n",
    "        common_categories = user1_categories.intersection(user2_categories)\n",
    "\n",
    "        if common_categories:\n",
    "            edge = {\n",
    "                'from': user_categories_df.loc[i, 'user_id'],\n",
    "                'to': user_categories_df.loc[j, 'user_id'],\n",
    "                'weight': len(common_categories),\n",
    "                'type': 'common_categories'\n",
    "            }\n",
    "            category_edges.append(edge)\n",
    "\n",
    "category_edges = pd.DataFrame(category_edges)\n",
    "category_edges = category_edges.drop_duplicates()\n",
    "\n",
    "category_edges"
   ]
  },
  {
   "cell_type": "code",
   "execution_count": 16,
   "metadata": {},
   "outputs": [],
   "source": [
    "# save nodes and category edges\n",
    "\n",
    "connection = 'categories'\n",
    "\n",
    "nodes.to_csv(f'nodes_and_edges/{city}_{connection}_nodes.csv', index=False)\n",
    "category_edges.to_csv(f'nodes_and_edges/{city}_{connection}_edges.csv', index=False)"
   ]
  },
  {
   "cell_type": "code",
   "execution_count": 18,
   "metadata": {
    "ExecuteTime": {
     "end_time": "2024-04-01T10:57:32.896632Z",
     "start_time": "2024-04-01T10:56:31.580474Z"
    }
   },
   "outputs": [
    {
     "data": {
      "text/plain": "                        from                      to  weight  \\\n0     -6MrOJCN-eIe37-LT-uPoQ  1hgePsmvAkZDD9fDc3KbRg       1   \n1     -6MrOJCN-eIe37-LT-uPoQ  4StF33ZASP-kBp62BK-KuA       1   \n2     -6MrOJCN-eIe37-LT-uPoQ  5lTbzB1J1njAsyzdIWd_Bw       1   \n3     -6MrOJCN-eIe37-LT-uPoQ  6Q8dQGr_DBKcmQ1aXVWvTQ       1   \n4     -6MrOJCN-eIe37-LT-uPoQ  Adm05emqn5AchOhcrD1b5Q       1   \n...                      ...                     ...     ...   \n3329  yI0K-o0DeHS9G8PNgB99EQ  z-mS3u-p3ydQKDzFIoxMBw       1   \n3330  yI0K-o0DeHS9G8PNgB99EQ  zUk_Ww2q1At1QSyRbUjIGQ       1   \n3331  z-mS3u-p3ydQKDzFIoxMBw  zUk_Ww2q1At1QSyRbUjIGQ       1   \n3332  z-mS3u-p3ydQKDzFIoxMBw  zmS0zKxOejPVYVv-ivTBGg       1   \n3333  zUk_Ww2q1At1QSyRbUjIGQ  zkamNMEjihh3zN7lC7_WVw       1   \n\n                   type  \n0     common_categories  \n1     common_categories  \n2     common_categories  \n3     common_categories  \n4     common_categories  \n...                 ...  \n3329  common_categories  \n3330  common_categories  \n3331  common_categories  \n3332  common_categories  \n3333  common_categories  \n\n[3334 rows x 4 columns]",
      "text/html": "<div>\n<style scoped>\n    .dataframe tbody tr th:only-of-type {\n        vertical-align: middle;\n    }\n\n    .dataframe tbody tr th {\n        vertical-align: top;\n    }\n\n    .dataframe thead th {\n        text-align: right;\n    }\n</style>\n<table border=\"1\" class=\"dataframe\">\n  <thead>\n    <tr style=\"text-align: right;\">\n      <th></th>\n      <th>from</th>\n      <th>to</th>\n      <th>weight</th>\n      <th>type</th>\n    </tr>\n  </thead>\n  <tbody>\n    <tr>\n      <th>0</th>\n      <td>-6MrOJCN-eIe37-LT-uPoQ</td>\n      <td>1hgePsmvAkZDD9fDc3KbRg</td>\n      <td>1</td>\n      <td>common_categories</td>\n    </tr>\n    <tr>\n      <th>1</th>\n      <td>-6MrOJCN-eIe37-LT-uPoQ</td>\n      <td>4StF33ZASP-kBp62BK-KuA</td>\n      <td>1</td>\n      <td>common_categories</td>\n    </tr>\n    <tr>\n      <th>2</th>\n      <td>-6MrOJCN-eIe37-LT-uPoQ</td>\n      <td>5lTbzB1J1njAsyzdIWd_Bw</td>\n      <td>1</td>\n      <td>common_categories</td>\n    </tr>\n    <tr>\n      <th>3</th>\n      <td>-6MrOJCN-eIe37-LT-uPoQ</td>\n      <td>6Q8dQGr_DBKcmQ1aXVWvTQ</td>\n      <td>1</td>\n      <td>common_categories</td>\n    </tr>\n    <tr>\n      <th>4</th>\n      <td>-6MrOJCN-eIe37-LT-uPoQ</td>\n      <td>Adm05emqn5AchOhcrD1b5Q</td>\n      <td>1</td>\n      <td>common_categories</td>\n    </tr>\n    <tr>\n      <th>...</th>\n      <td>...</td>\n      <td>...</td>\n      <td>...</td>\n      <td>...</td>\n    </tr>\n    <tr>\n      <th>3329</th>\n      <td>yI0K-o0DeHS9G8PNgB99EQ</td>\n      <td>z-mS3u-p3ydQKDzFIoxMBw</td>\n      <td>1</td>\n      <td>common_categories</td>\n    </tr>\n    <tr>\n      <th>3330</th>\n      <td>yI0K-o0DeHS9G8PNgB99EQ</td>\n      <td>zUk_Ww2q1At1QSyRbUjIGQ</td>\n      <td>1</td>\n      <td>common_categories</td>\n    </tr>\n    <tr>\n      <th>3331</th>\n      <td>z-mS3u-p3ydQKDzFIoxMBw</td>\n      <td>zUk_Ww2q1At1QSyRbUjIGQ</td>\n      <td>1</td>\n      <td>common_categories</td>\n    </tr>\n    <tr>\n      <th>3332</th>\n      <td>z-mS3u-p3ydQKDzFIoxMBw</td>\n      <td>zmS0zKxOejPVYVv-ivTBGg</td>\n      <td>1</td>\n      <td>common_categories</td>\n    </tr>\n    <tr>\n      <th>3333</th>\n      <td>zUk_Ww2q1At1QSyRbUjIGQ</td>\n      <td>zkamNMEjihh3zN7lC7_WVw</td>\n      <td>1</td>\n      <td>common_categories</td>\n    </tr>\n  </tbody>\n</table>\n<p>3334 rows × 4 columns</p>\n</div>"
     },
     "execution_count": 18,
     "metadata": {},
     "output_type": "execute_result"
    }
   ],
   "source": [
    "# edges representing reviews or tips on common categories (with threshold)\n",
    "\n",
    "threshold_category_edges = []\n",
    "threshold = 2\n",
    "\n",
    "for i in range(len(user_categories_df)):\n",
    "    for j in range(i+1, len(user_categories_df)):\n",
    "        user1_categories = set(user_categories_df.loc[i, 'categories'])\n",
    "        user2_categories = set(user_categories_df.loc[j, 'categories'])\n",
    "        common_categories = user1_categories.intersection(user2_categories)\n",
    "\n",
    "        if len(common_categories) >= threshold:\n",
    "            edge = {\n",
    "                'from': user_categories_df.loc[i, 'user_id'],\n",
    "                'to': user_categories_df.loc[j, 'user_id'],\n",
    "                'weight': 1,\n",
    "                'type': 'common_categories'\n",
    "            }\n",
    "            threshold_category_edges.append(edge)\n",
    "\n",
    "threshold_category_edges = pd.DataFrame(threshold_category_edges)\n",
    "threshold_category_edges = threshold_category_edges.drop_duplicates()\n",
    "\n",
    "threshold_category_edges"
   ]
  },
  {
   "cell_type": "code",
   "execution_count": 21,
   "metadata": {},
   "outputs": [],
   "source": [
    "# save nodes and category edges (with threshold)\n",
    "\n",
    "connection = 'threshold_categories'\n",
    "\n",
    "nodes.to_csv(f'nodes_and_edges/{city}_{connection}_nodes.csv', index=False)\n",
    "threshold_category_edges.to_csv(f'nodes_and_edges/{city}_{connection}_edges.csv', index=False)"
   ]
  },
  {
   "cell_type": "markdown",
   "metadata": {},
   "source": [
    "#### Combined edges"
   ]
  },
  {
   "cell_type": "code",
   "execution_count": 22,
   "metadata": {},
   "outputs": [
    {
     "data": {
      "text/html": [
       "<div>\n",
       "<style scoped>\n",
       "    .dataframe tbody tr th:only-of-type {\n",
       "        vertical-align: middle;\n",
       "    }\n",
       "\n",
       "    .dataframe tbody tr th {\n",
       "        vertical-align: top;\n",
       "    }\n",
       "\n",
       "    .dataframe thead th {\n",
       "        text-align: right;\n",
       "    }\n",
       "</style>\n",
       "<table border=\"1\" class=\"dataframe\">\n",
       "  <thead>\n",
       "    <tr style=\"text-align: right;\">\n",
       "      <th></th>\n",
       "      <th>from</th>\n",
       "      <th>to</th>\n",
       "      <th>type</th>\n",
       "      <th>weight</th>\n",
       "    </tr>\n",
       "  </thead>\n",
       "  <tbody>\n",
       "    <tr>\n",
       "      <th>0</th>\n",
       "      <td>-0MIp6WKJ8QvGnYZQ5ETyg</td>\n",
       "      <td>-ZCf13dTuzGKMwKFRxTUwQ</td>\n",
       "      <td>mixed_interactions</td>\n",
       "      <td>1</td>\n",
       "    </tr>\n",
       "    <tr>\n",
       "      <th>1</th>\n",
       "      <td>-0MIp6WKJ8QvGnYZQ5ETyg</td>\n",
       "      <td>-ZCf13dTuzGKMwKFRxTUwQ</td>\n",
       "      <td>mixed_interactions</td>\n",
       "      <td>2</td>\n",
       "    </tr>\n",
       "    <tr>\n",
       "      <th>2</th>\n",
       "      <td>-0MIp6WKJ8QvGnYZQ5ETyg</td>\n",
       "      <td>-u5CsCUHOvP5OHYaNGteZw</td>\n",
       "      <td>mixed_interactions</td>\n",
       "      <td>1</td>\n",
       "    </tr>\n",
       "    <tr>\n",
       "      <th>3</th>\n",
       "      <td>-0MIp6WKJ8QvGnYZQ5ETyg</td>\n",
       "      <td>-u5CsCUHOvP5OHYaNGteZw</td>\n",
       "      <td>mixed_interactions</td>\n",
       "      <td>2</td>\n",
       "    </tr>\n",
       "    <tr>\n",
       "      <th>4</th>\n",
       "      <td>-0MIp6WKJ8QvGnYZQ5ETyg</td>\n",
       "      <td>0cLvdT2ANqM7CL93gccVjA</td>\n",
       "      <td>mixed_interactions</td>\n",
       "      <td>1</td>\n",
       "    </tr>\n",
       "    <tr>\n",
       "      <th>...</th>\n",
       "      <td>...</td>\n",
       "      <td>...</td>\n",
       "      <td>...</td>\n",
       "      <td>...</td>\n",
       "    </tr>\n",
       "    <tr>\n",
       "      <th>457206</th>\n",
       "      <td>zyTCJLh4oUsuRar4kxRfgg</td>\n",
       "      <td>vnSNGuRxa9p3Xrvlj3t03g</td>\n",
       "      <td>mixed_interactions</td>\n",
       "      <td>2</td>\n",
       "    </tr>\n",
       "    <tr>\n",
       "      <th>457207</th>\n",
       "      <td>zyTCJLh4oUsuRar4kxRfgg</td>\n",
       "      <td>w7QCKFrjpaBHiPSOo2O3MQ</td>\n",
       "      <td>mixed_interactions</td>\n",
       "      <td>2</td>\n",
       "    </tr>\n",
       "    <tr>\n",
       "      <th>457208</th>\n",
       "      <td>zyTCJLh4oUsuRar4kxRfgg</td>\n",
       "      <td>xvdkeWY0421VZicMbYmz2w</td>\n",
       "      <td>mixed_interactions</td>\n",
       "      <td>2</td>\n",
       "    </tr>\n",
       "    <tr>\n",
       "      <th>457209</th>\n",
       "      <td>zyTCJLh4oUsuRar4kxRfgg</td>\n",
       "      <td>y2PUG5elRIz6xkQP30DScA</td>\n",
       "      <td>mixed_interactions</td>\n",
       "      <td>2</td>\n",
       "    </tr>\n",
       "    <tr>\n",
       "      <th>457210</th>\n",
       "      <td>zyTCJLh4oUsuRar4kxRfgg</td>\n",
       "      <td>zUk_Ww2q1At1QSyRbUjIGQ</td>\n",
       "      <td>mixed_interactions</td>\n",
       "      <td>2</td>\n",
       "    </tr>\n",
       "  </tbody>\n",
       "</table>\n",
       "<p>456453 rows × 4 columns</p>\n",
       "</div>"
      ],
      "text/plain": [
       "                          from                      to                type  \\\n",
       "0       -0MIp6WKJ8QvGnYZQ5ETyg  -ZCf13dTuzGKMwKFRxTUwQ  mixed_interactions   \n",
       "1       -0MIp6WKJ8QvGnYZQ5ETyg  -ZCf13dTuzGKMwKFRxTUwQ  mixed_interactions   \n",
       "2       -0MIp6WKJ8QvGnYZQ5ETyg  -u5CsCUHOvP5OHYaNGteZw  mixed_interactions   \n",
       "3       -0MIp6WKJ8QvGnYZQ5ETyg  -u5CsCUHOvP5OHYaNGteZw  mixed_interactions   \n",
       "4       -0MIp6WKJ8QvGnYZQ5ETyg  0cLvdT2ANqM7CL93gccVjA  mixed_interactions   \n",
       "...                        ...                     ...                 ...   \n",
       "457206  zyTCJLh4oUsuRar4kxRfgg  vnSNGuRxa9p3Xrvlj3t03g  mixed_interactions   \n",
       "457207  zyTCJLh4oUsuRar4kxRfgg  w7QCKFrjpaBHiPSOo2O3MQ  mixed_interactions   \n",
       "457208  zyTCJLh4oUsuRar4kxRfgg  xvdkeWY0421VZicMbYmz2w  mixed_interactions   \n",
       "457209  zyTCJLh4oUsuRar4kxRfgg  y2PUG5elRIz6xkQP30DScA  mixed_interactions   \n",
       "457210  zyTCJLh4oUsuRar4kxRfgg  zUk_Ww2q1At1QSyRbUjIGQ  mixed_interactions   \n",
       "\n",
       "        weight  \n",
       "0            1  \n",
       "1            2  \n",
       "2            1  \n",
       "3            2  \n",
       "4            1  \n",
       "...        ...  \n",
       "457206       2  \n",
       "457207       2  \n",
       "457208       2  \n",
       "457209       2  \n",
       "457210       2  \n",
       "\n",
       "[456453 rows x 4 columns]"
      ]
     },
     "execution_count": 22,
     "metadata": {},
     "output_type": "execute_result"
    }
   ],
   "source": [
    "# edges representing several interactions mixed\n",
    "\n",
    "combined_edges = []\n",
    "\n",
    "category_edges_copy = category_edges.copy()\n",
    "review_edges_copy = review_edges.copy()\n",
    "tip_edges_copy = tip_edges.copy()\n",
    "friendship_edges_copy = friendship_edges.copy()\n",
    "\n",
    "category_edges_weight = 1\n",
    "review_edges_weight = 2\n",
    "tip_edges_weight = 3\n",
    "friendship_edges_weight = 4\n",
    "\n",
    "category_edges_copy['weight'] *= category_edges_weight\n",
    "review_edges_copy['weight'] *= review_edges_weight\n",
    "tip_edges_copy['weight'] *= tip_edges_weight\n",
    "friendship_edges_copy['weight'] *= friendship_edges_weight\n",
    "\n",
    "combined_edges = pd.concat([category_edges_copy, review_edges_copy, tip_edges_copy, friendship_edges_copy])\n",
    "combined_edges = combined_edges.groupby(['from', 'to', 'type']).agg({'weight': 'sum'}).reset_index()\n",
    "combined_edges['type'] = 'mixed_interactions'\n",
    "\n",
    "combined_edges = combined_edges.drop_duplicates()\n",
    "\n",
    "combined_edges"
   ]
  },
  {
   "cell_type": "code",
   "execution_count": 23,
   "metadata": {},
   "outputs": [],
   "source": [
    "# save nodes and combined edges\n",
    "\n",
    "connection = 'combined'\n",
    "\n",
    "nodes.to_csv(f'nodes_and_edges/{city}_{connection}_nodes.csv', index=False)\n",
    "combined_edges.to_csv(f'nodes_and_edges/{city}_{connection}_edges.csv', index=False)"
   ]
  },
  {
   "cell_type": "code",
   "execution_count": 24,
   "metadata": {},
   "outputs": [
    {
     "data": {
      "text/html": [
       "<div>\n",
       "<style scoped>\n",
       "    .dataframe tbody tr th:only-of-type {\n",
       "        vertical-align: middle;\n",
       "    }\n",
       "\n",
       "    .dataframe tbody tr th {\n",
       "        vertical-align: top;\n",
       "    }\n",
       "\n",
       "    .dataframe thead th {\n",
       "        text-align: right;\n",
       "    }\n",
       "</style>\n",
       "<table border=\"1\" class=\"dataframe\">\n",
       "  <thead>\n",
       "    <tr style=\"text-align: right;\">\n",
       "      <th></th>\n",
       "      <th>from</th>\n",
       "      <th>to</th>\n",
       "      <th>weight</th>\n",
       "      <th>type</th>\n",
       "    </tr>\n",
       "  </thead>\n",
       "  <tbody>\n",
       "    <tr>\n",
       "      <th>0</th>\n",
       "      <td>-0MIp6WKJ8QvGnYZQ5ETyg</td>\n",
       "      <td>-ZCf13dTuzGKMwKFRxTUwQ</td>\n",
       "      <td>3</td>\n",
       "      <td>common_categories_and_reviews</td>\n",
       "    </tr>\n",
       "    <tr>\n",
       "      <th>1</th>\n",
       "      <td>-0MIp6WKJ8QvGnYZQ5ETyg</td>\n",
       "      <td>-u5CsCUHOvP5OHYaNGteZw</td>\n",
       "      <td>3</td>\n",
       "      <td>common_categories_and_reviews</td>\n",
       "    </tr>\n",
       "    <tr>\n",
       "      <th>2</th>\n",
       "      <td>-0MIp6WKJ8QvGnYZQ5ETyg</td>\n",
       "      <td>0cLvdT2ANqM7CL93gccVjA</td>\n",
       "      <td>3</td>\n",
       "      <td>common_categories_and_reviews</td>\n",
       "    </tr>\n",
       "    <tr>\n",
       "      <th>3</th>\n",
       "      <td>-0MIp6WKJ8QvGnYZQ5ETyg</td>\n",
       "      <td>2K6e4rSuEYKJpmU37Kk-oA</td>\n",
       "      <td>3</td>\n",
       "      <td>common_categories_and_reviews</td>\n",
       "    </tr>\n",
       "    <tr>\n",
       "      <th>4</th>\n",
       "      <td>-0MIp6WKJ8QvGnYZQ5ETyg</td>\n",
       "      <td>2RCnyrzyOQ1oA9jSgL7XPQ</td>\n",
       "      <td>3</td>\n",
       "      <td>common_categories_and_reviews</td>\n",
       "    </tr>\n",
       "    <tr>\n",
       "      <th>...</th>\n",
       "      <td>...</td>\n",
       "      <td>...</td>\n",
       "      <td>...</td>\n",
       "      <td>...</td>\n",
       "    </tr>\n",
       "    <tr>\n",
       "      <th>310706</th>\n",
       "      <td>zyTCJLh4oUsuRar4kxRfgg</td>\n",
       "      <td>vnSNGuRxa9p3Xrvlj3t03g</td>\n",
       "      <td>2</td>\n",
       "      <td>common_categories_and_reviews</td>\n",
       "    </tr>\n",
       "    <tr>\n",
       "      <th>310707</th>\n",
       "      <td>zyTCJLh4oUsuRar4kxRfgg</td>\n",
       "      <td>w7QCKFrjpaBHiPSOo2O3MQ</td>\n",
       "      <td>2</td>\n",
       "      <td>common_categories_and_reviews</td>\n",
       "    </tr>\n",
       "    <tr>\n",
       "      <th>310708</th>\n",
       "      <td>zyTCJLh4oUsuRar4kxRfgg</td>\n",
       "      <td>xvdkeWY0421VZicMbYmz2w</td>\n",
       "      <td>2</td>\n",
       "      <td>common_categories_and_reviews</td>\n",
       "    </tr>\n",
       "    <tr>\n",
       "      <th>310709</th>\n",
       "      <td>zyTCJLh4oUsuRar4kxRfgg</td>\n",
       "      <td>y2PUG5elRIz6xkQP30DScA</td>\n",
       "      <td>2</td>\n",
       "      <td>common_categories_and_reviews</td>\n",
       "    </tr>\n",
       "    <tr>\n",
       "      <th>310710</th>\n",
       "      <td>zyTCJLh4oUsuRar4kxRfgg</td>\n",
       "      <td>zUk_Ww2q1At1QSyRbUjIGQ</td>\n",
       "      <td>2</td>\n",
       "      <td>common_categories_and_reviews</td>\n",
       "    </tr>\n",
       "  </tbody>\n",
       "</table>\n",
       "<p>310711 rows × 4 columns</p>\n",
       "</div>"
      ],
      "text/plain": [
       "                          from                      to  weight  \\\n",
       "0       -0MIp6WKJ8QvGnYZQ5ETyg  -ZCf13dTuzGKMwKFRxTUwQ       3   \n",
       "1       -0MIp6WKJ8QvGnYZQ5ETyg  -u5CsCUHOvP5OHYaNGteZw       3   \n",
       "2       -0MIp6WKJ8QvGnYZQ5ETyg  0cLvdT2ANqM7CL93gccVjA       3   \n",
       "3       -0MIp6WKJ8QvGnYZQ5ETyg  2K6e4rSuEYKJpmU37Kk-oA       3   \n",
       "4       -0MIp6WKJ8QvGnYZQ5ETyg  2RCnyrzyOQ1oA9jSgL7XPQ       3   \n",
       "...                        ...                     ...     ...   \n",
       "310706  zyTCJLh4oUsuRar4kxRfgg  vnSNGuRxa9p3Xrvlj3t03g       2   \n",
       "310707  zyTCJLh4oUsuRar4kxRfgg  w7QCKFrjpaBHiPSOo2O3MQ       2   \n",
       "310708  zyTCJLh4oUsuRar4kxRfgg  xvdkeWY0421VZicMbYmz2w       2   \n",
       "310709  zyTCJLh4oUsuRar4kxRfgg  y2PUG5elRIz6xkQP30DScA       2   \n",
       "310710  zyTCJLh4oUsuRar4kxRfgg  zUk_Ww2q1At1QSyRbUjIGQ       2   \n",
       "\n",
       "                                 type  \n",
       "0       common_categories_and_reviews  \n",
       "1       common_categories_and_reviews  \n",
       "2       common_categories_and_reviews  \n",
       "3       common_categories_and_reviews  \n",
       "4       common_categories_and_reviews  \n",
       "...                               ...  \n",
       "310706  common_categories_and_reviews  \n",
       "310707  common_categories_and_reviews  \n",
       "310708  common_categories_and_reviews  \n",
       "310709  common_categories_and_reviews  \n",
       "310710  common_categories_and_reviews  \n",
       "\n",
       "[310711 rows x 4 columns]"
      ]
     },
     "execution_count": 24,
     "metadata": {},
     "output_type": "execute_result"
    }
   ],
   "source": [
    "# edges representing categories and business reviews mixed\n",
    "\n",
    "category_review_edges = []\n",
    "\n",
    "category_edges_weight = 1\n",
    "review_edges_weight = 2\n",
    "\n",
    "category_edges_copy = category_edges.copy()\n",
    "review_edges_copy = review_edges.copy()\n",
    "\n",
    "category_edges_copy['weight'] *= category_edges_weight\n",
    "review_edges_copy['weight'] *= review_edges_weight\n",
    "\n",
    "category_review_edges = pd.concat([category_edges_copy, review_edges_copy])\n",
    "category_review_edges = category_review_edges.groupby(['from', 'to']).agg({'weight': 'sum'}).reset_index()\n",
    "\n",
    "category_review_edges['type'] = 'common_categories_and_reviews'\n",
    "\n",
    "category_review_edges = category_review_edges.drop_duplicates()\n",
    "\n",
    "category_review_edges\n"
   ]
  },
  {
   "cell_type": "code",
   "execution_count": null,
   "metadata": {},
   "outputs": [],
   "source": [
    "# save nodes and category review edges\n",
    "\n",
    "connection = 'categories_and_reviews'\n",
    "\n",
    "nodes.to_csv(f'nodes_and_edges/{city}_{connection}_nodes.csv', index=False)\n",
    "category_review_edges.to_csv(f'nodes_and_edges/{city}_{connection}_edges.csv', index=False)"
   ]
  },
  {
   "cell_type": "markdown",
   "source": [
    "#### Priority Combined edges"
   ],
   "metadata": {
    "collapsed": false
   }
  },
  {
   "cell_type": "code",
   "outputs": [
    {
     "data": {
      "text/plain": "                      from                      to weight        type  \\\n0   RgDVC3ZUBqpEe6Y1kPhIpw  ET8n-r7glWYqZhuR6GcdNw      1  friendship   \n1   RgDVC3ZUBqpEe6Y1kPhIpw  A_BF2dDDUTKGVXrqxO9mag      1  friendship   \n2   RgDVC3ZUBqpEe6Y1kPhIpw  r3ov7FgibBx41_W74I1KiA      1  friendship   \n3   RgDVC3ZUBqpEe6Y1kPhIpw  ApJ9YgYU-AhS4a-F5oTGHw      1  friendship   \n4   RgDVC3ZUBqpEe6Y1kPhIpw  cXtE-ZTrNx-hE7usp_f_xg      1  friendship   \n..                     ...                     ...    ...         ...   \n22                     NaN                     NaN      0       alone   \n23                     NaN                     NaN      0       alone   \n24                     NaN                     NaN      0       alone   \n25                     NaN                     NaN      0       alone   \n26                     NaN                     NaN      0       alone   \n\n                        id  \n0                      NaN  \n1                      NaN  \n2                      NaN  \n3                      NaN  \n4                      NaN  \n..                     ...  \n22  CTf-fQSWnVLi8BYtakjuEA  \n23  ey3ZVqeGHKuuVkuWWymqhg  \n24  dd7xkcJyxbX4U1vm0oSc9g  \n25  83jPvlJ6eOKVVyiwWj67zQ  \n26  V4fAcKLnH8zIJVfIDL9K0Q  \n\n[121526 rows x 5 columns]",
      "text/html": "<div>\n<style scoped>\n    .dataframe tbody tr th:only-of-type {\n        vertical-align: middle;\n    }\n\n    .dataframe tbody tr th {\n        vertical-align: top;\n    }\n\n    .dataframe thead th {\n        text-align: right;\n    }\n</style>\n<table border=\"1\" class=\"dataframe\">\n  <thead>\n    <tr style=\"text-align: right;\">\n      <th></th>\n      <th>from</th>\n      <th>to</th>\n      <th>weight</th>\n      <th>type</th>\n      <th>id</th>\n    </tr>\n  </thead>\n  <tbody>\n    <tr>\n      <th>0</th>\n      <td>RgDVC3ZUBqpEe6Y1kPhIpw</td>\n      <td>ET8n-r7glWYqZhuR6GcdNw</td>\n      <td>1</td>\n      <td>friendship</td>\n      <td>NaN</td>\n    </tr>\n    <tr>\n      <th>1</th>\n      <td>RgDVC3ZUBqpEe6Y1kPhIpw</td>\n      <td>A_BF2dDDUTKGVXrqxO9mag</td>\n      <td>1</td>\n      <td>friendship</td>\n      <td>NaN</td>\n    </tr>\n    <tr>\n      <th>2</th>\n      <td>RgDVC3ZUBqpEe6Y1kPhIpw</td>\n      <td>r3ov7FgibBx41_W74I1KiA</td>\n      <td>1</td>\n      <td>friendship</td>\n      <td>NaN</td>\n    </tr>\n    <tr>\n      <th>3</th>\n      <td>RgDVC3ZUBqpEe6Y1kPhIpw</td>\n      <td>ApJ9YgYU-AhS4a-F5oTGHw</td>\n      <td>1</td>\n      <td>friendship</td>\n      <td>NaN</td>\n    </tr>\n    <tr>\n      <th>4</th>\n      <td>RgDVC3ZUBqpEe6Y1kPhIpw</td>\n      <td>cXtE-ZTrNx-hE7usp_f_xg</td>\n      <td>1</td>\n      <td>friendship</td>\n      <td>NaN</td>\n    </tr>\n    <tr>\n      <th>...</th>\n      <td>...</td>\n      <td>...</td>\n      <td>...</td>\n      <td>...</td>\n      <td>...</td>\n    </tr>\n    <tr>\n      <th>22</th>\n      <td>NaN</td>\n      <td>NaN</td>\n      <td>0</td>\n      <td>alone</td>\n      <td>CTf-fQSWnVLi8BYtakjuEA</td>\n    </tr>\n    <tr>\n      <th>23</th>\n      <td>NaN</td>\n      <td>NaN</td>\n      <td>0</td>\n      <td>alone</td>\n      <td>ey3ZVqeGHKuuVkuWWymqhg</td>\n    </tr>\n    <tr>\n      <th>24</th>\n      <td>NaN</td>\n      <td>NaN</td>\n      <td>0</td>\n      <td>alone</td>\n      <td>dd7xkcJyxbX4U1vm0oSc9g</td>\n    </tr>\n    <tr>\n      <th>25</th>\n      <td>NaN</td>\n      <td>NaN</td>\n      <td>0</td>\n      <td>alone</td>\n      <td>83jPvlJ6eOKVVyiwWj67zQ</td>\n    </tr>\n    <tr>\n      <th>26</th>\n      <td>NaN</td>\n      <td>NaN</td>\n      <td>0</td>\n      <td>alone</td>\n      <td>V4fAcKLnH8zIJVfIDL9K0Q</td>\n    </tr>\n  </tbody>\n</table>\n<p>121526 rows × 5 columns</p>\n</div>"
     },
     "execution_count": 28,
     "metadata": {},
     "output_type": "execute_result"
    }
   ],
   "source": [
    "# list of preferences in order of priority\n",
    "list_of_preferences = ['friendship', 'reviewed_same_business', 'tipped_same_business', 'common_categories']\n",
    "\n",
    "priority_combined_edges = pd.DataFrame(columns=['from', 'to', 'weight', 'type'])\n",
    "\n",
    "def get_alone_users(nodes, edges):\n",
    "    alone_users = set(nodes['id'].values) - set(edges['from'].values) - set(edges['to'].values)\n",
    "    return pd.DataFrame(list(alone_users), columns=['id'])\n",
    "\n",
    "\n",
    "def clean_edges(edges, users_to_keep):\n",
    "    edges = edges[edges['from'].isin(users_to_keep)]\n",
    "    edges = edges[edges['to'].isin(users_to_keep)]\n",
    "    return edges\n",
    "\n",
    "\n",
    "for preference in list_of_preferences:\n",
    "    if preference == 'friendship':\n",
    "        priority_combined_edges = pd.concat([priority_combined_edges, clean_edges(friendship_edges, get_alone_users(nodes, priority_combined_edges)['id'])])\n",
    "    elif preference == 'reviewed_same_business':\n",
    "        priority_combined_edges = pd.concat([priority_combined_edges, clean_edges(review_edges, get_alone_users(nodes, priority_combined_edges)['id'])])\n",
    "    elif preference == 'tipped_same_business':\n",
    "        priority_combined_edges = pd.concat([priority_combined_edges, clean_edges(tip_edges, get_alone_users(nodes, priority_combined_edges)['id'])])\n",
    "    elif preference == 'common_categories':\n",
    "        priority_combined_edges = pd.concat([priority_combined_edges, clean_edges(category_edges, get_alone_users(nodes, priority_combined_edges)['id'])])\n",
    "\n",
    "\n",
    "# join the rest of the alone people with 0 weight\n",
    "alone_users = get_alone_users(nodes, priority_combined_edges)\n",
    "alone_users['weight'] = 0\n",
    "alone_users['type'] = 'alone'\n",
    "\n",
    "priority_combined_edges = pd.concat([priority_combined_edges, alone_users])\n",
    "priority_combined_edges = priority_combined_edges.drop_duplicates()\n",
    "\n",
    "priority_combined_edges"
   ],
   "metadata": {
    "collapsed": false,
    "ExecuteTime": {
     "end_time": "2024-04-01T11:10:44.605176Z",
     "start_time": "2024-04-01T11:10:44.460261Z"
    }
   },
   "execution_count": 28
  },
  {
   "cell_type": "code",
   "outputs": [],
   "source": [
    "# save nodes and priority combined edges\n",
    "\n",
    "connection = 'priority_combined'\n",
    "\n",
    "nodes.to_csv(f'nodes_and_edges/{city}_{connection}_nodes.csv', index=False)\n",
    "priority_combined_edges.to_csv(f'nodes_and_edges/{city}_{connection}_edges.csv', index=False)"
   ],
   "metadata": {
    "collapsed": false,
    "ExecuteTime": {
     "end_time": "2024-04-01T11:11:26.651909Z",
     "start_time": "2024-04-01T11:11:26.145484Z"
    }
   },
   "execution_count": 29
  },
  {
   "cell_type": "code",
   "outputs": [],
   "source": [],
   "metadata": {
    "collapsed": false
   }
  }
 ],
 "metadata": {
  "kernelspec": {
   "display_name": "Python 3",
   "language": "python",
   "name": "python3"
  },
  "language_info": {
   "codemirror_mode": {
    "name": "ipython",
    "version": 3
   },
   "file_extension": ".py",
   "mimetype": "text/x-python",
   "name": "python",
   "nbconvert_exporter": "python",
   "pygments_lexer": "ipython3",
   "version": "3.10.10"
  }
 },
 "nbformat": 4,
 "nbformat_minor": 2
}
