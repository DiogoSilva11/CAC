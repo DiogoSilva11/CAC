{
 "cells": [
  {
   "cell_type": "code",
   "execution_count": 22,
   "id": "initial_id",
   "metadata": {
    "collapsed": true,
    "ExecuteTime": {
     "end_time": "2024-03-11T19:15:34.756615Z",
     "start_time": "2024-03-11T19:15:34.754095Z"
    }
   },
   "outputs": [],
   "source": [
    "import pandas as pd\n",
    "from utils import load_filtered_data"
   ]
  },
  {
   "cell_type": "code",
   "execution_count": 23,
   "id": "9dfd859e",
   "metadata": {
    "ExecuteTime": {
     "end_time": "2024-03-11T19:15:34.886766Z",
     "start_time": "2024-03-11T19:15:34.784630Z"
    }
   },
   "outputs": [],
   "source": [
    "city = 'Sicklerville'\n",
    "name = 'users&bgt'\n",
    "\n",
    "# load city data\n",
    "data = load_filtered_data(city)"
   ]
  },
  {
   "cell_type": "code",
   "execution_count": 24,
   "id": "db69297ebb44b416",
   "metadata": {
    "collapsed": false,
    "ExecuteTime": {
     "end_time": "2024-03-11T19:15:34.906277Z",
     "start_time": "2024-03-11T19:15:34.888717Z"
    }
   },
   "outputs": [
    {
     "data": {
      "text/plain": "                          id people_name  review_count        yelping_since  \\\n0     RgDVC3ZUBqpEe6Y1kPhIpw      Monica          1282  2009-02-23 14:08:31   \n1     zkamNMEjihh3zN7lC7_WVw     Matthew            15  2006-02-04 15:53:46   \n2     gVFxZMcuG_Tal2_TnpmUPg   Stephanie           146  2008-05-05 00:16:33   \n3     g0_x4kVvJAYuk96oCcbOmw     Michael           455  2009-04-15 12:46:06   \n4     -NbeVN5tnwdyYAvdNkKMjw     Dominic          1101  2012-04-25 19:31:00   \n...                      ...         ...           ...                  ...   \n3073  CUE13op55l9WZp6fBTUWnA      Nicole             2  2016-08-19 13:24:47   \n3074  cACn6Qc1owO7hV_ZhcP74Q     Allison             1  2019-11-10 00:05:23   \n3075  SpTYEhfInvALG1le1uu21w         Ray             2  2016-01-18 16:55:04   \n3076  sGOCaCP7_SMlaRKPNO__CQ      Tahjae             2  2019-05-04 13:07:23   \n3077  AUaVo2JAMwLGJmBo3M4VyQ      Nicole             1  2015-02-10 21:15:36   \n\n      useful  funny   cool                                              elite  \\\n0      12640  10005  11149            2009,2010,2011,2012,2013,2014,2015,2016   \n1         35      4     22                                                NaN   \n2        347    100    124                      2011,2012,2013,2014,2015,2016   \n3       1823    696    663  2009,2010,2011,2012,2013,2014,2015,2016,2017,2018   \n4       6704   1959   4179  2012,2013,2014,2015,2016,2017,2018,2019,20,20,...   \n...      ...    ...    ...                                                ...   \n3073       0      0      0                                                NaN   \n3074       0      0      0                                                NaN   \n3075       5      0      0                                                NaN   \n3076       0      0      0                                                NaN   \n3077       0      0      0                                                NaN   \n\n                                                friends  fans  ...  \\\n0     sHozd2pcOKwHtPr8VlZJfg, 7mL9cvICl8fuCQTM89a-SA...   804  ...   \n1     YLzb3jjc3p-XAOBRggcrgA, 9lcq01JUhRY2yW8AxU3TIA...     1  ...   \n2     uUh_q6rVMhKxwt0eaiphRg, jRqWx2z7jdSzpvqqswqNnw...     6  ...   \n3     _BcWyKQL16ndpBdggh2kNA, mx50KP6rXgutH36fhnL6Vw...    46  ...   \n4     9IRuYmy5YmhtNQ6ei1p-uQ, 6NvkQATK0J2nmEWsuzhHig...   193  ...   \n...                                                 ...   ...  ...   \n3073                                               None     0  ...   \n3074                                               None     0  ...   \n3075                                               None     0  ...   \n3076                                               None     0  ...   \n3077                                               None     0  ...   \n\n      compliment_more  compliment_profile  compliment_cute  compliment_list  \\\n0                 102                 108              138               65   \n1                   1                   0                0                0   \n2                  13                   1                0                0   \n3                  11                   0                1                5   \n4                  33                  18                2                2   \n...               ...                 ...              ...              ...   \n3073                0                   0                0                0   \n3074                0                   0                0                0   \n3075                0                   0                0                0   \n3076                0                   0                0                0   \n3077                0                   0                0                0   \n\n      compliment_note  compliment_plain  compliment_cool  compliment_funny  \\\n0                 898              2584             1731              1731   \n1                   1                 3                2                 2   \n2                  10                 8               21                21   \n3                  39                33               57                57   \n4                 312               457              637               637   \n...               ...               ...              ...               ...   \n3073                0                 0                0                 0   \n3074                0                 0                0                 0   \n3075                0                 0                0                 0   \n3076                0                 0                0                 0   \n3077                0                 0                0                 0   \n\n      compliment_writer  compliment_photos  \n0                   551                177  \n1                     0                  0  \n2                     8                  0  \n3                    32                  8  \n4                   137                 63  \n...                 ...                ...  \n3073                  0                  0  \n3074                  0                  0  \n3075                  0                  0  \n3076                  0                  0  \n3077                  0                  0  \n\n[3078 rows x 22 columns]",
      "text/html": "<div>\n<style scoped>\n    .dataframe tbody tr th:only-of-type {\n        vertical-align: middle;\n    }\n\n    .dataframe tbody tr th {\n        vertical-align: top;\n    }\n\n    .dataframe thead th {\n        text-align: right;\n    }\n</style>\n<table border=\"1\" class=\"dataframe\">\n  <thead>\n    <tr style=\"text-align: right;\">\n      <th></th>\n      <th>id</th>\n      <th>people_name</th>\n      <th>review_count</th>\n      <th>yelping_since</th>\n      <th>useful</th>\n      <th>funny</th>\n      <th>cool</th>\n      <th>elite</th>\n      <th>friends</th>\n      <th>fans</th>\n      <th>...</th>\n      <th>compliment_more</th>\n      <th>compliment_profile</th>\n      <th>compliment_cute</th>\n      <th>compliment_list</th>\n      <th>compliment_note</th>\n      <th>compliment_plain</th>\n      <th>compliment_cool</th>\n      <th>compliment_funny</th>\n      <th>compliment_writer</th>\n      <th>compliment_photos</th>\n    </tr>\n  </thead>\n  <tbody>\n    <tr>\n      <th>0</th>\n      <td>RgDVC3ZUBqpEe6Y1kPhIpw</td>\n      <td>Monica</td>\n      <td>1282</td>\n      <td>2009-02-23 14:08:31</td>\n      <td>12640</td>\n      <td>10005</td>\n      <td>11149</td>\n      <td>2009,2010,2011,2012,2013,2014,2015,2016</td>\n      <td>sHozd2pcOKwHtPr8VlZJfg, 7mL9cvICl8fuCQTM89a-SA...</td>\n      <td>804</td>\n      <td>...</td>\n      <td>102</td>\n      <td>108</td>\n      <td>138</td>\n      <td>65</td>\n      <td>898</td>\n      <td>2584</td>\n      <td>1731</td>\n      <td>1731</td>\n      <td>551</td>\n      <td>177</td>\n    </tr>\n    <tr>\n      <th>1</th>\n      <td>zkamNMEjihh3zN7lC7_WVw</td>\n      <td>Matthew</td>\n      <td>15</td>\n      <td>2006-02-04 15:53:46</td>\n      <td>35</td>\n      <td>4</td>\n      <td>22</td>\n      <td>NaN</td>\n      <td>YLzb3jjc3p-XAOBRggcrgA, 9lcq01JUhRY2yW8AxU3TIA...</td>\n      <td>1</td>\n      <td>...</td>\n      <td>1</td>\n      <td>0</td>\n      <td>0</td>\n      <td>0</td>\n      <td>1</td>\n      <td>3</td>\n      <td>2</td>\n      <td>2</td>\n      <td>0</td>\n      <td>0</td>\n    </tr>\n    <tr>\n      <th>2</th>\n      <td>gVFxZMcuG_Tal2_TnpmUPg</td>\n      <td>Stephanie</td>\n      <td>146</td>\n      <td>2008-05-05 00:16:33</td>\n      <td>347</td>\n      <td>100</td>\n      <td>124</td>\n      <td>2011,2012,2013,2014,2015,2016</td>\n      <td>uUh_q6rVMhKxwt0eaiphRg, jRqWx2z7jdSzpvqqswqNnw...</td>\n      <td>6</td>\n      <td>...</td>\n      <td>13</td>\n      <td>1</td>\n      <td>0</td>\n      <td>0</td>\n      <td>10</td>\n      <td>8</td>\n      <td>21</td>\n      <td>21</td>\n      <td>8</td>\n      <td>0</td>\n    </tr>\n    <tr>\n      <th>3</th>\n      <td>g0_x4kVvJAYuk96oCcbOmw</td>\n      <td>Michael</td>\n      <td>455</td>\n      <td>2009-04-15 12:46:06</td>\n      <td>1823</td>\n      <td>696</td>\n      <td>663</td>\n      <td>2009,2010,2011,2012,2013,2014,2015,2016,2017,2018</td>\n      <td>_BcWyKQL16ndpBdggh2kNA, mx50KP6rXgutH36fhnL6Vw...</td>\n      <td>46</td>\n      <td>...</td>\n      <td>11</td>\n      <td>0</td>\n      <td>1</td>\n      <td>5</td>\n      <td>39</td>\n      <td>33</td>\n      <td>57</td>\n      <td>57</td>\n      <td>32</td>\n      <td>8</td>\n    </tr>\n    <tr>\n      <th>4</th>\n      <td>-NbeVN5tnwdyYAvdNkKMjw</td>\n      <td>Dominic</td>\n      <td>1101</td>\n      <td>2012-04-25 19:31:00</td>\n      <td>6704</td>\n      <td>1959</td>\n      <td>4179</td>\n      <td>2012,2013,2014,2015,2016,2017,2018,2019,20,20,...</td>\n      <td>9IRuYmy5YmhtNQ6ei1p-uQ, 6NvkQATK0J2nmEWsuzhHig...</td>\n      <td>193</td>\n      <td>...</td>\n      <td>33</td>\n      <td>18</td>\n      <td>2</td>\n      <td>2</td>\n      <td>312</td>\n      <td>457</td>\n      <td>637</td>\n      <td>637</td>\n      <td>137</td>\n      <td>63</td>\n    </tr>\n    <tr>\n      <th>...</th>\n      <td>...</td>\n      <td>...</td>\n      <td>...</td>\n      <td>...</td>\n      <td>...</td>\n      <td>...</td>\n      <td>...</td>\n      <td>...</td>\n      <td>...</td>\n      <td>...</td>\n      <td>...</td>\n      <td>...</td>\n      <td>...</td>\n      <td>...</td>\n      <td>...</td>\n      <td>...</td>\n      <td>...</td>\n      <td>...</td>\n      <td>...</td>\n      <td>...</td>\n      <td>...</td>\n    </tr>\n    <tr>\n      <th>3073</th>\n      <td>CUE13op55l9WZp6fBTUWnA</td>\n      <td>Nicole</td>\n      <td>2</td>\n      <td>2016-08-19 13:24:47</td>\n      <td>0</td>\n      <td>0</td>\n      <td>0</td>\n      <td>NaN</td>\n      <td>None</td>\n      <td>0</td>\n      <td>...</td>\n      <td>0</td>\n      <td>0</td>\n      <td>0</td>\n      <td>0</td>\n      <td>0</td>\n      <td>0</td>\n      <td>0</td>\n      <td>0</td>\n      <td>0</td>\n      <td>0</td>\n    </tr>\n    <tr>\n      <th>3074</th>\n      <td>cACn6Qc1owO7hV_ZhcP74Q</td>\n      <td>Allison</td>\n      <td>1</td>\n      <td>2019-11-10 00:05:23</td>\n      <td>0</td>\n      <td>0</td>\n      <td>0</td>\n      <td>NaN</td>\n      <td>None</td>\n      <td>0</td>\n      <td>...</td>\n      <td>0</td>\n      <td>0</td>\n      <td>0</td>\n      <td>0</td>\n      <td>0</td>\n      <td>0</td>\n      <td>0</td>\n      <td>0</td>\n      <td>0</td>\n      <td>0</td>\n    </tr>\n    <tr>\n      <th>3075</th>\n      <td>SpTYEhfInvALG1le1uu21w</td>\n      <td>Ray</td>\n      <td>2</td>\n      <td>2016-01-18 16:55:04</td>\n      <td>5</td>\n      <td>0</td>\n      <td>0</td>\n      <td>NaN</td>\n      <td>None</td>\n      <td>0</td>\n      <td>...</td>\n      <td>0</td>\n      <td>0</td>\n      <td>0</td>\n      <td>0</td>\n      <td>0</td>\n      <td>0</td>\n      <td>0</td>\n      <td>0</td>\n      <td>0</td>\n      <td>0</td>\n    </tr>\n    <tr>\n      <th>3076</th>\n      <td>sGOCaCP7_SMlaRKPNO__CQ</td>\n      <td>Tahjae</td>\n      <td>2</td>\n      <td>2019-05-04 13:07:23</td>\n      <td>0</td>\n      <td>0</td>\n      <td>0</td>\n      <td>NaN</td>\n      <td>None</td>\n      <td>0</td>\n      <td>...</td>\n      <td>0</td>\n      <td>0</td>\n      <td>0</td>\n      <td>0</td>\n      <td>0</td>\n      <td>0</td>\n      <td>0</td>\n      <td>0</td>\n      <td>0</td>\n      <td>0</td>\n    </tr>\n    <tr>\n      <th>3077</th>\n      <td>AUaVo2JAMwLGJmBo3M4VyQ</td>\n      <td>Nicole</td>\n      <td>1</td>\n      <td>2015-02-10 21:15:36</td>\n      <td>0</td>\n      <td>0</td>\n      <td>0</td>\n      <td>NaN</td>\n      <td>None</td>\n      <td>0</td>\n      <td>...</td>\n      <td>0</td>\n      <td>0</td>\n      <td>0</td>\n      <td>0</td>\n      <td>0</td>\n      <td>0</td>\n      <td>0</td>\n      <td>0</td>\n      <td>0</td>\n      <td>0</td>\n    </tr>\n  </tbody>\n</table>\n<p>3078 rows × 22 columns</p>\n</div>"
     },
     "execution_count": 24,
     "metadata": {},
     "output_type": "execute_result"
    }
   ],
   "source": [
    "# creating the nodes\n",
    "\n",
    "nodes = data['user']\n",
    "\n",
    "# rename user_id column to id\n",
    "# rename name (column name that cant be used because of igraph) to people_name\n",
    "nodes = nodes.rename(columns={'user_id': 'id', 'name': 'people_name'})\n",
    "\n",
    "nodes"
   ]
  },
  {
   "cell_type": "code",
   "execution_count": 25,
   "id": "6fedbb4ccf759ddf",
   "metadata": {
    "collapsed": false,
    "ExecuteTime": {
     "end_time": "2024-03-11T19:15:36.981504Z",
     "start_time": "2024-03-11T19:15:34.907706Z"
    }
   },
   "outputs": [
    {
     "name": "stderr",
     "output_type": "stream",
     "text": [
      "IOPub data rate exceeded.\n",
      "The notebook server will temporarily stop sending output\n",
      "to the client in order to avoid crashing it.\n",
      "To change this limit, set the config variable\n",
      "`--NotebookApp.iopub_data_rate_limit`.\n",
      "\n",
      "Current values:\n",
      "NotebookApp.iopub_data_rate_limit=1000000.0 (bytes/sec)\n",
      "NotebookApp.rate_limit_window=3.0 (secs)\n",
      "\n"
     ]
    },
    {
     "data": {
      "text/plain": "                          from                      to  weight  \\\n0       1lm9t9D8Sh_YlF69ER0U4w  yuh6GcXMMOPe-ZlcRGs6dA       1   \n1       yuh6GcXMMOPe-ZlcRGs6dA  1lm9t9D8Sh_YlF69ER0U4w       1   \n2       1lm9t9D8Sh_YlF69ER0U4w  sQVfy7VzAW5PVVhq1yYB2w       1   \n3       sQVfy7VzAW5PVVhq1yYB2w  1lm9t9D8Sh_YlF69ER0U4w       1   \n4       1lm9t9D8Sh_YlF69ER0U4w  varJ-fgCyGMwGz9xtMCYrA       2   \n...                        ...                     ...     ...   \n279427  9w7YZBHzbt0mVrvO_ThiZA  7TUCJHMkn-2DZdRyZeJSDg       1   \n279428  7TUCJHMkn-2DZdRyZeJSDg  eou_N8D5TBvS3d9-tgNf2g       1   \n279429  eou_N8D5TBvS3d9-tgNf2g  7TUCJHMkn-2DZdRyZeJSDg       1   \n279430  9w7YZBHzbt0mVrvO_ThiZA  eou_N8D5TBvS3d9-tgNf2g       1   \n279431  eou_N8D5TBvS3d9-tgNf2g  9w7YZBHzbt0mVrvO_ThiZA       1   \n\n                            type  \n0       reviewed-same-restaurant  \n1       reviewed-same-restaurant  \n2       reviewed-same-restaurant  \n3       reviewed-same-restaurant  \n4       reviewed-same-restaurant  \n...                          ...  \n279427  reviewed-same-restaurant  \n279428  reviewed-same-restaurant  \n279429  reviewed-same-restaurant  \n279430  reviewed-same-restaurant  \n279431  reviewed-same-restaurant  \n\n[273712 rows x 4 columns]",
      "text/html": "<div>\n<style scoped>\n    .dataframe tbody tr th:only-of-type {\n        vertical-align: middle;\n    }\n\n    .dataframe tbody tr th {\n        vertical-align: top;\n    }\n\n    .dataframe thead th {\n        text-align: right;\n    }\n</style>\n<table border=\"1\" class=\"dataframe\">\n  <thead>\n    <tr style=\"text-align: right;\">\n      <th></th>\n      <th>from</th>\n      <th>to</th>\n      <th>weight</th>\n      <th>type</th>\n    </tr>\n  </thead>\n  <tbody>\n    <tr>\n      <th>0</th>\n      <td>1lm9t9D8Sh_YlF69ER0U4w</td>\n      <td>yuh6GcXMMOPe-ZlcRGs6dA</td>\n      <td>1</td>\n      <td>reviewed-same-restaurant</td>\n    </tr>\n    <tr>\n      <th>1</th>\n      <td>yuh6GcXMMOPe-ZlcRGs6dA</td>\n      <td>1lm9t9D8Sh_YlF69ER0U4w</td>\n      <td>1</td>\n      <td>reviewed-same-restaurant</td>\n    </tr>\n    <tr>\n      <th>2</th>\n      <td>1lm9t9D8Sh_YlF69ER0U4w</td>\n      <td>sQVfy7VzAW5PVVhq1yYB2w</td>\n      <td>1</td>\n      <td>reviewed-same-restaurant</td>\n    </tr>\n    <tr>\n      <th>3</th>\n      <td>sQVfy7VzAW5PVVhq1yYB2w</td>\n      <td>1lm9t9D8Sh_YlF69ER0U4w</td>\n      <td>1</td>\n      <td>reviewed-same-restaurant</td>\n    </tr>\n    <tr>\n      <th>4</th>\n      <td>1lm9t9D8Sh_YlF69ER0U4w</td>\n      <td>varJ-fgCyGMwGz9xtMCYrA</td>\n      <td>2</td>\n      <td>reviewed-same-restaurant</td>\n    </tr>\n    <tr>\n      <th>...</th>\n      <td>...</td>\n      <td>...</td>\n      <td>...</td>\n      <td>...</td>\n    </tr>\n    <tr>\n      <th>279427</th>\n      <td>9w7YZBHzbt0mVrvO_ThiZA</td>\n      <td>7TUCJHMkn-2DZdRyZeJSDg</td>\n      <td>1</td>\n      <td>reviewed-same-restaurant</td>\n    </tr>\n    <tr>\n      <th>279428</th>\n      <td>7TUCJHMkn-2DZdRyZeJSDg</td>\n      <td>eou_N8D5TBvS3d9-tgNf2g</td>\n      <td>1</td>\n      <td>reviewed-same-restaurant</td>\n    </tr>\n    <tr>\n      <th>279429</th>\n      <td>eou_N8D5TBvS3d9-tgNf2g</td>\n      <td>7TUCJHMkn-2DZdRyZeJSDg</td>\n      <td>1</td>\n      <td>reviewed-same-restaurant</td>\n    </tr>\n    <tr>\n      <th>279430</th>\n      <td>9w7YZBHzbt0mVrvO_ThiZA</td>\n      <td>eou_N8D5TBvS3d9-tgNf2g</td>\n      <td>1</td>\n      <td>reviewed-same-restaurant</td>\n    </tr>\n    <tr>\n      <th>279431</th>\n      <td>eou_N8D5TBvS3d9-tgNf2g</td>\n      <td>9w7YZBHzbt0mVrvO_ThiZA</td>\n      <td>1</td>\n      <td>reviewed-same-restaurant</td>\n    </tr>\n  </tbody>\n</table>\n<p>273712 rows × 4 columns</p>\n</div>"
     },
     "execution_count": 25,
     "metadata": {},
     "output_type": "execute_result"
    }
   ],
   "source": [
    "# creating the edges\n",
    "\n",
    "temp_edges_struct = {'from': [], 'to': [], 'weight': [], 'type': []}\n",
    "connected = {}\n",
    "\n",
    "for business in data['review']['business_id'].unique():\n",
    "    reviews_of_business = data['review'][data['review']['business_id'] == business]\n",
    "    users_that_reviewed_business = reviews_of_business['user_id'].unique()\n",
    "    for i in range(len(users_that_reviewed_business)-1):\n",
    "        for j in range(i+1, len(users_that_reviewed_business)):\n",
    "            if users_that_reviewed_business[i] in connected:\n",
    "                connected[users_that_reviewed_business[i]].append(users_that_reviewed_business[j])\n",
    "            else:\n",
    "                connected[users_that_reviewed_business[i]] = [users_that_reviewed_business[j]]\n",
    "            if users_that_reviewed_business[j] in connected:\n",
    "                connected[users_that_reviewed_business[j]].append(users_that_reviewed_business[i])\n",
    "            else:\n",
    "                connected[users_that_reviewed_business[j]] = [users_that_reviewed_business[i]]\n",
    "\n",
    "for business in data['review']['business_id'].unique():\n",
    "    reviews_of_business = data['review'][data['review']['business_id'] == business]\n",
    "    users_that_reviewed_business = reviews_of_business['user_id'].unique()\n",
    "    for i in range(len(users_that_reviewed_business)-1):\n",
    "        for j in range(i+1, len(users_that_reviewed_business)):\n",
    "            # from i to j\n",
    "            temp_edges_struct['from'].append(users_that_reviewed_business[i])\n",
    "            temp_edges_struct['to'].append(users_that_reviewed_business[j])\n",
    "            temp_edges_struct['weight'].append(connected[users_that_reviewed_business[i]].count(users_that_reviewed_business[j]))\n",
    "            temp_edges_struct['type'].append('reviewed-same-restaurant')\n",
    "            # from j to i\n",
    "            temp_edges_struct['from'].append(users_that_reviewed_business[j])\n",
    "            temp_edges_struct['to'].append(users_that_reviewed_business[i])\n",
    "            temp_edges_struct['weight'].append(connected[users_that_reviewed_business[j]].count(users_that_reviewed_business[i]))\n",
    "            temp_edges_struct['type'].append('reviewed-same-restaurant')\n",
    "\n",
    "edges = pd.DataFrame(temp_edges_struct)\n",
    "\n",
    "# remove repeated lines\n",
    "edges = edges.drop_duplicates()\n",
    "\n",
    "edges"
   ]
  },
  {
   "cell_type": "code",
   "execution_count": 26,
   "id": "39b4c294c9b65315",
   "metadata": {
    "collapsed": false,
    "ExecuteTime": {
     "end_time": "2024-03-11T19:15:38.147480Z",
     "start_time": "2024-03-11T19:15:36.983698Z"
    }
   },
   "outputs": [],
   "source": [
    "# save data\n",
    "nodes.to_csv(f'nodes_and_edges/{city}_{name}_nodes.csv', index=False)\n",
    "edges.to_csv(f'nodes_and_edges/{city}_{name}_edges.csv', index=False)"
   ]
  }
 ],
 "metadata": {
  "kernelspec": {
   "display_name": "Python 3",
   "language": "python",
   "name": "python3"
  },
  "language_info": {
   "codemirror_mode": {
    "name": "ipython",
    "version": 3
   },
   "file_extension": ".py",
   "mimetype": "text/x-python",
   "name": "python",
   "nbconvert_exporter": "python",
   "pygments_lexer": "ipython3",
   "version": "3.10.10"
  }
 },
 "nbformat": 4,
 "nbformat_minor": 5
}
